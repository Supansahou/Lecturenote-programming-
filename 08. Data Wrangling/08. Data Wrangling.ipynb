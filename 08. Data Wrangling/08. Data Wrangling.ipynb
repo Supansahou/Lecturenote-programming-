{
 "nbformat": 4,
 "nbformat_minor": 0,
 "metadata": {
  "colab": {
   "provenance": [],
   "collapsed_sections": [
    "zdrqfmNQmG6H",
    "9lTI4Xn7iUhM",
    "8lywjRMgwH6Z"
   ]
  },
  "kernelspec": {
   "name": "python3",
   "language": "python",
   "display_name": "Python 3 (ipykernel)"
  }
 },
 "cells": [
  {
   "cell_type": "markdown",
   "source": [
    "# Combine and Merging Datasets\n",
    "\n",
    "data contained can be combined together in a number of ways\n",
    "\n"
   ],
   "metadata": {
    "collapsed": false
   }
  },
  {
   "cell_type": "markdown",
   "metadata": {
    "id": "gXNPn9trfJnD"
   },
   "source": [
    "## Database-Style Dataframe joins\n",
    "\n",
    "\n",
    "The same key data are bound.\n",
    "Look at the example\n"
   ]
  },
  {
   "cell_type": "code",
   "metadata": {
    "id": "qDX-1I9rHPJJ",
    "ExecuteTime": {
     "end_time": "2023-10-31T19:10:52.700241600Z",
     "start_time": "2023-10-31T19:10:51.159021200Z"
    }
   },
   "source": [
    "import numpy as np\n",
    "import pandas as pd\n",
    "pd.options.display.max_rows = 20\n",
    "np.random.seed(12345)\n",
    "import matplotlib.pyplot as plt\n",
    "plt.rc('figure', figsize=(10, 6))\n",
    "np.set_printoptions(precision=4, suppress=True)"
   ],
   "execution_count": 2,
   "outputs": []
  },
  {
   "cell_type": "markdown",
   "source": [
    "```python\n",
    "df1 = pd.DataFrame({'key': ['b', 'b', 'a', 'c', 'a', 'a', 'b'],\n",
    "                    'data1': range(7)})\n",
    "df1\n",
    "```"
   ],
   "metadata": {
    "collapsed": false
   }
  },
  {
   "cell_type": "code",
   "metadata": {
    "id": "u4REj_9efaln",
    "colab": {
     "base_uri": "https://localhost:8080/",
     "height": 269
    },
    "outputId": "393aaaae-343f-4c1b-abe9-e4dfe4341feb",
    "ExecuteTime": {
     "end_time": "2023-10-31T19:10:55.735996500Z",
     "start_time": "2023-10-31T19:10:55.692590400Z"
    }
   },
   "source": [
    "df1 = pd.DataFrame({'key': ['b', 'b', 'a', 'c', 'a', 'a', 'b'],\n",
    "                    'data1': range(7)})\n",
    "df1"
   ],
   "execution_count": 3,
   "outputs": [
    {
     "data": {
      "text/plain": "  key  data1\n0   b      0\n1   b      1\n2   a      2\n3   c      3\n4   a      4\n5   a      5\n6   b      6",
      "text/html": "<div>\n<style scoped>\n    .dataframe tbody tr th:only-of-type {\n        vertical-align: middle;\n    }\n\n    .dataframe tbody tr th {\n        vertical-align: top;\n    }\n\n    .dataframe thead th {\n        text-align: right;\n    }\n</style>\n<table border=\"1\" class=\"dataframe\">\n  <thead>\n    <tr style=\"text-align: right;\">\n      <th></th>\n      <th>key</th>\n      <th>data1</th>\n    </tr>\n  </thead>\n  <tbody>\n    <tr>\n      <th>0</th>\n      <td>b</td>\n      <td>0</td>\n    </tr>\n    <tr>\n      <th>1</th>\n      <td>b</td>\n      <td>1</td>\n    </tr>\n    <tr>\n      <th>2</th>\n      <td>a</td>\n      <td>2</td>\n    </tr>\n    <tr>\n      <th>3</th>\n      <td>c</td>\n      <td>3</td>\n    </tr>\n    <tr>\n      <th>4</th>\n      <td>a</td>\n      <td>4</td>\n    </tr>\n    <tr>\n      <th>5</th>\n      <td>a</td>\n      <td>5</td>\n    </tr>\n    <tr>\n      <th>6</th>\n      <td>b</td>\n      <td>6</td>\n    </tr>\n  </tbody>\n</table>\n</div>"
     },
     "execution_count": 3,
     "metadata": {},
     "output_type": "execute_result"
    }
   ]
  },
  {
   "cell_type": "markdown",
   "source": [
    "```python\n",
    "df2 = pd.DataFrame({'key': ['a', 'b', 'd'],\n",
    "                    'data2': range(3)})\n",
    "df2\n",
    "```"
   ],
   "metadata": {
    "collapsed": false
   }
  },
  {
   "cell_type": "code",
   "metadata": {
    "id": "YS6R-YrUff3X",
    "colab": {
     "base_uri": "https://localhost:8080/",
     "height": 143
    },
    "outputId": "dd0ab86e-6d80-4c41-d847-8ee8dff52e87",
    "ExecuteTime": {
     "end_time": "2023-10-31T19:11:01.974960700Z",
     "start_time": "2023-10-31T19:11:01.953564400Z"
    }
   },
   "source": [
    "df2 = pd.DataFrame({'key': ['a', 'b', 'd'],\n",
    "                    'data2': range(3)})\n",
    "df2"
   ],
   "execution_count": 4,
   "outputs": [
    {
     "data": {
      "text/plain": "  key  data2\n0   a      0\n1   b      1\n2   d      2",
      "text/html": "<div>\n<style scoped>\n    .dataframe tbody tr th:only-of-type {\n        vertical-align: middle;\n    }\n\n    .dataframe tbody tr th {\n        vertical-align: top;\n    }\n\n    .dataframe thead th {\n        text-align: right;\n    }\n</style>\n<table border=\"1\" class=\"dataframe\">\n  <thead>\n    <tr style=\"text-align: right;\">\n      <th></th>\n      <th>key</th>\n      <th>data2</th>\n    </tr>\n  </thead>\n  <tbody>\n    <tr>\n      <th>0</th>\n      <td>a</td>\n      <td>0</td>\n    </tr>\n    <tr>\n      <th>1</th>\n      <td>b</td>\n      <td>1</td>\n    </tr>\n    <tr>\n      <th>2</th>\n      <td>d</td>\n      <td>2</td>\n    </tr>\n  </tbody>\n</table>\n</div>"
     },
     "execution_count": 4,
     "metadata": {},
     "output_type": "execute_result"
    }
   ]
  },
  {
   "cell_type": "markdown",
   "source": [
    "To merge two Dataframe with the same index \n",
    "```python\n",
    "pd.merge(df1,df2)\n",
    "```"
   ],
   "metadata": {
    "collapsed": false
   }
  },
  {
   "cell_type": "code",
   "metadata": {
    "id": "zLaU7-wsfosd",
    "colab": {
     "base_uri": "https://localhost:8080/",
     "height": 332
    },
    "outputId": "552d626e-ffe5-4e3c-aef7-ced7ebddb190",
    "ExecuteTime": {
     "end_time": "2023-10-31T19:11:04.484816400Z",
     "start_time": "2023-10-31T19:11:04.469030Z"
    }
   },
   "source": [
    "pd.merge(df1,df2)"
   ],
   "execution_count": 5,
   "outputs": [
    {
     "data": {
      "text/plain": "  key  data1  data2\n0   b      0      1\n1   b      1      1\n2   b      6      1\n3   a      2      0\n4   a      4      0\n5   a      5      0",
      "text/html": "<div>\n<style scoped>\n    .dataframe tbody tr th:only-of-type {\n        vertical-align: middle;\n    }\n\n    .dataframe tbody tr th {\n        vertical-align: top;\n    }\n\n    .dataframe thead th {\n        text-align: right;\n    }\n</style>\n<table border=\"1\" class=\"dataframe\">\n  <thead>\n    <tr style=\"text-align: right;\">\n      <th></th>\n      <th>key</th>\n      <th>data1</th>\n      <th>data2</th>\n    </tr>\n  </thead>\n  <tbody>\n    <tr>\n      <th>0</th>\n      <td>b</td>\n      <td>0</td>\n      <td>1</td>\n    </tr>\n    <tr>\n      <th>1</th>\n      <td>b</td>\n      <td>1</td>\n      <td>1</td>\n    </tr>\n    <tr>\n      <th>2</th>\n      <td>b</td>\n      <td>6</td>\n      <td>1</td>\n    </tr>\n    <tr>\n      <th>3</th>\n      <td>a</td>\n      <td>2</td>\n      <td>0</td>\n    </tr>\n    <tr>\n      <th>4</th>\n      <td>a</td>\n      <td>4</td>\n      <td>0</td>\n    </tr>\n    <tr>\n      <th>5</th>\n      <td>a</td>\n      <td>5</td>\n      <td>0</td>\n    </tr>\n  </tbody>\n</table>\n</div>"
     },
     "execution_count": 5,
     "metadata": {},
     "output_type": "execute_result"
    }
   ]
  },
  {
   "cell_type": "markdown",
   "metadata": {
    "id": "2BjHP4E9gUaD"
   },
   "source": [
    "Without setting anything. The key will used from the columns which is the same name in both data frame. The values which are the same in both data are provided, and the Cartesian products of the other values are provided as the data.\n",
    "\n",
    "It should be better if we specified the key name\n",
    "\n",
    "```python\n",
    "pd.merge(df1,df2,on='key')\n",
    "```"
   ]
  },
  {
   "cell_type": "code",
   "metadata": {
    "id": "ApusRAlvhJiz",
    "colab": {
     "base_uri": "https://localhost:8080/",
     "height": 332
    },
    "outputId": "b618fd16-62aa-489b-afcf-231f8178d967",
    "ExecuteTime": {
     "end_time": "2023-10-31T19:11:14.856650200Z",
     "start_time": "2023-10-31T19:11:14.825943300Z"
    }
   },
   "source": [
    "pd.merge(df1,df2,on='key')"
   ],
   "execution_count": 6,
   "outputs": [
    {
     "data": {
      "text/plain": "  key  data1  data2\n0   b      0      1\n1   b      1      1\n2   b      6      1\n3   a      2      0\n4   a      4      0\n5   a      5      0",
      "text/html": "<div>\n<style scoped>\n    .dataframe tbody tr th:only-of-type {\n        vertical-align: middle;\n    }\n\n    .dataframe tbody tr th {\n        vertical-align: top;\n    }\n\n    .dataframe thead th {\n        text-align: right;\n    }\n</style>\n<table border=\"1\" class=\"dataframe\">\n  <thead>\n    <tr style=\"text-align: right;\">\n      <th></th>\n      <th>key</th>\n      <th>data1</th>\n      <th>data2</th>\n    </tr>\n  </thead>\n  <tbody>\n    <tr>\n      <th>0</th>\n      <td>b</td>\n      <td>0</td>\n      <td>1</td>\n    </tr>\n    <tr>\n      <th>1</th>\n      <td>b</td>\n      <td>1</td>\n      <td>1</td>\n    </tr>\n    <tr>\n      <th>2</th>\n      <td>b</td>\n      <td>6</td>\n      <td>1</td>\n    </tr>\n    <tr>\n      <th>3</th>\n      <td>a</td>\n      <td>2</td>\n      <td>0</td>\n    </tr>\n    <tr>\n      <th>4</th>\n      <td>a</td>\n      <td>4</td>\n      <td>0</td>\n    </tr>\n    <tr>\n      <th>5</th>\n      <td>a</td>\n      <td>5</td>\n      <td>0</td>\n    </tr>\n  </tbody>\n</table>\n</div>"
     },
     "execution_count": 6,
     "metadata": {},
     "output_type": "execute_result"
    }
   ]
  },
  {
   "cell_type": "markdown",
   "metadata": {
    "id": "k-tJ526BhRDR"
   },
   "source": [
    "we can merge on the different column name\n",
    "\n",
    "```python\n",
    "df3 = pd.DataFrame({'lkey': ['b', 'b', 'a', 'c', 'a', 'a', 'b'],\n",
    "                    'data1': range(7)})\n",
    "df4 = pd.DataFrame({'rkey': ['a', 'b', 'd'],\n",
    "                    'data2': range(3)})\n",
    "```"
   ]
  },
  {
   "cell_type": "code",
   "execution_count": 7,
   "outputs": [],
   "source": [
    "df3 = pd.DataFrame({'lkey': ['b', 'b', 'a', 'c', 'a', 'a', 'b'],\n",
    "                    'data1': range(7)})\n",
    "df4 = pd.DataFrame({'rkey': ['a', 'b', 'd'],\n",
    "                    'data2': range(3)})"
   ],
   "metadata": {
    "collapsed": false,
    "ExecuteTime": {
     "end_time": "2023-10-31T19:11:24.663410900Z",
     "start_time": "2023-10-31T19:11:24.631148100Z"
    }
   }
  },
  {
   "cell_type": "code",
   "execution_count": 12,
   "outputs": [
    {
     "data": {
      "text/plain": "  lkey  data1\n0    b      0\n1    b      1\n2    a      2\n3    c      3\n4    a      4\n5    a      5\n6    b      6",
      "text/html": "<div>\n<style scoped>\n    .dataframe tbody tr th:only-of-type {\n        vertical-align: middle;\n    }\n\n    .dataframe tbody tr th {\n        vertical-align: top;\n    }\n\n    .dataframe thead th {\n        text-align: right;\n    }\n</style>\n<table border=\"1\" class=\"dataframe\">\n  <thead>\n    <tr style=\"text-align: right;\">\n      <th></th>\n      <th>lkey</th>\n      <th>data1</th>\n    </tr>\n  </thead>\n  <tbody>\n    <tr>\n      <th>0</th>\n      <td>b</td>\n      <td>0</td>\n    </tr>\n    <tr>\n      <th>1</th>\n      <td>b</td>\n      <td>1</td>\n    </tr>\n    <tr>\n      <th>2</th>\n      <td>a</td>\n      <td>2</td>\n    </tr>\n    <tr>\n      <th>3</th>\n      <td>c</td>\n      <td>3</td>\n    </tr>\n    <tr>\n      <th>4</th>\n      <td>a</td>\n      <td>4</td>\n    </tr>\n    <tr>\n      <th>5</th>\n      <td>a</td>\n      <td>5</td>\n    </tr>\n    <tr>\n      <th>6</th>\n      <td>b</td>\n      <td>6</td>\n    </tr>\n  </tbody>\n</table>\n</div>"
     },
     "execution_count": 12,
     "metadata": {},
     "output_type": "execute_result"
    }
   ],
   "source": [
    "df3"
   ],
   "metadata": {
    "collapsed": false,
    "ExecuteTime": {
     "end_time": "2023-10-31T19:15:51.969678300Z",
     "start_time": "2023-10-31T19:15:51.961333300Z"
    }
   }
  },
  {
   "cell_type": "code",
   "execution_count": 13,
   "outputs": [
    {
     "data": {
      "text/plain": "  rkey  data2\n0    a      0\n1    b      1\n2    d      2",
      "text/html": "<div>\n<style scoped>\n    .dataframe tbody tr th:only-of-type {\n        vertical-align: middle;\n    }\n\n    .dataframe tbody tr th {\n        vertical-align: top;\n    }\n\n    .dataframe thead th {\n        text-align: right;\n    }\n</style>\n<table border=\"1\" class=\"dataframe\">\n  <thead>\n    <tr style=\"text-align: right;\">\n      <th></th>\n      <th>rkey</th>\n      <th>data2</th>\n    </tr>\n  </thead>\n  <tbody>\n    <tr>\n      <th>0</th>\n      <td>a</td>\n      <td>0</td>\n    </tr>\n    <tr>\n      <th>1</th>\n      <td>b</td>\n      <td>1</td>\n    </tr>\n    <tr>\n      <th>2</th>\n      <td>d</td>\n      <td>2</td>\n    </tr>\n  </tbody>\n</table>\n</div>"
     },
     "execution_count": 13,
     "metadata": {},
     "output_type": "execute_result"
    }
   ],
   "source": [
    "df4"
   ],
   "metadata": {
    "collapsed": false,
    "ExecuteTime": {
     "end_time": "2023-10-31T19:15:58.321473Z",
     "start_time": "2023-10-31T19:15:58.297736900Z"
    }
   }
  },
  {
   "cell_type": "markdown",
   "source": [
    "### Work\n",
    "Form the given /file/studentlist.xlsx\n",
    "It is the Excel which provide the score of the students.\n",
    "Create the data frame which consist of the total score of Attendance(Midterm) score,and midterm score\n",
    "-> to get the new dataframe from the old dataframe column you may use this code\n",
    "` new = old[['A', 'C', 'D']].copy() `\n",
    "to change the specific column name you may use\n",
    "` rankings_pd.rename(columns = {'test':'TEST'}, inplace = True)`\n",
    "note: you do not have to set the student id column to be the index in this work"
   ],
   "metadata": {
    "collapsed": false
   }
  },
  {
   "cell_type": "code",
   "execution_count": 15,
   "outputs": [
    {
     "data": {
      "text/plain": "    ที่  รหัสนักศึกษา   2  3  4  5  6  7  Total (5)\n0     1     582115509   5  5  5  5  5  5   2.500000\n1     2     592115508   5  5  5  5  5  5   2.500000\n2     3     592115521   5  5  5  5  5  5   2.500000\n3     4     602115001   0  0  0  0  0  0   0.000000\n4     5     602115002   9  8  7  9  7  8   4.000000\n..  ...           ...  .. .. .. .. .. ..        ...\n30   31     602115520   0  8  7  6  6  5   2.666667\n31   32     602115521  10  7  7  6  7  8   3.750000\n32   33     602115522  10  9  0  6  0  7   2.666667\n33   34     602115524   7  5  6  7  0  6   2.583333\n34   35     602115526   0  0  7  7  7  6   2.250000\n\n[35 rows x 9 columns]",
      "text/html": "<div>\n<style scoped>\n    .dataframe tbody tr th:only-of-type {\n        vertical-align: middle;\n    }\n\n    .dataframe tbody tr th {\n        vertical-align: top;\n    }\n\n    .dataframe thead th {\n        text-align: right;\n    }\n</style>\n<table border=\"1\" class=\"dataframe\">\n  <thead>\n    <tr style=\"text-align: right;\">\n      <th></th>\n      <th>ที่</th>\n      <th>รหัสนักศึกษา</th>\n      <th>2</th>\n      <th>3</th>\n      <th>4</th>\n      <th>5</th>\n      <th>6</th>\n      <th>7</th>\n      <th>Total (5)</th>\n    </tr>\n  </thead>\n  <tbody>\n    <tr>\n      <th>0</th>\n      <td>1</td>\n      <td>582115509</td>\n      <td>5</td>\n      <td>5</td>\n      <td>5</td>\n      <td>5</td>\n      <td>5</td>\n      <td>5</td>\n      <td>2.500000</td>\n    </tr>\n    <tr>\n      <th>1</th>\n      <td>2</td>\n      <td>592115508</td>\n      <td>5</td>\n      <td>5</td>\n      <td>5</td>\n      <td>5</td>\n      <td>5</td>\n      <td>5</td>\n      <td>2.500000</td>\n    </tr>\n    <tr>\n      <th>2</th>\n      <td>3</td>\n      <td>592115521</td>\n      <td>5</td>\n      <td>5</td>\n      <td>5</td>\n      <td>5</td>\n      <td>5</td>\n      <td>5</td>\n      <td>2.500000</td>\n    </tr>\n    <tr>\n      <th>3</th>\n      <td>4</td>\n      <td>602115001</td>\n      <td>0</td>\n      <td>0</td>\n      <td>0</td>\n      <td>0</td>\n      <td>0</td>\n      <td>0</td>\n      <td>0.000000</td>\n    </tr>\n    <tr>\n      <th>4</th>\n      <td>5</td>\n      <td>602115002</td>\n      <td>9</td>\n      <td>8</td>\n      <td>7</td>\n      <td>9</td>\n      <td>7</td>\n      <td>8</td>\n      <td>4.000000</td>\n    </tr>\n    <tr>\n      <th>...</th>\n      <td>...</td>\n      <td>...</td>\n      <td>...</td>\n      <td>...</td>\n      <td>...</td>\n      <td>...</td>\n      <td>...</td>\n      <td>...</td>\n      <td>...</td>\n    </tr>\n    <tr>\n      <th>30</th>\n      <td>31</td>\n      <td>602115520</td>\n      <td>0</td>\n      <td>8</td>\n      <td>7</td>\n      <td>6</td>\n      <td>6</td>\n      <td>5</td>\n      <td>2.666667</td>\n    </tr>\n    <tr>\n      <th>31</th>\n      <td>32</td>\n      <td>602115521</td>\n      <td>10</td>\n      <td>7</td>\n      <td>7</td>\n      <td>6</td>\n      <td>7</td>\n      <td>8</td>\n      <td>3.750000</td>\n    </tr>\n    <tr>\n      <th>32</th>\n      <td>33</td>\n      <td>602115522</td>\n      <td>10</td>\n      <td>9</td>\n      <td>0</td>\n      <td>6</td>\n      <td>0</td>\n      <td>7</td>\n      <td>2.666667</td>\n    </tr>\n    <tr>\n      <th>33</th>\n      <td>34</td>\n      <td>602115524</td>\n      <td>7</td>\n      <td>5</td>\n      <td>6</td>\n      <td>7</td>\n      <td>0</td>\n      <td>6</td>\n      <td>2.583333</td>\n    </tr>\n    <tr>\n      <th>34</th>\n      <td>35</td>\n      <td>602115526</td>\n      <td>0</td>\n      <td>0</td>\n      <td>7</td>\n      <td>7</td>\n      <td>7</td>\n      <td>6</td>\n      <td>2.250000</td>\n    </tr>\n  </tbody>\n</table>\n<p>35 rows × 9 columns</p>\n</div>"
     },
     "execution_count": 15,
     "metadata": {},
     "output_type": "execute_result"
    }
   ],
   "source": [
    "dat = pd.read_excel('files/studentlist.xlsx',header=6)\n",
    "dat"
   ],
   "metadata": {
    "collapsed": false,
    "ExecuteTime": {
     "end_time": "2023-11-01T07:43:07.787727400Z",
     "start_time": "2023-11-01T07:43:07.225702Z"
    }
   }
  },
  {
   "cell_type": "code",
   "metadata": {
    "id": "we8HFEXPhXBf",
    "ExecuteTime": {
     "end_time": "2023-11-01T07:43:27.265615700Z",
     "start_time": "2023-11-01T07:43:27.243152Z"
    }
   },
   "source": [
    "dat.info()"
   ],
   "execution_count": 16,
   "outputs": [
    {
     "name": "stdout",
     "output_type": "stream",
     "text": [
      "<class 'pandas.core.frame.DataFrame'>\n",
      "RangeIndex: 35 entries, 0 to 34\n",
      "Data columns (total 9 columns):\n",
      " #   Column        Non-Null Count  Dtype  \n",
      "---  ------        --------------  -----  \n",
      " 0   ที่           35 non-null     int64  \n",
      " 1   รหัสนักศึกษา  35 non-null     int64  \n",
      " 2   2             35 non-null     int64  \n",
      " 3   3             35 non-null     int64  \n",
      " 4   4             35 non-null     int64  \n",
      " 5   5             35 non-null     int64  \n",
      " 6   6             35 non-null     int64  \n",
      " 7   7             35 non-null     int64  \n",
      " 8   Total (5)     35 non-null     float64\n",
      "dtypes: float64(1), int64(8)\n",
      "memory usage: 2.6 KB\n"
     ]
    }
   ]
  },
  {
   "cell_type": "markdown",
   "source": [
    "Check df3 and df4\n",
    "```python\n",
    "df3\n",
    "```"
   ],
   "metadata": {
    "collapsed": false
   }
  },
  {
   "cell_type": "code",
   "metadata": {
    "colab": {
     "base_uri": "https://localhost:8080/",
     "height": 269
    },
    "id": "60o9HTLoEki_",
    "outputId": "56ca3746-1f76-4cd7-b059-e6be03ba47e3",
    "ExecuteTime": {
     "end_time": "2023-11-01T07:43:35.387257700Z",
     "start_time": "2023-11-01T07:43:35.367659900Z"
    }
   },
   "source": [
    "df3"
   ],
   "execution_count": 17,
   "outputs": [
    {
     "data": {
      "text/plain": "  lkey  data1\n0    b      0\n1    b      1\n2    a      2\n3    c      3\n4    a      4\n5    a      5\n6    b      6",
      "text/html": "<div>\n<style scoped>\n    .dataframe tbody tr th:only-of-type {\n        vertical-align: middle;\n    }\n\n    .dataframe tbody tr th {\n        vertical-align: top;\n    }\n\n    .dataframe thead th {\n        text-align: right;\n    }\n</style>\n<table border=\"1\" class=\"dataframe\">\n  <thead>\n    <tr style=\"text-align: right;\">\n      <th></th>\n      <th>lkey</th>\n      <th>data1</th>\n    </tr>\n  </thead>\n  <tbody>\n    <tr>\n      <th>0</th>\n      <td>b</td>\n      <td>0</td>\n    </tr>\n    <tr>\n      <th>1</th>\n      <td>b</td>\n      <td>1</td>\n    </tr>\n    <tr>\n      <th>2</th>\n      <td>a</td>\n      <td>2</td>\n    </tr>\n    <tr>\n      <th>3</th>\n      <td>c</td>\n      <td>3</td>\n    </tr>\n    <tr>\n      <th>4</th>\n      <td>a</td>\n      <td>4</td>\n    </tr>\n    <tr>\n      <th>5</th>\n      <td>a</td>\n      <td>5</td>\n    </tr>\n    <tr>\n      <th>6</th>\n      <td>b</td>\n      <td>6</td>\n    </tr>\n  </tbody>\n</table>\n</div>"
     },
     "execution_count": 17,
     "metadata": {},
     "output_type": "execute_result"
    }
   ]
  },
  {
   "cell_type": "markdown",
   "source": [
    "```python\n",
    "df4\n",
    "```"
   ],
   "metadata": {
    "collapsed": false
   }
  },
  {
   "cell_type": "code",
   "metadata": {
    "colab": {
     "base_uri": "https://localhost:8080/",
     "height": 143
    },
    "id": "nkn_dSJwEm-M",
    "outputId": "afe94a0f-358c-4728-8b00-7d488c090708",
    "ExecuteTime": {
     "end_time": "2023-11-01T07:43:40.862311500Z",
     "start_time": "2023-11-01T07:43:40.843569500Z"
    }
   },
   "source": [
    "df4"
   ],
   "execution_count": 18,
   "outputs": [
    {
     "data": {
      "text/plain": "  rkey  data2\n0    a      0\n1    b      1\n2    d      2",
      "text/html": "<div>\n<style scoped>\n    .dataframe tbody tr th:only-of-type {\n        vertical-align: middle;\n    }\n\n    .dataframe tbody tr th {\n        vertical-align: top;\n    }\n\n    .dataframe thead th {\n        text-align: right;\n    }\n</style>\n<table border=\"1\" class=\"dataframe\">\n  <thead>\n    <tr style=\"text-align: right;\">\n      <th></th>\n      <th>rkey</th>\n      <th>data2</th>\n    </tr>\n  </thead>\n  <tbody>\n    <tr>\n      <th>0</th>\n      <td>a</td>\n      <td>0</td>\n    </tr>\n    <tr>\n      <th>1</th>\n      <td>b</td>\n      <td>1</td>\n    </tr>\n    <tr>\n      <th>2</th>\n      <td>d</td>\n      <td>2</td>\n    </tr>\n  </tbody>\n</table>\n</div>"
     },
     "execution_count": 18,
     "metadata": {},
     "output_type": "execute_result"
    }
   ]
  },
  {
   "cell_type": "markdown",
   "source": [
    "then try to merge df3 and df4\n",
    "```python\n",
    "pd.merge(df3,df4)\n",
    "```"
   ],
   "metadata": {
    "collapsed": false
   }
  },
  {
   "cell_type": "code",
   "metadata": {
    "colab": {
     "base_uri": "https://localhost:8080/",
     "height": 336
    },
    "id": "1pmWBZNKEua8",
    "outputId": "ce4d7f90-0097-425e-bbb8-b5532b698a5f",
    "ExecuteTime": {
     "end_time": "2023-11-01T07:43:47.718701200Z",
     "start_time": "2023-11-01T07:43:47.568645Z"
    }
   },
   "source": [
    "pd.merge(df3,df4)"
   ],
   "execution_count": 19,
   "outputs": [
    {
     "ename": "MergeError",
     "evalue": "No common columns to perform merge on. Merge options: left_on=None, right_on=None, left_index=False, right_index=False",
     "output_type": "error",
     "traceback": [
      "\u001B[1;31m---------------------------------------------------------------------------\u001B[0m",
      "\u001B[1;31mMergeError\u001B[0m                                Traceback (most recent call last)",
      "Cell \u001B[1;32mIn[19], line 1\u001B[0m\n\u001B[1;32m----> 1\u001B[0m \u001B[43mpd\u001B[49m\u001B[38;5;241;43m.\u001B[39;49m\u001B[43mmerge\u001B[49m\u001B[43m(\u001B[49m\u001B[43mdf3\u001B[49m\u001B[43m,\u001B[49m\u001B[43mdf4\u001B[49m\u001B[43m)\u001B[49m\n",
      "File \u001B[1;32m~\\LectureNote\\venv\\Lib\\site-packages\\pandas\\core\\reshape\\merge.py:148\u001B[0m, in \u001B[0;36mmerge\u001B[1;34m(left, right, how, on, left_on, right_on, left_index, right_index, sort, suffixes, copy, indicator, validate)\u001B[0m\n\u001B[0;32m    131\u001B[0m \u001B[38;5;129m@Substitution\u001B[39m(\u001B[38;5;124m\"\u001B[39m\u001B[38;5;130;01m\\n\u001B[39;00m\u001B[38;5;124mleft : DataFrame or named Series\u001B[39m\u001B[38;5;124m\"\u001B[39m)\n\u001B[0;32m    132\u001B[0m \u001B[38;5;129m@Appender\u001B[39m(_merge_doc, indents\u001B[38;5;241m=\u001B[39m\u001B[38;5;241m0\u001B[39m)\n\u001B[0;32m    133\u001B[0m \u001B[38;5;28;01mdef\u001B[39;00m \u001B[38;5;21mmerge\u001B[39m(\n\u001B[1;32m   (...)\u001B[0m\n\u001B[0;32m    146\u001B[0m     validate: \u001B[38;5;28mstr\u001B[39m \u001B[38;5;241m|\u001B[39m \u001B[38;5;28;01mNone\u001B[39;00m \u001B[38;5;241m=\u001B[39m \u001B[38;5;28;01mNone\u001B[39;00m,\n\u001B[0;32m    147\u001B[0m ) \u001B[38;5;241m-\u001B[39m\u001B[38;5;241m>\u001B[39m DataFrame:\n\u001B[1;32m--> 148\u001B[0m     op \u001B[38;5;241m=\u001B[39m \u001B[43m_MergeOperation\u001B[49m\u001B[43m(\u001B[49m\n\u001B[0;32m    149\u001B[0m \u001B[43m        \u001B[49m\u001B[43mleft\u001B[49m\u001B[43m,\u001B[49m\n\u001B[0;32m    150\u001B[0m \u001B[43m        \u001B[49m\u001B[43mright\u001B[49m\u001B[43m,\u001B[49m\n\u001B[0;32m    151\u001B[0m \u001B[43m        \u001B[49m\u001B[43mhow\u001B[49m\u001B[38;5;241;43m=\u001B[39;49m\u001B[43mhow\u001B[49m\u001B[43m,\u001B[49m\n\u001B[0;32m    152\u001B[0m \u001B[43m        \u001B[49m\u001B[43mon\u001B[49m\u001B[38;5;241;43m=\u001B[39;49m\u001B[43mon\u001B[49m\u001B[43m,\u001B[49m\n\u001B[0;32m    153\u001B[0m \u001B[43m        \u001B[49m\u001B[43mleft_on\u001B[49m\u001B[38;5;241;43m=\u001B[39;49m\u001B[43mleft_on\u001B[49m\u001B[43m,\u001B[49m\n\u001B[0;32m    154\u001B[0m \u001B[43m        \u001B[49m\u001B[43mright_on\u001B[49m\u001B[38;5;241;43m=\u001B[39;49m\u001B[43mright_on\u001B[49m\u001B[43m,\u001B[49m\n\u001B[0;32m    155\u001B[0m \u001B[43m        \u001B[49m\u001B[43mleft_index\u001B[49m\u001B[38;5;241;43m=\u001B[39;49m\u001B[43mleft_index\u001B[49m\u001B[43m,\u001B[49m\n\u001B[0;32m    156\u001B[0m \u001B[43m        \u001B[49m\u001B[43mright_index\u001B[49m\u001B[38;5;241;43m=\u001B[39;49m\u001B[43mright_index\u001B[49m\u001B[43m,\u001B[49m\n\u001B[0;32m    157\u001B[0m \u001B[43m        \u001B[49m\u001B[43msort\u001B[49m\u001B[38;5;241;43m=\u001B[39;49m\u001B[43msort\u001B[49m\u001B[43m,\u001B[49m\n\u001B[0;32m    158\u001B[0m \u001B[43m        \u001B[49m\u001B[43msuffixes\u001B[49m\u001B[38;5;241;43m=\u001B[39;49m\u001B[43msuffixes\u001B[49m\u001B[43m,\u001B[49m\n\u001B[0;32m    159\u001B[0m \u001B[43m        \u001B[49m\u001B[43mindicator\u001B[49m\u001B[38;5;241;43m=\u001B[39;49m\u001B[43mindicator\u001B[49m\u001B[43m,\u001B[49m\n\u001B[0;32m    160\u001B[0m \u001B[43m        \u001B[49m\u001B[43mvalidate\u001B[49m\u001B[38;5;241;43m=\u001B[39;49m\u001B[43mvalidate\u001B[49m\u001B[43m,\u001B[49m\n\u001B[0;32m    161\u001B[0m \u001B[43m    \u001B[49m\u001B[43m)\u001B[49m\n\u001B[0;32m    162\u001B[0m     \u001B[38;5;28;01mreturn\u001B[39;00m op\u001B[38;5;241m.\u001B[39mget_result(copy\u001B[38;5;241m=\u001B[39mcopy)\n",
      "File \u001B[1;32m~\\LectureNote\\venv\\Lib\\site-packages\\pandas\\core\\reshape\\merge.py:719\u001B[0m, in \u001B[0;36m_MergeOperation.__init__\u001B[1;34m(self, left, right, how, on, left_on, right_on, axis, left_index, right_index, sort, suffixes, indicator, validate)\u001B[0m\n\u001B[0;32m    712\u001B[0m     msg \u001B[38;5;241m=\u001B[39m (\n\u001B[0;32m    713\u001B[0m         \u001B[38;5;124m\"\u001B[39m\u001B[38;5;124mNot allowed to merge between different levels. \u001B[39m\u001B[38;5;124m\"\u001B[39m\n\u001B[0;32m    714\u001B[0m         \u001B[38;5;124mf\u001B[39m\u001B[38;5;124m\"\u001B[39m\u001B[38;5;124m(\u001B[39m\u001B[38;5;132;01m{\u001B[39;00m_left\u001B[38;5;241m.\u001B[39mcolumns\u001B[38;5;241m.\u001B[39mnlevels\u001B[38;5;132;01m}\u001B[39;00m\u001B[38;5;124m levels on the left, \u001B[39m\u001B[38;5;124m\"\u001B[39m\n\u001B[0;32m    715\u001B[0m         \u001B[38;5;124mf\u001B[39m\u001B[38;5;124m\"\u001B[39m\u001B[38;5;132;01m{\u001B[39;00m_right\u001B[38;5;241m.\u001B[39mcolumns\u001B[38;5;241m.\u001B[39mnlevels\u001B[38;5;132;01m}\u001B[39;00m\u001B[38;5;124m on the right)\u001B[39m\u001B[38;5;124m\"\u001B[39m\n\u001B[0;32m    716\u001B[0m     )\n\u001B[0;32m    717\u001B[0m     \u001B[38;5;28;01mraise\u001B[39;00m MergeError(msg)\n\u001B[1;32m--> 719\u001B[0m \u001B[38;5;28mself\u001B[39m\u001B[38;5;241m.\u001B[39mleft_on, \u001B[38;5;28mself\u001B[39m\u001B[38;5;241m.\u001B[39mright_on \u001B[38;5;241m=\u001B[39m \u001B[38;5;28;43mself\u001B[39;49m\u001B[38;5;241;43m.\u001B[39;49m\u001B[43m_validate_left_right_on\u001B[49m\u001B[43m(\u001B[49m\u001B[43mleft_on\u001B[49m\u001B[43m,\u001B[49m\u001B[43m \u001B[49m\u001B[43mright_on\u001B[49m\u001B[43m)\u001B[49m\n\u001B[0;32m    721\u001B[0m cross_col \u001B[38;5;241m=\u001B[39m \u001B[38;5;28;01mNone\u001B[39;00m\n\u001B[0;32m    722\u001B[0m \u001B[38;5;28;01mif\u001B[39;00m \u001B[38;5;28mself\u001B[39m\u001B[38;5;241m.\u001B[39mhow \u001B[38;5;241m==\u001B[39m \u001B[38;5;124m\"\u001B[39m\u001B[38;5;124mcross\u001B[39m\u001B[38;5;124m\"\u001B[39m:\n",
      "File \u001B[1;32m~\\LectureNote\\venv\\Lib\\site-packages\\pandas\\core\\reshape\\merge.py:1500\u001B[0m, in \u001B[0;36m_MergeOperation._validate_left_right_on\u001B[1;34m(self, left_on, right_on)\u001B[0m\n\u001B[0;32m   1498\u001B[0m common_cols \u001B[38;5;241m=\u001B[39m left_cols\u001B[38;5;241m.\u001B[39mintersection(right_cols)\n\u001B[0;32m   1499\u001B[0m \u001B[38;5;28;01mif\u001B[39;00m \u001B[38;5;28mlen\u001B[39m(common_cols) \u001B[38;5;241m==\u001B[39m \u001B[38;5;241m0\u001B[39m:\n\u001B[1;32m-> 1500\u001B[0m     \u001B[38;5;28;01mraise\u001B[39;00m MergeError(\n\u001B[0;32m   1501\u001B[0m         \u001B[38;5;124m\"\u001B[39m\u001B[38;5;124mNo common columns to perform merge on. \u001B[39m\u001B[38;5;124m\"\u001B[39m\n\u001B[0;32m   1502\u001B[0m         \u001B[38;5;124mf\u001B[39m\u001B[38;5;124m\"\u001B[39m\u001B[38;5;124mMerge options: left_on=\u001B[39m\u001B[38;5;132;01m{\u001B[39;00mleft_on\u001B[38;5;132;01m}\u001B[39;00m\u001B[38;5;124m, \u001B[39m\u001B[38;5;124m\"\u001B[39m\n\u001B[0;32m   1503\u001B[0m         \u001B[38;5;124mf\u001B[39m\u001B[38;5;124m\"\u001B[39m\u001B[38;5;124mright_on=\u001B[39m\u001B[38;5;132;01m{\u001B[39;00mright_on\u001B[38;5;132;01m}\u001B[39;00m\u001B[38;5;124m, \u001B[39m\u001B[38;5;124m\"\u001B[39m\n\u001B[0;32m   1504\u001B[0m         \u001B[38;5;124mf\u001B[39m\u001B[38;5;124m\"\u001B[39m\u001B[38;5;124mleft_index=\u001B[39m\u001B[38;5;132;01m{\u001B[39;00m\u001B[38;5;28mself\u001B[39m\u001B[38;5;241m.\u001B[39mleft_index\u001B[38;5;132;01m}\u001B[39;00m\u001B[38;5;124m, \u001B[39m\u001B[38;5;124m\"\u001B[39m\n\u001B[0;32m   1505\u001B[0m         \u001B[38;5;124mf\u001B[39m\u001B[38;5;124m\"\u001B[39m\u001B[38;5;124mright_index=\u001B[39m\u001B[38;5;132;01m{\u001B[39;00m\u001B[38;5;28mself\u001B[39m\u001B[38;5;241m.\u001B[39mright_index\u001B[38;5;132;01m}\u001B[39;00m\u001B[38;5;124m\"\u001B[39m\n\u001B[0;32m   1506\u001B[0m     )\n\u001B[0;32m   1507\u001B[0m \u001B[38;5;28;01mif\u001B[39;00m (\n\u001B[0;32m   1508\u001B[0m     \u001B[38;5;129;01mnot\u001B[39;00m left_cols\u001B[38;5;241m.\u001B[39mjoin(common_cols, how\u001B[38;5;241m=\u001B[39m\u001B[38;5;124m\"\u001B[39m\u001B[38;5;124minner\u001B[39m\u001B[38;5;124m\"\u001B[39m)\u001B[38;5;241m.\u001B[39mis_unique\n\u001B[0;32m   1509\u001B[0m     \u001B[38;5;129;01mor\u001B[39;00m \u001B[38;5;129;01mnot\u001B[39;00m right_cols\u001B[38;5;241m.\u001B[39mjoin(common_cols, how\u001B[38;5;241m=\u001B[39m\u001B[38;5;124m\"\u001B[39m\u001B[38;5;124minner\u001B[39m\u001B[38;5;124m\"\u001B[39m)\u001B[38;5;241m.\u001B[39mis_unique\n\u001B[0;32m   1510\u001B[0m ):\n\u001B[0;32m   1511\u001B[0m     \u001B[38;5;28;01mraise\u001B[39;00m MergeError(\u001B[38;5;124mf\u001B[39m\u001B[38;5;124m\"\u001B[39m\u001B[38;5;124mData columns not unique: \u001B[39m\u001B[38;5;132;01m{\u001B[39;00m\u001B[38;5;28mrepr\u001B[39m(common_cols)\u001B[38;5;132;01m}\u001B[39;00m\u001B[38;5;124m\"\u001B[39m)\n",
      "\u001B[1;31mMergeError\u001B[0m: No common columns to perform merge on. Merge options: left_on=None, right_on=None, left_index=False, right_index=False"
     ]
    }
   ]
  },
  {
   "cell_type": "markdown",
   "source": [
    "You may see that it's could not merge as there is no column which are the same key name.\n",
    "We can specify the column name which can be merge using the different name with the `left-on` and `right_on` argument\n",
    "```python\n",
    "pd.merge(df3, df4, left_on='lkey', right_on='rkey')\n",
    "```"
   ],
   "metadata": {
    "collapsed": false
   }
  },
  {
   "cell_type": "code",
   "metadata": {
    "id": "yDDheXdWhaai",
    "colab": {
     "base_uri": "https://localhost:8080/",
     "height": 238
    },
    "outputId": "f80296b2-58fc-4006-975d-b56ad683e82a",
    "ExecuteTime": {
     "end_time": "2023-11-01T07:44:01.740251Z",
     "start_time": "2023-11-01T07:44:01.692651500Z"
    }
   },
   "source": [
    "pd.merge(df3, df4, left_on='lkey', right_on='rkey')"
   ],
   "execution_count": 20,
   "outputs": [
    {
     "data": {
      "text/plain": "  lkey  data1 rkey  data2\n0    b      0    b      1\n1    b      1    b      1\n2    b      6    b      1\n3    a      2    a      0\n4    a      4    a      0\n5    a      5    a      0",
      "text/html": "<div>\n<style scoped>\n    .dataframe tbody tr th:only-of-type {\n        vertical-align: middle;\n    }\n\n    .dataframe tbody tr th {\n        vertical-align: top;\n    }\n\n    .dataframe thead th {\n        text-align: right;\n    }\n</style>\n<table border=\"1\" class=\"dataframe\">\n  <thead>\n    <tr style=\"text-align: right;\">\n      <th></th>\n      <th>lkey</th>\n      <th>data1</th>\n      <th>rkey</th>\n      <th>data2</th>\n    </tr>\n  </thead>\n  <tbody>\n    <tr>\n      <th>0</th>\n      <td>b</td>\n      <td>0</td>\n      <td>b</td>\n      <td>1</td>\n    </tr>\n    <tr>\n      <th>1</th>\n      <td>b</td>\n      <td>1</td>\n      <td>b</td>\n      <td>1</td>\n    </tr>\n    <tr>\n      <th>2</th>\n      <td>b</td>\n      <td>6</td>\n      <td>b</td>\n      <td>1</td>\n    </tr>\n    <tr>\n      <th>3</th>\n      <td>a</td>\n      <td>2</td>\n      <td>a</td>\n      <td>0</td>\n    </tr>\n    <tr>\n      <th>4</th>\n      <td>a</td>\n      <td>4</td>\n      <td>a</td>\n      <td>0</td>\n    </tr>\n    <tr>\n      <th>5</th>\n      <td>a</td>\n      <td>5</td>\n      <td>a</td>\n      <td>0</td>\n    </tr>\n  </tbody>\n</table>\n</div>"
     },
     "execution_count": 20,
     "metadata": {},
     "output_type": "execute_result"
    }
   ]
  },
  {
   "cell_type": "markdown",
   "source": [
    "or \n",
    "```python\n",
    "pd.merge(df4, df3,  right_on='lkey',left_on='rkey')\n",
    "```"
   ],
   "metadata": {
    "collapsed": false
   }
  },
  {
   "cell_type": "code",
   "source": [
    "pd.merge(df4, df3,  right_on='lkey',left_on='rkey')"
   ],
   "metadata": {
    "colab": {
     "base_uri": "https://localhost:8080/",
     "height": 238
    },
    "id": "ge-3djK98URI",
    "outputId": "917facba-027c-4514-f2ad-a7cca7b0d646",
    "ExecuteTime": {
     "end_time": "2023-11-01T07:44:07.960256400Z",
     "start_time": "2023-11-01T07:44:07.913029300Z"
    }
   },
   "execution_count": 21,
   "outputs": [
    {
     "data": {
      "text/plain": "  rkey  data2 lkey  data1\n0    a      0    a      2\n1    a      0    a      4\n2    a      0    a      5\n3    b      1    b      0\n4    b      1    b      1\n5    b      1    b      6",
      "text/html": "<div>\n<style scoped>\n    .dataframe tbody tr th:only-of-type {\n        vertical-align: middle;\n    }\n\n    .dataframe tbody tr th {\n        vertical-align: top;\n    }\n\n    .dataframe thead th {\n        text-align: right;\n    }\n</style>\n<table border=\"1\" class=\"dataframe\">\n  <thead>\n    <tr style=\"text-align: right;\">\n      <th></th>\n      <th>rkey</th>\n      <th>data2</th>\n      <th>lkey</th>\n      <th>data1</th>\n    </tr>\n  </thead>\n  <tbody>\n    <tr>\n      <th>0</th>\n      <td>a</td>\n      <td>0</td>\n      <td>a</td>\n      <td>2</td>\n    </tr>\n    <tr>\n      <th>1</th>\n      <td>a</td>\n      <td>0</td>\n      <td>a</td>\n      <td>4</td>\n    </tr>\n    <tr>\n      <th>2</th>\n      <td>a</td>\n      <td>0</td>\n      <td>a</td>\n      <td>5</td>\n    </tr>\n    <tr>\n      <th>3</th>\n      <td>b</td>\n      <td>1</td>\n      <td>b</td>\n      <td>0</td>\n    </tr>\n    <tr>\n      <th>4</th>\n      <td>b</td>\n      <td>1</td>\n      <td>b</td>\n      <td>1</td>\n    </tr>\n    <tr>\n      <th>5</th>\n      <td>b</td>\n      <td>1</td>\n      <td>b</td>\n      <td>6</td>\n    </tr>\n  </tbody>\n</table>\n</div>"
     },
     "execution_count": 21,
     "metadata": {},
     "output_type": "execute_result"
    }
   ]
  },
  {
   "cell_type": "markdown",
   "metadata": {
    "id": "IPazI1RLhhBb"
   },
   "source": [
    "You may see that c, and d is removed as it's not in the left data frame\n",
    "\n",
    "To use all data we use the outer argument\n",
    "```python\n",
    "pd.merge(df1,df2,how='outer')\n",
    "```"
   ]
  },
  {
   "cell_type": "code",
   "metadata": {
    "id": "HrnU1ep1hpX7",
    "colab": {
     "base_uri": "https://localhost:8080/",
     "height": 300
    },
    "outputId": "fe9ee87b-4b93-44ad-d057-1f87c8020116",
    "ExecuteTime": {
     "end_time": "2023-11-01T07:44:14.133092200Z",
     "start_time": "2023-11-01T07:44:14.117020300Z"
    }
   },
   "source": [
    "pd.merge(df1,df2,how='outer')"
   ],
   "execution_count": 22,
   "outputs": [
    {
     "data": {
      "text/plain": "  key  data1  data2\n0   b    0.0    1.0\n1   b    1.0    1.0\n2   b    6.0    1.0\n3   a    2.0    0.0\n4   a    4.0    0.0\n5   a    5.0    0.0\n6   c    3.0    NaN\n7   d    NaN    2.0",
      "text/html": "<div>\n<style scoped>\n    .dataframe tbody tr th:only-of-type {\n        vertical-align: middle;\n    }\n\n    .dataframe tbody tr th {\n        vertical-align: top;\n    }\n\n    .dataframe thead th {\n        text-align: right;\n    }\n</style>\n<table border=\"1\" class=\"dataframe\">\n  <thead>\n    <tr style=\"text-align: right;\">\n      <th></th>\n      <th>key</th>\n      <th>data1</th>\n      <th>data2</th>\n    </tr>\n  </thead>\n  <tbody>\n    <tr>\n      <th>0</th>\n      <td>b</td>\n      <td>0.0</td>\n      <td>1.0</td>\n    </tr>\n    <tr>\n      <th>1</th>\n      <td>b</td>\n      <td>1.0</td>\n      <td>1.0</td>\n    </tr>\n    <tr>\n      <th>2</th>\n      <td>b</td>\n      <td>6.0</td>\n      <td>1.0</td>\n    </tr>\n    <tr>\n      <th>3</th>\n      <td>a</td>\n      <td>2.0</td>\n      <td>0.0</td>\n    </tr>\n    <tr>\n      <th>4</th>\n      <td>a</td>\n      <td>4.0</td>\n      <td>0.0</td>\n    </tr>\n    <tr>\n      <th>5</th>\n      <td>a</td>\n      <td>5.0</td>\n      <td>0.0</td>\n    </tr>\n    <tr>\n      <th>6</th>\n      <td>c</td>\n      <td>3.0</td>\n      <td>NaN</td>\n    </tr>\n    <tr>\n      <th>7</th>\n      <td>d</td>\n      <td>NaN</td>\n      <td>2.0</td>\n    </tr>\n  </tbody>\n</table>\n</div>"
     },
     "execution_count": 22,
     "metadata": {},
     "output_type": "execute_result"
    }
   ]
  },
  {
   "cell_type": "markdown",
   "metadata": {
    "id": "sNtccP7Ehx2i"
   },
   "source": [
    "You may try other argument to see the different\n",
    "![image-20230915053652812](./assets/image-20230915053652812.png)\n"
   ]
  },
  {
   "cell_type": "markdown",
   "source": [
    "inner join is the intersection of the data\n",
    "```python\n",
    "pd.merge(df1,df2,how='inner')\n",
    "```"
   ],
   "metadata": {
    "collapsed": false
   }
  },
  {
   "cell_type": "code",
   "metadata": {
    "id": "Dq-j6n-sh6IO",
    "colab": {
     "base_uri": "https://localhost:8080/",
     "height": 238
    },
    "outputId": "3b1d4a63-e4f8-49c2-dd3a-47556f76790c",
    "ExecuteTime": {
     "end_time": "2023-11-01T07:44:20.209944300Z",
     "start_time": "2023-11-01T07:44:20.193856400Z"
    }
   },
   "source": [
    "pd.merge(df1,df2,how='inner')"
   ],
   "execution_count": 23,
   "outputs": [
    {
     "data": {
      "text/plain": "  key  data1  data2\n0   b      0      1\n1   b      1      1\n2   b      6      1\n3   a      2      0\n4   a      4      0\n5   a      5      0",
      "text/html": "<div>\n<style scoped>\n    .dataframe tbody tr th:only-of-type {\n        vertical-align: middle;\n    }\n\n    .dataframe tbody tr th {\n        vertical-align: top;\n    }\n\n    .dataframe thead th {\n        text-align: right;\n    }\n</style>\n<table border=\"1\" class=\"dataframe\">\n  <thead>\n    <tr style=\"text-align: right;\">\n      <th></th>\n      <th>key</th>\n      <th>data1</th>\n      <th>data2</th>\n    </tr>\n  </thead>\n  <tbody>\n    <tr>\n      <th>0</th>\n      <td>b</td>\n      <td>0</td>\n      <td>1</td>\n    </tr>\n    <tr>\n      <th>1</th>\n      <td>b</td>\n      <td>1</td>\n      <td>1</td>\n    </tr>\n    <tr>\n      <th>2</th>\n      <td>b</td>\n      <td>6</td>\n      <td>1</td>\n    </tr>\n    <tr>\n      <th>3</th>\n      <td>a</td>\n      <td>2</td>\n      <td>0</td>\n    </tr>\n    <tr>\n      <th>4</th>\n      <td>a</td>\n      <td>4</td>\n      <td>0</td>\n    </tr>\n    <tr>\n      <th>5</th>\n      <td>a</td>\n      <td>5</td>\n      <td>0</td>\n    </tr>\n  </tbody>\n</table>\n</div>"
     },
     "execution_count": 23,
     "metadata": {},
     "output_type": "execute_result"
    }
   ]
  },
  {
   "cell_type": "markdown",
   "source": [
    "left join is the left data frame\n",
    "```python\n",
    "pd.merge(df1,df2,how='left')\n",
    "```"
   ],
   "metadata": {
    "collapsed": false
   }
  },
  {
   "cell_type": "code",
   "metadata": {
    "id": "uSJmf9OIF34Y",
    "colab": {
     "base_uri": "https://localhost:8080/",
     "height": 269
    },
    "outputId": "89212eb3-b34a-4285-baae-25063876a3eb",
    "ExecuteTime": {
     "end_time": "2023-11-01T07:44:24.824470200Z",
     "start_time": "2023-11-01T07:44:24.793795300Z"
    }
   },
   "source": [
    "pd.merge(df1,df2,how='left')"
   ],
   "execution_count": 24,
   "outputs": [
    {
     "data": {
      "text/plain": "  key  data1  data2\n0   b      0    1.0\n1   b      1    1.0\n2   a      2    0.0\n3   c      3    NaN\n4   a      4    0.0\n5   a      5    0.0\n6   b      6    1.0",
      "text/html": "<div>\n<style scoped>\n    .dataframe tbody tr th:only-of-type {\n        vertical-align: middle;\n    }\n\n    .dataframe tbody tr th {\n        vertical-align: top;\n    }\n\n    .dataframe thead th {\n        text-align: right;\n    }\n</style>\n<table border=\"1\" class=\"dataframe\">\n  <thead>\n    <tr style=\"text-align: right;\">\n      <th></th>\n      <th>key</th>\n      <th>data1</th>\n      <th>data2</th>\n    </tr>\n  </thead>\n  <tbody>\n    <tr>\n      <th>0</th>\n      <td>b</td>\n      <td>0</td>\n      <td>1.0</td>\n    </tr>\n    <tr>\n      <th>1</th>\n      <td>b</td>\n      <td>1</td>\n      <td>1.0</td>\n    </tr>\n    <tr>\n      <th>2</th>\n      <td>a</td>\n      <td>2</td>\n      <td>0.0</td>\n    </tr>\n    <tr>\n      <th>3</th>\n      <td>c</td>\n      <td>3</td>\n      <td>NaN</td>\n    </tr>\n    <tr>\n      <th>4</th>\n      <td>a</td>\n      <td>4</td>\n      <td>0.0</td>\n    </tr>\n    <tr>\n      <th>5</th>\n      <td>a</td>\n      <td>5</td>\n      <td>0.0</td>\n    </tr>\n    <tr>\n      <th>6</th>\n      <td>b</td>\n      <td>6</td>\n      <td>1.0</td>\n    </tr>\n  </tbody>\n</table>\n</div>"
     },
     "execution_count": 24,
     "metadata": {},
     "output_type": "execute_result"
    }
   ]
  },
  {
   "cell_type": "markdown",
   "metadata": {
    "id": "Ju7uB27hkGOO"
   },
   "source": [
    "we can merge with multiple keys by passing a list of columns\n",
    "try to create this given data frame\n",
    "```python\n",
    "left = pd.DataFrame({'key1': ['foo', 'foo', 'bar'],\n",
    "                     'key2': ['one', 'two', 'one'],\n",
    "                     'lval': [1, 2, 3]})\n",
    "right = pd.DataFrame({'key1': ['foo', 'foo', 'bar', 'bar'],\n",
    "                      'key2': ['one', 'one', 'one', 'two'],\n",
    "                      'rval': [4, 5, 6, 7]})\n",
    "```"
   ]
  },
  {
   "cell_type": "code",
   "metadata": {
    "id": "J7YdqpX9kk4H",
    "ExecuteTime": {
     "end_time": "2023-11-01T07:44:30.472485200Z",
     "start_time": "2023-11-01T07:44:30.440471800Z"
    }
   },
   "source": [
    "left = pd.DataFrame({'key1': ['foo', 'foo', 'bar'],\n",
    "                     'key2': ['one', 'two', 'one'],\n",
    "                     'lval': [1, 2, 3]})\n",
    "right = pd.DataFrame({'key1': ['foo', 'foo', 'bar', 'bar'],\n",
    "                      'key2': ['one', 'one', 'one', 'two'],\n",
    "                      'rval': [4, 5, 6, 7]})"
   ],
   "execution_count": 25,
   "outputs": []
  },
  {
   "cell_type": "markdown",
   "source": [
    "then try to merge with the multiple keys\n",
    "```python\n",
    "pd.merge(left,right,on=['key1','key2'],how='outer')\n",
    "```"
   ],
   "metadata": {
    "collapsed": false
   }
  },
  {
   "cell_type": "code",
   "metadata": {
    "id": "aVjzio7wkqvF",
    "colab": {
     "base_uri": "https://localhost:8080/",
     "height": 206
    },
    "outputId": "ea4a29cc-52aa-4d95-8742-d05f22bbc3d3",
    "ExecuteTime": {
     "end_time": "2023-11-01T07:44:35.842636200Z",
     "start_time": "2023-11-01T07:44:35.811359Z"
    }
   },
   "source": [
    "pd.merge(left,right,on=['key1','key2'],how='outer')"
   ],
   "execution_count": 26,
   "outputs": [
    {
     "data": {
      "text/plain": "  key1 key2  lval  rval\n0  foo  one   1.0   4.0\n1  foo  one   1.0   5.0\n2  foo  two   2.0   NaN\n3  bar  one   3.0   6.0\n4  bar  two   NaN   7.0",
      "text/html": "<div>\n<style scoped>\n    .dataframe tbody tr th:only-of-type {\n        vertical-align: middle;\n    }\n\n    .dataframe tbody tr th {\n        vertical-align: top;\n    }\n\n    .dataframe thead th {\n        text-align: right;\n    }\n</style>\n<table border=\"1\" class=\"dataframe\">\n  <thead>\n    <tr style=\"text-align: right;\">\n      <th></th>\n      <th>key1</th>\n      <th>key2</th>\n      <th>lval</th>\n      <th>rval</th>\n    </tr>\n  </thead>\n  <tbody>\n    <tr>\n      <th>0</th>\n      <td>foo</td>\n      <td>one</td>\n      <td>1.0</td>\n      <td>4.0</td>\n    </tr>\n    <tr>\n      <th>1</th>\n      <td>foo</td>\n      <td>one</td>\n      <td>1.0</td>\n      <td>5.0</td>\n    </tr>\n    <tr>\n      <th>2</th>\n      <td>foo</td>\n      <td>two</td>\n      <td>2.0</td>\n      <td>NaN</td>\n    </tr>\n    <tr>\n      <th>3</th>\n      <td>bar</td>\n      <td>one</td>\n      <td>3.0</td>\n      <td>6.0</td>\n    </tr>\n    <tr>\n      <th>4</th>\n      <td>bar</td>\n      <td>two</td>\n      <td>NaN</td>\n      <td>7.0</td>\n    </tr>\n  </tbody>\n</table>\n</div>"
     },
     "execution_count": 26,
     "metadata": {},
     "output_type": "execute_result"
    }
   ]
  },
  {
   "cell_type": "markdown",
   "metadata": {
    "id": "aFIKDtBqk12K"
   },
   "source": [
    "Some time if the name of the column may be collapse. (Same column name, but not the key)\n",
    "You may change the name of the column before merging directly, or you can set the suffix column\n",
    "the example of the problem is shown\n",
    "```python\n",
    "pd.merge(left, right, on='key1')\n",
    "```"
   ]
  },
  {
   "cell_type": "code",
   "metadata": {
    "id": "2aBjHvFzlwCd",
    "colab": {
     "base_uri": "https://localhost:8080/",
     "height": 238
    },
    "outputId": "7653b22c-5e39-4816-e785-af233bef94e1",
    "ExecuteTime": {
     "end_time": "2023-11-01T07:44:40.666829900Z",
     "start_time": "2023-11-01T07:44:40.650782300Z"
    }
   },
   "source": [
    "pd.merge(left, right, on='key1')"
   ],
   "execution_count": 27,
   "outputs": [
    {
     "data": {
      "text/plain": "  key1 key2_x  lval key2_y  rval\n0  foo    one     1    one     4\n1  foo    one     1    one     5\n2  foo    two     2    one     4\n3  foo    two     2    one     5\n4  bar    one     3    one     6\n5  bar    one     3    two     7",
      "text/html": "<div>\n<style scoped>\n    .dataframe tbody tr th:only-of-type {\n        vertical-align: middle;\n    }\n\n    .dataframe tbody tr th {\n        vertical-align: top;\n    }\n\n    .dataframe thead th {\n        text-align: right;\n    }\n</style>\n<table border=\"1\" class=\"dataframe\">\n  <thead>\n    <tr style=\"text-align: right;\">\n      <th></th>\n      <th>key1</th>\n      <th>key2_x</th>\n      <th>lval</th>\n      <th>key2_y</th>\n      <th>rval</th>\n    </tr>\n  </thead>\n  <tbody>\n    <tr>\n      <th>0</th>\n      <td>foo</td>\n      <td>one</td>\n      <td>1</td>\n      <td>one</td>\n      <td>4</td>\n    </tr>\n    <tr>\n      <th>1</th>\n      <td>foo</td>\n      <td>one</td>\n      <td>1</td>\n      <td>one</td>\n      <td>5</td>\n    </tr>\n    <tr>\n      <th>2</th>\n      <td>foo</td>\n      <td>two</td>\n      <td>2</td>\n      <td>one</td>\n      <td>4</td>\n    </tr>\n    <tr>\n      <th>3</th>\n      <td>foo</td>\n      <td>two</td>\n      <td>2</td>\n      <td>one</td>\n      <td>5</td>\n    </tr>\n    <tr>\n      <th>4</th>\n      <td>bar</td>\n      <td>one</td>\n      <td>3</td>\n      <td>one</td>\n      <td>6</td>\n    </tr>\n    <tr>\n      <th>5</th>\n      <td>bar</td>\n      <td>one</td>\n      <td>3</td>\n      <td>two</td>\n      <td>7</td>\n    </tr>\n  </tbody>\n</table>\n</div>"
     },
     "execution_count": 27,
     "metadata": {},
     "output_type": "execute_result"
    }
   ]
  },
  {
   "cell_type": "markdown",
   "source": [
    "the suffixes can be set by the `suffixes` argument\n",
    "```python\n",
    "pd.merge(left, right, on='key1', suffixes=('_left', '_right'))\n",
    "```"
   ],
   "metadata": {
    "collapsed": false
   }
  },
  {
   "cell_type": "code",
   "metadata": {
    "id": "pKVd-A2gl2E9",
    "colab": {
     "base_uri": "https://localhost:8080/",
     "height": 238
    },
    "outputId": "37827898-faf6-42e1-82e9-ba0b19229194",
    "ExecuteTime": {
     "end_time": "2023-11-01T07:44:50.663199100Z",
     "start_time": "2023-11-01T07:44:50.650188900Z"
    }
   },
   "source": [
    "pd.merge(left, right, on='key1', suffixes=('_left', '_right'))"
   ],
   "execution_count": 28,
   "outputs": [
    {
     "data": {
      "text/plain": "  key1 key2_left  lval key2_right  rval\n0  foo       one     1        one     4\n1  foo       one     1        one     5\n2  foo       two     2        one     4\n3  foo       two     2        one     5\n4  bar       one     3        one     6\n5  bar       one     3        two     7",
      "text/html": "<div>\n<style scoped>\n    .dataframe tbody tr th:only-of-type {\n        vertical-align: middle;\n    }\n\n    .dataframe tbody tr th {\n        vertical-align: top;\n    }\n\n    .dataframe thead th {\n        text-align: right;\n    }\n</style>\n<table border=\"1\" class=\"dataframe\">\n  <thead>\n    <tr style=\"text-align: right;\">\n      <th></th>\n      <th>key1</th>\n      <th>key2_left</th>\n      <th>lval</th>\n      <th>key2_right</th>\n      <th>rval</th>\n    </tr>\n  </thead>\n  <tbody>\n    <tr>\n      <th>0</th>\n      <td>foo</td>\n      <td>one</td>\n      <td>1</td>\n      <td>one</td>\n      <td>4</td>\n    </tr>\n    <tr>\n      <th>1</th>\n      <td>foo</td>\n      <td>one</td>\n      <td>1</td>\n      <td>one</td>\n      <td>5</td>\n    </tr>\n    <tr>\n      <th>2</th>\n      <td>foo</td>\n      <td>two</td>\n      <td>2</td>\n      <td>one</td>\n      <td>4</td>\n    </tr>\n    <tr>\n      <th>3</th>\n      <td>foo</td>\n      <td>two</td>\n      <td>2</td>\n      <td>one</td>\n      <td>5</td>\n    </tr>\n    <tr>\n      <th>4</th>\n      <td>bar</td>\n      <td>one</td>\n      <td>3</td>\n      <td>one</td>\n      <td>6</td>\n    </tr>\n    <tr>\n      <th>5</th>\n      <td>bar</td>\n      <td>one</td>\n      <td>3</td>\n      <td>two</td>\n      <td>7</td>\n    </tr>\n  </tbody>\n</table>\n</div>"
     },
     "execution_count": 28,
     "metadata": {},
     "output_type": "execute_result"
    }
   ]
  },
  {
   "cell_type": "markdown",
   "source": [
    "### Work\n",
    "The students have been withdrawn so they do not have the score, in addition the staff change some of the index name.\n",
    "So please try to add the attendance midterm score to the previous pandas\n"
   ],
   "metadata": {
    "collapsed": false
   }
  },
  {
   "cell_type": "code",
   "execution_count": 47,
   "outputs": [
    {
     "data": {
      "text/plain": "    ที่        sid  9  10  11  12  13  Total (5)\n0     1  582115509  5   5   5   5  10        3.0\n1     2  592115508  5   5   5   5   5        2.5\n2     3  592115521  5   7   5   5  10        3.2\n3     4  602115001  0   0   0   0   0        0.0\n4     5  602115002  6   8   8   7  10        3.9\n..  ...        ... ..  ..  ..  ..  ..        ...\n28   30  602115519  5   5   7   7  10        3.4\n29   31  602115520  5   5   9   0  10        2.9\n30   33  602115522  7   8   8   7  10        4.0\n31   34  602115524  8   7   9   0   0        2.4\n32   35  602115526  5   6  10   0  10        3.1\n\n[33 rows x 8 columns]",
      "text/html": "<div>\n<style scoped>\n    .dataframe tbody tr th:only-of-type {\n        vertical-align: middle;\n    }\n\n    .dataframe tbody tr th {\n        vertical-align: top;\n    }\n\n    .dataframe thead th {\n        text-align: right;\n    }\n</style>\n<table border=\"1\" class=\"dataframe\">\n  <thead>\n    <tr style=\"text-align: right;\">\n      <th></th>\n      <th>ที่</th>\n      <th>sid</th>\n      <th>9</th>\n      <th>10</th>\n      <th>11</th>\n      <th>12</th>\n      <th>13</th>\n      <th>Total (5)</th>\n    </tr>\n  </thead>\n  <tbody>\n    <tr>\n      <th>0</th>\n      <td>1</td>\n      <td>582115509</td>\n      <td>5</td>\n      <td>5</td>\n      <td>5</td>\n      <td>5</td>\n      <td>10</td>\n      <td>3.0</td>\n    </tr>\n    <tr>\n      <th>1</th>\n      <td>2</td>\n      <td>592115508</td>\n      <td>5</td>\n      <td>5</td>\n      <td>5</td>\n      <td>5</td>\n      <td>5</td>\n      <td>2.5</td>\n    </tr>\n    <tr>\n      <th>2</th>\n      <td>3</td>\n      <td>592115521</td>\n      <td>5</td>\n      <td>7</td>\n      <td>5</td>\n      <td>5</td>\n      <td>10</td>\n      <td>3.2</td>\n    </tr>\n    <tr>\n      <th>3</th>\n      <td>4</td>\n      <td>602115001</td>\n      <td>0</td>\n      <td>0</td>\n      <td>0</td>\n      <td>0</td>\n      <td>0</td>\n      <td>0.0</td>\n    </tr>\n    <tr>\n      <th>4</th>\n      <td>5</td>\n      <td>602115002</td>\n      <td>6</td>\n      <td>8</td>\n      <td>8</td>\n      <td>7</td>\n      <td>10</td>\n      <td>3.9</td>\n    </tr>\n    <tr>\n      <th>...</th>\n      <td>...</td>\n      <td>...</td>\n      <td>...</td>\n      <td>...</td>\n      <td>...</td>\n      <td>...</td>\n      <td>...</td>\n      <td>...</td>\n    </tr>\n    <tr>\n      <th>28</th>\n      <td>30</td>\n      <td>602115519</td>\n      <td>5</td>\n      <td>5</td>\n      <td>7</td>\n      <td>7</td>\n      <td>10</td>\n      <td>3.4</td>\n    </tr>\n    <tr>\n      <th>29</th>\n      <td>31</td>\n      <td>602115520</td>\n      <td>5</td>\n      <td>5</td>\n      <td>9</td>\n      <td>0</td>\n      <td>10</td>\n      <td>2.9</td>\n    </tr>\n    <tr>\n      <th>30</th>\n      <td>33</td>\n      <td>602115522</td>\n      <td>7</td>\n      <td>8</td>\n      <td>8</td>\n      <td>7</td>\n      <td>10</td>\n      <td>4.0</td>\n    </tr>\n    <tr>\n      <th>31</th>\n      <td>34</td>\n      <td>602115524</td>\n      <td>8</td>\n      <td>7</td>\n      <td>9</td>\n      <td>0</td>\n      <td>0</td>\n      <td>2.4</td>\n    </tr>\n    <tr>\n      <th>32</th>\n      <td>35</td>\n      <td>602115526</td>\n      <td>5</td>\n      <td>6</td>\n      <td>10</td>\n      <td>0</td>\n      <td>10</td>\n      <td>3.1</td>\n    </tr>\n  </tbody>\n</table>\n<p>33 rows × 8 columns</p>\n</div>"
     },
     "execution_count": 47,
     "metadata": {},
     "output_type": "execute_result"
    }
   ],
   "source": [
    "df = pd.read_excel('files/studentlist.xlsx',header = 6, sheet_name= 'Attendance (final)')\n",
    "df"
   ],
   "metadata": {
    "collapsed": false,
    "ExecuteTime": {
     "end_time": "2023-11-01T07:49:33.501420300Z",
     "start_time": "2023-11-01T07:49:33.454410700Z"
    }
   }
  },
  {
   "cell_type": "code",
   "execution_count": 48,
   "outputs": [
    {
     "data": {
      "text/plain": "    ที่        sid  9  10  11  12  13  Total (5)  รหัสนักศึกษา\n0     1  582115509  5   5   5   5  10        3.0     582115509\n1     2  592115508  5   5   5   5   5        2.5     592115508\n2     3  592115521  5   7   5   5  10        3.2     592115521\n3     4  602115001  0   0   0   0   0        0.0     602115001\n4     5  602115002  6   8   8   7  10        3.9     602115002\n..  ...        ... ..  ..  ..  ..  ..        ...           ...\n28   30  602115519  5   5   7   7  10        3.4     602115519\n29   31  602115520  5   5   9   0  10        2.9     602115520\n30   33  602115522  7   8   8   7  10        4.0     602115522\n31   34  602115524  8   7   9   0   0        2.4     602115524\n32   35  602115526  5   6  10   0  10        3.1     602115526\n\n[33 rows x 9 columns]",
      "text/html": "<div>\n<style scoped>\n    .dataframe tbody tr th:only-of-type {\n        vertical-align: middle;\n    }\n\n    .dataframe tbody tr th {\n        vertical-align: top;\n    }\n\n    .dataframe thead th {\n        text-align: right;\n    }\n</style>\n<table border=\"1\" class=\"dataframe\">\n  <thead>\n    <tr style=\"text-align: right;\">\n      <th></th>\n      <th>ที่</th>\n      <th>sid</th>\n      <th>9</th>\n      <th>10</th>\n      <th>11</th>\n      <th>12</th>\n      <th>13</th>\n      <th>Total (5)</th>\n      <th>รหัสนักศึกษา</th>\n    </tr>\n  </thead>\n  <tbody>\n    <tr>\n      <th>0</th>\n      <td>1</td>\n      <td>582115509</td>\n      <td>5</td>\n      <td>5</td>\n      <td>5</td>\n      <td>5</td>\n      <td>10</td>\n      <td>3.0</td>\n      <td>582115509</td>\n    </tr>\n    <tr>\n      <th>1</th>\n      <td>2</td>\n      <td>592115508</td>\n      <td>5</td>\n      <td>5</td>\n      <td>5</td>\n      <td>5</td>\n      <td>5</td>\n      <td>2.5</td>\n      <td>592115508</td>\n    </tr>\n    <tr>\n      <th>2</th>\n      <td>3</td>\n      <td>592115521</td>\n      <td>5</td>\n      <td>7</td>\n      <td>5</td>\n      <td>5</td>\n      <td>10</td>\n      <td>3.2</td>\n      <td>592115521</td>\n    </tr>\n    <tr>\n      <th>3</th>\n      <td>4</td>\n      <td>602115001</td>\n      <td>0</td>\n      <td>0</td>\n      <td>0</td>\n      <td>0</td>\n      <td>0</td>\n      <td>0.0</td>\n      <td>602115001</td>\n    </tr>\n    <tr>\n      <th>4</th>\n      <td>5</td>\n      <td>602115002</td>\n      <td>6</td>\n      <td>8</td>\n      <td>8</td>\n      <td>7</td>\n      <td>10</td>\n      <td>3.9</td>\n      <td>602115002</td>\n    </tr>\n    <tr>\n      <th>...</th>\n      <td>...</td>\n      <td>...</td>\n      <td>...</td>\n      <td>...</td>\n      <td>...</td>\n      <td>...</td>\n      <td>...</td>\n      <td>...</td>\n      <td>...</td>\n    </tr>\n    <tr>\n      <th>28</th>\n      <td>30</td>\n      <td>602115519</td>\n      <td>5</td>\n      <td>5</td>\n      <td>7</td>\n      <td>7</td>\n      <td>10</td>\n      <td>3.4</td>\n      <td>602115519</td>\n    </tr>\n    <tr>\n      <th>29</th>\n      <td>31</td>\n      <td>602115520</td>\n      <td>5</td>\n      <td>5</td>\n      <td>9</td>\n      <td>0</td>\n      <td>10</td>\n      <td>2.9</td>\n      <td>602115520</td>\n    </tr>\n    <tr>\n      <th>30</th>\n      <td>33</td>\n      <td>602115522</td>\n      <td>7</td>\n      <td>8</td>\n      <td>8</td>\n      <td>7</td>\n      <td>10</td>\n      <td>4.0</td>\n      <td>602115522</td>\n    </tr>\n    <tr>\n      <th>31</th>\n      <td>34</td>\n      <td>602115524</td>\n      <td>8</td>\n      <td>7</td>\n      <td>9</td>\n      <td>0</td>\n      <td>0</td>\n      <td>2.4</td>\n      <td>602115524</td>\n    </tr>\n    <tr>\n      <th>32</th>\n      <td>35</td>\n      <td>602115526</td>\n      <td>5</td>\n      <td>6</td>\n      <td>10</td>\n      <td>0</td>\n      <td>10</td>\n      <td>3.1</td>\n      <td>602115526</td>\n    </tr>\n  </tbody>\n</table>\n<p>33 rows × 9 columns</p>\n</div>"
     },
     "execution_count": 48,
     "metadata": {},
     "output_type": "execute_result"
    }
   ],
   "source": [
    "df['รหัสนักศึกษา'] = df['sid']\n",
    "df"
   ],
   "metadata": {
    "collapsed": false,
    "ExecuteTime": {
     "end_time": "2023-11-01T07:49:48.296515200Z",
     "start_time": "2023-11-01T07:49:48.255094Z"
    }
   }
  },
  {
   "cell_type": "code",
   "execution_count": 49,
   "outputs": [
    {
     "data": {
      "text/plain": "    ที่  รหัสนักศึกษา    1    2     3        4      Total  Total  (25)\n0   1.0   582115509.0  6.0  2.0   5.0      7.5  20.500000     8.541667\n1   2.0   592115508.0  5.0  4.0   8.0        9  26.000000    10.833333\n2   3.0   592115521.0  6.0  6.0  10.0       12  34.000000    14.166667\n3   4.0   602115001.0  7.0  5.0  12.0     11.5  35.500000    14.791667\n4   5.0   602115002.0  6.0  4.0   7.0     14.5  31.500000    13.125000\n..  ...           ...  ...  ...   ...      ...        ...          ...\n35  NaN           NaN  NaN  NaN   NaN      NaN        NaN          NaN\n36  NaN           NaN  NaN  NaN   NaN      Max  48.000000    20.000000\n37  NaN           NaN  NaN  NaN   NaN      Min   0.000000     0.000000\n38  NaN           NaN  NaN  NaN   NaN  Average  27.928571    11.636905\n39  NaN           NaN  NaN  NaN   NaN      Std  10.243465     4.268110\n\n[40 rows x 8 columns]",
      "text/html": "<div>\n<style scoped>\n    .dataframe tbody tr th:only-of-type {\n        vertical-align: middle;\n    }\n\n    .dataframe tbody tr th {\n        vertical-align: top;\n    }\n\n    .dataframe thead th {\n        text-align: right;\n    }\n</style>\n<table border=\"1\" class=\"dataframe\">\n  <thead>\n    <tr style=\"text-align: right;\">\n      <th></th>\n      <th>ที่</th>\n      <th>รหัสนักศึกษา</th>\n      <th>1</th>\n      <th>2</th>\n      <th>3</th>\n      <th>4</th>\n      <th>Total</th>\n      <th>Total  (25)</th>\n    </tr>\n  </thead>\n  <tbody>\n    <tr>\n      <th>0</th>\n      <td>1.0</td>\n      <td>582115509.0</td>\n      <td>6.0</td>\n      <td>2.0</td>\n      <td>5.0</td>\n      <td>7.5</td>\n      <td>20.500000</td>\n      <td>8.541667</td>\n    </tr>\n    <tr>\n      <th>1</th>\n      <td>2.0</td>\n      <td>592115508.0</td>\n      <td>5.0</td>\n      <td>4.0</td>\n      <td>8.0</td>\n      <td>9</td>\n      <td>26.000000</td>\n      <td>10.833333</td>\n    </tr>\n    <tr>\n      <th>2</th>\n      <td>3.0</td>\n      <td>592115521.0</td>\n      <td>6.0</td>\n      <td>6.0</td>\n      <td>10.0</td>\n      <td>12</td>\n      <td>34.000000</td>\n      <td>14.166667</td>\n    </tr>\n    <tr>\n      <th>3</th>\n      <td>4.0</td>\n      <td>602115001.0</td>\n      <td>7.0</td>\n      <td>5.0</td>\n      <td>12.0</td>\n      <td>11.5</td>\n      <td>35.500000</td>\n      <td>14.791667</td>\n    </tr>\n    <tr>\n      <th>4</th>\n      <td>5.0</td>\n      <td>602115002.0</td>\n      <td>6.0</td>\n      <td>4.0</td>\n      <td>7.0</td>\n      <td>14.5</td>\n      <td>31.500000</td>\n      <td>13.125000</td>\n    </tr>\n    <tr>\n      <th>...</th>\n      <td>...</td>\n      <td>...</td>\n      <td>...</td>\n      <td>...</td>\n      <td>...</td>\n      <td>...</td>\n      <td>...</td>\n      <td>...</td>\n    </tr>\n    <tr>\n      <th>35</th>\n      <td>NaN</td>\n      <td>NaN</td>\n      <td>NaN</td>\n      <td>NaN</td>\n      <td>NaN</td>\n      <td>NaN</td>\n      <td>NaN</td>\n      <td>NaN</td>\n    </tr>\n    <tr>\n      <th>36</th>\n      <td>NaN</td>\n      <td>NaN</td>\n      <td>NaN</td>\n      <td>NaN</td>\n      <td>NaN</td>\n      <td>Max</td>\n      <td>48.000000</td>\n      <td>20.000000</td>\n    </tr>\n    <tr>\n      <th>37</th>\n      <td>NaN</td>\n      <td>NaN</td>\n      <td>NaN</td>\n      <td>NaN</td>\n      <td>NaN</td>\n      <td>Min</td>\n      <td>0.000000</td>\n      <td>0.000000</td>\n    </tr>\n    <tr>\n      <th>38</th>\n      <td>NaN</td>\n      <td>NaN</td>\n      <td>NaN</td>\n      <td>NaN</td>\n      <td>NaN</td>\n      <td>Average</td>\n      <td>27.928571</td>\n      <td>11.636905</td>\n    </tr>\n    <tr>\n      <th>39</th>\n      <td>NaN</td>\n      <td>NaN</td>\n      <td>NaN</td>\n      <td>NaN</td>\n      <td>NaN</td>\n      <td>Std</td>\n      <td>10.243465</td>\n      <td>4.268110</td>\n    </tr>\n  </tbody>\n</table>\n<p>40 rows × 8 columns</p>\n</div>"
     },
     "execution_count": 49,
     "metadata": {},
     "output_type": "execute_result"
    }
   ],
   "source": [
    "df_total = pd.read_excel('files/studentlist.xlsx',header = 6, sheet_name= 'Final')\n",
    "df_total"
   ],
   "metadata": {
    "collapsed": false,
    "ExecuteTime": {
     "end_time": "2023-11-01T07:49:59.428893100Z",
     "start_time": "2023-11-01T07:49:59.376968700Z"
    }
   }
  },
  {
   "cell_type": "code",
   "execution_count": 50,
   "outputs": [
    {
     "data": {
      "text/plain": "    รหัสนักศึกษา  Total (5)  Total  (25)\n0      582115509        3.0     8.541667\n1      592115508        2.5    10.833333\n2      592115521        3.2    14.166667\n3      602115001        0.0    14.791667\n4      602115002        3.9    13.125000\n..           ...        ...          ...\n28     602115519        3.4    10.000000\n29     602115520        2.9    11.041667\n30     602115522        4.0    17.291667\n31     602115524        2.4     8.958333\n32     602115526        3.1     6.250000\n\n[33 rows x 3 columns]",
      "text/html": "<div>\n<style scoped>\n    .dataframe tbody tr th:only-of-type {\n        vertical-align: middle;\n    }\n\n    .dataframe tbody tr th {\n        vertical-align: top;\n    }\n\n    .dataframe thead th {\n        text-align: right;\n    }\n</style>\n<table border=\"1\" class=\"dataframe\">\n  <thead>\n    <tr style=\"text-align: right;\">\n      <th></th>\n      <th>รหัสนักศึกษา</th>\n      <th>Total (5)</th>\n      <th>Total  (25)</th>\n    </tr>\n  </thead>\n  <tbody>\n    <tr>\n      <th>0</th>\n      <td>582115509</td>\n      <td>3.0</td>\n      <td>8.541667</td>\n    </tr>\n    <tr>\n      <th>1</th>\n      <td>592115508</td>\n      <td>2.5</td>\n      <td>10.833333</td>\n    </tr>\n    <tr>\n      <th>2</th>\n      <td>592115521</td>\n      <td>3.2</td>\n      <td>14.166667</td>\n    </tr>\n    <tr>\n      <th>3</th>\n      <td>602115001</td>\n      <td>0.0</td>\n      <td>14.791667</td>\n    </tr>\n    <tr>\n      <th>4</th>\n      <td>602115002</td>\n      <td>3.9</td>\n      <td>13.125000</td>\n    </tr>\n    <tr>\n      <th>...</th>\n      <td>...</td>\n      <td>...</td>\n      <td>...</td>\n    </tr>\n    <tr>\n      <th>28</th>\n      <td>602115519</td>\n      <td>3.4</td>\n      <td>10.000000</td>\n    </tr>\n    <tr>\n      <th>29</th>\n      <td>602115520</td>\n      <td>2.9</td>\n      <td>11.041667</td>\n    </tr>\n    <tr>\n      <th>30</th>\n      <td>602115522</td>\n      <td>4.0</td>\n      <td>17.291667</td>\n    </tr>\n    <tr>\n      <th>31</th>\n      <td>602115524</td>\n      <td>2.4</td>\n      <td>8.958333</td>\n    </tr>\n    <tr>\n      <th>32</th>\n      <td>602115526</td>\n      <td>3.1</td>\n      <td>6.250000</td>\n    </tr>\n  </tbody>\n</table>\n<p>33 rows × 3 columns</p>\n</div>"
     },
     "execution_count": 50,
     "metadata": {},
     "output_type": "execute_result"
    }
   ],
   "source": [
    "total_table = pd.merge(df,df_total,on = 'รหัสนักศึกษา')\n",
    "column = ['รหัสนักศึกษา','Total (5)','Total  (25)']\n",
    "total_table = total_table[column]\n",
    "total_table"
   ],
   "metadata": {
    "collapsed": false,
    "ExecuteTime": {
     "end_time": "2023-11-01T07:50:13.474038900Z",
     "start_time": "2023-11-01T07:50:13.411843400Z"
    }
   }
  },
  {
   "cell_type": "code",
   "execution_count": 51,
   "outputs": [
    {
     "name": "stdout",
     "output_type": "stream",
     "text": [
      "<class 'pandas.core.frame.DataFrame'>\n",
      "RangeIndex: 33 entries, 0 to 32\n",
      "Data columns (total 3 columns):\n",
      " #   Column        Non-Null Count  Dtype  \n",
      "---  ------        --------------  -----  \n",
      " 0   รหัสนักศึกษา  33 non-null     int64  \n",
      " 1   Total (5)     33 non-null     float64\n",
      " 2   Total  (25)   33 non-null     float64\n",
      "dtypes: float64(2), int64(1)\n",
      "memory usage: 924.0 bytes\n"
     ]
    }
   ],
   "source": [
    "total_table.info()"
   ],
   "metadata": {
    "collapsed": false,
    "ExecuteTime": {
     "end_time": "2023-11-01T07:50:26.701258Z",
     "start_time": "2023-11-01T07:50:26.637795800Z"
    }
   }
  },
  {
   "cell_type": "code",
   "execution_count": 52,
   "outputs": [],
   "source": [
    "total_table['Total (5)'].replace(0,np.nan, inplace = True)"
   ],
   "metadata": {
    "collapsed": false,
    "ExecuteTime": {
     "end_time": "2023-11-01T07:50:38.858181700Z",
     "start_time": "2023-11-01T07:50:38.856208800Z"
    }
   }
  },
  {
   "cell_type": "code",
   "execution_count": 53,
   "outputs": [
    {
     "data": {
      "text/plain": "รหัสนักศึกษา    0\nTotal (5)       4\nTotal  (25)     0\ndtype: int64"
     },
     "execution_count": 53,
     "metadata": {},
     "output_type": "execute_result"
    }
   ],
   "source": [
    "total_table.isnull().sum()"
   ],
   "metadata": {
    "collapsed": false,
    "ExecuteTime": {
     "end_time": "2023-11-01T07:50:40.459412800Z",
     "start_time": "2023-11-01T07:50:40.447448600Z"
    }
   }
  },
  {
   "cell_type": "code",
   "execution_count": 54,
   "outputs": [
    {
     "data": {
      "text/plain": "    รหัสนักศึกษา  Total (5)  Total  (25)\n0      582115509        3.0     8.541667\n1      592115508        2.5    10.833333\n2      592115521        3.2    14.166667\n4      602115002        3.9    13.125000\n5      602115003        0.7    12.291667\n..           ...        ...          ...\n28     602115519        3.4    10.000000\n29     602115520        2.9    11.041667\n30     602115522        4.0    17.291667\n31     602115524        2.4     8.958333\n32     602115526        3.1     6.250000\n\n[29 rows x 3 columns]",
      "text/html": "<div>\n<style scoped>\n    .dataframe tbody tr th:only-of-type {\n        vertical-align: middle;\n    }\n\n    .dataframe tbody tr th {\n        vertical-align: top;\n    }\n\n    .dataframe thead th {\n        text-align: right;\n    }\n</style>\n<table border=\"1\" class=\"dataframe\">\n  <thead>\n    <tr style=\"text-align: right;\">\n      <th></th>\n      <th>รหัสนักศึกษา</th>\n      <th>Total (5)</th>\n      <th>Total  (25)</th>\n    </tr>\n  </thead>\n  <tbody>\n    <tr>\n      <th>0</th>\n      <td>582115509</td>\n      <td>3.0</td>\n      <td>8.541667</td>\n    </tr>\n    <tr>\n      <th>1</th>\n      <td>592115508</td>\n      <td>2.5</td>\n      <td>10.833333</td>\n    </tr>\n    <tr>\n      <th>2</th>\n      <td>592115521</td>\n      <td>3.2</td>\n      <td>14.166667</td>\n    </tr>\n    <tr>\n      <th>4</th>\n      <td>602115002</td>\n      <td>3.9</td>\n      <td>13.125000</td>\n    </tr>\n    <tr>\n      <th>5</th>\n      <td>602115003</td>\n      <td>0.7</td>\n      <td>12.291667</td>\n    </tr>\n    <tr>\n      <th>...</th>\n      <td>...</td>\n      <td>...</td>\n      <td>...</td>\n    </tr>\n    <tr>\n      <th>28</th>\n      <td>602115519</td>\n      <td>3.4</td>\n      <td>10.000000</td>\n    </tr>\n    <tr>\n      <th>29</th>\n      <td>602115520</td>\n      <td>2.9</td>\n      <td>11.041667</td>\n    </tr>\n    <tr>\n      <th>30</th>\n      <td>602115522</td>\n      <td>4.0</td>\n      <td>17.291667</td>\n    </tr>\n    <tr>\n      <th>31</th>\n      <td>602115524</td>\n      <td>2.4</td>\n      <td>8.958333</td>\n    </tr>\n    <tr>\n      <th>32</th>\n      <td>602115526</td>\n      <td>3.1</td>\n      <td>6.250000</td>\n    </tr>\n  </tbody>\n</table>\n<p>29 rows × 3 columns</p>\n</div>"
     },
     "execution_count": 54,
     "metadata": {},
     "output_type": "execute_result"
    }
   ],
   "source": [
    "total = total_table.dropna()\n",
    "total"
   ],
   "metadata": {
    "collapsed": false,
    "ExecuteTime": {
     "end_time": "2023-11-01T07:50:46.978725400Z",
     "start_time": "2023-11-01T07:50:46.931530500Z"
    }
   }
  },
  {
   "cell_type": "code",
   "execution_count": 46,
   "outputs": [
    {
     "data": {
      "text/plain": "    รหัสนักศึกษา  Total (5)  Total  (25)      Final\n0      582115509        3.0     8.541667   8.541667\n1      592115508        2.5    10.833333  10.833333\n2      592115521        3.2    14.166667  14.166667\n4      602115002        3.9    13.125000  13.125000\n5      602115003        0.7    12.291667  12.291667\n..           ...        ...          ...        ...\n28     602115519        3.4    10.000000  10.000000\n29     602115520        2.9    11.041667  11.041667\n30     602115522        4.0    17.291667  17.291667\n31     602115524        2.4     8.958333   8.958333\n32     602115526        3.1     6.250000   6.250000\n\n[29 rows x 4 columns]",
      "text/html": "<div>\n<style scoped>\n    .dataframe tbody tr th:only-of-type {\n        vertical-align: middle;\n    }\n\n    .dataframe tbody tr th {\n        vertical-align: top;\n    }\n\n    .dataframe thead th {\n        text-align: right;\n    }\n</style>\n<table border=\"1\" class=\"dataframe\">\n  <thead>\n    <tr style=\"text-align: right;\">\n      <th></th>\n      <th>รหัสนักศึกษา</th>\n      <th>Total (5)</th>\n      <th>Total  (25)</th>\n      <th>Final</th>\n    </tr>\n  </thead>\n  <tbody>\n    <tr>\n      <th>0</th>\n      <td>582115509</td>\n      <td>3.0</td>\n      <td>8.541667</td>\n      <td>8.541667</td>\n    </tr>\n    <tr>\n      <th>1</th>\n      <td>592115508</td>\n      <td>2.5</td>\n      <td>10.833333</td>\n      <td>10.833333</td>\n    </tr>\n    <tr>\n      <th>2</th>\n      <td>592115521</td>\n      <td>3.2</td>\n      <td>14.166667</td>\n      <td>14.166667</td>\n    </tr>\n    <tr>\n      <th>4</th>\n      <td>602115002</td>\n      <td>3.9</td>\n      <td>13.125000</td>\n      <td>13.125000</td>\n    </tr>\n    <tr>\n      <th>5</th>\n      <td>602115003</td>\n      <td>0.7</td>\n      <td>12.291667</td>\n      <td>12.291667</td>\n    </tr>\n    <tr>\n      <th>...</th>\n      <td>...</td>\n      <td>...</td>\n      <td>...</td>\n      <td>...</td>\n    </tr>\n    <tr>\n      <th>28</th>\n      <td>602115519</td>\n      <td>3.4</td>\n      <td>10.000000</td>\n      <td>10.000000</td>\n    </tr>\n    <tr>\n      <th>29</th>\n      <td>602115520</td>\n      <td>2.9</td>\n      <td>11.041667</td>\n      <td>11.041667</td>\n    </tr>\n    <tr>\n      <th>30</th>\n      <td>602115522</td>\n      <td>4.0</td>\n      <td>17.291667</td>\n      <td>17.291667</td>\n    </tr>\n    <tr>\n      <th>31</th>\n      <td>602115524</td>\n      <td>2.4</td>\n      <td>8.958333</td>\n      <td>8.958333</td>\n    </tr>\n    <tr>\n      <th>32</th>\n      <td>602115526</td>\n      <td>3.1</td>\n      <td>6.250000</td>\n      <td>6.250000</td>\n    </tr>\n  </tbody>\n</table>\n<p>29 rows × 4 columns</p>\n</div>"
     },
     "execution_count": 46,
     "metadata": {},
     "output_type": "execute_result"
    }
   ],
   "source": [
    "all_score = pd.merge(total, final_score_new, left_on='รหัสนักศึกษา', right_index=True, how='left')\n",
    "all_score"
   ],
   "metadata": {
    "collapsed": false,
    "ExecuteTime": {
     "end_time": "2023-11-01T07:48:31.433550200Z",
     "start_time": "2023-11-01T07:48:31.418543800Z"
    }
   }
  },
  {
   "cell_type": "markdown",
   "metadata": {
    "id": "zdrqfmNQmG6H"
   },
   "source": [
    "## Merging by index\n",
    "\n",
    "Some time you may found that the part you want to merge is the index.\n",
    "You can set the `left_index=True` or `right_index=True` to indicate that you need to use the index as the merge key\n",
    "\n",
    "try this source code\n",
    "```python\n",
    "left1 = pd.DataFrame({'key': ['a', 'b', 'a', 'a', 'b', 'c'],\n",
    "                      'value': range(6)})\n",
    "right1 = pd.DataFrame({'group_val': [3.5, 7]}, index=['a', 'b'])\n",
    "```"
   ]
  },
  {
   "cell_type": "code",
   "metadata": {
    "id": "p7S05BGOmYcO",
    "ExecuteTime": {
     "end_time": "2023-11-01T07:51:00.476125100Z",
     "start_time": "2023-11-01T07:51:00.459624100Z"
    }
   },
   "source": [
    "left1 = pd.DataFrame({'key': ['a', 'b', 'a', 'a', 'b', 'c'],\n",
    "                      'value': range(6)})\n",
    "right1 = pd.DataFrame({'group_val': [3.5, 7]}, index=['a', 'b'])"
   ],
   "execution_count": 55,
   "outputs": []
  },
  {
   "cell_type": "markdown",
   "source": [
    "then try to merge with the index\n",
    "```python\n",
    "pd.merge(left1, right1, left_on='key', right_index=True)\n",
    "```"
   ],
   "metadata": {
    "collapsed": false
   }
  },
  {
   "cell_type": "code",
   "metadata": {
    "id": "MZxkRjdimiyq",
    "colab": {
     "base_uri": "https://localhost:8080/",
     "height": 206
    },
    "outputId": "653bdfd9-3d2d-4fae-adf6-5826fadc9308",
    "ExecuteTime": {
     "end_time": "2023-11-01T07:51:02.305430600Z",
     "start_time": "2023-11-01T07:51:02.286410700Z"
    }
   },
   "source": [
    "pd.merge(left1, right1, left_on='key', right_index=True)"
   ],
   "execution_count": 56,
   "outputs": [
    {
     "data": {
      "text/plain": "  key  value  group_val\n0   a      0        3.5\n2   a      2        3.5\n3   a      3        3.5\n1   b      1        7.0\n4   b      4        7.0",
      "text/html": "<div>\n<style scoped>\n    .dataframe tbody tr th:only-of-type {\n        vertical-align: middle;\n    }\n\n    .dataframe tbody tr th {\n        vertical-align: top;\n    }\n\n    .dataframe thead th {\n        text-align: right;\n    }\n</style>\n<table border=\"1\" class=\"dataframe\">\n  <thead>\n    <tr style=\"text-align: right;\">\n      <th></th>\n      <th>key</th>\n      <th>value</th>\n      <th>group_val</th>\n    </tr>\n  </thead>\n  <tbody>\n    <tr>\n      <th>0</th>\n      <td>a</td>\n      <td>0</td>\n      <td>3.5</td>\n    </tr>\n    <tr>\n      <th>2</th>\n      <td>a</td>\n      <td>2</td>\n      <td>3.5</td>\n    </tr>\n    <tr>\n      <th>3</th>\n      <td>a</td>\n      <td>3</td>\n      <td>3.5</td>\n    </tr>\n    <tr>\n      <th>1</th>\n      <td>b</td>\n      <td>1</td>\n      <td>7.0</td>\n    </tr>\n    <tr>\n      <th>4</th>\n      <td>b</td>\n      <td>4</td>\n      <td>7.0</td>\n    </tr>\n  </tbody>\n</table>\n</div>"
     },
     "execution_count": 56,
     "metadata": {},
     "output_type": "execute_result"
    }
   ]
  },
  {
   "cell_type": "markdown",
   "source": [
    "the how can be applied as the same as the normal merge\n",
    "```python\n",
    "pd.merge(left1, right1, left_on='key', right_index=True,how ='outer')\n",
    "```"
   ],
   "metadata": {
    "collapsed": false
   }
  },
  {
   "cell_type": "code",
   "metadata": {
    "id": "k9SfYKKrgt0g",
    "colab": {
     "base_uri": "https://localhost:8080/",
     "height": 238
    },
    "outputId": "cb9d1ecc-2fec-4876-c1ac-11d94d9f2229",
    "ExecuteTime": {
     "end_time": "2023-11-01T07:47:00.249529600Z",
     "start_time": "2023-11-01T07:47:00.201427600Z"
    }
   },
   "source": [
    "pd.merge(left1, right1, left_on='key', right_index=True,how ='outer')"
   ],
   "execution_count": 38,
   "outputs": [
    {
     "data": {
      "text/plain": "  key  value  group_val\n0   a      0        3.5\n2   a      2        3.5\n3   a      3        3.5\n1   b      1        7.0\n4   b      4        7.0\n5   c      5        NaN",
      "text/html": "<div>\n<style scoped>\n    .dataframe tbody tr th:only-of-type {\n        vertical-align: middle;\n    }\n\n    .dataframe tbody tr th {\n        vertical-align: top;\n    }\n\n    .dataframe thead th {\n        text-align: right;\n    }\n</style>\n<table border=\"1\" class=\"dataframe\">\n  <thead>\n    <tr style=\"text-align: right;\">\n      <th></th>\n      <th>key</th>\n      <th>value</th>\n      <th>group_val</th>\n    </tr>\n  </thead>\n  <tbody>\n    <tr>\n      <th>0</th>\n      <td>a</td>\n      <td>0</td>\n      <td>3.5</td>\n    </tr>\n    <tr>\n      <th>2</th>\n      <td>a</td>\n      <td>2</td>\n      <td>3.5</td>\n    </tr>\n    <tr>\n      <th>3</th>\n      <td>a</td>\n      <td>3</td>\n      <td>3.5</td>\n    </tr>\n    <tr>\n      <th>1</th>\n      <td>b</td>\n      <td>1</td>\n      <td>7.0</td>\n    </tr>\n    <tr>\n      <th>4</th>\n      <td>b</td>\n      <td>4</td>\n      <td>7.0</td>\n    </tr>\n    <tr>\n      <th>5</th>\n      <td>c</td>\n      <td>5</td>\n      <td>NaN</td>\n    </tr>\n  </tbody>\n</table>\n</div>"
     },
     "execution_count": 38,
     "metadata": {},
     "output_type": "execute_result"
    }
   ]
  },
  {
   "cell_type": "markdown",
   "metadata": {
    "id": "KzRXXAePm6NV"
   },
   "source": [
    "With hierarchically index, joining on index can be used as multiple-key merge\n",
    "```python\n",
    "lefth = pd.DataFrame({'key1': ['Ohio', 'Ohio', 'Ohio',\n",
    "                               'Nevada', 'Nevada'],\n",
    "                      'key2': [2000, 2001, 2002, 2001, 2002],\n",
    "                      'data': np.arange(5.)})\n",
    "righth = pd.DataFrame(np.arange(12).reshape((6, 2)),\n",
    "                        index=[['Nevada', 'Nevada', 'Ohio', 'Ohio',\n",
    "                                'Ohio', 'Ohio'],\n",
    "                                 [2001, 2000, 2000, 2000, 2001, 2002]],\n",
    "                        columns=['event1', 'event2'])\n",
    " ```"
   ]
  },
  {
   "cell_type": "code",
   "metadata": {
    "id": "5CmbYHGsnAsn",
    "ExecuteTime": {
     "end_time": "2023-11-01T07:47:06.375192700Z",
     "start_time": "2023-11-01T07:47:06.327192900Z"
    }
   },
   "source": [
    "lefth = pd.DataFrame({'key1': ['Ohio', 'Ohio', 'Ohio',\n",
    "                               'Nevada', 'Nevada'],\n",
    "                      'key2': [2000, 2001, 2002, 2001, 2002],\n",
    "                      'data': np.arange(5.)})\n",
    "righth = pd.DataFrame(np.arange(12).reshape((6, 2)),\n",
    "                        index=[['Nevada', 'Nevada', 'Ohio', 'Ohio',\n",
    "                                'Ohio', 'Ohio'],\n",
    "                                 [2001, 2000, 2000, 2000, 2001, 2002]],\n",
    "                        columns=['event1', 'event2'])"
   ],
   "execution_count": 39,
   "outputs": []
  },
  {
   "cell_type": "markdown",
   "source": [
    "The merge with multiple column can be set with the column, and the key index\n",
    "```python\n",
    "pd.merge(lefth, righth, left_on=['key1', 'key2'], right_index=True)\n",
    "```"
   ],
   "metadata": {
    "collapsed": false
   }
  },
  {
   "cell_type": "code",
   "metadata": {
    "id": "-Kc3gBaonJ8Q",
    "colab": {
     "base_uri": "https://localhost:8080/"
    },
    "outputId": "cf44172d-eac5-4a9f-fefa-c35a400719fd",
    "ExecuteTime": {
     "end_time": "2023-11-01T07:47:11.774462200Z",
     "start_time": "2023-11-01T07:47:11.742809900Z"
    }
   },
   "source": [
    "pd.merge(lefth, righth, left_on=['key1', 'key2'], right_index=True)"
   ],
   "execution_count": 40,
   "outputs": [
    {
     "data": {
      "text/plain": "     key1  key2  data  event1  event2\n0    Ohio  2000   0.0       4       5\n0    Ohio  2000   0.0       6       7\n1    Ohio  2001   1.0       8       9\n2    Ohio  2002   2.0      10      11\n3  Nevada  2001   3.0       0       1",
      "text/html": "<div>\n<style scoped>\n    .dataframe tbody tr th:only-of-type {\n        vertical-align: middle;\n    }\n\n    .dataframe tbody tr th {\n        vertical-align: top;\n    }\n\n    .dataframe thead th {\n        text-align: right;\n    }\n</style>\n<table border=\"1\" class=\"dataframe\">\n  <thead>\n    <tr style=\"text-align: right;\">\n      <th></th>\n      <th>key1</th>\n      <th>key2</th>\n      <th>data</th>\n      <th>event1</th>\n      <th>event2</th>\n    </tr>\n  </thead>\n  <tbody>\n    <tr>\n      <th>0</th>\n      <td>Ohio</td>\n      <td>2000</td>\n      <td>0.0</td>\n      <td>4</td>\n      <td>5</td>\n    </tr>\n    <tr>\n      <th>0</th>\n      <td>Ohio</td>\n      <td>2000</td>\n      <td>0.0</td>\n      <td>6</td>\n      <td>7</td>\n    </tr>\n    <tr>\n      <th>1</th>\n      <td>Ohio</td>\n      <td>2001</td>\n      <td>1.0</td>\n      <td>8</td>\n      <td>9</td>\n    </tr>\n    <tr>\n      <th>2</th>\n      <td>Ohio</td>\n      <td>2002</td>\n      <td>2.0</td>\n      <td>10</td>\n      <td>11</td>\n    </tr>\n    <tr>\n      <th>3</th>\n      <td>Nevada</td>\n      <td>2001</td>\n      <td>3.0</td>\n      <td>0</td>\n      <td>1</td>\n    </tr>\n  </tbody>\n</table>\n</div>"
     },
     "execution_count": 40,
     "metadata": {},
     "output_type": "execute_result"
    }
   ]
  },
  {
   "cell_type": "markdown",
   "source": [
    "with the `outer` join all data will be merged\n",
    "```python\n",
    "pd.merge(lefth, righth, left_on=['key1', 'key2'],\n",
    "         right_index=True, how='outer')\n",
    "```"
   ],
   "metadata": {
    "collapsed": false
   }
  },
  {
   "cell_type": "code",
   "metadata": {
    "id": "G8ISj787nNDl",
    "colab": {
     "base_uri": "https://localhost:8080/"
    },
    "outputId": "1997e351-b7f7-451a-c7cc-fa26a376956a",
    "ExecuteTime": {
     "end_time": "2023-11-01T07:47:16.527376600Z",
     "start_time": "2023-11-01T07:47:16.495785400Z"
    }
   },
   "source": [
    "pd.merge(lefth, righth, left_on=['key1', 'key2'],\n",
    "         right_index=True, how='outer')"
   ],
   "execution_count": 41,
   "outputs": [
    {
     "data": {
      "text/plain": "     key1  key2  data  event1  event2\n0    Ohio  2000   0.0     4.0     5.0\n0    Ohio  2000   0.0     6.0     7.0\n1    Ohio  2001   1.0     8.0     9.0\n2    Ohio  2002   2.0    10.0    11.0\n3  Nevada  2001   3.0     0.0     1.0\n4  Nevada  2002   4.0     NaN     NaN\n4  Nevada  2000   NaN     2.0     3.0",
      "text/html": "<div>\n<style scoped>\n    .dataframe tbody tr th:only-of-type {\n        vertical-align: middle;\n    }\n\n    .dataframe tbody tr th {\n        vertical-align: top;\n    }\n\n    .dataframe thead th {\n        text-align: right;\n    }\n</style>\n<table border=\"1\" class=\"dataframe\">\n  <thead>\n    <tr style=\"text-align: right;\">\n      <th></th>\n      <th>key1</th>\n      <th>key2</th>\n      <th>data</th>\n      <th>event1</th>\n      <th>event2</th>\n    </tr>\n  </thead>\n  <tbody>\n    <tr>\n      <th>0</th>\n      <td>Ohio</td>\n      <td>2000</td>\n      <td>0.0</td>\n      <td>4.0</td>\n      <td>5.0</td>\n    </tr>\n    <tr>\n      <th>0</th>\n      <td>Ohio</td>\n      <td>2000</td>\n      <td>0.0</td>\n      <td>6.0</td>\n      <td>7.0</td>\n    </tr>\n    <tr>\n      <th>1</th>\n      <td>Ohio</td>\n      <td>2001</td>\n      <td>1.0</td>\n      <td>8.0</td>\n      <td>9.0</td>\n    </tr>\n    <tr>\n      <th>2</th>\n      <td>Ohio</td>\n      <td>2002</td>\n      <td>2.0</td>\n      <td>10.0</td>\n      <td>11.0</td>\n    </tr>\n    <tr>\n      <th>3</th>\n      <td>Nevada</td>\n      <td>2001</td>\n      <td>3.0</td>\n      <td>0.0</td>\n      <td>1.0</td>\n    </tr>\n    <tr>\n      <th>4</th>\n      <td>Nevada</td>\n      <td>2002</td>\n      <td>4.0</td>\n      <td>NaN</td>\n      <td>NaN</td>\n    </tr>\n    <tr>\n      <th>4</th>\n      <td>Nevada</td>\n      <td>2000</td>\n      <td>NaN</td>\n      <td>2.0</td>\n      <td>3.0</td>\n    </tr>\n  </tbody>\n</table>\n</div>"
     },
     "execution_count": 41,
     "metadata": {},
     "output_type": "execute_result"
    }
   ]
  },
  {
   "cell_type": "markdown",
   "source": [
    "### Work\n",
    "now setting the index to the Dataframe which we have done so far.\n",
    "then add the rest of the score so that we can handle the overall score with in Dataframe"
   ],
   "metadata": {
    "collapsed": false
   }
  },
  {
   "cell_type": "code",
   "execution_count": 42,
   "outputs": [
    {
     "data": {
      "text/plain": "                  Final\nรหัสนักศึกษา           \n582115509.0    8.541667\n592115508.0   10.833333\n592115521.0   14.166667\n602115001.0   14.791667\n602115002.0   13.125000\n...                 ...\nNaN                 NaN\nNaN           20.000000\nNaN            0.000000\nNaN           11.636905\nNaN            4.268110\n\n[40 rows x 1 columns]",
      "text/html": "<div>\n<style scoped>\n    .dataframe tbody tr th:only-of-type {\n        vertical-align: middle;\n    }\n\n    .dataframe tbody tr th {\n        vertical-align: top;\n    }\n\n    .dataframe thead th {\n        text-align: right;\n    }\n</style>\n<table border=\"1\" class=\"dataframe\">\n  <thead>\n    <tr style=\"text-align: right;\">\n      <th></th>\n      <th>Final</th>\n    </tr>\n    <tr>\n      <th>รหัสนักศึกษา</th>\n      <th></th>\n    </tr>\n  </thead>\n  <tbody>\n    <tr>\n      <th>582115509.0</th>\n      <td>8.541667</td>\n    </tr>\n    <tr>\n      <th>592115508.0</th>\n      <td>10.833333</td>\n    </tr>\n    <tr>\n      <th>592115521.0</th>\n      <td>14.166667</td>\n    </tr>\n    <tr>\n      <th>602115001.0</th>\n      <td>14.791667</td>\n    </tr>\n    <tr>\n      <th>602115002.0</th>\n      <td>13.125000</td>\n    </tr>\n    <tr>\n      <th>...</th>\n      <td>...</td>\n    </tr>\n    <tr>\n      <th>NaN</th>\n      <td>NaN</td>\n    </tr>\n    <tr>\n      <th>NaN</th>\n      <td>20.000000</td>\n    </tr>\n    <tr>\n      <th>NaN</th>\n      <td>0.000000</td>\n    </tr>\n    <tr>\n      <th>NaN</th>\n      <td>11.636905</td>\n    </tr>\n    <tr>\n      <th>NaN</th>\n      <td>4.268110</td>\n    </tr>\n  </tbody>\n</table>\n<p>40 rows × 1 columns</p>\n</div>"
     },
     "execution_count": 42,
     "metadata": {},
     "output_type": "execute_result"
    }
   ],
   "source": [
    "final_score = pd.read_excel('files/studentlist.xlsx', engine='openpyxl', sheet_name='Final', header=6, index_col='รหัสนักศึกษา')\n",
    "final_score_new = final_score[['Total  (25)']].rename(columns={'Total  (25)': 'Final'})\n",
    "final_score_new"
   ],
   "metadata": {
    "collapsed": false,
    "ExecuteTime": {
     "end_time": "2023-11-01T07:47:43.437522400Z",
     "start_time": "2023-11-01T07:47:43.402958300Z"
    }
   }
  },
  {
   "cell_type": "code",
   "execution_count": 43,
   "outputs": [
    {
     "data": {
      "text/plain": "    รหัสนักศึกษา  Total (5)  Total  (25)\n0      582115509        3.0     8.541667\n1      592115508        2.5    10.833333\n2      592115521        3.2    14.166667\n4      602115002        3.9    13.125000\n5      602115003        0.7    12.291667\n..           ...        ...          ...\n28     602115519        3.4    10.000000\n29     602115520        2.9    11.041667\n30     602115522        4.0    17.291667\n31     602115524        2.4     8.958333\n32     602115526        3.1     6.250000\n\n[29 rows x 3 columns]",
      "text/html": "<div>\n<style scoped>\n    .dataframe tbody tr th:only-of-type {\n        vertical-align: middle;\n    }\n\n    .dataframe tbody tr th {\n        vertical-align: top;\n    }\n\n    .dataframe thead th {\n        text-align: right;\n    }\n</style>\n<table border=\"1\" class=\"dataframe\">\n  <thead>\n    <tr style=\"text-align: right;\">\n      <th></th>\n      <th>รหัสนักศึกษา</th>\n      <th>Total (5)</th>\n      <th>Total  (25)</th>\n    </tr>\n  </thead>\n  <tbody>\n    <tr>\n      <th>0</th>\n      <td>582115509</td>\n      <td>3.0</td>\n      <td>8.541667</td>\n    </tr>\n    <tr>\n      <th>1</th>\n      <td>592115508</td>\n      <td>2.5</td>\n      <td>10.833333</td>\n    </tr>\n    <tr>\n      <th>2</th>\n      <td>592115521</td>\n      <td>3.2</td>\n      <td>14.166667</td>\n    </tr>\n    <tr>\n      <th>4</th>\n      <td>602115002</td>\n      <td>3.9</td>\n      <td>13.125000</td>\n    </tr>\n    <tr>\n      <th>5</th>\n      <td>602115003</td>\n      <td>0.7</td>\n      <td>12.291667</td>\n    </tr>\n    <tr>\n      <th>...</th>\n      <td>...</td>\n      <td>...</td>\n      <td>...</td>\n    </tr>\n    <tr>\n      <th>28</th>\n      <td>602115519</td>\n      <td>3.4</td>\n      <td>10.000000</td>\n    </tr>\n    <tr>\n      <th>29</th>\n      <td>602115520</td>\n      <td>2.9</td>\n      <td>11.041667</td>\n    </tr>\n    <tr>\n      <th>30</th>\n      <td>602115522</td>\n      <td>4.0</td>\n      <td>17.291667</td>\n    </tr>\n    <tr>\n      <th>31</th>\n      <td>602115524</td>\n      <td>2.4</td>\n      <td>8.958333</td>\n    </tr>\n    <tr>\n      <th>32</th>\n      <td>602115526</td>\n      <td>3.1</td>\n      <td>6.250000</td>\n    </tr>\n  </tbody>\n</table>\n<p>29 rows × 3 columns</p>\n</div>"
     },
     "execution_count": 43,
     "metadata": {},
     "output_type": "execute_result"
    }
   ],
   "source": [
    "total"
   ],
   "metadata": {
    "collapsed": false,
    "ExecuteTime": {
     "end_time": "2023-11-01T07:47:45.492347900Z",
     "start_time": "2023-11-01T07:47:45.476301700Z"
    }
   }
  },
  {
   "cell_type": "code",
   "execution_count": null,
   "outputs": [],
   "source": [
    "total.rename(columns={'รหัสนักศึกษา':'StudentID'},inplace=True)\n",
    "total"
   ],
   "metadata": {
    "collapsed": false
   }
  },
  {
   "cell_type": "markdown",
   "source": [
    "Now find the name of the students whose name is in the top 10 of the total score."
   ],
   "metadata": {
    "collapsed": false
   }
  },
  {
   "cell_type": "markdown",
   "metadata": {
    "id": "9lTI4Xn7iUhM"
   },
   "source": [
    "## Concatenating Along an Axis"
   ]
  },
  {
   "cell_type": "markdown",
   "metadata": {
    "id": "vyJkDr4qiUZM"
   },
   "source": [
    "Concatenating data is to concat data to the same data.\n",
    "\n",
    "An Axis mean concat the column data\n",
    "\n",
    "In NumPy concatenate data concate it in each columns as shown in example"
   ]
  },
  {
   "cell_type": "markdown",
   "source": [
    "```python\n",
    "arr = np.arange(12).reshape((3, 4))\n",
    "arr\n",
    "```"
   ],
   "metadata": {
    "collapsed": false
   }
  },
  {
   "cell_type": "code",
   "metadata": {
    "id": "mqZRaRDZnmrr",
    "colab": {
     "base_uri": "https://localhost:8080/"
    },
    "outputId": "06090c17-80d5-4a8d-db0c-310884c9e933",
    "ExecuteTime": {
     "end_time": "2023-11-01T07:51:16.969593300Z",
     "start_time": "2023-11-01T07:51:16.953655400Z"
    }
   },
   "source": [
    "arr = np.arange(12).reshape((3, 4))\n",
    "arr"
   ],
   "execution_count": 57,
   "outputs": [
    {
     "data": {
      "text/plain": "array([[ 0,  1,  2,  3],\n       [ 4,  5,  6,  7],\n       [ 8,  9, 10, 11]])"
     },
     "execution_count": 57,
     "metadata": {},
     "output_type": "execute_result"
    }
   ]
  },
  {
   "cell_type": "markdown",
   "source": [
    "We can concat the arrays by using the `np.concatenate` function\n",
    "```python\n",
    "np.concatenate([arr, arr])\n",
    "```"
   ],
   "metadata": {
    "collapsed": false
   }
  },
  {
   "cell_type": "code",
   "source": [
    "np.concatenate([arr, arr])"
   ],
   "metadata": {
    "colab": {
     "base_uri": "https://localhost:8080/"
    },
    "id": "mc3du1F4CWqX",
    "outputId": "123651f4-8c4c-4fe9-d155-166c83944c10",
    "ExecuteTime": {
     "end_time": "2023-11-01T07:51:22.349431500Z",
     "start_time": "2023-11-01T07:51:22.329789700Z"
    }
   },
   "execution_count": 58,
   "outputs": [
    {
     "data": {
      "text/plain": "array([[ 0,  1,  2,  3],\n       [ 4,  5,  6,  7],\n       [ 8,  9, 10, 11],\n       [ 0,  1,  2,  3],\n       [ 4,  5,  6,  7],\n       [ 8,  9, 10, 11]])"
     },
     "execution_count": 58,
     "metadata": {},
     "output_type": "execute_result"
    }
   ]
  },
  {
   "cell_type": "markdown",
   "source": [
    "we can concatenate the array in the different axis by passing the axis argument\n",
    "```python\n",
    "np.concatenate([arr, arr], axis=1)\n",
    "```"
   ],
   "metadata": {
    "collapsed": false
   }
  },
  {
   "cell_type": "code",
   "metadata": {
    "id": "i2zh_dyinp8b",
    "colab": {
     "base_uri": "https://localhost:8080/"
    },
    "outputId": "f8adcdbe-7c9f-4340-b211-58a28ad8b13f",
    "ExecuteTime": {
     "end_time": "2023-11-01T07:51:27.851132100Z",
     "start_time": "2023-11-01T07:51:27.835284800Z"
    }
   },
   "source": [
    "np.concatenate([arr, arr], axis=1)"
   ],
   "execution_count": 59,
   "outputs": [
    {
     "data": {
      "text/plain": "array([[ 0,  1,  2,  3,  0,  1,  2,  3],\n       [ 4,  5,  6,  7,  4,  5,  6,  7],\n       [ 8,  9, 10, 11,  8,  9, 10, 11]])"
     },
     "execution_count": 59,
     "metadata": {},
     "output_type": "execute_result"
    }
   ]
  },
  {
   "cell_type": "markdown",
   "metadata": {
    "id": "PjPdmt5JnvtK"
   },
   "source": [
    "In Pandas, there are many concerns before concatination\n",
    "\n",
    "* If the objects are indexed differently on the other axes, should we combine the distinct elements in these axes or use only the shared values (the intersection)?\n",
    "* Do the concatenated chunks of data need to be identifiable in the resulting object?\n",
    "* Does the “concatenation axis” contain data that needs to be preserved? In many cases, the default integer labels in a DataFrame are best discarded during concatenation.\n",
    "\n",
    "try creating a series\n",
    "\n",
    "```python\n",
    "s1 = pd.Series([0, 1], index=['a', 'b'])\n",
    "s2 = pd.Series([2, 3, 4], index=['c', 'd', 'e'])\n",
    "s3 = pd.Series([5, 6], index=['f', 'g'])\n",
    "```"
   ]
  },
  {
   "cell_type": "code",
   "metadata": {
    "id": "QyBbDF95pFH8",
    "ExecuteTime": {
     "end_time": "2023-11-01T07:51:33.414352200Z",
     "start_time": "2023-11-01T07:51:33.398995200Z"
    }
   },
   "source": [
    "s1 = pd.Series([0, 1], index=['a', 'b'])\n",
    "s2 = pd.Series([2, 3, 4], index=['c', 'd', 'e'])\n",
    "s3 = pd.Series([5, 6], index=['f', 'g'])"
   ],
   "execution_count": 60,
   "outputs": []
  },
  {
   "cell_type": "markdown",
   "metadata": {
    "id": "kw3hSYDJpVgc"
   },
   "source": [
    "Then try the simple concat\n",
    "```python\n",
    "pd.concat([s1, s2, s3])\n",
    "```"
   ]
  },
  {
   "cell_type": "code",
   "metadata": {
    "id": "egf7lxhNpasP",
    "colab": {
     "base_uri": "https://localhost:8080/"
    },
    "outputId": "3bcaba1e-2613-4e13-f669-524a5ebaa217",
    "ExecuteTime": {
     "end_time": "2023-11-01T07:51:38.309031200Z",
     "start_time": "2023-11-01T07:51:38.304468700Z"
    }
   },
   "source": [
    "pd.concat([s1, s2, s3])"
   ],
   "execution_count": 61,
   "outputs": [
    {
     "data": {
      "text/plain": "a    0\nb    1\nc    2\nd    3\ne    4\nf    5\ng    6\ndtype: int64"
     },
     "execution_count": 61,
     "metadata": {},
     "output_type": "execute_result"
    }
   ]
  },
  {
   "cell_type": "markdown",
   "metadata": {
    "id": "eTxpoDjppfTU"
   },
   "source": [
    "and then concat on Axis\n",
    "```python\n",
    "pd.concat([s1, s2, s3], axis=1)\n",
    "```"
   ]
  },
  {
   "cell_type": "code",
   "metadata": {
    "id": "wpBF8InEphR4",
    "colab": {
     "base_uri": "https://localhost:8080/",
     "height": 269
    },
    "outputId": "b3aed102-600e-4f68-c687-72cc089b8095",
    "ExecuteTime": {
     "end_time": "2023-11-01T07:51:46.960928800Z",
     "start_time": "2023-11-01T07:51:46.926730Z"
    }
   },
   "source": [
    "pd.concat([s1, s2, s3], axis=1)"
   ],
   "execution_count": 62,
   "outputs": [
    {
     "data": {
      "text/plain": "     0    1    2\na  0.0  NaN  NaN\nb  1.0  NaN  NaN\nc  NaN  2.0  NaN\nd  NaN  3.0  NaN\ne  NaN  4.0  NaN\nf  NaN  NaN  5.0\ng  NaN  NaN  6.0",
      "text/html": "<div>\n<style scoped>\n    .dataframe tbody tr th:only-of-type {\n        vertical-align: middle;\n    }\n\n    .dataframe tbody tr th {\n        vertical-align: top;\n    }\n\n    .dataframe thead th {\n        text-align: right;\n    }\n</style>\n<table border=\"1\" class=\"dataframe\">\n  <thead>\n    <tr style=\"text-align: right;\">\n      <th></th>\n      <th>0</th>\n      <th>1</th>\n      <th>2</th>\n    </tr>\n  </thead>\n  <tbody>\n    <tr>\n      <th>a</th>\n      <td>0.0</td>\n      <td>NaN</td>\n      <td>NaN</td>\n    </tr>\n    <tr>\n      <th>b</th>\n      <td>1.0</td>\n      <td>NaN</td>\n      <td>NaN</td>\n    </tr>\n    <tr>\n      <th>c</th>\n      <td>NaN</td>\n      <td>2.0</td>\n      <td>NaN</td>\n    </tr>\n    <tr>\n      <th>d</th>\n      <td>NaN</td>\n      <td>3.0</td>\n      <td>NaN</td>\n    </tr>\n    <tr>\n      <th>e</th>\n      <td>NaN</td>\n      <td>4.0</td>\n      <td>NaN</td>\n    </tr>\n    <tr>\n      <th>f</th>\n      <td>NaN</td>\n      <td>NaN</td>\n      <td>5.0</td>\n    </tr>\n    <tr>\n      <th>g</th>\n      <td>NaN</td>\n      <td>NaN</td>\n      <td>6.0</td>\n    </tr>\n  </tbody>\n</table>\n</div>"
     },
     "execution_count": 62,
     "metadata": {},
     "output_type": "execute_result"
    }
   ]
  },
  {
   "cell_type": "markdown",
   "metadata": {
    "id": "Fj4otSESt80z"
   },
   "source": [
    "You may name each of the columns by the key column\n",
    "```python\n",
    "pd.concat([s1, s2, s3], axis=1, keys=['one', 'two', 'three'])\n",
    "```"
   ]
  },
  {
   "cell_type": "code",
   "metadata": {
    "id": "Y08laeWMspmB",
    "colab": {
     "base_uri": "https://localhost:8080/"
    },
    "outputId": "ffc246b7-69e9-4b70-dedc-4084aa5fa799",
    "ExecuteTime": {
     "end_time": "2023-11-01T07:51:53.184544900Z",
     "start_time": "2023-11-01T07:51:53.105388200Z"
    }
   },
   "source": [
    "pd.concat([s1, s2, s3], axis=1, keys=['one', 'two', 'three'])"
   ],
   "execution_count": 63,
   "outputs": [
    {
     "data": {
      "text/plain": "   one  two  three\na  0.0  NaN    NaN\nb  1.0  NaN    NaN\nc  NaN  2.0    NaN\nd  NaN  3.0    NaN\ne  NaN  4.0    NaN\nf  NaN  NaN    5.0\ng  NaN  NaN    6.0",
      "text/html": "<div>\n<style scoped>\n    .dataframe tbody tr th:only-of-type {\n        vertical-align: middle;\n    }\n\n    .dataframe tbody tr th {\n        vertical-align: top;\n    }\n\n    .dataframe thead th {\n        text-align: right;\n    }\n</style>\n<table border=\"1\" class=\"dataframe\">\n  <thead>\n    <tr style=\"text-align: right;\">\n      <th></th>\n      <th>one</th>\n      <th>two</th>\n      <th>three</th>\n    </tr>\n  </thead>\n  <tbody>\n    <tr>\n      <th>a</th>\n      <td>0.0</td>\n      <td>NaN</td>\n      <td>NaN</td>\n    </tr>\n    <tr>\n      <th>b</th>\n      <td>1.0</td>\n      <td>NaN</td>\n      <td>NaN</td>\n    </tr>\n    <tr>\n      <th>c</th>\n      <td>NaN</td>\n      <td>2.0</td>\n      <td>NaN</td>\n    </tr>\n    <tr>\n      <th>d</th>\n      <td>NaN</td>\n      <td>3.0</td>\n      <td>NaN</td>\n    </tr>\n    <tr>\n      <th>e</th>\n      <td>NaN</td>\n      <td>4.0</td>\n      <td>NaN</td>\n    </tr>\n    <tr>\n      <th>f</th>\n      <td>NaN</td>\n      <td>NaN</td>\n      <td>5.0</td>\n    </tr>\n    <tr>\n      <th>g</th>\n      <td>NaN</td>\n      <td>NaN</td>\n      <td>6.0</td>\n    </tr>\n  </tbody>\n</table>\n</div>"
     },
     "execution_count": 63,
     "metadata": {},
     "output_type": "execute_result"
    }
   ]
  },
  {
   "cell_type": "markdown",
   "metadata": {
    "id": "BKtVPKUWpvYu"
   },
   "source": [
    "You may notice that each series are concat as a new column.\n",
    "\n",
    "This we can say as the union case as the data that combined all data (and NaN has been added to complete the data series)\n",
    "\n",
    "To intersect them, you may passing `join='inner'`\n",
    "\n",
    "see the following example\n",
    "```python\n",
    "s4 = pd.concat([s1, s3])\n",
    "s4\n",
    "```"
   ]
  },
  {
   "cell_type": "code",
   "metadata": {
    "id": "agAdR2t6qP-7",
    "colab": {
     "base_uri": "https://localhost:8080/"
    },
    "outputId": "e4bd657f-faa0-4c69-8231-e802e6631afc",
    "ExecuteTime": {
     "end_time": "2023-11-01T07:51:58.597481800Z",
     "start_time": "2023-11-01T07:51:58.565698Z"
    }
   },
   "source": [
    "s4 = pd.concat([s1, s3])\n",
    "s4"
   ],
   "execution_count": 64,
   "outputs": [
    {
     "data": {
      "text/plain": "a    0\nb    1\nf    5\ng    6\ndtype: int64"
     },
     "execution_count": 64,
     "metadata": {},
     "output_type": "execute_result"
    }
   ]
  },
  {
   "cell_type": "markdown",
   "source": [
    "if we concat in the different axis\n",
    "```python\n",
    "pd.concat([s1, s4], axis=1)\n",
    "```"
   ],
   "metadata": {
    "collapsed": false
   }
  },
  {
   "cell_type": "code",
   "metadata": {
    "id": "chIzPhGxqTmr",
    "colab": {
     "base_uri": "https://localhost:8080/"
    },
    "outputId": "4df5372e-25c6-4e5e-d42f-390cb2dd1a97",
    "ExecuteTime": {
     "end_time": "2023-11-01T07:52:07.437738700Z",
     "start_time": "2023-11-01T07:52:07.391585400Z"
    }
   },
   "source": [
    "pd.concat([s1, s4], axis=1)"
   ],
   "execution_count": 65,
   "outputs": [
    {
     "data": {
      "text/plain": "     0  1\na  0.0  0\nb  1.0  1\nf  NaN  5\ng  NaN  6",
      "text/html": "<div>\n<style scoped>\n    .dataframe tbody tr th:only-of-type {\n        vertical-align: middle;\n    }\n\n    .dataframe tbody tr th {\n        vertical-align: top;\n    }\n\n    .dataframe thead th {\n        text-align: right;\n    }\n</style>\n<table border=\"1\" class=\"dataframe\">\n  <thead>\n    <tr style=\"text-align: right;\">\n      <th></th>\n      <th>0</th>\n      <th>1</th>\n    </tr>\n  </thead>\n  <tbody>\n    <tr>\n      <th>a</th>\n      <td>0.0</td>\n      <td>0</td>\n    </tr>\n    <tr>\n      <th>b</th>\n      <td>1.0</td>\n      <td>1</td>\n    </tr>\n    <tr>\n      <th>f</th>\n      <td>NaN</td>\n      <td>5</td>\n    </tr>\n    <tr>\n      <th>g</th>\n      <td>NaN</td>\n      <td>6</td>\n    </tr>\n  </tbody>\n</table>\n</div>"
     },
     "execution_count": 65,
     "metadata": {},
     "output_type": "execute_result"
    }
   ]
  },
  {
   "cell_type": "code",
   "metadata": {
    "id": "tUnc5X8AqYYk",
    "colab": {
     "base_uri": "https://localhost:8080/"
    },
    "outputId": "ea324f38-3caf-45dc-e69b-5411befcf5de",
    "ExecuteTime": {
     "end_time": "2023-11-01T07:52:15.415352100Z",
     "start_time": "2023-11-01T07:52:15.399637700Z"
    }
   },
   "source": [
    "pd.concat([s1, s4], axis=1, join='inner')"
   ],
   "execution_count": 66,
   "outputs": [
    {
     "data": {
      "text/plain": "   0  1\na  0  0\nb  1  1",
      "text/html": "<div>\n<style scoped>\n    .dataframe tbody tr th:only-of-type {\n        vertical-align: middle;\n    }\n\n    .dataframe tbody tr th {\n        vertical-align: top;\n    }\n\n    .dataframe thead th {\n        text-align: right;\n    }\n</style>\n<table border=\"1\" class=\"dataframe\">\n  <thead>\n    <tr style=\"text-align: right;\">\n      <th></th>\n      <th>0</th>\n      <th>1</th>\n    </tr>\n  </thead>\n  <tbody>\n    <tr>\n      <th>a</th>\n      <td>0</td>\n      <td>0</td>\n    </tr>\n    <tr>\n      <th>b</th>\n      <td>1</td>\n      <td>1</td>\n    </tr>\n  </tbody>\n</table>\n</div>"
     },
     "execution_count": 66,
     "metadata": {},
     "output_type": "execute_result"
    }
   ]
  },
  {
   "cell_type": "markdown",
   "metadata": {
    "id": "yHvs8dUoq0RA"
   },
   "source": [
    "we can provide the hierarchical index of the search as given\n",
    "```python\n",
    "result = pd.concat([s1, s1, s3], keys=['one', 'two', 'three'])\n",
    "result\n",
    "```\n",
    "\n",
    "\n"
   ]
  },
  {
   "cell_type": "code",
   "metadata": {
    "id": "MNwjZAORsdY7",
    "colab": {
     "base_uri": "https://localhost:8080/"
    },
    "outputId": "02f12e68-d98c-4667-c160-971cb6bafaba",
    "ExecuteTime": {
     "end_time": "2023-11-01T07:52:23.992504Z",
     "start_time": "2023-11-01T07:52:23.976375700Z"
    }
   },
   "source": [
    "result = pd.concat([s1, s1, s3], keys=['one', 'two', 'three'])\n",
    "result"
   ],
   "execution_count": 67,
   "outputs": [
    {
     "data": {
      "text/plain": "one    a    0\n       b    1\ntwo    a    0\n       b    1\nthree  f    5\n       g    6\ndtype: int64"
     },
     "execution_count": 67,
     "metadata": {},
     "output_type": "execute_result"
    }
   ]
  },
  {
   "cell_type": "markdown",
   "metadata": {
    "id": "c6jNgkTY_nSa"
   },
   "source": [
    "we also use the unstack() to show all data\n",
    "```python\n",
    "result.unstack()\n",
    "```"
   ]
  },
  {
   "cell_type": "code",
   "metadata": {
    "id": "w7gnPxMGuNux",
    "colab": {
     "base_uri": "https://localhost:8080/"
    },
    "outputId": "c5f04b83-6f16-48d4-fe6c-85f3bfd6cbf8",
    "ExecuteTime": {
     "end_time": "2023-11-01T07:52:29.626023400Z",
     "start_time": "2023-11-01T07:52:29.609909400Z"
    }
   },
   "source": [
    "result.unstack()"
   ],
   "execution_count": 68,
   "outputs": [
    {
     "data": {
      "text/plain": "         a    b    f    g\none    0.0  1.0  NaN  NaN\ntwo    0.0  1.0  NaN  NaN\nthree  NaN  NaN  5.0  6.0",
      "text/html": "<div>\n<style scoped>\n    .dataframe tbody tr th:only-of-type {\n        vertical-align: middle;\n    }\n\n    .dataframe tbody tr th {\n        vertical-align: top;\n    }\n\n    .dataframe thead th {\n        text-align: right;\n    }\n</style>\n<table border=\"1\" class=\"dataframe\">\n  <thead>\n    <tr style=\"text-align: right;\">\n      <th></th>\n      <th>a</th>\n      <th>b</th>\n      <th>f</th>\n      <th>g</th>\n    </tr>\n  </thead>\n  <tbody>\n    <tr>\n      <th>one</th>\n      <td>0.0</td>\n      <td>1.0</td>\n      <td>NaN</td>\n      <td>NaN</td>\n    </tr>\n    <tr>\n      <th>two</th>\n      <td>0.0</td>\n      <td>1.0</td>\n      <td>NaN</td>\n      <td>NaN</td>\n    </tr>\n    <tr>\n      <th>three</th>\n      <td>NaN</td>\n      <td>NaN</td>\n      <td>5.0</td>\n      <td>6.0</td>\n    </tr>\n  </tbody>\n</table>\n</div>"
     },
     "execution_count": 68,
     "metadata": {},
     "output_type": "execute_result"
    }
   ]
  },
  {
   "cell_type": "markdown",
   "source": [
    "### Work\n",
    "It's happen that there are other sections score in the class. The files/studentlist2.xlsx provide the score for the second section. merge the data from two file to only one dataframe to find out the descriptive statistic of all the students."
   ],
   "metadata": {
    "collapsed": false
   }
  },
  {
   "cell_type": "code",
   "execution_count": 69,
   "outputs": [],
   "source": [
    "dat = pd.read_excel('files/studentlist.xlsx',header=6)\n",
    "\n",
    "sd2 = pd.read_excel('files/studentlist2.xlsx',header=6)"
   ],
   "metadata": {
    "collapsed": false,
    "ExecuteTime": {
     "end_time": "2023-11-01T07:53:09.090787500Z",
     "start_time": "2023-11-01T07:53:08.871318700Z"
    }
   }
  },
  {
   "cell_type": "code",
   "execution_count": 70,
   "outputs": [
    {
     "data": {
      "text/plain": "(   รหัสนักศึกษา  Total (5)\n 0     582115509        2.5\n 1     592115508        2.5\n 2     592115521        2.5\n 3     602115001        0.0\n 4     602115002        4.0,\n    รหัสนักศึกษา  Total (5)\n 0     612115509          2\n 1     612115508          2)"
     },
     "execution_count": 70,
     "metadata": {},
     "output_type": "execute_result"
    }
   ],
   "source": [
    "sd1 = pd.read_excel('files/studentlist.xlsx', skiprows=6, usecols=[\"รหัสนักศึกษา\", \"Total (5)\"])\n",
    "sd2 = pd.read_excel('files/studentlist2.xlsx', skiprows=6, usecols=[\"รหัสนักศึกษา\", \"Total (5)\"])\n",
    "\n",
    "sd1.head(), sd2.head()"
   ],
   "metadata": {
    "collapsed": false,
    "ExecuteTime": {
     "end_time": "2023-11-01T07:53:22.991996300Z",
     "start_time": "2023-11-01T07:53:22.914687300Z"
    }
   }
  },
  {
   "cell_type": "code",
   "execution_count": 71,
   "outputs": [
    {
     "data": {
      "text/plain": "   รหัสนักศึกษา  Total (5)\n0     582115509        2.5\n1     592115508        2.5\n2     592115521        2.5\n3     602115001        0.0\n4     602115002        4.0",
      "text/html": "<div>\n<style scoped>\n    .dataframe tbody tr th:only-of-type {\n        vertical-align: middle;\n    }\n\n    .dataframe tbody tr th {\n        vertical-align: top;\n    }\n\n    .dataframe thead th {\n        text-align: right;\n    }\n</style>\n<table border=\"1\" class=\"dataframe\">\n  <thead>\n    <tr style=\"text-align: right;\">\n      <th></th>\n      <th>รหัสนักศึกษา</th>\n      <th>Total (5)</th>\n    </tr>\n  </thead>\n  <tbody>\n    <tr>\n      <th>0</th>\n      <td>582115509</td>\n      <td>2.5</td>\n    </tr>\n    <tr>\n      <th>1</th>\n      <td>592115508</td>\n      <td>2.5</td>\n    </tr>\n    <tr>\n      <th>2</th>\n      <td>592115521</td>\n      <td>2.5</td>\n    </tr>\n    <tr>\n      <th>3</th>\n      <td>602115001</td>\n      <td>0.0</td>\n    </tr>\n    <tr>\n      <th>4</th>\n      <td>602115002</td>\n      <td>4.0</td>\n    </tr>\n  </tbody>\n</table>\n</div>"
     },
     "execution_count": 71,
     "metadata": {},
     "output_type": "execute_result"
    }
   ],
   "source": [
    "total_students = pd.concat([sd1, sd2], ignore_index=True)\n",
    "total_students.head()"
   ],
   "metadata": {
    "collapsed": false,
    "ExecuteTime": {
     "end_time": "2023-11-01T07:53:37.652742300Z",
     "start_time": "2023-11-01T07:53:37.632083300Z"
    }
   }
  },
  {
   "cell_type": "markdown",
   "source": [
    "The teacher is very funny, they will random the score for all the students, create a new dataframe which provide the random score from 1 to the maximum score we can get from all students.\n",
    "then merge the score to the student, and calculate the new score of all the student. then set the grade of the student by who get the grade less than 80 will get `F` otherwise will get `A`"
   ],
   "metadata": {
    "collapsed": false
   }
  },
  {
   "cell_type": "markdown",
   "metadata": {
    "id": "8lywjRMgwH6Z"
   },
   "source": [
    "## Combine Data with Overlap\n",
    "\n",
    "\n",
    "\n",
    "The data con be merse if there are overlap in full or part"
   ]
  },
  {
   "cell_type": "code",
   "metadata": {
    "id": "sqnLvuGzyXYU",
    "ExecuteTime": {
     "end_time": "2023-11-01T07:53:46.770859800Z",
     "start_time": "2023-11-01T07:53:46.739486500Z"
    }
   },
   "source": [
    "a = pd.Series([np.nan, 2.5, np.nan, 3.5, 4.5, np.nan],\n",
    "              index=['f', 'e', 'd', 'c', 'b', 'a'])\n",
    "b = pd.Series(np.arange(len(a), dtype=np.float64),\n",
    "              index=['f', 'e', 'd', 'c', 'b', 'a'])"
   ],
   "execution_count": 72,
   "outputs": []
  },
  {
   "cell_type": "markdown",
   "metadata": {
    "id": "HgkhYZ56GYgl"
   },
   "source": [
    "Combine the series using the if else expression.\n",
    "Let's try\n",
    "```python\n",
    "np.where(pd.isnull(a),b,a)\n",
    "```"
   ]
  },
  {
   "cell_type": "code",
   "metadata": {
    "id": "_i_t16PSHGq_",
    "colab": {
     "base_uri": "https://localhost:8080/"
    },
    "outputId": "57632d71-966b-4748-a1a6-6d87e4ecfb1d",
    "ExecuteTime": {
     "end_time": "2023-11-01T07:53:48.533163800Z",
     "start_time": "2023-11-01T07:53:48.516942700Z"
    }
   },
   "source": [
    "np.where(pd.isnull(a),b,a)"
   ],
   "execution_count": 73,
   "outputs": [
    {
     "data": {
      "text/plain": "array([0. , 2.5, 2. , 3.5, 4.5, 5. ])"
     },
     "execution_count": 73,
     "metadata": {},
     "output_type": "execute_result"
    }
   ]
  },
  {
   "cell_type": "markdown",
   "source": [
    "try vice versa\n",
    "```python\n",
    "np.where(pd.isnull(a),a,b)\n",
    "```"
   ],
   "metadata": {
    "collapsed": false
   }
  },
  {
   "cell_type": "code",
   "metadata": {
    "id": "E4W5VWAKHgJd",
    "colab": {
     "base_uri": "https://localhost:8080/"
    },
    "outputId": "f16c3999-9d02-4261-e736-d27041f6cde1",
    "ExecuteTime": {
     "end_time": "2023-11-01T07:53:53.367381900Z",
     "start_time": "2023-11-01T07:53:53.351310100Z"
    }
   },
   "source": [
    "np.where(pd.isnull(a),a,b)"
   ],
   "execution_count": 74,
   "outputs": [
    {
     "data": {
      "text/plain": "array([nan,  1., nan,  3.,  4., nan])"
     },
     "execution_count": 74,
     "metadata": {},
     "output_type": "execute_result"
    }
   ]
  },
  {
   "cell_type": "markdown",
   "metadata": {
    "id": "9TZigSfuIJqR"
   },
   "source": [
    "`combine_first` combine the data the series\n",
    "```python\n",
    "b[:-2].combine_first(a[2:])\n",
    "```"
   ]
  },
  {
   "cell_type": "code",
   "metadata": {
    "id": "-8gW1Iu9IU3J",
    "colab": {
     "base_uri": "https://localhost:8080/"
    },
    "outputId": "1acc74ef-952c-4921-d812-d1657d4fe8e4",
    "ExecuteTime": {
     "end_time": "2023-11-01T07:53:58.205293700Z",
     "start_time": "2023-11-01T07:53:58.157832Z"
    }
   },
   "source": [
    "b[:-2].combine_first(a[2:])"
   ],
   "execution_count": 75,
   "outputs": [
    {
     "data": {
      "text/plain": "a    NaN\nb    4.5\nc    3.0\nd    2.0\ne    1.0\nf    0.0\ndtype: float64"
     },
     "execution_count": 75,
     "metadata": {},
     "output_type": "execute_result"
    }
   ]
  },
  {
   "cell_type": "markdown",
   "metadata": {
    "id": "F9DXX3VpIdF-"
   },
   "source": [
    "`combine_first` for the Dataframe will do the same thing but with all column by column.\n",
    "\n",
    "It is similar to *patching* the data (replace the data in `NaN` position."
   ]
  },
  {
   "cell_type": "code",
   "metadata": {
    "id": "A6YBy8z2Jacj",
    "colab": {
     "base_uri": "https://localhost:8080/"
    },
    "outputId": "f6ffdc0d-89e4-4d58-d392-a0136661df8a",
    "ExecuteTime": {
     "end_time": "2023-11-01T07:54:08.127931900Z",
     "start_time": "2023-11-01T07:54:08.112028800Z"
    }
   },
   "source": [
    "df1 = pd.DataFrame({'a': [1., np.nan, 5., np.nan],\n",
    " 'b': [np.nan, 2., np.nan, 6.],\n",
    " 'c': range(2, 18, 4)})\n",
    "df2 = pd.DataFrame({'a': [5., 4., np.nan, 3., 7.],\n",
    " 'b': [np.nan, 3., 4., 6., 8.]})\n",
    "df1"
   ],
   "execution_count": 77,
   "outputs": [
    {
     "data": {
      "text/plain": "     a    b   c\n0  1.0  NaN   2\n1  NaN  2.0   6\n2  5.0  NaN  10\n3  NaN  6.0  14",
      "text/html": "<div>\n<style scoped>\n    .dataframe tbody tr th:only-of-type {\n        vertical-align: middle;\n    }\n\n    .dataframe tbody tr th {\n        vertical-align: top;\n    }\n\n    .dataframe thead th {\n        text-align: right;\n    }\n</style>\n<table border=\"1\" class=\"dataframe\">\n  <thead>\n    <tr style=\"text-align: right;\">\n      <th></th>\n      <th>a</th>\n      <th>b</th>\n      <th>c</th>\n    </tr>\n  </thead>\n  <tbody>\n    <tr>\n      <th>0</th>\n      <td>1.0</td>\n      <td>NaN</td>\n      <td>2</td>\n    </tr>\n    <tr>\n      <th>1</th>\n      <td>NaN</td>\n      <td>2.0</td>\n      <td>6</td>\n    </tr>\n    <tr>\n      <th>2</th>\n      <td>5.0</td>\n      <td>NaN</td>\n      <td>10</td>\n    </tr>\n    <tr>\n      <th>3</th>\n      <td>NaN</td>\n      <td>6.0</td>\n      <td>14</td>\n    </tr>\n  </tbody>\n</table>\n</div>"
     },
     "execution_count": 77,
     "metadata": {},
     "output_type": "execute_result"
    }
   ]
  },
  {
   "cell_type": "markdown",
   "source": [
    "try\n",
    "```python\n",
    "df1.combine_first(df2)\n",
    "```\n"
   ],
   "metadata": {
    "collapsed": false
   }
  },
  {
   "cell_type": "code",
   "metadata": {
    "id": "AGi6GYdQJl7W",
    "colab": {
     "base_uri": "https://localhost:8080/"
    },
    "outputId": "640de041-1781-465f-ec77-25e9d4d4bc53",
    "ExecuteTime": {
     "end_time": "2023-11-01T07:54:04.668697500Z",
     "start_time": "2023-11-01T07:54:04.621424700Z"
    }
   },
   "source": [
    "df1.combine_first(df2)"
   ],
   "execution_count": 76,
   "outputs": [
    {
     "data": {
      "text/plain": "   data1  data2 key\n0      0    0.0   b\n1      1    1.0   b\n2      2    2.0   a\n3      3    NaN   c\n4      4    NaN   a\n5      5    NaN   a\n6      6    NaN   b",
      "text/html": "<div>\n<style scoped>\n    .dataframe tbody tr th:only-of-type {\n        vertical-align: middle;\n    }\n\n    .dataframe tbody tr th {\n        vertical-align: top;\n    }\n\n    .dataframe thead th {\n        text-align: right;\n    }\n</style>\n<table border=\"1\" class=\"dataframe\">\n  <thead>\n    <tr style=\"text-align: right;\">\n      <th></th>\n      <th>data1</th>\n      <th>data2</th>\n      <th>key</th>\n    </tr>\n  </thead>\n  <tbody>\n    <tr>\n      <th>0</th>\n      <td>0</td>\n      <td>0.0</td>\n      <td>b</td>\n    </tr>\n    <tr>\n      <th>1</th>\n      <td>1</td>\n      <td>1.0</td>\n      <td>b</td>\n    </tr>\n    <tr>\n      <th>2</th>\n      <td>2</td>\n      <td>2.0</td>\n      <td>a</td>\n    </tr>\n    <tr>\n      <th>3</th>\n      <td>3</td>\n      <td>NaN</td>\n      <td>c</td>\n    </tr>\n    <tr>\n      <th>4</th>\n      <td>4</td>\n      <td>NaN</td>\n      <td>a</td>\n    </tr>\n    <tr>\n      <th>5</th>\n      <td>5</td>\n      <td>NaN</td>\n      <td>a</td>\n    </tr>\n    <tr>\n      <th>6</th>\n      <td>6</td>\n      <td>NaN</td>\n      <td>b</td>\n    </tr>\n  </tbody>\n</table>\n</div>"
     },
     "execution_count": 76,
     "metadata": {},
     "output_type": "execute_result"
    }
   ]
  },
  {
   "cell_type": "markdown",
   "source": [
    "```python\n",
    "df2.combine_first(df1)\n",
    "```"
   ],
   "metadata": {
    "collapsed": false
   }
  },
  {
   "cell_type": "code",
   "metadata": {
    "id": "4trKBYl9J02n",
    "colab": {
     "base_uri": "https://localhost:8080/"
    },
    "outputId": "909c09f5-276e-4ddd-f819-fa9ea00d3cfe",
    "ExecuteTime": {
     "end_time": "2023-11-01T07:54:31.084972700Z",
     "start_time": "2023-11-01T07:54:31.069091100Z"
    }
   },
   "source": [
    "df2.combine_first(df1)"
   ],
   "execution_count": 78,
   "outputs": [
    {
     "data": {
      "text/plain": "     a    b     c\n0  5.0  NaN   2.0\n1  4.0  3.0   6.0\n2  5.0  4.0  10.0\n3  3.0  6.0  14.0\n4  7.0  8.0   NaN",
      "text/html": "<div>\n<style scoped>\n    .dataframe tbody tr th:only-of-type {\n        vertical-align: middle;\n    }\n\n    .dataframe tbody tr th {\n        vertical-align: top;\n    }\n\n    .dataframe thead th {\n        text-align: right;\n    }\n</style>\n<table border=\"1\" class=\"dataframe\">\n  <thead>\n    <tr style=\"text-align: right;\">\n      <th></th>\n      <th>a</th>\n      <th>b</th>\n      <th>c</th>\n    </tr>\n  </thead>\n  <tbody>\n    <tr>\n      <th>0</th>\n      <td>5.0</td>\n      <td>NaN</td>\n      <td>2.0</td>\n    </tr>\n    <tr>\n      <th>1</th>\n      <td>4.0</td>\n      <td>3.0</td>\n      <td>6.0</td>\n    </tr>\n    <tr>\n      <th>2</th>\n      <td>5.0</td>\n      <td>4.0</td>\n      <td>10.0</td>\n    </tr>\n    <tr>\n      <th>3</th>\n      <td>3.0</td>\n      <td>6.0</td>\n      <td>14.0</td>\n    </tr>\n    <tr>\n      <th>4</th>\n      <td>7.0</td>\n      <td>8.0</td>\n      <td>NaN</td>\n    </tr>\n  </tbody>\n</table>\n</div>"
     },
     "execution_count": 78,
     "metadata": {},
     "output_type": "execute_result"
    }
   ]
  },
  {
   "cell_type": "markdown",
   "metadata": {
    "id": "AhwCZo8DNQiF"
   },
   "source": [
    "# Reshaping and Pivoting\n",
    "\n"
   ]
  },
  {
   "cell_type": "markdown",
   "metadata": {
    "id": "bAsdbNjDNWYb"
   },
   "source": [
    "## Reshaping with Hierachical Indexing\n",
    "\n",
    "Using the Hierarchical Indexing can reshape data in different way\n",
    "\n",
    "The operations we can use are\n",
    "\n",
    "\n",
    "\n",
    "*   `stack` rotate or pivots from the columns in the data to the rows\n",
    "*   `unstack` privots from the rows into the columns\n",
    "\n"
   ]
  },
  {
   "cell_type": "code",
   "metadata": {
    "id": "A1fijSOxN3fq",
    "colab": {
     "base_uri": "https://localhost:8080/",
     "height": 143
    },
    "outputId": "b787c55d-58e1-42dc-f046-515d848d3869",
    "ExecuteTime": {
     "end_time": "2023-11-01T07:54:35.477528700Z",
     "start_time": "2023-11-01T07:54:35.430059500Z"
    }
   },
   "source": [
    "data = pd.DataFrame(np.arange(6).reshape((2, 3)),\n",
    "    index=pd.Index(['Ohio', 'Colorado'], name='state'),\n",
    "    columns=pd.Index(['one', 'two', 'three'],\n",
    "    name='number'))\n",
    "data"
   ],
   "execution_count": 79,
   "outputs": [
    {
     "data": {
      "text/plain": "number    one  two  three\nstate                    \nOhio        0    1      2\nColorado    3    4      5",
      "text/html": "<div>\n<style scoped>\n    .dataframe tbody tr th:only-of-type {\n        vertical-align: middle;\n    }\n\n    .dataframe tbody tr th {\n        vertical-align: top;\n    }\n\n    .dataframe thead th {\n        text-align: right;\n    }\n</style>\n<table border=\"1\" class=\"dataframe\">\n  <thead>\n    <tr style=\"text-align: right;\">\n      <th>number</th>\n      <th>one</th>\n      <th>two</th>\n      <th>three</th>\n    </tr>\n    <tr>\n      <th>state</th>\n      <th></th>\n      <th></th>\n      <th></th>\n    </tr>\n  </thead>\n  <tbody>\n    <tr>\n      <th>Ohio</th>\n      <td>0</td>\n      <td>1</td>\n      <td>2</td>\n    </tr>\n    <tr>\n      <th>Colorado</th>\n      <td>3</td>\n      <td>4</td>\n      <td>5</td>\n    </tr>\n  </tbody>\n</table>\n</div>"
     },
     "execution_count": 79,
     "metadata": {},
     "output_type": "execute_result"
    }
   ]
  },
  {
   "cell_type": "markdown",
   "metadata": {
    "id": "TaOuD_e1OACV"
   },
   "source": [
    "Using the `stack` to pivot the columns into the rows, produce a serie from the data frame\n",
    "\n"
   ]
  },
  {
   "cell_type": "markdown",
   "source": [
    "```python\n",
    "result = data.stack()\n",
    "result\n",
    "```"
   ],
   "metadata": {
    "collapsed": false
   }
  },
  {
   "cell_type": "code",
   "metadata": {
    "id": "exf5HcUtOLD3",
    "colab": {
     "base_uri": "https://localhost:8080/"
    },
    "outputId": "aa8ab1cf-c5e6-4e18-dd3f-b4519ccea7fa",
    "ExecuteTime": {
     "end_time": "2023-11-01T07:54:40.886030500Z",
     "start_time": "2023-11-01T07:54:40.878181700Z"
    }
   },
   "source": [
    "result = data.stack()\n",
    "result"
   ],
   "execution_count": 80,
   "outputs": [
    {
     "data": {
      "text/plain": "state     number\nOhio      one       0\n          two       1\n          three     2\nColorado  one       3\n          two       4\n          three     5\ndtype: int32"
     },
     "execution_count": 80,
     "metadata": {},
     "output_type": "execute_result"
    }
   ]
  },
  {
   "cell_type": "markdown",
   "metadata": {
    "id": "gcSLkJVTORMN"
   },
   "source": [
    "from hierachically indexed Series, we can rearrange into a DataFrame with `unstack`\n",
    "```python\n",
    "result.unstack()\n",
    "```"
   ]
  },
  {
   "cell_type": "code",
   "metadata": {
    "id": "29AqDZVLOgdu",
    "colab": {
     "base_uri": "https://localhost:8080/",
     "height": 143
    },
    "outputId": "4398b8bc-d12d-42f2-bd96-f44b3d7b5efb",
    "ExecuteTime": {
     "end_time": "2023-11-01T07:54:45.483116300Z",
     "start_time": "2023-11-01T07:54:45.451405500Z"
    }
   },
   "source": [
    "result.unstack()"
   ],
   "execution_count": 81,
   "outputs": [
    {
     "data": {
      "text/plain": "number    one  two  three\nstate                    \nOhio        0    1      2\nColorado    3    4      5",
      "text/html": "<div>\n<style scoped>\n    .dataframe tbody tr th:only-of-type {\n        vertical-align: middle;\n    }\n\n    .dataframe tbody tr th {\n        vertical-align: top;\n    }\n\n    .dataframe thead th {\n        text-align: right;\n    }\n</style>\n<table border=\"1\" class=\"dataframe\">\n  <thead>\n    <tr style=\"text-align: right;\">\n      <th>number</th>\n      <th>one</th>\n      <th>two</th>\n      <th>three</th>\n    </tr>\n    <tr>\n      <th>state</th>\n      <th></th>\n      <th></th>\n      <th></th>\n    </tr>\n  </thead>\n  <tbody>\n    <tr>\n      <th>Ohio</th>\n      <td>0</td>\n      <td>1</td>\n      <td>2</td>\n    </tr>\n    <tr>\n      <th>Colorado</th>\n      <td>3</td>\n      <td>4</td>\n      <td>5</td>\n    </tr>\n  </tbody>\n</table>\n</div>"
     },
     "execution_count": 81,
     "metadata": {},
     "output_type": "execute_result"
    }
   ]
  },
  {
   "cell_type": "markdown",
   "metadata": {
    "id": "uDFKjCWFPVL7"
   },
   "source": [
    "By the default the innermost level is unstacked, we can unstadck the different level by pasing the level name.\n",
    "```python\n",
    "result.unstack('state')\n",
    "```"
   ]
  },
  {
   "cell_type": "code",
   "metadata": {
    "id": "Lu7z15-GPesW",
    "colab": {
     "base_uri": "https://localhost:8080/",
     "height": 175
    },
    "outputId": "400d40c0-a544-4c9b-874f-107e843875d5",
    "ExecuteTime": {
     "end_time": "2023-11-01T07:54:50.146738700Z",
     "start_time": "2023-11-01T07:54:50.131048700Z"
    }
   },
   "source": [
    "result.unstack('state')"
   ],
   "execution_count": 82,
   "outputs": [
    {
     "data": {
      "text/plain": "state   Ohio  Colorado\nnumber                \none        0         3\ntwo        1         4\nthree      2         5",
      "text/html": "<div>\n<style scoped>\n    .dataframe tbody tr th:only-of-type {\n        vertical-align: middle;\n    }\n\n    .dataframe tbody tr th {\n        vertical-align: top;\n    }\n\n    .dataframe thead th {\n        text-align: right;\n    }\n</style>\n<table border=\"1\" class=\"dataframe\">\n  <thead>\n    <tr style=\"text-align: right;\">\n      <th>state</th>\n      <th>Ohio</th>\n      <th>Colorado</th>\n    </tr>\n    <tr>\n      <th>number</th>\n      <th></th>\n      <th></th>\n    </tr>\n  </thead>\n  <tbody>\n    <tr>\n      <th>one</th>\n      <td>0</td>\n      <td>3</td>\n    </tr>\n    <tr>\n      <th>two</th>\n      <td>1</td>\n      <td>4</td>\n    </tr>\n    <tr>\n      <th>three</th>\n      <td>2</td>\n      <td>5</td>\n    </tr>\n  </tbody>\n</table>\n</div>"
     },
     "execution_count": 82,
     "metadata": {},
     "output_type": "execute_result"
    }
   ]
  },
  {
   "cell_type": "markdown",
   "metadata": {
    "id": "jGWbH1bBPm4g"
   },
   "source": [
    "unstack may introduce the missing data if all of the value in the level is ont found in each group"
   ]
  },
  {
   "cell_type": "code",
   "metadata": {
    "id": "6W0dnS_zOxZw",
    "colab": {
     "base_uri": "https://localhost:8080/"
    },
    "outputId": "9a1c3d9b-7210-41e0-8a7d-f83d2dc39698",
    "ExecuteTime": {
     "end_time": "2023-11-01T07:54:52.410659700Z",
     "start_time": "2023-11-01T07:54:52.399453100Z"
    }
   },
   "source": [
    "s1 = pd.Series([0, 1, 2, 3], index=['a', 'b', 'c', 'd'])\n",
    "s2 = pd.Series([4, 5, 6], index=['c', 'd', 'e'])\n",
    "data2 = pd.concat([s1, s2], keys=['one', 'two'])\n",
    "data2"
   ],
   "execution_count": 83,
   "outputs": [
    {
     "data": {
      "text/plain": "one  a    0\n     b    1\n     c    2\n     d    3\ntwo  c    4\n     d    5\n     e    6\ndtype: int64"
     },
     "execution_count": 83,
     "metadata": {},
     "output_type": "execute_result"
    }
   ]
  },
  {
   "cell_type": "markdown",
   "source": [
    "try to do unstack\n",
    "```python\n",
    "data2.unstack()\n",
    "```"
   ],
   "metadata": {
    "collapsed": false
   }
  },
  {
   "cell_type": "code",
   "metadata": {
    "id": "7rj_VypRQMDT",
    "colab": {
     "base_uri": "https://localhost:8080/",
     "height": 112
    },
    "outputId": "2203903b-39bb-49ec-c4c3-40a0748d1675",
    "ExecuteTime": {
     "end_time": "2023-11-01T07:54:58.181349800Z",
     "start_time": "2023-11-01T07:54:58.165700700Z"
    }
   },
   "source": [
    "data2.unstack()"
   ],
   "execution_count": 84,
   "outputs": [
    {
     "data": {
      "text/plain": "       a    b    c    d    e\none  0.0  1.0  2.0  3.0  NaN\ntwo  NaN  NaN  4.0  5.0  6.0",
      "text/html": "<div>\n<style scoped>\n    .dataframe tbody tr th:only-of-type {\n        vertical-align: middle;\n    }\n\n    .dataframe tbody tr th {\n        vertical-align: top;\n    }\n\n    .dataframe thead th {\n        text-align: right;\n    }\n</style>\n<table border=\"1\" class=\"dataframe\">\n  <thead>\n    <tr style=\"text-align: right;\">\n      <th></th>\n      <th>a</th>\n      <th>b</th>\n      <th>c</th>\n      <th>d</th>\n      <th>e</th>\n    </tr>\n  </thead>\n  <tbody>\n    <tr>\n      <th>one</th>\n      <td>0.0</td>\n      <td>1.0</td>\n      <td>2.0</td>\n      <td>3.0</td>\n      <td>NaN</td>\n    </tr>\n    <tr>\n      <th>two</th>\n      <td>NaN</td>\n      <td>NaN</td>\n      <td>4.0</td>\n      <td>5.0</td>\n      <td>6.0</td>\n    </tr>\n  </tbody>\n</table>\n</div>"
     },
     "execution_count": 84,
     "metadata": {},
     "output_type": "execute_result"
    }
   ]
  },
  {
   "cell_type": "markdown",
   "metadata": {
    "id": "fBDksi3_QRi7"
   },
   "source": [
    "Stacking filter out the missing data by default, to preseved the na when unstack `dropna=False ` is required\n",
    "```python\n",
    "data2.unstack().stack()\n",
    "```"
   ]
  },
  {
   "cell_type": "code",
   "metadata": {
    "id": "6Q10ie4jQfxq",
    "colab": {
     "base_uri": "https://localhost:8080/",
     "height": 112
    },
    "outputId": "4b504497-7144-456d-ca14-1c42aacdbffa",
    "ExecuteTime": {
     "end_time": "2023-11-01T07:55:02.881149100Z",
     "start_time": "2023-11-01T07:55:02.849857800Z"
    }
   },
   "source": [
    "data2.unstack().stack()"
   ],
   "execution_count": 85,
   "outputs": [
    {
     "data": {
      "text/plain": "one  a    0.0\n     b    1.0\n     c    2.0\n     d    3.0\ntwo  c    4.0\n     d    5.0\n     e    6.0\ndtype: float64"
     },
     "execution_count": 85,
     "metadata": {},
     "output_type": "execute_result"
    }
   ]
  },
  {
   "cell_type": "markdown",
   "source": [
    "when using the dropna\n",
    "```python\n",
    "data2.unstack().stack(dropna=False)\n",
    "```"
   ],
   "metadata": {
    "collapsed": false
   }
  },
  {
   "cell_type": "code",
   "execution_count": 86,
   "outputs": [
    {
     "data": {
      "text/plain": "one  a    0.0\n     b    1.0\n     c    2.0\n     d    3.0\n     e    NaN\ntwo  a    NaN\n     b    NaN\n     c    4.0\n     d    5.0\n     e    6.0\ndtype: float64"
     },
     "execution_count": 86,
     "metadata": {},
     "output_type": "execute_result"
    }
   ],
   "source": [
    "data2.unstack().stack(dropna=False)"
   ],
   "metadata": {
    "collapsed": false,
    "ExecuteTime": {
     "end_time": "2023-11-01T07:55:16.062801600Z",
     "start_time": "2023-11-01T07:55:16.031148200Z"
    }
   }
  },
  {
   "cell_type": "markdown",
   "metadata": {
    "id": "fHxkoJjHQoXj"
   },
   "source": [
    "When you unstack in a DataFrame, the **level unstacked** becomes the lowest level in the result\n",
    "```python\n",
    "df = pd.DataFrame({'left': result, 'right': result + 5},\n",
    "                  columns=pd.Index(['left', 'right'], name='side'))\n",
    "df\n",
    "```"
   ]
  },
  {
   "cell_type": "code",
   "metadata": {
    "id": "bh4JfPpFQve5",
    "colab": {
     "base_uri": "https://localhost:8080/",
     "height": 269
    },
    "outputId": "fa527e70-8b98-46c5-9bf3-66241d635296",
    "ExecuteTime": {
     "end_time": "2023-11-01T07:55:25.130499Z",
     "start_time": "2023-11-01T07:55:25.098970300Z"
    }
   },
   "source": [
    "df = pd.DataFrame({'left': result, 'right': result + 5},\n",
    "                  columns=pd.Index(['left', 'right'], name='side'))\n",
    "df"
   ],
   "execution_count": 87,
   "outputs": [
    {
     "data": {
      "text/plain": "side             left  right\nstate    number             \nOhio     one        0      5\n         two        1      6\n         three      2      7\nColorado one        3      8\n         two        4      9\n         three      5     10",
      "text/html": "<div>\n<style scoped>\n    .dataframe tbody tr th:only-of-type {\n        vertical-align: middle;\n    }\n\n    .dataframe tbody tr th {\n        vertical-align: top;\n    }\n\n    .dataframe thead th {\n        text-align: right;\n    }\n</style>\n<table border=\"1\" class=\"dataframe\">\n  <thead>\n    <tr style=\"text-align: right;\">\n      <th></th>\n      <th>side</th>\n      <th>left</th>\n      <th>right</th>\n    </tr>\n    <tr>\n      <th>state</th>\n      <th>number</th>\n      <th></th>\n      <th></th>\n    </tr>\n  </thead>\n  <tbody>\n    <tr>\n      <th rowspan=\"3\" valign=\"top\">Ohio</th>\n      <th>one</th>\n      <td>0</td>\n      <td>5</td>\n    </tr>\n    <tr>\n      <th>two</th>\n      <td>1</td>\n      <td>6</td>\n    </tr>\n    <tr>\n      <th>three</th>\n      <td>2</td>\n      <td>7</td>\n    </tr>\n    <tr>\n      <th rowspan=\"3\" valign=\"top\">Colorado</th>\n      <th>one</th>\n      <td>3</td>\n      <td>8</td>\n    </tr>\n    <tr>\n      <th>two</th>\n      <td>4</td>\n      <td>9</td>\n    </tr>\n    <tr>\n      <th>three</th>\n      <td>5</td>\n      <td>10</td>\n    </tr>\n  </tbody>\n</table>\n</div>"
     },
     "execution_count": 87,
     "metadata": {},
     "output_type": "execute_result"
    }
   ]
  },
  {
   "cell_type": "markdown",
   "source": [
    "try\n",
    "```python\n",
    "df.unstack('state')\n",
    "```"
   ],
   "metadata": {
    "collapsed": false
   }
  },
  {
   "cell_type": "code",
   "metadata": {
    "id": "Db_GAqH6Q-KL",
    "colab": {
     "base_uri": "https://localhost:8080/",
     "height": 206
    },
    "outputId": "111754cf-8e33-43cb-c539-89d75843b4e4",
    "ExecuteTime": {
     "end_time": "2023-11-01T07:55:31.476923200Z",
     "start_time": "2023-11-01T07:55:31.445078900Z"
    }
   },
   "source": [
    "df.unstack('state')"
   ],
   "execution_count": 88,
   "outputs": [
    {
     "data": {
      "text/plain": "side   left          right         \nstate  Ohio Colorado  Ohio Colorado\nnumber                             \none       0        3     5        8\ntwo       1        4     6        9\nthree     2        5     7       10",
      "text/html": "<div>\n<style scoped>\n    .dataframe tbody tr th:only-of-type {\n        vertical-align: middle;\n    }\n\n    .dataframe tbody tr th {\n        vertical-align: top;\n    }\n\n    .dataframe thead tr th {\n        text-align: left;\n    }\n\n    .dataframe thead tr:last-of-type th {\n        text-align: right;\n    }\n</style>\n<table border=\"1\" class=\"dataframe\">\n  <thead>\n    <tr>\n      <th>side</th>\n      <th colspan=\"2\" halign=\"left\">left</th>\n      <th colspan=\"2\" halign=\"left\">right</th>\n    </tr>\n    <tr>\n      <th>state</th>\n      <th>Ohio</th>\n      <th>Colorado</th>\n      <th>Ohio</th>\n      <th>Colorado</th>\n    </tr>\n    <tr>\n      <th>number</th>\n      <th></th>\n      <th></th>\n      <th></th>\n      <th></th>\n    </tr>\n  </thead>\n  <tbody>\n    <tr>\n      <th>one</th>\n      <td>0</td>\n      <td>3</td>\n      <td>5</td>\n      <td>8</td>\n    </tr>\n    <tr>\n      <th>two</th>\n      <td>1</td>\n      <td>4</td>\n      <td>6</td>\n      <td>9</td>\n    </tr>\n    <tr>\n      <th>three</th>\n      <td>2</td>\n      <td>5</td>\n      <td>7</td>\n      <td>10</td>\n    </tr>\n  </tbody>\n</table>\n</div>"
     },
     "execution_count": 88,
     "metadata": {},
     "output_type": "execute_result"
    }
   ]
  },
  {
   "cell_type": "markdown",
   "source": [
    "we may use the state to stack the side\n",
    "```python\n",
    "df.unstack('state').stack('side')\n",
    "```"
   ],
   "metadata": {
    "collapsed": false
   }
  },
  {
   "cell_type": "code",
   "metadata": {
    "id": "dsqAx7zfRFa1",
    "colab": {
     "base_uri": "https://localhost:8080/",
     "height": 269
    },
    "outputId": "14b80c18-c57b-43cd-cab7-6965393b0867",
    "ExecuteTime": {
     "end_time": "2023-11-01T07:55:36.365469500Z",
     "start_time": "2023-11-01T07:55:36.349655300Z"
    }
   },
   "source": [
    "df.unstack('state').stack('side')"
   ],
   "execution_count": 89,
   "outputs": [
    {
     "data": {
      "text/plain": "state         Colorado  Ohio\nnumber side                 \none    left          3     0\n       right         8     5\ntwo    left          4     1\n       right         9     6\nthree  left          5     2\n       right        10     7",
      "text/html": "<div>\n<style scoped>\n    .dataframe tbody tr th:only-of-type {\n        vertical-align: middle;\n    }\n\n    .dataframe tbody tr th {\n        vertical-align: top;\n    }\n\n    .dataframe thead th {\n        text-align: right;\n    }\n</style>\n<table border=\"1\" class=\"dataframe\">\n  <thead>\n    <tr style=\"text-align: right;\">\n      <th></th>\n      <th>state</th>\n      <th>Colorado</th>\n      <th>Ohio</th>\n    </tr>\n    <tr>\n      <th>number</th>\n      <th>side</th>\n      <th></th>\n      <th></th>\n    </tr>\n  </thead>\n  <tbody>\n    <tr>\n      <th rowspan=\"2\" valign=\"top\">one</th>\n      <th>left</th>\n      <td>3</td>\n      <td>0</td>\n    </tr>\n    <tr>\n      <th>right</th>\n      <td>8</td>\n      <td>5</td>\n    </tr>\n    <tr>\n      <th rowspan=\"2\" valign=\"top\">two</th>\n      <th>left</th>\n      <td>4</td>\n      <td>1</td>\n    </tr>\n    <tr>\n      <th>right</th>\n      <td>9</td>\n      <td>6</td>\n    </tr>\n    <tr>\n      <th rowspan=\"2\" valign=\"top\">three</th>\n      <th>left</th>\n      <td>5</td>\n      <td>2</td>\n    </tr>\n    <tr>\n      <th>right</th>\n      <td>10</td>\n      <td>7</td>\n    </tr>\n  </tbody>\n</table>\n</div>"
     },
     "execution_count": 89,
     "metadata": {},
     "output_type": "execute_result"
    }
   ]
  },
  {
   "cell_type": "markdown",
   "metadata": {
    "id": "hqmMGZXxU8md"
   },
   "source": [
    "# Work\n",
    "\n",
    "From the three files provided [here](https://github.com/jakevdp/data-USstates/)\n",
    "\n",
    "1. Bind all data to get the data frame which have the state/ abbreviation, and area(sq.mi)\n",
    "2. Bind the data to get the State, age, and population\n",
    "3. Create the multiple hierachy dataframe, which contains the age as sub hierachy. The column should be the year and population, and the year must be order.\n"
   ]
  },
  {
   "cell_type": "markdown",
   "metadata": {
    "id": "d-iItFmtjomT"
   },
   "source": [
    "1. Bind all data to get the data frame which have the state/ abbreviation, and area(sq.mi)"
   ]
  },
  {
   "cell_type": "code",
   "execution_count": 112,
   "outputs": [],
   "source": [
    "import pandas as pd\n",
    "\n",
    "st1 = pd.read_csv('files/state-abbrevs.csv')\n",
    "st2 = pd.read_csv('files/state-areas.csv')\n",
    "st3 = pd.read_csv('files/state-population.csv')"
   ],
   "metadata": {
    "collapsed": false,
    "ExecuteTime": {
     "end_time": "2023-11-01T08:03:23.605883Z",
     "start_time": "2023-11-01T08:03:23.585956900Z"
    }
   }
  },
  {
   "cell_type": "code",
   "execution_count": 113,
   "outputs": [
    {
     "data": {
      "text/plain": "        state abbreviation  area (sq. mi)\n0     Alabama           AL          52423\n1      Alaska           AK         656425\n2     Arizona           AZ         114006\n3    Arkansas           AR          53182\n4  California           CA         163707",
      "text/html": "<div>\n<style scoped>\n    .dataframe tbody tr th:only-of-type {\n        vertical-align: middle;\n    }\n\n    .dataframe tbody tr th {\n        vertical-align: top;\n    }\n\n    .dataframe thead th {\n        text-align: right;\n    }\n</style>\n<table border=\"1\" class=\"dataframe\">\n  <thead>\n    <tr style=\"text-align: right;\">\n      <th></th>\n      <th>state</th>\n      <th>abbreviation</th>\n      <th>area (sq. mi)</th>\n    </tr>\n  </thead>\n  <tbody>\n    <tr>\n      <th>0</th>\n      <td>Alabama</td>\n      <td>AL</td>\n      <td>52423</td>\n    </tr>\n    <tr>\n      <th>1</th>\n      <td>Alaska</td>\n      <td>AK</td>\n      <td>656425</td>\n    </tr>\n    <tr>\n      <th>2</th>\n      <td>Arizona</td>\n      <td>AZ</td>\n      <td>114006</td>\n    </tr>\n    <tr>\n      <th>3</th>\n      <td>Arkansas</td>\n      <td>AR</td>\n      <td>53182</td>\n    </tr>\n    <tr>\n      <th>4</th>\n      <td>California</td>\n      <td>CA</td>\n      <td>163707</td>\n    </tr>\n  </tbody>\n</table>\n</div>"
     },
     "execution_count": 113,
     "metadata": {},
     "output_type": "execute_result"
    }
   ],
   "source": [
    "merged_df = pd.merge(st1, st2, on='state')\n",
    "merged_df.head()"
   ],
   "metadata": {
    "collapsed": false,
    "ExecuteTime": {
     "end_time": "2023-11-01T08:03:41.093724400Z",
     "start_time": "2023-11-01T08:03:41.061758800Z"
    }
   }
  },
  {
   "cell_type": "markdown",
   "metadata": {
    "id": "PB8quLLokoXs"
   },
   "source": [
    "2. Bind the data to get the State, age, and population"
   ]
  },
  {
   "cell_type": "code",
   "execution_count": 114,
   "outputs": [
    {
     "ename": "KeyError",
     "evalue": "'state'",
     "output_type": "error",
     "traceback": [
      "\u001B[1;31m---------------------------------------------------------------------------\u001B[0m",
      "\u001B[1;31mKeyError\u001B[0m                                  Traceback (most recent call last)",
      "Cell \u001B[1;32mIn[114], line 1\u001B[0m\n\u001B[1;32m----> 1\u001B[0m merged_population \u001B[38;5;241m=\u001B[39m \u001B[43mpd\u001B[49m\u001B[38;5;241;43m.\u001B[39;49m\u001B[43mmerge\u001B[49m\u001B[43m(\u001B[49m\u001B[43mst3\u001B[49m\u001B[43m,\u001B[49m\u001B[43m \u001B[49m\u001B[43mst1\u001B[49m\u001B[43m,\u001B[49m\u001B[43m \u001B[49m\u001B[43mleft_on\u001B[49m\u001B[38;5;241;43m=\u001B[39;49m\u001B[38;5;124;43m'\u001B[39;49m\u001B[38;5;124;43mstate\u001B[39;49m\u001B[38;5;124;43m'\u001B[39;49m\u001B[43m,\u001B[49m\u001B[43m \u001B[49m\u001B[43mright_on\u001B[49m\u001B[38;5;241;43m=\u001B[39;49m\u001B[38;5;124;43m'\u001B[39;49m\u001B[38;5;124;43mabbreviation\u001B[39;49m\u001B[38;5;124;43m'\u001B[39;49m\u001B[43m)\u001B[49m\n\u001B[0;32m      2\u001B[0m final_population \u001B[38;5;241m=\u001B[39m merged_population[[\u001B[38;5;124m'\u001B[39m\u001B[38;5;124mstate_x\u001B[39m\u001B[38;5;124m'\u001B[39m, \u001B[38;5;124m'\u001B[39m\u001B[38;5;124mages\u001B[39m\u001B[38;5;124m'\u001B[39m, \u001B[38;5;124m'\u001B[39m\u001B[38;5;124mpopulation\u001B[39m\u001B[38;5;124m'\u001B[39m]]\n\u001B[0;32m      3\u001B[0m final_population \u001B[38;5;241m=\u001B[39m final_population\u001B[38;5;241m.\u001B[39mrename(columns\u001B[38;5;241m=\u001B[39m{\u001B[38;5;124m'\u001B[39m\u001B[38;5;124mstate_x\u001B[39m\u001B[38;5;124m'\u001B[39m: \u001B[38;5;124m'\u001B[39m\u001B[38;5;124mstate\u001B[39m\u001B[38;5;124m'\u001B[39m})\n",
      "File \u001B[1;32m~\\LectureNote\\venv\\Lib\\site-packages\\pandas\\core\\reshape\\merge.py:148\u001B[0m, in \u001B[0;36mmerge\u001B[1;34m(left, right, how, on, left_on, right_on, left_index, right_index, sort, suffixes, copy, indicator, validate)\u001B[0m\n\u001B[0;32m    131\u001B[0m \u001B[38;5;129m@Substitution\u001B[39m(\u001B[38;5;124m\"\u001B[39m\u001B[38;5;130;01m\\n\u001B[39;00m\u001B[38;5;124mleft : DataFrame or named Series\u001B[39m\u001B[38;5;124m\"\u001B[39m)\n\u001B[0;32m    132\u001B[0m \u001B[38;5;129m@Appender\u001B[39m(_merge_doc, indents\u001B[38;5;241m=\u001B[39m\u001B[38;5;241m0\u001B[39m)\n\u001B[0;32m    133\u001B[0m \u001B[38;5;28;01mdef\u001B[39;00m \u001B[38;5;21mmerge\u001B[39m(\n\u001B[1;32m   (...)\u001B[0m\n\u001B[0;32m    146\u001B[0m     validate: \u001B[38;5;28mstr\u001B[39m \u001B[38;5;241m|\u001B[39m \u001B[38;5;28;01mNone\u001B[39;00m \u001B[38;5;241m=\u001B[39m \u001B[38;5;28;01mNone\u001B[39;00m,\n\u001B[0;32m    147\u001B[0m ) \u001B[38;5;241m-\u001B[39m\u001B[38;5;241m>\u001B[39m DataFrame:\n\u001B[1;32m--> 148\u001B[0m     op \u001B[38;5;241m=\u001B[39m \u001B[43m_MergeOperation\u001B[49m\u001B[43m(\u001B[49m\n\u001B[0;32m    149\u001B[0m \u001B[43m        \u001B[49m\u001B[43mleft\u001B[49m\u001B[43m,\u001B[49m\n\u001B[0;32m    150\u001B[0m \u001B[43m        \u001B[49m\u001B[43mright\u001B[49m\u001B[43m,\u001B[49m\n\u001B[0;32m    151\u001B[0m \u001B[43m        \u001B[49m\u001B[43mhow\u001B[49m\u001B[38;5;241;43m=\u001B[39;49m\u001B[43mhow\u001B[49m\u001B[43m,\u001B[49m\n\u001B[0;32m    152\u001B[0m \u001B[43m        \u001B[49m\u001B[43mon\u001B[49m\u001B[38;5;241;43m=\u001B[39;49m\u001B[43mon\u001B[49m\u001B[43m,\u001B[49m\n\u001B[0;32m    153\u001B[0m \u001B[43m        \u001B[49m\u001B[43mleft_on\u001B[49m\u001B[38;5;241;43m=\u001B[39;49m\u001B[43mleft_on\u001B[49m\u001B[43m,\u001B[49m\n\u001B[0;32m    154\u001B[0m \u001B[43m        \u001B[49m\u001B[43mright_on\u001B[49m\u001B[38;5;241;43m=\u001B[39;49m\u001B[43mright_on\u001B[49m\u001B[43m,\u001B[49m\n\u001B[0;32m    155\u001B[0m \u001B[43m        \u001B[49m\u001B[43mleft_index\u001B[49m\u001B[38;5;241;43m=\u001B[39;49m\u001B[43mleft_index\u001B[49m\u001B[43m,\u001B[49m\n\u001B[0;32m    156\u001B[0m \u001B[43m        \u001B[49m\u001B[43mright_index\u001B[49m\u001B[38;5;241;43m=\u001B[39;49m\u001B[43mright_index\u001B[49m\u001B[43m,\u001B[49m\n\u001B[0;32m    157\u001B[0m \u001B[43m        \u001B[49m\u001B[43msort\u001B[49m\u001B[38;5;241;43m=\u001B[39;49m\u001B[43msort\u001B[49m\u001B[43m,\u001B[49m\n\u001B[0;32m    158\u001B[0m \u001B[43m        \u001B[49m\u001B[43msuffixes\u001B[49m\u001B[38;5;241;43m=\u001B[39;49m\u001B[43msuffixes\u001B[49m\u001B[43m,\u001B[49m\n\u001B[0;32m    159\u001B[0m \u001B[43m        \u001B[49m\u001B[43mindicator\u001B[49m\u001B[38;5;241;43m=\u001B[39;49m\u001B[43mindicator\u001B[49m\u001B[43m,\u001B[49m\n\u001B[0;32m    160\u001B[0m \u001B[43m        \u001B[49m\u001B[43mvalidate\u001B[49m\u001B[38;5;241;43m=\u001B[39;49m\u001B[43mvalidate\u001B[49m\u001B[43m,\u001B[49m\n\u001B[0;32m    161\u001B[0m \u001B[43m    \u001B[49m\u001B[43m)\u001B[49m\n\u001B[0;32m    162\u001B[0m     \u001B[38;5;28;01mreturn\u001B[39;00m op\u001B[38;5;241m.\u001B[39mget_result(copy\u001B[38;5;241m=\u001B[39mcopy)\n",
      "File \u001B[1;32m~\\LectureNote\\venv\\Lib\\site-packages\\pandas\\core\\reshape\\merge.py:737\u001B[0m, in \u001B[0;36m_MergeOperation.__init__\u001B[1;34m(self, left, right, how, on, left_on, right_on, axis, left_index, right_index, sort, suffixes, indicator, validate)\u001B[0m\n\u001B[0;32m    730\u001B[0m \u001B[38;5;28mself\u001B[39m\u001B[38;5;241m.\u001B[39m_cross \u001B[38;5;241m=\u001B[39m cross_col\n\u001B[0;32m    732\u001B[0m \u001B[38;5;66;03m# note this function has side effects\u001B[39;00m\n\u001B[0;32m    733\u001B[0m (\n\u001B[0;32m    734\u001B[0m     \u001B[38;5;28mself\u001B[39m\u001B[38;5;241m.\u001B[39mleft_join_keys,\n\u001B[0;32m    735\u001B[0m     \u001B[38;5;28mself\u001B[39m\u001B[38;5;241m.\u001B[39mright_join_keys,\n\u001B[0;32m    736\u001B[0m     \u001B[38;5;28mself\u001B[39m\u001B[38;5;241m.\u001B[39mjoin_names,\n\u001B[1;32m--> 737\u001B[0m ) \u001B[38;5;241m=\u001B[39m \u001B[38;5;28;43mself\u001B[39;49m\u001B[38;5;241;43m.\u001B[39;49m\u001B[43m_get_merge_keys\u001B[49m\u001B[43m(\u001B[49m\u001B[43m)\u001B[49m\n\u001B[0;32m    739\u001B[0m \u001B[38;5;66;03m# validate the merge keys dtypes. We may need to coerce\u001B[39;00m\n\u001B[0;32m    740\u001B[0m \u001B[38;5;66;03m# to avoid incompatible dtypes\u001B[39;00m\n\u001B[0;32m    741\u001B[0m \u001B[38;5;28mself\u001B[39m\u001B[38;5;241m.\u001B[39m_maybe_coerce_merge_keys()\n",
      "File \u001B[1;32m~\\LectureNote\\venv\\Lib\\site-packages\\pandas\\core\\reshape\\merge.py:1221\u001B[0m, in \u001B[0;36m_MergeOperation._get_merge_keys\u001B[1;34m(self)\u001B[0m\n\u001B[0;32m   1217\u001B[0m \u001B[38;5;28;01mif\u001B[39;00m lk \u001B[38;5;129;01mis\u001B[39;00m \u001B[38;5;129;01mnot\u001B[39;00m \u001B[38;5;28;01mNone\u001B[39;00m:\n\u001B[0;32m   1218\u001B[0m     \u001B[38;5;66;03m# Then we're either Hashable or a wrong-length arraylike,\u001B[39;00m\n\u001B[0;32m   1219\u001B[0m     \u001B[38;5;66;03m#  the latter of which will raise\u001B[39;00m\n\u001B[0;32m   1220\u001B[0m     lk \u001B[38;5;241m=\u001B[39m cast(Hashable, lk)\n\u001B[1;32m-> 1221\u001B[0m     left_keys\u001B[38;5;241m.\u001B[39mappend(\u001B[43mleft\u001B[49m\u001B[38;5;241;43m.\u001B[39;49m\u001B[43m_get_label_or_level_values\u001B[49m\u001B[43m(\u001B[49m\u001B[43mlk\u001B[49m\u001B[43m)\u001B[49m)\n\u001B[0;32m   1222\u001B[0m     join_names\u001B[38;5;241m.\u001B[39mappend(lk)\n\u001B[0;32m   1223\u001B[0m \u001B[38;5;28;01melse\u001B[39;00m:\n\u001B[0;32m   1224\u001B[0m     \u001B[38;5;66;03m# work-around for merge_asof(left_index=True)\u001B[39;00m\n",
      "File \u001B[1;32m~\\LectureNote\\venv\\Lib\\site-packages\\pandas\\core\\generic.py:1778\u001B[0m, in \u001B[0;36mNDFrame._get_label_or_level_values\u001B[1;34m(self, key, axis)\u001B[0m\n\u001B[0;32m   1776\u001B[0m     values \u001B[38;5;241m=\u001B[39m \u001B[38;5;28mself\u001B[39m\u001B[38;5;241m.\u001B[39maxes[axis]\u001B[38;5;241m.\u001B[39mget_level_values(key)\u001B[38;5;241m.\u001B[39m_values\n\u001B[0;32m   1777\u001B[0m \u001B[38;5;28;01melse\u001B[39;00m:\n\u001B[1;32m-> 1778\u001B[0m     \u001B[38;5;28;01mraise\u001B[39;00m \u001B[38;5;167;01mKeyError\u001B[39;00m(key)\n\u001B[0;32m   1780\u001B[0m \u001B[38;5;66;03m# Check for duplicates\u001B[39;00m\n\u001B[0;32m   1781\u001B[0m \u001B[38;5;28;01mif\u001B[39;00m values\u001B[38;5;241m.\u001B[39mndim \u001B[38;5;241m>\u001B[39m \u001B[38;5;241m1\u001B[39m:\n",
      "\u001B[1;31mKeyError\u001B[0m: 'state'"
     ]
    }
   ],
   "source": [
    "merged_population = pd.merge(st3, st1, left_on='state', right_on='abbreviation')\n",
    "final_population = merged_population[['state_x', 'ages', 'population']]\n",
    "final_population = final_population.rename(columns={'state_x': 'state'})\n",
    "final_population.head()"
   ],
   "metadata": {
    "collapsed": false,
    "ExecuteTime": {
     "end_time": "2023-11-01T08:03:49.591199500Z",
     "start_time": "2023-11-01T08:03:49.531309700Z"
    }
   }
  },
  {
   "cell_type": "markdown",
   "metadata": {
    "id": "s5EfgdhamiiM"
   },
   "source": [
    "3. Create the multiple hierachy dataframe, which contains the age as sub hierachy. The column should be the year and population, and the year must be order."
   ]
  },
  {
   "cell_type": "code",
   "execution_count": 115,
   "outputs": [
    {
     "ename": "KeyError",
     "evalue": "\"['ages', 'year', 'population'] not in index\"",
     "output_type": "error",
     "traceback": [
      "\u001B[1;31m---------------------------------------------------------------------------\u001B[0m",
      "\u001B[1;31mKeyError\u001B[0m                                  Traceback (most recent call last)",
      "Cell \u001B[1;32mIn[115], line 1\u001B[0m\n\u001B[1;32m----> 1\u001B[0m final_population \u001B[38;5;241m=\u001B[39m \u001B[43mmerged_population\u001B[49m\u001B[43m[\u001B[49m\u001B[43m[\u001B[49m\u001B[38;5;124;43m'\u001B[39;49m\u001B[38;5;124;43mstate_x\u001B[39;49m\u001B[38;5;124;43m'\u001B[39;49m\u001B[43m,\u001B[49m\u001B[43m \u001B[49m\u001B[38;5;124;43m'\u001B[39;49m\u001B[38;5;124;43mages\u001B[39;49m\u001B[38;5;124;43m'\u001B[39;49m\u001B[43m,\u001B[49m\u001B[43m \u001B[49m\u001B[38;5;124;43m'\u001B[39;49m\u001B[38;5;124;43myear\u001B[39;49m\u001B[38;5;124;43m'\u001B[39;49m\u001B[43m,\u001B[49m\u001B[43m \u001B[49m\u001B[38;5;124;43m'\u001B[39;49m\u001B[38;5;124;43mpopulation\u001B[39;49m\u001B[38;5;124;43m'\u001B[39;49m\u001B[43m]\u001B[49m\u001B[43m]\u001B[49m\n\u001B[0;32m      2\u001B[0m final_population \u001B[38;5;241m=\u001B[39m final_population\u001B[38;5;241m.\u001B[39mrename(columns\u001B[38;5;241m=\u001B[39m{\u001B[38;5;124m'\u001B[39m\u001B[38;5;124mstate_x\u001B[39m\u001B[38;5;124m'\u001B[39m: \u001B[38;5;124m'\u001B[39m\u001B[38;5;124mstate\u001B[39m\u001B[38;5;124m'\u001B[39m})\n\u001B[0;32m      3\u001B[0m hierarchical_df \u001B[38;5;241m=\u001B[39m pd\u001B[38;5;241m.\u001B[39mpivot_table(final_population, values\u001B[38;5;241m=\u001B[39m\u001B[38;5;124m'\u001B[39m\u001B[38;5;124mpopulation\u001B[39m\u001B[38;5;124m'\u001B[39m, index\u001B[38;5;241m=\u001B[39m[\u001B[38;5;124m'\u001B[39m\u001B[38;5;124mstate\u001B[39m\u001B[38;5;124m'\u001B[39m, \u001B[38;5;124m'\u001B[39m\u001B[38;5;124mages\u001B[39m\u001B[38;5;124m'\u001B[39m], columns\u001B[38;5;241m=\u001B[39m\u001B[38;5;124m'\u001B[39m\u001B[38;5;124myear\u001B[39m\u001B[38;5;124m'\u001B[39m)\n",
      "File \u001B[1;32m~\\LectureNote\\venv\\Lib\\site-packages\\pandas\\core\\frame.py:3767\u001B[0m, in \u001B[0;36mDataFrame.__getitem__\u001B[1;34m(self, key)\u001B[0m\n\u001B[0;32m   3765\u001B[0m     \u001B[38;5;28;01mif\u001B[39;00m is_iterator(key):\n\u001B[0;32m   3766\u001B[0m         key \u001B[38;5;241m=\u001B[39m \u001B[38;5;28mlist\u001B[39m(key)\n\u001B[1;32m-> 3767\u001B[0m     indexer \u001B[38;5;241m=\u001B[39m \u001B[38;5;28;43mself\u001B[39;49m\u001B[38;5;241;43m.\u001B[39;49m\u001B[43mcolumns\u001B[49m\u001B[38;5;241;43m.\u001B[39;49m\u001B[43m_get_indexer_strict\u001B[49m\u001B[43m(\u001B[49m\u001B[43mkey\u001B[49m\u001B[43m,\u001B[49m\u001B[43m \u001B[49m\u001B[38;5;124;43m\"\u001B[39;49m\u001B[38;5;124;43mcolumns\u001B[39;49m\u001B[38;5;124;43m\"\u001B[39;49m\u001B[43m)\u001B[49m[\u001B[38;5;241m1\u001B[39m]\n\u001B[0;32m   3769\u001B[0m \u001B[38;5;66;03m# take() does not accept boolean indexers\u001B[39;00m\n\u001B[0;32m   3770\u001B[0m \u001B[38;5;28;01mif\u001B[39;00m \u001B[38;5;28mgetattr\u001B[39m(indexer, \u001B[38;5;124m\"\u001B[39m\u001B[38;5;124mdtype\u001B[39m\u001B[38;5;124m\"\u001B[39m, \u001B[38;5;28;01mNone\u001B[39;00m) \u001B[38;5;241m==\u001B[39m \u001B[38;5;28mbool\u001B[39m:\n",
      "File \u001B[1;32m~\\LectureNote\\venv\\Lib\\site-packages\\pandas\\core\\indexes\\base.py:5877\u001B[0m, in \u001B[0;36mIndex._get_indexer_strict\u001B[1;34m(self, key, axis_name)\u001B[0m\n\u001B[0;32m   5874\u001B[0m \u001B[38;5;28;01melse\u001B[39;00m:\n\u001B[0;32m   5875\u001B[0m     keyarr, indexer, new_indexer \u001B[38;5;241m=\u001B[39m \u001B[38;5;28mself\u001B[39m\u001B[38;5;241m.\u001B[39m_reindex_non_unique(keyarr)\n\u001B[1;32m-> 5877\u001B[0m \u001B[38;5;28;43mself\u001B[39;49m\u001B[38;5;241;43m.\u001B[39;49m\u001B[43m_raise_if_missing\u001B[49m\u001B[43m(\u001B[49m\u001B[43mkeyarr\u001B[49m\u001B[43m,\u001B[49m\u001B[43m \u001B[49m\u001B[43mindexer\u001B[49m\u001B[43m,\u001B[49m\u001B[43m \u001B[49m\u001B[43maxis_name\u001B[49m\u001B[43m)\u001B[49m\n\u001B[0;32m   5879\u001B[0m keyarr \u001B[38;5;241m=\u001B[39m \u001B[38;5;28mself\u001B[39m\u001B[38;5;241m.\u001B[39mtake(indexer)\n\u001B[0;32m   5880\u001B[0m \u001B[38;5;28;01mif\u001B[39;00m \u001B[38;5;28misinstance\u001B[39m(key, Index):\n\u001B[0;32m   5881\u001B[0m     \u001B[38;5;66;03m# GH 42790 - Preserve name from an Index\u001B[39;00m\n",
      "File \u001B[1;32m~\\LectureNote\\venv\\Lib\\site-packages\\pandas\\core\\indexes\\base.py:5941\u001B[0m, in \u001B[0;36mIndex._raise_if_missing\u001B[1;34m(self, key, indexer, axis_name)\u001B[0m\n\u001B[0;32m   5938\u001B[0m     \u001B[38;5;28;01mraise\u001B[39;00m \u001B[38;5;167;01mKeyError\u001B[39;00m(\u001B[38;5;124mf\u001B[39m\u001B[38;5;124m\"\u001B[39m\u001B[38;5;124mNone of [\u001B[39m\u001B[38;5;132;01m{\u001B[39;00mkey\u001B[38;5;132;01m}\u001B[39;00m\u001B[38;5;124m] are in the [\u001B[39m\u001B[38;5;132;01m{\u001B[39;00maxis_name\u001B[38;5;132;01m}\u001B[39;00m\u001B[38;5;124m]\u001B[39m\u001B[38;5;124m\"\u001B[39m)\n\u001B[0;32m   5940\u001B[0m not_found \u001B[38;5;241m=\u001B[39m \u001B[38;5;28mlist\u001B[39m(ensure_index(key)[missing_mask\u001B[38;5;241m.\u001B[39mnonzero()[\u001B[38;5;241m0\u001B[39m]]\u001B[38;5;241m.\u001B[39munique())\n\u001B[1;32m-> 5941\u001B[0m \u001B[38;5;28;01mraise\u001B[39;00m \u001B[38;5;167;01mKeyError\u001B[39;00m(\u001B[38;5;124mf\u001B[39m\u001B[38;5;124m\"\u001B[39m\u001B[38;5;132;01m{\u001B[39;00mnot_found\u001B[38;5;132;01m}\u001B[39;00m\u001B[38;5;124m not in index\u001B[39m\u001B[38;5;124m\"\u001B[39m)\n",
      "\u001B[1;31mKeyError\u001B[0m: \"['ages', 'year', 'population'] not in index\""
     ]
    }
   ],
   "source": [
    "final_population = merged_population[['state_x', 'ages', 'year', 'population']]\n",
    "final_population = final_population.rename(columns={'state_x': 'state'})\n",
    "hierarchical_df = pd.pivot_table(final_population, values='population', index=['state', 'ages'], columns='year')\n",
    "\n",
    "hierarchical_df.head()"
   ],
   "metadata": {
    "collapsed": false,
    "ExecuteTime": {
     "end_time": "2023-11-01T08:03:54.733276600Z",
     "start_time": "2023-11-01T08:03:54.698730400Z"
    }
   }
  }
 ]
}
