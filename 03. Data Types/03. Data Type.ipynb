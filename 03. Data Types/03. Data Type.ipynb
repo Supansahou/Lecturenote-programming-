{
 "cells": [
  {
   "cell_type": "markdown",
   "source": [
    "# Data types\n",
    "\n",
    "## Basic Data Types\n",
    "\n",
    "### Integer\n",
    "\n",
    "The simple counting number\n",
    "\n",
    "we can use the integer values which based other than 10\n",
    "\n",
    "![image-20230719055605284](./assets/image-20230719055605284.png)"
   ],
   "metadata": {
    "collapsed": false
   }
  },
  {
   "cell_type": "markdown",
   "source": [
    "### Floating point Number\n",
    "\n",
    "> designates a floating-point number\n",
    "\n",
    "- float values are specified with a decimal point\n",
    "- the character `e` or `E` followed by a positive or negative integer may be appended to specify scientific notation\n",
    "- Python float values is 64-bit \"double-prceision\"\n",
    "- the maximum value is 1.8 ⨉ 10308\n",
    "\n",
    "```python\n",
    "6.123456789123456789123456789e10\n",
    "```\n",
    "\n",
    "try"
   ],
   "metadata": {
    "collapsed": false
   }
  },
  {
   "cell_type": "code",
   "execution_count": 1,
   "outputs": [
    {
     "data": {
      "text/plain": "61234567891.234566"
     },
     "execution_count": 1,
     "metadata": {},
     "output_type": "execute_result"
    }
   ],
   "source": [
    "6.123456789123456789123456789e10"
   ],
   "metadata": {
    "collapsed": false,
    "ExecuteTime": {
     "end_time": "2023-11-01T10:45:50.502541200Z",
     "start_time": "2023-11-01T10:45:50.489436800Z"
    }
   }
  },
  {
   "cell_type": "markdown",
   "source": [
    "### boolean\n",
    "\n",
    "The boolean values indicate `True` or `False`\n",
    "\n",
    "```python\n",
    "a  < b  < c \t\t# same as: a < b and b < c\n",
    "a == b == c\t\t\t# same as: a = b and b = c\n",
    "```\n",
    "\n",
    "#### Rule of Conversion to Booleans:\n",
    "\n",
    "![image-20230719055637023](./assets/image-20230719055637023.png)\n",
    "\n",
    "```python\n",
    "x = 0\n",
    "if x:\n",
    "  print('true')\n",
    "else:\n",
    "  print('false')\n",
    "```"
   ],
   "metadata": {
    "collapsed": false
   }
  },
  {
   "cell_type": "code",
   "execution_count": 2,
   "outputs": [
    {
     "name": "stdout",
     "output_type": "stream",
     "text": [
      "true\n"
     ]
    }
   ],
   "source": [
    "x = 'ass'\n",
    "if x:\n",
    "    print('true')\n",
    "else:\n",
    "    print('false')"
   ],
   "metadata": {
    "collapsed": false,
    "ExecuteTime": {
     "end_time": "2023-11-01T10:45:50.504942600Z",
     "start_time": "2023-11-01T10:45:50.502036600Z"
    }
   }
  },
  {
   "cell_type": "markdown",
   "source": [
    "## Container Data Types\n",
    "\n",
    "When we refer to data, they may be a bunch of data\n",
    "\n",
    "> container type\n",
    ">\n",
    "> - group objects together\n",
    "> - the differences are\n",
    ">   - how to access individual elements\n",
    ">   - how operations are defined"
   ],
   "metadata": {
    "collapsed": false
   }
  },
  {
   "cell_type": "markdown",
   "source": [
    "### List\n",
    "\n",
    "a list of object of any kind\n",
    "\n",
    "Try to create this object, and show the value\n",
    "\n",
    "```python\n",
    "L = ['a', 20.0, 5]\n",
    "M = [3,['a',-3.0,5]]\n",
    "```"
   ],
   "metadata": {
    "collapsed": false
   }
  },
  {
   "cell_type": "code",
   "execution_count": 3,
   "outputs": [],
   "source": [
    "L = ['a', 20.0, 5]\n",
    "M = [3,['a',-3.0,5]]"
   ],
   "metadata": {
    "collapsed": false,
    "ExecuteTime": {
     "end_time": "2023-11-01T10:45:50.508243500Z",
     "start_time": "2023-11-01T10:45:50.504942600Z"
    }
   }
  },
  {
   "cell_type": "markdown",
   "source": [
    "To access any individual value,\n",
    "\n",
    "Try to access the given data\n",
    "\n",
    "```python\n",
    "L[1]\n",
    "L[0]\n",
    "M[1]\n",
    "M[1][2]\n",
    "```\n",
    "\n"
   ],
   "metadata": {
    "collapsed": false
   }
  },
  {
   "cell_type": "code",
   "execution_count": 4,
   "outputs": [
    {
     "data": {
      "text/plain": "5"
     },
     "execution_count": 4,
     "metadata": {},
     "output_type": "execute_result"
    }
   ],
   "source": [
    "L[1]\n",
    "L[0]\n",
    "M[1]\n",
    "M[1][2]"
   ],
   "metadata": {
    "collapsed": false,
    "ExecuteTime": {
     "end_time": "2023-11-01T10:45:52.400034700Z",
     "start_time": "2023-11-01T10:45:52.394175Z"
    }
   }
  },
  {
   "cell_type": "markdown",
   "source": [
    "> The range can also generate the values, and put in to the list The `list` function define how to create list from the range\n",
    "\n",
    "Try to write the code as given and see the L value\n",
    "\n",
    "```python\n",
    "L = list(range(4))\n",
    "```"
   ],
   "metadata": {
    "collapsed": false
   }
  },
  {
   "cell_type": "code",
   "execution_count": 5,
   "outputs": [],
   "source": [
    "L = list(range(4))"
   ],
   "metadata": {
    "collapsed": false,
    "ExecuteTime": {
     "end_time": "2023-11-01T10:46:07.170027300Z",
     "start_time": "2023-11-01T10:46:07.161122400Z"
    }
   }
  },
  {
   "cell_type": "markdown",
   "source": [
    "```python\n",
    "L = list(range(17,29,4))\n",
    "```"
   ],
   "metadata": {
    "collapsed": false
   }
  },
  {
   "cell_type": "code",
   "execution_count": 6,
   "outputs": [],
   "source": [
    "L = list(range(17,29,4))"
   ],
   "metadata": {
    "collapsed": false,
    "ExecuteTime": {
     "end_time": "2023-11-01T10:46:19.322441900Z",
     "start_time": "2023-11-01T10:46:19.307459700Z"
    }
   }
  },
  {
   "cell_type": "markdown",
   "source": [
    "> `len` function returns the length of the list\n",
    " Try\n",
    "\n",
    "```\n",
    "len(L)\n",
    "```"
   ],
   "metadata": {
    "collapsed": false
   }
  },
  {
   "cell_type": "code",
   "execution_count": 7,
   "outputs": [
    {
     "data": {
      "text/plain": "3"
     },
     "execution_count": 7,
     "metadata": {},
     "output_type": "execute_result"
    }
   ],
   "source": [
    "len(L)"
   ],
   "metadata": {
    "collapsed": false,
    "ExecuteTime": {
     "end_time": "2023-11-01T10:46:30.722960600Z",
     "start_time": "2023-11-01T10:46:30.696195200Z"
    }
   }
  },
  {
   "cell_type": "markdown",
   "source": [
    "#### List Slicing\n",
    "\n",
    "\n",
    "\n",
    "Slicing is to get only the list we want\n",
    "\n",
    "it will create a new list\n",
    "\n",
    "- `L[i:j]` means create a list by taking all element at `L[i]` until `L[j-1]`\n",
    "\n",
    "`L[2:5]`\n",
    "\n",
    "![image-20230719055731424](./assets/image-20230719055731424.png)\n",
    "\n",
    "\n",
    "\n",
    "\n",
    "- `L[i:]` all elements except the `1` first ones\n",
    "\n",
    "`L[2:]`\n",
    "\n",
    "![image-20230719055753762](./assets/image-20230719055753762.png)\n",
    "\n",
    "\n",
    "\n",
    "\n",
    "- `L[:i]` taking the first `i` elements\n",
    "\n",
    "`L[:2]`\n",
    "\n",
    "![image-20230719055812702](./assets/image-20230719055812702.png)\n",
    "\n",
    "\n",
    "\n",
    "\n",
    "- `L[-i:]` taking the last `i` elements\n",
    "\n",
    "`L[-2:]`\n",
    "\n",
    "![image-20230719055825194](./assets/image-20230719055825194.png)\n",
    "\n",
    "\n",
    "\n",
    "\n",
    "- `L[:-i]` means create a list by taking all element at `L[i]` until `L[j-1]`\n",
    "\n",
    "`L[:-2]`\n",
    "\n",
    "![image-20230719055841629](./assets/image-20230719055841629.png)\n",
    "\n",
    "\n",
    "\n",
    "\n",
    "Or we can mix them together\n",
    "\n",
    "`L[2:-1]`\n",
    "\n",
    "![image-20230719055856406](./assets/image-20230719055856406.png)\n",
    "\n",
    "`L[-4,-1]`\n",
    "\n",
    "![image-20230719055914019](./assets/image-20230719055914019.png)\n",
    "\n"
   ],
   "metadata": {
    "collapsed": false
   }
  },
  {
   "cell_type": "markdown",
   "source": [
    "#### Task\n",
    "\n",
    "Execute the following statements:\n",
    "\n",
    "```python\n",
    "L = [1,5]\n",
    "L3 = 3*L\n",
    "```"
   ],
   "metadata": {
    "collapsed": false
   }
  },
  {
   "cell_type": "code",
   "execution_count": 8,
   "outputs": [
    {
     "data": {
      "text/plain": "[1, 5, 1, 5, 1, 5]"
     },
     "execution_count": 8,
     "metadata": {},
     "output_type": "execute_result"
    }
   ],
   "source": [
    "L = [1,5]\n",
    "L3 = 3*L\n",
    "L3"
   ],
   "metadata": {
    "collapsed": false,
    "ExecuteTime": {
     "end_time": "2023-11-01T10:46:48.515317100Z",
     "start_time": "2023-11-01T10:46:48.493039900Z"
    }
   }
  },
  {
   "cell_type": "markdown",
   "source": [
    "1. What is the content of `L3`?\n",
    "\n",
    "2. Try to predict the outcome of the following command\n",
    "\n",
    "```python\n",
    "L3[0]\n",
    "L3[-1]\n",
    "L3[10]\n",
    "```"
   ],
   "metadata": {
    "collapsed": false
   }
  },
  {
   "cell_type": "code",
   "execution_count": 9,
   "outputs": [
    {
     "ename": "IndexError",
     "evalue": "list index out of range",
     "output_type": "error",
     "traceback": [
      "\u001B[1;31m---------------------------------------------------------------------------\u001B[0m",
      "\u001B[1;31mIndexError\u001B[0m                                Traceback (most recent call last)",
      "Cell \u001B[1;32mIn[9], line 1\u001B[0m\n\u001B[1;32m----> 1\u001B[0m \u001B[43mL3\u001B[49m\u001B[43m[\u001B[49m\u001B[38;5;241;43m10\u001B[39;49m\u001B[43m]\u001B[49m\n",
      "\u001B[1;31mIndexError\u001B[0m: list index out of range"
     ]
    }
   ],
   "source": [
    "L3[10]"
   ],
   "metadata": {
    "collapsed": false,
    "ExecuteTime": {
     "end_time": "2023-11-01T10:46:59.688242Z",
     "start_time": "2023-11-01T10:46:59.415473500Z"
    }
   }
  },
  {
   "cell_type": "markdown",
   "source": [
    "3. What does the following command do?\n",
    "\n",
    "```python\n",
    "L4 = [k**2 for k in L3]\n",
    "```"
   ],
   "metadata": {
    "collapsed": false
   }
  },
  {
   "cell_type": "code",
   "execution_count": 10,
   "outputs": [
    {
     "data": {
      "text/plain": "[1, 25, 1, 25, 1, 25]"
     },
     "execution_count": 10,
     "metadata": {},
     "output_type": "execute_result"
    }
   ],
   "source": [
    "L4 = [k**2 for k in L3]\n",
    "L4"
   ],
   "metadata": {
    "collapsed": false,
    "ExecuteTime": {
     "end_time": "2023-11-01T10:47:07.105607400Z",
     "start_time": "2023-11-01T10:47:07.094061200Z"
    }
   }
  },
  {
   "cell_type": "markdown",
   "source": [
    "4. Concatenate `L3` and `L4` to a new list `L5`"
   ],
   "metadata": {
    "collapsed": false
   }
  },
  {
   "cell_type": "code",
   "execution_count": 11,
   "outputs": [
    {
     "name": "stdout",
     "output_type": "stream",
     "text": [
      "[1, 5, 1, 5, 1, 5, 1, 25, 1, 25, 1, 25]\n"
     ]
    }
   ],
   "source": [
    "L3.extend(L4)\n",
    "print(L3)"
   ],
   "metadata": {
    "collapsed": false,
    "ExecuteTime": {
     "end_time": "2023-11-01T10:47:12.197207700Z",
     "start_time": "2023-11-01T10:47:12.170792100Z"
    }
   }
  },
  {
   "cell_type": "markdown",
   "source": [
    "### Altering List\n",
    "\n",
    "List can be deleted using the empty list `[]`\n",
    "\n",
    "```python\n",
    "L = ['a','b','c','d','e']\n",
    "L[2:3] = []\n",
    "L\n",
    "```"
   ],
   "metadata": {
    "collapsed": false
   }
  },
  {
   "cell_type": "code",
   "execution_count": 12,
   "outputs": [
    {
     "data": {
      "text/plain": "['a', 'b', 'd', 'e']"
     },
     "execution_count": 12,
     "metadata": {},
     "output_type": "execute_result"
    }
   ],
   "source": [
    "L = ['a','b','c','d','e']\n",
    "L[2:3] = []\n",
    "L"
   ],
   "metadata": {
    "collapsed": false,
    "ExecuteTime": {
     "end_time": "2023-11-01T10:47:27.871675300Z",
     "start_time": "2023-11-01T10:47:27.863774500Z"
    }
   }
  },
  {
   "cell_type": "markdown",
   "source": [
    "In addition Two list can be concatenated by plus operator +\n",
    "\n",
    "```python\n",
    "L = [1, -17]\n",
    "M = [-23.5, 18.3, 5.0]\n",
    "L+M\n",
    "```"
   ],
   "metadata": {
    "collapsed": false
   }
  },
  {
   "cell_type": "code",
   "execution_count": 13,
   "outputs": [
    {
     "data": {
      "text/plain": "[1, -17, -23.5, 18.3, 5.0]"
     },
     "execution_count": 13,
     "metadata": {},
     "output_type": "execute_result"
    }
   ],
   "source": [
    "L = [1, -17]\n",
    "M = [-23.5, 18.3, 5.0]\n",
    "L+M"
   ],
   "metadata": {
    "collapsed": false,
    "ExecuteTime": {
     "end_time": "2023-11-01T10:47:36.231186600Z",
     "start_time": "2023-11-01T10:47:36.223084400Z"
    }
   }
  },
  {
   "cell_type": "markdown",
   "source": [
    "### Belonging to a List\n",
    "\n",
    "in and not in to determine whetehr an element belongs to a list or not\n",
    "\n",
    "```python\n",
    "L = ['a', 1,'b',2]\n",
    "'a' in L\n",
    "```"
   ],
   "metadata": {
    "collapsed": false
   }
  },
  {
   "cell_type": "code",
   "execution_count": 14,
   "outputs": [
    {
     "data": {
      "text/plain": "True"
     },
     "execution_count": 14,
     "metadata": {},
     "output_type": "execute_result"
    }
   ],
   "source": [
    "L = ['a',1,'b',2]\n",
    "'a' in L"
   ],
   "metadata": {
    "collapsed": false,
    "ExecuteTime": {
     "end_time": "2023-11-01T10:47:43.329932200Z",
     "start_time": "2023-11-01T10:47:43.305307400Z"
    }
   }
  },
  {
   "cell_type": "markdown",
   "source": [
    "\n",
    "\n",
    "```python\n",
    "1 in L\n",
    "```"
   ],
   "metadata": {
    "collapsed": false
   }
  },
  {
   "cell_type": "code",
   "execution_count": null,
   "outputs": [],
   "source": [
    "1 in L\n"
   ],
   "metadata": {
    "collapsed": false
   }
  },
  {
   "cell_type": "markdown",
   "source": [
    "```python\n",
    "4 not in L\n",
    "```"
   ],
   "metadata": {
    "collapsed": false
   }
  },
  {
   "cell_type": "code",
   "execution_count": null,
   "outputs": [],
   "source": [
    "4 not in L\n"
   ],
   "metadata": {
    "collapsed": false
   }
  },
  {
   "cell_type": "markdown",
   "source": [
    "#### List Methods\n",
    "\n",
    "many useful Methods\n",
    "\n",
    "![image-20230719060506595](./assets/image-20230719060506595.png)\n",
    "\n",
    "Try\n",
    "\n",
    "```python\n",
    "L.reverse()\n",
    "L\n",
    "```"
   ],
   "metadata": {
    "collapsed": false
   }
  },
  {
   "cell_type": "code",
   "execution_count": 15,
   "outputs": [
    {
     "data": {
      "text/plain": "[2, 'b', 1, 'a']"
     },
     "execution_count": 15,
     "metadata": {},
     "output_type": "execute_result"
    }
   ],
   "source": [
    "L.reverse()\n",
    "L"
   ],
   "metadata": {
    "collapsed": false,
    "ExecuteTime": {
     "end_time": "2023-11-01T10:47:59.554353200Z",
     "start_time": "2023-11-01T10:47:59.546802800Z"
    }
   }
  },
  {
   "cell_type": "markdown",
   "source": [
    "```python\n",
    "L.append('y')\n",
    "```"
   ],
   "metadata": {
    "collapsed": false
   }
  },
  {
   "cell_type": "code",
   "execution_count": 16,
   "outputs": [],
   "source": [
    "L.append('y')"
   ],
   "metadata": {
    "collapsed": false,
    "ExecuteTime": {
     "end_time": "2023-11-01T10:48:04.039380300Z",
     "start_time": "2023-11-01T10:48:04.031629300Z"
    }
   }
  },
  {
   "cell_type": "markdown",
   "source": [
    "### Tuple\n",
    "- immutable list\n",
    "- cannot be modified\n",
    "- can be just a comma separated sequence of objects\n",
    "- or encloses the tuple in a pair of parentheses\n",
    "\n",
    "```\n",
    "my_tuple = 1, 2, 3\n",
    "my_tuple = (1, 2, 3)\n",
    "my_tuple = 1, 2, 3,\n",
    "```\n"
   ],
   "metadata": {
    "collapsed": false
   }
  },
  {
   "cell_type": "code",
   "execution_count": 17,
   "outputs": [],
   "source": [
    "my_tuple = 1, 2, 3\n",
    "my_tuple = (1, 2, 3)\n",
    "my_tuple = 1, 2, 3,"
   ],
   "metadata": {
    "collapsed": false,
    "ExecuteTime": {
     "end_time": "2023-11-01T10:48:10.399988900Z",
     "start_time": "2023-11-01T10:48:10.390871700Z"
    }
   }
  },
  {
   "cell_type": "markdown",
   "source": [
    "try\n",
    "\n",
    "```\n",
    "len(my_tuple)\n",
    "\n",
    "my_tuple[0] = 'a'\n",
    "```"
   ],
   "metadata": {
    "collapsed": false
   }
  },
  {
   "cell_type": "code",
   "execution_count": 18,
   "outputs": [
    {
     "ename": "TypeError",
     "evalue": "'tuple' object does not support item assignment",
     "output_type": "error",
     "traceback": [
      "\u001B[1;31m---------------------------------------------------------------------------\u001B[0m",
      "\u001B[1;31mTypeError\u001B[0m                                 Traceback (most recent call last)",
      "Cell \u001B[1;32mIn[18], line 3\u001B[0m\n\u001B[0;32m      1\u001B[0m \u001B[38;5;28mlen\u001B[39m(my_tuple)\n\u001B[1;32m----> 3\u001B[0m \u001B[43mmy_tuple\u001B[49m\u001B[43m[\u001B[49m\u001B[38;5;241;43m0\u001B[39;49m\u001B[43m]\u001B[49m \u001B[38;5;241m=\u001B[39m \u001B[38;5;124m'\u001B[39m\u001B[38;5;124ma\u001B[39m\u001B[38;5;124m'\u001B[39m\n",
      "\u001B[1;31mTypeError\u001B[0m: 'tuple' object does not support item assignment"
     ]
    }
   ],
   "source": [
    "len(my_tuple)\n",
    "\n",
    "my_tuple[0] = 'a'"
   ],
   "metadata": {
    "collapsed": false,
    "ExecuteTime": {
     "end_time": "2023-11-01T10:48:20.956057Z",
     "start_time": "2023-11-01T10:48:20.941656900Z"
    }
   }
  },
  {
   "cell_type": "markdown",
   "source": [
    "### Dictionaries\n",
    "\n",
    "\n",
    "\n",
    "- Lists, tuple are ordered set of object\n",
    "- object are inserted, accessed, and processed according to the **index** position\n",
    "- dictionary is an unordered set of pairs\n",
    "- access dictionary data by keys\n",
    "\n",
    "> The data can be created as followed\n",
    "\n",
    "```python\n",
    "truck_wheel = {\n",
    "              'name':'wheel',\n",
    "              'mass':5.7,\n",
    "              'Ix': 20.0,\n",
    "              'Iy': 1.,\n",
    "              'Iz' : 17.,\n",
    "              'center of mass': [0.,0.,0.]\n",
    "              }\n",
    "```"
   ],
   "metadata": {
    "collapsed": false
   }
  },
  {
   "cell_type": "code",
   "execution_count": 19,
   "outputs": [
    {
     "data": {
      "text/plain": "{'name': 'wheel',\n 'mass': 5.7,\n 'Ix': 20.0,\n 'Iy': 1.0,\n 'Iz': 17.0,\n 'center of mass': [0.0, 0.0, 0.0]}"
     },
     "execution_count": 19,
     "metadata": {},
     "output_type": "execute_result"
    }
   ],
   "source": [
    "truck_wheel = {\n",
    "              'name':'wheel',\n",
    "              'mass':5.7,\n",
    "              'Ix': 20.0,\n",
    "              'Iy': 1.,\n",
    "              'Iz' : 17.,\n",
    "              'center of mass': [0.,0.,0.]\n",
    "              }\n",
    "truck_wheel"
   ],
   "metadata": {
    "collapsed": false,
    "ExecuteTime": {
     "end_time": "2023-11-01T10:48:34.793032600Z",
     "start_time": "2023-11-01T10:48:34.783815200Z"
    }
   }
  },
  {
   "cell_type": "markdown",
   "source": [
    "The element can be accessed by their keys\n",
    "\n",
    "```python\n",
    "truck_wheel['name']\n",
    "truck_wheel['mass']\n",
    "```"
   ],
   "metadata": {
    "collapsed": false
   }
  },
  {
   "cell_type": "code",
   "execution_count": 20,
   "outputs": [
    {
     "data": {
      "text/plain": "5.7"
     },
     "execution_count": 20,
     "metadata": {},
     "output_type": "execute_result"
    }
   ],
   "source": [
    "truck_wheel['name']\n",
    "truck_wheel['mass']"
   ],
   "metadata": {
    "collapsed": false,
    "ExecuteTime": {
     "end_time": "2023-11-01T10:48:40.673894Z",
     "start_time": "2023-11-01T10:48:40.666153900Z"
    }
   }
  },
  {
   "cell_type": "markdown",
   "source": [
    "New objects are added to the dictionary by creating a new *key*\n",
    "\n",
    "```python\n",
    "truck_wheel['Ixy'] = 0.0\n",
    "truck_wheel\n",
    "```"
   ],
   "metadata": {
    "collapsed": false
   }
  },
  {
   "cell_type": "code",
   "execution_count": null,
   "outputs": [],
   "source": [
    "truck_wheel['Ixy'] = 0.0\n",
    "truck_wheel\n"
   ],
   "metadata": {
    "collapsed": false
   }
  },
  {
   "cell_type": "markdown",
   "source": [
    "#### Looping over dictionaries\n",
    "\n",
    "\n",
    "\n",
    "It can be done using the keys\n",
    "\n",
    "```python\n",
    "for key in truck_wheel.keys():\n",
    "  print(key)\n",
    "```\n",
    "\n",
    "or equivalently:\n",
    "\n",
    "```python\n",
    "for key in truck_wheel:\n",
    "  print(key)\n",
    "```"
   ],
   "metadata": {
    "collapsed": false
   }
  },
  {
   "cell_type": "code",
   "execution_count": 21,
   "outputs": [
    {
     "name": "stdout",
     "output_type": "stream",
     "text": [
      "name\n",
      "mass\n",
      "Ix\n",
      "Iy\n",
      "Iz\n",
      "center of mass\n"
     ]
    }
   ],
   "source": [
    "for key in truck_wheel:\n",
    "  print(key)"
   ],
   "metadata": {
    "collapsed": false,
    "ExecuteTime": {
     "end_time": "2023-11-01T10:48:51.388072Z",
     "start_time": "2023-11-01T10:48:51.379544800Z"
    }
   }
  },
  {
   "cell_type": "markdown",
   "source": [
    "ฺOr by values\n",
    "\n",
    "```python\n",
    "for value in truck_wheel.values():\n",
    "  print (value)\n",
    "```"
   ],
   "metadata": {
    "collapsed": false
   }
  },
  {
   "cell_type": "code",
   "execution_count": 22,
   "outputs": [
    {
     "name": "stdout",
     "output_type": "stream",
     "text": [
      "wheel\n",
      "5.7\n",
      "20.0\n",
      "1.0\n",
      "17.0\n",
      "[0.0, 0.0, 0.0]\n"
     ]
    }
   ],
   "source": [
    "for value in truck_wheel.values():\n",
    "  print (value)"
   ],
   "metadata": {
    "collapsed": false,
    "ExecuteTime": {
     "end_time": "2023-11-01T10:48:57.419581100Z",
     "start_time": "2023-11-01T10:48:57.410451200Z"
    }
   }
  },
  {
   "cell_type": "markdown",
   "source": [
    "To get by item (both, key and value pairs)\n",
    "\n",
    "```python\n",
    "for item in truck_wheel.items():\n",
    "  print(item)\n",
    "```"
   ],
   "metadata": {
    "collapsed": false
   }
  },
  {
   "cell_type": "code",
   "execution_count": 23,
   "outputs": [
    {
     "name": "stdout",
     "output_type": "stream",
     "text": [
      "('name', 'wheel')\n",
      "('mass', 5.7)\n",
      "('Ix', 20.0)\n",
      "('Iy', 1.0)\n",
      "('Iz', 17.0)\n",
      "('center of mass', [0.0, 0.0, 0.0])\n"
     ]
    }
   ],
   "source": [
    "for item in truck_wheel.items():\n",
    "  print(item)"
   ],
   "metadata": {
    "collapsed": false,
    "ExecuteTime": {
     "end_time": "2023-11-01T10:49:01.576900400Z",
     "start_time": "2023-11-01T10:49:01.568988600Z"
    }
   }
  },
  {
   "cell_type": "markdown",
   "source": [
    "### Sets\n",
    "\n",
    "\n",
    "\n",
    "- Sets is the same properties, and operation as set in methametics\n",
    "- collection of distint objects\n",
    "\n",
    "Some mathematic set expression are\n",
    "$$\n",
    "A = {1,2,3,4}, B = 5\\\\\n",
    "C = A \\cup B\\\\\n",
    "D = A \\cap B\\\\\n",
    "E = C \\backslash A\\\\\n",
    "$$\n",
    "Will equivaent to the code\n",
    "\n",
    "```python\n",
    "A = {1,2,3,4}\n",
    "B = {5}\n",
    "C = A.union(B)\n",
    "D = A.intersection(C)\n",
    "E = C.difference(A)\n",
    "5 in c\n",
    "```\n",
    "\n"
   ],
   "metadata": {
    "collapsed": false
   }
  },
  {
   "cell_type": "code",
   "execution_count": 25,
   "outputs": [
    {
     "data": {
      "text/plain": "True"
     },
     "execution_count": 25,
     "metadata": {},
     "output_type": "execute_result"
    }
   ],
   "source": [
    "A = {1,2,3,4}\n",
    "B = {5}\n",
    "C = A.union(B)\n",
    "D = A.intersection(C)\n",
    "E = C.difference(A)\n",
    "5 in C"
   ],
   "metadata": {
    "collapsed": false,
    "ExecuteTime": {
     "end_time": "2023-11-01T10:49:16.030684700Z",
     "start_time": "2023-11-01T10:49:16.023739Z"
    }
   }
  },
  {
   "cell_type": "markdown",
   "source": [
    "> Set contain element only once, see this\n",
    "\n",
    "```python\n",
    "A = {1,2,3,3,3}\n",
    "B = {1,2,3}\n",
    "A == B\n",
    "```"
   ],
   "metadata": {
    "collapsed": false
   }
  },
  {
   "cell_type": "code",
   "execution_count": 26,
   "outputs": [
    {
     "data": {
      "text/plain": "True"
     },
     "execution_count": 26,
     "metadata": {},
     "output_type": "execute_result"
    }
   ],
   "source": [
    "A = {1,2,3,3,3}\n",
    "B = {1,2,3}\n",
    "A == B"
   ],
   "metadata": {
    "collapsed": false,
    "ExecuteTime": {
     "end_time": "2023-11-01T10:49:21.196489800Z",
     "start_time": "2023-11-01T10:49:21.178082100Z"
    }
   }
  },
  {
   "cell_type": "markdown",
   "source": [
    "> and a set is unordered\n",
    "\n",
    "the order of set is not definded\n",
    "\n",
    "```python\n",
    "A = {1,2,3}\n",
    "B = {1,3,2}\n",
    "A == B\n",
    "```"
   ],
   "metadata": {
    "collapsed": false
   }
  },
  {
   "cell_type": "code",
   "execution_count": 27,
   "outputs": [
    {
     "data": {
      "text/plain": "True"
     },
     "execution_count": 27,
     "metadata": {},
     "output_type": "execute_result"
    }
   ],
   "source": [
    "A = {1,2,3}\n",
    "B = {1,3,2}\n",
    "A == B"
   ],
   "metadata": {
    "collapsed": false,
    "ExecuteTime": {
     "end_time": "2023-11-01T10:49:26.912919700Z",
     "start_time": "2023-11-01T10:49:26.905247700Z"
    }
   }
  },
  {
   "cell_type": "markdown",
   "source": [
    "## Type checking\n",
    "\n",
    "The direct way to see the type of a varialbe is to use the `type` command\n",
    "\n",
    "```python\n",
    "label = 'local error'\n",
    "type(label)\n",
    "```"
   ],
   "metadata": {
    "collapsed": false
   }
  },
  {
   "cell_type": "code",
   "execution_count": 28,
   "outputs": [
    {
     "data": {
      "text/plain": "str"
     },
     "execution_count": 28,
     "metadata": {},
     "output_type": "execute_result"
    }
   ],
   "source": [
    "label = 'local error'\n",
    "type(label)"
   ],
   "metadata": {
    "collapsed": false,
    "ExecuteTime": {
     "end_time": "2023-11-01T10:49:32.351299600Z",
     "start_time": "2023-11-01T10:49:32.329826100Z"
    }
   }
  },
  {
   "cell_type": "markdown",
   "source": [
    "```python\n",
    "x = [1,2]\n",
    "type(x)\n",
    "```"
   ],
   "metadata": {
    "collapsed": false
   }
  },
  {
   "cell_type": "code",
   "execution_count": 29,
   "outputs": [
    {
     "data": {
      "text/plain": "list"
     },
     "execution_count": 29,
     "metadata": {},
     "output_type": "execute_result"
    }
   ],
   "source": [
    "x = [1,2]\n",
    "type(x)"
   ],
   "metadata": {
    "collapsed": false,
    "ExecuteTime": {
     "end_time": "2023-11-01T10:49:36.295279Z",
     "start_time": "2023-11-01T10:49:36.271932Z"
    }
   }
  },
  {
   "cell_type": "markdown",
   "source": [
    "> To check that the data is this type or ot use `isinstance` Comparing with the type\n",
    "\n",
    "```python\n",
    "isinstance(x,list)\n",
    "```"
   ],
   "metadata": {
    "collapsed": false
   }
  },
  {
   "cell_type": "code",
   "execution_count": 30,
   "outputs": [
    {
     "data": {
      "text/plain": "True"
     },
     "execution_count": 30,
     "metadata": {},
     "output_type": "execute_result"
    }
   ],
   "source": [
    "isinstance(x,list)"
   ],
   "metadata": {
    "collapsed": false,
    "ExecuteTime": {
     "end_time": "2023-11-01T10:49:41.354044100Z",
     "start_time": "2023-11-01T10:49:41.342777500Z"
    }
   }
  },
  {
   "cell_type": "markdown",
   "source": [
    "## Task\n",
    "\n",
    "### Task 1 Fibonacci\n",
    "\n",
    "Write a function that computes the list of the first 100 Fibonacci numbers. By definition, the first two numbers in Fibonacci sequence are 0 and 1, and each subsequent number is the sum of the previous two. As an example, here are the first 10 Fibonacci numbers: 0,1,1,2,3,5,8,13,21, and 34\n",
    "\n",
    "![image-20230719061113056](./assets/image-20230719061113056.png)"
   ],
   "metadata": {
    "collapsed": false
   }
  },
  {
   "cell_type": "code",
   "execution_count": 31,
   "outputs": [
    {
     "data": {
      "text/plain": "[0, 1, 1]"
     },
     "execution_count": 31,
     "metadata": {},
     "output_type": "execute_result"
    }
   ],
   "source": [
    "def fibo(n):\n",
    "    if n ==1:\n",
    "        return [0]\n",
    "    output = [0,1]\n",
    "    i = 2\n",
    "    while (i<n):\n",
    "        newFibo = output[-1] + output[-2]\n",
    "        output.append(newFibo)\n",
    "        i = i+1\n",
    "        return output\n",
    "\n",
    "fibo(100)"
   ],
   "metadata": {
    "collapsed": false,
    "ExecuteTime": {
     "end_time": "2023-11-01T10:50:05.708621500Z",
     "start_time": "2023-11-01T10:50:05.677659900Z"
    }
   }
  },
  {
   "cell_type": "code",
   "execution_count": 33,
   "outputs": [
    {
     "ename": "IndentationError",
     "evalue": "expected an indented block after function definition on line 1 (3075140571.py, line 2)",
     "output_type": "error",
     "traceback": [
      "\u001B[1;36m  Cell \u001B[1;32mIn[33], line 2\u001B[1;36m\u001B[0m\n\u001B[1;33m    summ = 0\u001B[0m\n\u001B[1;37m    ^\u001B[0m\n\u001B[1;31mIndentationError\u001B[0m\u001B[1;31m:\u001B[0m expected an indented block after function definition on line 1\n"
     ]
    }
   ],
   "source": [
    "def fibonacci(n):\n",
    "summ = 0\n",
    "i = 0\n",
    "j = 1\n",
    "list_fibonacci = [i,j]\n",
    "while len(list_fibonacci) < n:\n",
    "summ = i + j\n",
    "list_fibonacci.append(summ)\n",
    "i = j\n",
    "j = summ\n",
    "print(list_fibonacci)\n",
    "\n",
    "fibonacci(20)"
   ],
   "metadata": {
    "collapsed": false,
    "ExecuteTime": {
     "end_time": "2023-11-01T10:50:43.111500800Z",
     "start_time": "2023-11-01T10:50:43.102711300Z"
    }
   }
  },
  {
   "cell_type": "markdown",
   "source": [
    "### Task 2 Morse code\n",
    "\n",
    "- Write a program that can generate the morse code from any text string\n",
    "- Each character is separate by space\n",
    "- Using `.` and `-` for the code\n",
    "\n",
    "<img src=\"./assets/800px-International_Morse_Code.svg.png\" style=\"zoom:33%;\" />\n",
    "\n",
    "**Hint**\n",
    "\n",
    "- where to find the character\n",
    "- [https://home.unicode.org/](https://colab.research.google.com/corgiredirector?site=https%3A%2F%2Fhome.unicode.org%2F&link_redirector=1)\n",
    "- [http://www.unicode.org/charts/](https://colab.research.google.com/corgiredirector?site=http%3A%2F%2Fwww.unicode.org%2Fcharts%2F&link_redirector=1)\n",
    "\n",
    "after getting the Unicode -> use the chr(0x2558) to convert to character"
   ],
   "metadata": {
    "collapsed": false
   }
  },
  {
   "cell_type": "code",
   "execution_count": 34,
   "outputs": [
    {
     "name": "stdout",
     "output_type": "stream",
     "text": [
      ".... . .-.. .-.. ---        .-- --- .-. .-.. -..\n"
     ]
    }
   ],
   "source": [
    "MORSE_CODE_DICT = {\n",
    "    'A': '.-', 'B': '-...', 'C': '-.-.', 'D': '-..', 'E': '.', 'F': '..-.', 'G': '--.', 'H': '....', 'I': '..',\n",
    "    'J': '.---', 'K': '-.-', 'L': '.-..', 'M': '--', 'N': '-.', 'O': '---', 'P': '.--.', 'Q': '--.-', 'R': '.-.',\n",
    "    'S': '...', 'T': '-', 'U': '..-', 'V': '...-', 'W': '.--', 'X': '-..-', 'Y': '-.--', 'Z': '--..',\n",
    "    '1': '.----', '2': '..---', '3': '...--', '4': '....-', '5': '.....', '6': '-....', '7': '--...',\n",
    "    '8': '---..', '9': '----.', '0': '-----'\n",
    "}\n",
    "\n",
    "def text_to_morse(text):\n",
    "    morse_code = []\n",
    "\n",
    "    for char in text:\n",
    "        if char == ' ':\n",
    "            morse_code.append(' ' * 7)  # space between words is seven units\n",
    "        else:\n",
    "            morse_code.append(MORSE_CODE_DICT[char.upper()])\n",
    "            morse_code.append(' ')  # space between characters\n",
    "\n",
    "    return ''.join(morse_code).strip()\n",
    "\n",
    "# Test\n",
    "text = \"HELLO WORLD\"\n",
    "print(text_to_morse(text))"
   ],
   "metadata": {
    "collapsed": false,
    "ExecuteTime": {
     "end_time": "2023-11-01T10:51:06.926491800Z",
     "start_time": "2023-11-01T10:51:06.903361100Z"
    }
   }
  },
  {
   "cell_type": "markdown",
   "source": [
    "### Task 3 Largest Formed Number - just for fun\n",
    "\n",
    "Write a program that accepts a list of four non negative integers, arranges them such that they form a largest possible number.\n",
    "\n",
    "For example [50,2,1,9], the largest formed number is 95021\n",
    "\n",
    "Be carefull if [10,1] the answer is not 101 but 110"
   ],
   "metadata": {
    "collapsed": false
   }
  },
  {
   "cell_type": "code",
   "execution_count": 35,
   "outputs": [
    {
     "name": "stdout",
     "output_type": "stream",
     "text": [
      "95021\n",
      "110\n"
     ]
    }
   ],
   "source": [
    "nums = [50, 2, 1, 9]\n",
    "\n",
    "# Convert integers to strings for easier comparison\n",
    "nums_str = [str(num) for num in nums]\n",
    "\n",
    "# Custom sort using comparison of concatenated strings\n",
    "for i in range(len(nums_str)):\n",
    "    for j in range(i+1, len(nums_str)):\n",
    "        if nums_str[i] + nums_str[j] < nums_str[j] + nums_str[i]:\n",
    "            nums_str[i], nums_str[j] = nums_str[j], nums_str[i]\n",
    "\n",
    "largest_number = int(''.join(nums_str))\n",
    "\n",
    "print(largest_number)  # Expected output: 95021\n",
    "\n",
    "# Another example\n",
    "nums = [10, 1]\n",
    "nums_str = [str(num) for num in nums]\n",
    "\n",
    "for i in range(len(nums_str)):\n",
    "    for j in range(i+1, len(nums_str)):\n",
    "        if nums_str[i] + nums_str[j] < nums_str[j] + nums_str[i]:\n",
    "            nums_str[i], nums_str[j] = nums_str[j], nums_str[i]\n",
    "\n",
    "largest_number = int(''.join(nums_str))\n",
    "\n",
    "print(largest_number)  # Expected output: 110"
   ],
   "metadata": {
    "collapsed": false,
    "ExecuteTime": {
     "end_time": "2023-11-01T10:51:16.529076700Z",
     "start_time": "2023-11-01T10:51:16.522478Z"
    }
   }
  }
 ],
 "metadata": {
  "kernelspec": {
   "display_name": "Python 3",
   "language": "python",
   "name": "python3"
  },
  "language_info": {
   "codemirror_mode": {
    "name": "ipython",
    "version": 2
   },
   "file_extension": ".py",
   "mimetype": "text/x-python",
   "name": "python",
   "nbconvert_exporter": "python",
   "pygments_lexer": "ipython2",
   "version": "2.7.6"
  }
 },
 "nbformat": 4,
 "nbformat_minor": 0
}
