{
 "cells": [
  {
   "cell_type": "markdown",
   "source": [
    "## Task1\n",
    "In a program, Students have to input their information to check what type of him.\n",
    "\n",
    "The system will ask for student type which can be ‘f’ for full time student and ‘p’ for part-time student.\n",
    "\n",
    "If the gpa is greater than 2.00 and his age is more than 23 then the application will return “you are adult”\n",
    "\n",
    "If the gpa is less than 2 , the application will check that the student is a part time student or the age is more than 23, if it is, the application will return “you need more time to prepare yourselves” otherwise it will return “Good luck in your study”)"
   ],
   "metadata": {
    "collapsed": false
   }
  },
  {
   "cell_type": "code",
   "execution_count": 1,
   "outputs": [
    {
     "name": "stdout",
     "output_type": "stream",
     "text": [
      "Good luck in your study.\n"
     ]
    }
   ],
   "source": [
    "def student_type_check():\n",
    "    # Input student type\n",
    "    student_type = input(\"Enter your student type (f for full-time, p for part-time): \").lower()\n",
    "\n",
    "    # Check if student type input is valid\n",
    "    if student_type not in ('f', 'p'):\n",
    "        print(\"Invalid input for student type. Please enter 'f' or 'p'.\")\n",
    "        return\n",
    "\n",
    "    # Input GPA and Age\n",
    "    try:\n",
    "        gpa = float(input(\"Enter your GPA: \"))\n",
    "        age = int(input(\"Enter your age: \"))\n",
    "    except ValueError:\n",
    "        print(\"Invalid input for GPA or age. Please enter valid numbers.\")\n",
    "        return\n",
    "\n",
    "    # Check conditions\n",
    "    if gpa > 2.00 and age > 23:\n",
    "        print(\"You are an adult.\")\n",
    "    elif gpa < 2 and (student_type == 'p' or age > 23):\n",
    "        print(\"You need more time to prepare yourselves.\")\n",
    "    else:\n",
    "        print(\"Good luck in your study.\")\n",
    "\n",
    "# Run the function\n",
    "student_type_check()\n"
   ],
   "metadata": {
    "collapsed": false,
    "ExecuteTime": {
     "end_time": "2023-11-05T13:48:20.661704500Z",
     "start_time": "2023-11-05T13:48:06.866847300Z"
    }
   }
  },
  {
   "cell_type": "markdown",
   "source": [
    "## Task2\n",
    "\n",
    "Write a program that performs a plus-one cipher.\n",
    "\n",
    "Example:\n",
    "\n",
    "> <span style=\"color: SkyBlue\">Please enter a string: </span><span style=\"color:Red\"><b>ABC</b></span>\n",
    ">\n",
    "> <span style=\"color:SkyBlue\">The plus one cipher is <b>BCD</b></span>\n",
    "\n",
    "**Hint**\n",
    "\n",
    "The string can be concatenated by \"+\" symbol\n",
    "\n",
    "```python\n",
    "output = 'x' + 'y'\n",
    "print(output)\n",
    "```\n",
    "\n",
    "\n"
   ],
   "metadata": {
    "collapsed": false
   }
  },
  {
   "cell_type": "code",
   "execution_count": 2,
   "outputs": [
    {
     "name": "stdout",
     "output_type": "stream",
     "text": [
      "The plus one cipher is 4,6\n"
     ]
    }
   ],
   "source": [
    "def plus_one_cipher(input_string):\n",
    "    # Cipher the input string by adding one to the ASCII value of each character\n",
    "    ciphered_string = ''.join(chr(ord(char) + 1) for char in input_string)\n",
    "    return ciphered_string\n",
    "\n",
    "# Get user input\n",
    "user_input = input(\"Please enter a string: \")\n",
    "ciphered_output = plus_one_cipher(user_input)\n",
    "\n",
    "# Display the result\n",
    "print(\"The plus one cipher is \" + ciphered_output)"
   ],
   "metadata": {
    "collapsed": false,
    "ExecuteTime": {
     "end_time": "2023-11-05T13:48:35.834514Z",
     "start_time": "2023-11-05T13:48:25.597737200Z"
    }
   }
  },
  {
   "cell_type": "markdown",
   "source": [],
   "metadata": {
    "collapsed": false
   }
  },
  {
   "cell_type": "code",
   "execution_count": 3,
   "outputs": [
    {
     "ename": "SyntaxError",
     "evalue": "invalid character '“' (U+201C) (2512408620.py, line 3)",
     "output_type": "error",
     "traceback": [
      "\u001B[1;36m  Cell \u001B[1;32mIn[3], line 3\u001B[1;36m\u001B[0m\n\u001B[1;33m    In a digital circuit, the number is only “0” or “1”. When we add, if we add without carry-on digit. It is the half adder, the half adder receives two digit value and returns the output (s as a sum bit), and c the carry-on (c as carry-on bit) from the adder. the block diagram of the half-adder as given\u001B[0m\n\u001B[1;37m                                             ^\u001B[0m\n\u001B[1;31mSyntaxError\u001B[0m\u001B[1;31m:\u001B[0m invalid character '“' (U+201C)\n"
     ]
    }
   ],
   "source": [
    "## Task 3\n",
    "\n",
    "In a digital circuit, the number is only “0” or “1”. When we add, if we add without carry-on digit. It is the half adder, the half adder receives two digit value and returns the output (s as a sum bit), and c the carry-on (c as carry-on bit) from the adder. the block diagram of the half-adder as given\n",
    "\n",
    "![download (7)](./assets/download(7).png)\n",
    "\n",
    "Making half adder circuit that can find the result of the summation of two digits using logic gates (AND, OR, NOT, NOR, NAND, XOR)\n",
    "\n",
    "**Hint**\n",
    "\n",
    "1. create the function which receives two digit value, and return the output of each logic gate AND, OR, and NOT\n",
    "2. NOR and NAND is the not Or, and Not And. So you can create the functions from AND, OR, NOT function\n",
    "3. using the methods to create a new half-adder functions The half adder is created using this circuit\n",
    "4. as there are two outputs, two functions are required, one for sum bit output, and the other for carry-on bit output\n",
    "\n",
    "![download (8)](./assets/download(8).png)\n",
    "\n"
   ],
   "metadata": {
    "collapsed": false,
    "ExecuteTime": {
     "end_time": "2023-11-05T13:48:41.110727200Z",
     "start_time": "2023-11-05T13:48:41.104718Z"
    }
   }
  },
  {
   "cell_type": "markdown",
   "source": [
    "## Task 4\n",
    "\n",
    "from the half adder function, create the full adder. The full adder is to added to data, wit the carry in input. the block diagram is shown as given\n",
    "\n",
    "![download (9)](./assets/download(9).png)\n",
    "\n"
   ],
   "metadata": {
    "collapsed": false
   }
  },
  {
   "cell_type": "code",
   "execution_count": 4,
   "outputs": [
    {
     "name": "stdout",
     "output_type": "stream",
     "text": [
      "SUM: 0, CARRY OUT: 1\n"
     ]
    }
   ],
   "source": [
    "def half_adder(A, B):\n",
    "    S = A ^ B\n",
    "    C_out = A & B\n",
    "    return S, C_out\n",
    "\n",
    "def full_adder(A, B, C_in):\n",
    "    # First half adder\n",
    "    S1, C1 = half_adder(A, B)\n",
    "\n",
    "    # Second half adder\n",
    "    S, C2 = half_adder(S1, C_in)\n",
    "\n",
    "    # OR operation to get final carry out\n",
    "    C_out = C1 | C2\n",
    "    return S, C_out\n",
    "\n",
    "# Test\n",
    "A = 1\n",
    "B = 0\n",
    "C_in = 1\n",
    "S, C_out = full_adder(A, B, C_in)\n",
    "print(f\"SUM: {S}, CARRY OUT: {C_out}\")"
   ],
   "metadata": {
    "collapsed": false,
    "ExecuteTime": {
     "end_time": "2023-11-05T13:49:04.953359400Z",
     "start_time": "2023-11-05T13:49:04.942424800Z"
    }
   }
  },
  {
   "cell_type": "markdown",
   "source": [
    "## Task 5: Duplicate words in a sentence\n",
    "\n",
    "Write a program that accepts a sequence of whitespace-separated words as input and prints them after removing all duplicate words and sorting them alphabetically.\n",
    "\n",
    "Suppose the following input is supplied to the program:\n",
    "\n",
    "> Hello world, and practice make perfect, and hello world again.\n",
    "\n",
    "Then the output should be:\n",
    "\n",
    "> again and hello makes perfect practice world\n",
    "\n",
    "\n",
    "\n"
   ],
   "metadata": {
    "collapsed": false
   }
  },
  {
   "cell_type": "code",
   "execution_count": 5,
   "outputs": [
    {
     "name": "stdout",
     "output_type": "stream",
     "text": [
      "again and hello Hello make perfect practice world\n"
     ]
    }
   ],
   "source": [
    "def remove_duplicates_and_sort(sentence):\n",
    "    # Split the sentence into words\n",
    "    words = sentence.split()\n",
    "\n",
    "    # Remove punctuation and make words lowercase\n",
    "    words = [word.strip(\".,!?()[]{}:;'\\\"\") for word in words]\n",
    "\n",
    "    # Remove duplicates and sort the words\n",
    "    sorted_unique_words = sorted(set(words), key=str.lower)\n",
    "\n",
    "    # Join the words back into a sentence\n",
    "    result = \" \".join(sorted_unique_words)\n",
    "\n",
    "    return result\n",
    "\n",
    "# Test the function\n",
    "sentence = \"Hello world, and practice make perfect, and hello world again.\"\n",
    "print(remove_duplicates_and_sort(sentence))"
   ],
   "metadata": {
    "collapsed": false,
    "ExecuteTime": {
     "end_time": "2023-11-05T13:49:22.394639100Z",
     "start_time": "2023-11-05T13:49:22.388125600Z"
    }
   }
  },
  {
   "cell_type": "markdown",
   "source": [
    "## Task 6: Find 4-digits-binary that is divisible by 5\n",
    "\n",
    "Write a program that accepts a sequence of comma-separated 4-digit binary numbers as its input and then check whether they are divisible by 5. The numbers divisible by 5 are to be printed in a comma-separated sequence.\n",
    "\n",
    "Example:\n",
    "\n",
    "> 0100,0011,1010,1001\n",
    "\n",
    "Then the output should be\n",
    "\n",
    "> 1010"
   ],
   "metadata": {
    "collapsed": false
   }
  },
  {
   "cell_type": "code",
   "execution_count": 9,
   "outputs": [
    {
     "name": "stdout",
     "output_type": "stream",
     "text": [
      "\n"
     ]
    }
   ],
   "source": [
    "# Function to check if binary is divisible by 5\n",
    "def is_divisible_by_5(binary_string):\n",
    "    decimal_value = int(binary_string, 2)\n",
    "    return decimal_value % 5 == 0\n",
    "\n",
    "# Input the comma-separated sequence\n",
    "binary_sequence = input().split(',')\n",
    "\n",
    "# Filter and store the binaries that are divisible by 5\n",
    "output = [binary for binary in binary_sequence if is_divisible_by_5(binary)]\n",
    "\n",
    "# Print the result\n",
    "print(','.join(output))"
   ],
   "metadata": {
    "collapsed": false,
    "ExecuteTime": {
     "end_time": "2023-11-05T13:50:02.970653100Z",
     "start_time": "2023-11-05T13:50:01.955030600Z"
    }
   }
  },
  {
   "cell_type": "markdown",
   "source": [
    "## Task 7: Number Value\n",
    "\n",
    "Write a program that computes the value of `a+aa+aaa+aaaa` with a given digit as the value of a\n",
    "\n",
    "Support the following input is supplied to the program, for example\n",
    "\n",
    "> input 9\n",
    "\n",
    "Then the output should be\n",
    "\n",
    "> 11106\n",
    "\n"
   ],
   "metadata": {
    "collapsed": false
   }
  },
  {
   "cell_type": "code",
   "execution_count": 10,
   "outputs": [
    {
     "name": "stdout",
     "output_type": "stream",
     "text": [
      "41832464\n"
     ]
    }
   ],
   "source": [
    "# Input the digit\n",
    "n = input()\n",
    "\n",
    "# Compute the value of n + nn + nnn + nnnn\n",
    "result = int(n) + int(n*2) + int(n*3) + int(n*4)\n",
    "\n",
    "# Print the result\n",
    "print(result)"
   ],
   "metadata": {
    "collapsed": false,
    "ExecuteTime": {
     "end_time": "2023-11-05T13:50:29.096207200Z",
     "start_time": "2023-11-05T13:50:26.457958400Z"
    }
   }
  },
  {
   "cell_type": "markdown",
   "source": [
    "## Task 8: Palindrome\n",
    "\n",
    "Write a program to generate the shortest palindrome word (e.g. DAD, AVOVA) in a given word.\n",
    "\n",
    "Example\n",
    "\n",
    "Input: ABCD\n",
    "\n",
    "Output: ABCDCBA\n",
    "\n",
    "Input: CAC\n",
    "\n",
    "Output: CAC\n",
    "\n",
    "Input: HELLO\n",
    "\n",
    "Output: HELLOLLEH\n",
    "\n",
    "Input: ABCDEDC\n",
    "\n",
    "Output: ABCDEDCBA"
   ],
   "metadata": {
    "collapsed": false
   }
  },
  {
   "cell_type": "code",
   "execution_count": 11,
   "outputs": [
    {
     "name": "stdout",
     "output_type": "stream",
     "text": [
      "Input: ABCD\n",
      "Output: ABCDCBA\n",
      "\n",
      "Input: CAC\n",
      "Output: CAC\n",
      "\n",
      "Input: HELLO\n",
      "Output: HELLOLLEH\n",
      "\n",
      "Input: ABCEDC\n",
      "Output: ABCEDCDECBA\n",
      "\n"
     ]
    }
   ],
   "source": [
    "def shortest_palindrome(word):\n",
    "    # If the word is already a palindrome, return it\n",
    "    if word == word[::-1]:\n",
    "        return word\n",
    "\n",
    "    # Iterate to find the shortest palindrome\n",
    "    for i in range(len(word)):\n",
    "        if word[i:] == word[i:][::-1]:\n",
    "            return word + word[:i][::-1]\n",
    "    return word + word[::-1]\n",
    "\n",
    "# Test cases\n",
    "words = [\"ABCD\", \"CAC\", \"HELLO\", \"ABCEDC\"]\n",
    "for word in words:\n",
    "    print(\"Input:\", word)\n",
    "    print(\"Output:\", shortest_palindrome(word))\n",
    "    print()"
   ],
   "metadata": {
    "collapsed": false,
    "ExecuteTime": {
     "end_time": "2023-11-05T13:50:48.020187500Z",
     "start_time": "2023-11-05T13:50:48.004239900Z"
    }
   }
  }
 ],
 "metadata": {
  "kernelspec": {
   "display_name": "Python 3",
   "language": "python",
   "name": "python3"
  },
  "language_info": {
   "codemirror_mode": {
    "name": "ipython",
    "version": 2
   },
   "file_extension": ".py",
   "mimetype": "text/x-python",
   "name": "python",
   "nbconvert_exporter": "python",
   "pygments_lexer": "ipython2",
   "version": "2.7.6"
  }
 },
 "nbformat": 4,
 "nbformat_minor": 0
}
