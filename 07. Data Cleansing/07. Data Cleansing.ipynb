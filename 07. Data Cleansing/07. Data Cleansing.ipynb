{
 "nbformat": 4,
 "nbformat_minor": 0,
 "metadata": {
  "colab": {
   "provenance": [],
   "toc_visible": true
  },
  "kernelspec": {
   "name": "python3",
   "language": "python",
   "display_name": "Python 3 (ipykernel)"
  }
 },
 "cells": [
  {
   "cell_type": "markdown",
   "metadata": {
    "id": "3unlrbW0yna1"
   },
   "source": [
    "# Data cleansing"
   ]
  },
  {
   "cell_type": "markdown",
   "metadata": {
    "id": "vb65ne0Yyt-J"
   },
   "source": [
    "During the course of doing data analysis and modeling, a significant amount of time is spent on data preparation:\n",
    "\n",
    "*   loading\n",
    "*   cleaning\n",
    "*   transforming\n",
    "*   rearraging\n",
    "\n",
    "Such tasks are often reported to take up 80% or more of an analyst’s time.\n"
   ]
  },
  {
   "cell_type": "markdown",
   "metadata": {
    "id": "v833DabazP_C"
   },
   "source": [
    "What can happen with the loading data are\n",
    "* missing data\n",
    "* duplicate data\n",
    "* string manipulation\n",
    "* other analytical data transformation\n"
   ]
  },
  {
   "cell_type": "markdown",
   "metadata": {
    "id": "_0vA7ybSzf8p"
   },
   "source": [
    "## Missing data\n",
    "---\n",
    "\n",
    "Some data are imperfect, but it is functional for lot of users\n",
    "\n",
    "For numeric data,\n",
    "  Pandas use Nan ``` Nan``` (Not a Number) to represent the number\n",
    "\n",
    "So call a *sentinel value*\n",
    "\n"
   ]
  },
  {
   "cell_type": "markdown",
   "metadata": {
    "id": "BWIBL6Gn0fxi"
   },
   "source": [
    "**To detect the missing data**\n",
    "\n",
    "---\n",
    "\n",
    "\n",
    "Check by `isNull` value\n",
    "\n",
    "```python\n",
    "import pandas as pd\n",
    "import numpy as np\n",
    "```\n",
    "\n",
    "\n",
    "\n",
    "```python\n",
    "string_data = pd.Series(['aardvark', 'artichoke', np.nan, 'avocado'])\n",
    "string_data\n",
    "```"
   ]
  },
  {
   "cell_type": "code",
   "metadata": {
    "id": "0bHTFKpH004n",
    "ExecuteTime": {
     "end_time": "2023-11-01T07:09:01.144353600Z",
     "start_time": "2023-11-01T07:09:00.838614200Z"
    }
   },
   "source": [
    "import pandas as pd\n",
    "import numpy as np"
   ],
   "execution_count": 1,
   "outputs": []
  },
  {
   "cell_type": "code",
   "execution_count": 2,
   "outputs": [
    {
     "data": {
      "text/plain": "0     aardvark\n1    artichoke\n2          NaN\n3      avocado\ndtype: object"
     },
     "execution_count": 2,
     "metadata": {},
     "output_type": "execute_result"
    }
   ],
   "source": [
    "string_data = pd.Series(['aardvark', 'artichoke', np.nan, 'avocado'])\n",
    "string_data"
   ],
   "metadata": {
    "collapsed": false,
    "ExecuteTime": {
     "end_time": "2023-11-01T07:09:03.707142200Z",
     "start_time": "2023-11-01T07:09:03.686028300Z"
    }
   }
  },
  {
   "cell_type": "markdown",
   "metadata": {
    "id": "K6jIx9Eq0_BD"
   },
   "source": [
    "check for null value\n",
    "\n",
    "```python\n",
    "string_data.isnull()\n",
    "```"
   ]
  },
  {
   "cell_type": "code",
   "metadata": {
    "id": "eJHHG0rp0-Hb",
    "colab": {
     "base_uri": "https://localhost:8080/"
    },
    "outputId": "3818fbe9-663b-41e7-d1da-5af3eb86fcea",
    "ExecuteTime": {
     "end_time": "2023-11-01T07:09:06.311684Z",
     "start_time": "2023-11-01T07:09:06.296447600Z"
    }
   },
   "source": [
    "string_data.isnull()"
   ],
   "execution_count": 3,
   "outputs": [
    {
     "data": {
      "text/plain": "0    False\n1    False\n2     True\n3    False\ndtype: bool"
     },
     "execution_count": 3,
     "metadata": {},
     "output_type": "execute_result"
    }
   ]
  },
  {
   "cell_type": "markdown",
   "metadata": {
    "id": "rEkp5apnn1j8"
   },
   "source": [
    "The N/A handling method are provided in the data frame as given\n",
    "\n",
    "![image-20230906053837943](./assets/image-20230906053837943.png)\n"
   ]
  },
  {
   "cell_type": "markdown",
   "metadata": {
    "id": "oKUzjEkXn-X8"
   },
   "source": [
    "### Filtering the data\n",
    "---\n",
    "\n",
    "\n",
    "The *NA* data can filtering out as shown\n",
    "\n",
    "```python\n",
    "from numpy import nan as NA\n",
    "data = pd.Series([1, NA, 3.5, NA, 7])\n",
    "data\n",
    "```"
   ]
  },
  {
   "cell_type": "code",
   "metadata": {
    "id": "Qf7S8CV4oNYA",
    "colab": {
     "base_uri": "https://localhost:8080/"
    },
    "outputId": "4e299cd2-a56e-49b4-b9d1-7193a94f50db",
    "ExecuteTime": {
     "end_time": "2023-11-01T07:09:16.612432200Z",
     "start_time": "2023-11-01T07:09:16.596475600Z"
    }
   },
   "source": [
    "from numpy import nan as NA\n",
    "data = pd.Series([1, NA, 3.5, NA, 7])\n",
    "data"
   ],
   "execution_count": 4,
   "outputs": [
    {
     "data": {
      "text/plain": "0    1.0\n1    NaN\n2    3.5\n3    NaN\n4    7.0\ndtype: float64"
     },
     "execution_count": 4,
     "metadata": {},
     "output_type": "execute_result"
    }
   ]
  },
  {
   "cell_type": "markdown",
   "source": [
    "The `dropna` method will filter out the NA value\n",
    "\n",
    "```python\n",
    "data.dropna()\n",
    "```"
   ],
   "metadata": {
    "collapsed": false
   }
  },
  {
   "cell_type": "code",
   "metadata": {
    "id": "OYtMwrAEoTlu",
    "colab": {
     "base_uri": "https://localhost:8080/"
    },
    "outputId": "dbcc03a1-9ca8-4451-eb57-e5747e286eab",
    "ExecuteTime": {
     "end_time": "2023-11-01T07:09:22.065817400Z",
     "start_time": "2023-11-01T07:09:22.061457800Z"
    }
   },
   "source": [
    "data.dropna()"
   ],
   "execution_count": 5,
   "outputs": [
    {
     "data": {
      "text/plain": "0    1.0\n2    3.5\n4    7.0\ndtype: float64"
     },
     "execution_count": 5,
     "metadata": {},
     "output_type": "execute_result"
    }
   ]
  },
  {
   "cell_type": "markdown",
   "metadata": {
    "id": "5VjogjPToVnH"
   },
   "source": [
    "the data frame can be also filter\n",
    "\n",
    "```python\n",
    "data = pd.DataFrame([[1., 6.5, 3.], [1., NA, NA],\n",
    "                     [NA, NA, NA], [NA, 6.5, 3.]])\n",
    "data\n",
    "```"
   ]
  },
  {
   "cell_type": "code",
   "metadata": {
    "id": "wIrVY1VXocKR",
    "colab": {
     "base_uri": "https://localhost:8080/",
     "height": 175
    },
    "outputId": "75136092-34e4-456e-f430-7e69edf4955c",
    "ExecuteTime": {
     "end_time": "2023-11-01T07:09:27.737465700Z",
     "start_time": "2023-11-01T07:09:27.721341Z"
    }
   },
   "source": [
    "data = pd.DataFrame([[1., 6.5, 3.], [1., NA, NA],\n",
    "                     [NA, NA, NA], [NA, 6.5, 3.]])\n",
    "data"
   ],
   "execution_count": 6,
   "outputs": [
    {
     "data": {
      "text/plain": "     0    1    2\n0  1.0  6.5  3.0\n1  1.0  NaN  NaN\n2  NaN  NaN  NaN\n3  NaN  6.5  3.0",
      "text/html": "<div>\n<style scoped>\n    .dataframe tbody tr th:only-of-type {\n        vertical-align: middle;\n    }\n\n    .dataframe tbody tr th {\n        vertical-align: top;\n    }\n\n    .dataframe thead th {\n        text-align: right;\n    }\n</style>\n<table border=\"1\" class=\"dataframe\">\n  <thead>\n    <tr style=\"text-align: right;\">\n      <th></th>\n      <th>0</th>\n      <th>1</th>\n      <th>2</th>\n    </tr>\n  </thead>\n  <tbody>\n    <tr>\n      <th>0</th>\n      <td>1.0</td>\n      <td>6.5</td>\n      <td>3.0</td>\n    </tr>\n    <tr>\n      <th>1</th>\n      <td>1.0</td>\n      <td>NaN</td>\n      <td>NaN</td>\n    </tr>\n    <tr>\n      <th>2</th>\n      <td>NaN</td>\n      <td>NaN</td>\n      <td>NaN</td>\n    </tr>\n    <tr>\n      <th>3</th>\n      <td>NaN</td>\n      <td>6.5</td>\n      <td>3.0</td>\n    </tr>\n  </tbody>\n</table>\n</div>"
     },
     "execution_count": 6,
     "metadata": {},
     "output_type": "execute_result"
    }
   ]
  },
  {
   "cell_type": "markdown",
   "source": [
    "The `dropna` method will drop all the rows which contains NA value\n",
    "\n",
    "\n",
    "```python\n",
    "cleaned = data.dropna()\n",
    "cleaned\n",
    "```"
   ],
   "metadata": {
    "collapsed": false
   }
  },
  {
   "cell_type": "code",
   "metadata": {
    "id": "eyubfD1NohAc",
    "colab": {
     "base_uri": "https://localhost:8080/",
     "height": 81
    },
    "outputId": "2681cdba-a99f-4577-8482-99933aa500d5",
    "ExecuteTime": {
     "end_time": "2023-11-01T07:09:33.229509200Z",
     "start_time": "2023-11-01T07:09:33.213614100Z"
    }
   },
   "source": [
    "cleaned = data.dropna()\n",
    "cleaned"
   ],
   "execution_count": 7,
   "outputs": [
    {
     "data": {
      "text/plain": "     0    1    2\n0  1.0  6.5  3.0",
      "text/html": "<div>\n<style scoped>\n    .dataframe tbody tr th:only-of-type {\n        vertical-align: middle;\n    }\n\n    .dataframe tbody tr th {\n        vertical-align: top;\n    }\n\n    .dataframe thead th {\n        text-align: right;\n    }\n</style>\n<table border=\"1\" class=\"dataframe\">\n  <thead>\n    <tr style=\"text-align: right;\">\n      <th></th>\n      <th>0</th>\n      <th>1</th>\n      <th>2</th>\n    </tr>\n  </thead>\n  <tbody>\n    <tr>\n      <th>0</th>\n      <td>1.0</td>\n      <td>6.5</td>\n      <td>3.0</td>\n    </tr>\n  </tbody>\n</table>\n</div>"
     },
     "execution_count": 7,
     "metadata": {},
     "output_type": "execute_result"
    }
   ]
  },
  {
   "cell_type": "markdown",
   "metadata": {
    "id": "O-SGEM7Vommi"
   },
   "source": [
    "**We** can drop only the line which contains **NA** all the rows usign `how='all'`\n",
    "\n",
    "```python\n",
    "data.dropna(how='all')\n",
    "```"
   ]
  },
  {
   "cell_type": "code",
   "metadata": {
    "id": "ybrBfA_8ouD5",
    "colab": {
     "base_uri": "https://localhost:8080/",
     "height": 143
    },
    "outputId": "143fd3cd-ac98-4645-8ca1-18e3d93bb1cd",
    "ExecuteTime": {
     "end_time": "2023-11-01T07:09:38.395459Z",
     "start_time": "2023-11-01T07:09:38.373825200Z"
    }
   },
   "source": [
    "data.dropna(how='all')"
   ],
   "execution_count": 8,
   "outputs": [
    {
     "data": {
      "text/plain": "     0    1    2\n0  1.0  6.5  3.0\n1  1.0  NaN  NaN\n3  NaN  6.5  3.0",
      "text/html": "<div>\n<style scoped>\n    .dataframe tbody tr th:only-of-type {\n        vertical-align: middle;\n    }\n\n    .dataframe tbody tr th {\n        vertical-align: top;\n    }\n\n    .dataframe thead th {\n        text-align: right;\n    }\n</style>\n<table border=\"1\" class=\"dataframe\">\n  <thead>\n    <tr style=\"text-align: right;\">\n      <th></th>\n      <th>0</th>\n      <th>1</th>\n      <th>2</th>\n    </tr>\n  </thead>\n  <tbody>\n    <tr>\n      <th>0</th>\n      <td>1.0</td>\n      <td>6.5</td>\n      <td>3.0</td>\n    </tr>\n    <tr>\n      <th>1</th>\n      <td>1.0</td>\n      <td>NaN</td>\n      <td>NaN</td>\n    </tr>\n    <tr>\n      <th>3</th>\n      <td>NaN</td>\n      <td>6.5</td>\n      <td>3.0</td>\n    </tr>\n  </tbody>\n</table>\n</div>"
     },
     "execution_count": 8,
     "metadata": {},
     "output_type": "execute_result"
    }
   ]
  },
  {
   "cell_type": "markdown",
   "metadata": {
    "id": "XLnESLSSo70l"
   },
   "source": [
    "**To** drop only columns which contains  all NA, you can use the `axis=1 `parameter"
   ]
  },
  {
   "cell_type": "markdown",
   "source": [
    "```python\n",
    "data.dropna(how='all',axis=1)\n",
    "```"
   ],
   "metadata": {
    "collapsed": false
   }
  },
  {
   "cell_type": "code",
   "execution_count": 11,
   "outputs": [
    {
     "data": {
      "text/plain": "     0    1    2\n0  1.0  6.5  3.0\n1  1.0  NaN  NaN\n2  NaN  NaN  NaN\n3  NaN  6.5  3.0",
      "text/html": "<div>\n<style scoped>\n    .dataframe tbody tr th:only-of-type {\n        vertical-align: middle;\n    }\n\n    .dataframe tbody tr th {\n        vertical-align: top;\n    }\n\n    .dataframe thead th {\n        text-align: right;\n    }\n</style>\n<table border=\"1\" class=\"dataframe\">\n  <thead>\n    <tr style=\"text-align: right;\">\n      <th></th>\n      <th>0</th>\n      <th>1</th>\n      <th>2</th>\n    </tr>\n  </thead>\n  <tbody>\n    <tr>\n      <th>0</th>\n      <td>1.0</td>\n      <td>6.5</td>\n      <td>3.0</td>\n    </tr>\n    <tr>\n      <th>1</th>\n      <td>1.0</td>\n      <td>NaN</td>\n      <td>NaN</td>\n    </tr>\n    <tr>\n      <th>2</th>\n      <td>NaN</td>\n      <td>NaN</td>\n      <td>NaN</td>\n    </tr>\n    <tr>\n      <th>3</th>\n      <td>NaN</td>\n      <td>6.5</td>\n      <td>3.0</td>\n    </tr>\n  </tbody>\n</table>\n</div>"
     },
     "execution_count": 11,
     "metadata": {},
     "output_type": "execute_result"
    }
   ],
   "source": [
    "data.dropna(how='all',axis=1)"
   ],
   "metadata": {
    "collapsed": false,
    "ExecuteTime": {
     "end_time": "2023-11-01T07:11:34.698241200Z",
     "start_time": "2023-11-01T07:11:34.682096600Z"
    }
   }
  },
  {
   "cell_type": "markdown",
   "source": [
    "Try to add a new column with NA value\n",
    "```python\n",
    "data[4] = NA\n",
    "data\n",
    "```"
   ],
   "metadata": {
    "collapsed": false
   }
  },
  {
   "cell_type": "code",
   "metadata": {
    "id": "YvbFAUlDpFzr",
    "colab": {
     "base_uri": "https://localhost:8080/",
     "height": 175
    },
    "outputId": "1bd8170f-3e74-4684-efa6-0e4d091bdba8",
    "ExecuteTime": {
     "end_time": "2023-11-01T07:11:43.041468700Z",
     "start_time": "2023-11-01T07:11:43.026198500Z"
    }
   },
   "source": [
    "data[4] = NA\n",
    "data"
   ],
   "execution_count": 12,
   "outputs": [
    {
     "data": {
      "text/plain": "     0    1    2   4\n0  1.0  6.5  3.0 NaN\n1  1.0  NaN  NaN NaN\n2  NaN  NaN  NaN NaN\n3  NaN  6.5  3.0 NaN",
      "text/html": "<div>\n<style scoped>\n    .dataframe tbody tr th:only-of-type {\n        vertical-align: middle;\n    }\n\n    .dataframe tbody tr th {\n        vertical-align: top;\n    }\n\n    .dataframe thead th {\n        text-align: right;\n    }\n</style>\n<table border=\"1\" class=\"dataframe\">\n  <thead>\n    <tr style=\"text-align: right;\">\n      <th></th>\n      <th>0</th>\n      <th>1</th>\n      <th>2</th>\n      <th>4</th>\n    </tr>\n  </thead>\n  <tbody>\n    <tr>\n      <th>0</th>\n      <td>1.0</td>\n      <td>6.5</td>\n      <td>3.0</td>\n      <td>NaN</td>\n    </tr>\n    <tr>\n      <th>1</th>\n      <td>1.0</td>\n      <td>NaN</td>\n      <td>NaN</td>\n      <td>NaN</td>\n    </tr>\n    <tr>\n      <th>2</th>\n      <td>NaN</td>\n      <td>NaN</td>\n      <td>NaN</td>\n      <td>NaN</td>\n    </tr>\n    <tr>\n      <th>3</th>\n      <td>NaN</td>\n      <td>6.5</td>\n      <td>3.0</td>\n      <td>NaN</td>\n    </tr>\n  </tbody>\n</table>\n</div>"
     },
     "execution_count": 12,
     "metadata": {},
     "output_type": "execute_result"
    }
   ]
  },
  {
   "cell_type": "markdown",
   "source": [
    "drop na regarding to the axis\n",
    "```python\n",
    "data.dropna(axis=1, how='all')\n",
    "```"
   ],
   "metadata": {
    "collapsed": false
   }
  },
  {
   "cell_type": "code",
   "metadata": {
    "id": "kwKtGfoTpMaJ",
    "colab": {
     "base_uri": "https://localhost:8080/",
     "height": 175
    },
    "outputId": "35b74924-919d-45d8-d797-4bdc84acfe23",
    "ExecuteTime": {
     "end_time": "2023-11-01T07:11:52.142284200Z",
     "start_time": "2023-11-01T07:11:52.111154200Z"
    }
   },
   "source": [
    "data.dropna(axis=1, how='all')"
   ],
   "execution_count": 13,
   "outputs": [
    {
     "data": {
      "text/plain": "     0    1    2\n0  1.0  6.5  3.0\n1  1.0  NaN  NaN\n2  NaN  NaN  NaN\n3  NaN  6.5  3.0",
      "text/html": "<div>\n<style scoped>\n    .dataframe tbody tr th:only-of-type {\n        vertical-align: middle;\n    }\n\n    .dataframe tbody tr th {\n        vertical-align: top;\n    }\n\n    .dataframe thead th {\n        text-align: right;\n    }\n</style>\n<table border=\"1\" class=\"dataframe\">\n  <thead>\n    <tr style=\"text-align: right;\">\n      <th></th>\n      <th>0</th>\n      <th>1</th>\n      <th>2</th>\n    </tr>\n  </thead>\n  <tbody>\n    <tr>\n      <th>0</th>\n      <td>1.0</td>\n      <td>6.5</td>\n      <td>3.0</td>\n    </tr>\n    <tr>\n      <th>1</th>\n      <td>1.0</td>\n      <td>NaN</td>\n      <td>NaN</td>\n    </tr>\n    <tr>\n      <th>2</th>\n      <td>NaN</td>\n      <td>NaN</td>\n      <td>NaN</td>\n    </tr>\n    <tr>\n      <th>3</th>\n      <td>NaN</td>\n      <td>6.5</td>\n      <td>3.0</td>\n    </tr>\n  </tbody>\n</table>\n</div>"
     },
     "execution_count": 13,
     "metadata": {},
     "output_type": "execute_result"
    }
   ]
  },
  {
   "cell_type": "markdown",
   "source": [
    "Comparing to\n",
    "```python\n",
    "data.dropna(axis=1)\n",
    "```"
   ],
   "metadata": {
    "collapsed": false
   }
  },
  {
   "cell_type": "code",
   "metadata": {
    "id": "sWJcEXNZPhMH",
    "colab": {
     "base_uri": "https://localhost:8080/",
     "height": 157
    },
    "outputId": "fba3d08c-17f1-48ff-f67d-01de4638244b",
    "ExecuteTime": {
     "end_time": "2023-11-01T07:12:08.416035800Z",
     "start_time": "2023-11-01T07:12:08.383973100Z"
    }
   },
   "source": [
    "data.dropna(axis=1)"
   ],
   "execution_count": 14,
   "outputs": [
    {
     "data": {
      "text/plain": "Empty DataFrame\nColumns: []\nIndex: [0, 1, 2, 3]",
      "text/html": "<div>\n<style scoped>\n    .dataframe tbody tr th:only-of-type {\n        vertical-align: middle;\n    }\n\n    .dataframe tbody tr th {\n        vertical-align: top;\n    }\n\n    .dataframe thead th {\n        text-align: right;\n    }\n</style>\n<table border=\"1\" class=\"dataframe\">\n  <thead>\n    <tr style=\"text-align: right;\">\n      <th></th>\n    </tr>\n  </thead>\n  <tbody>\n    <tr>\n      <th>0</th>\n    </tr>\n    <tr>\n      <th>1</th>\n    </tr>\n    <tr>\n      <th>2</th>\n    </tr>\n    <tr>\n      <th>3</th>\n    </tr>\n  </tbody>\n</table>\n</div>"
     },
     "execution_count": 14,
     "metadata": {},
     "output_type": "execute_result"
    }
   ]
  },
  {
   "cell_type": "markdown",
   "source": [
    "What are differents of `how='all'` and no `how` parameter"
   ],
   "metadata": {
    "collapsed": false
   }
  },
  {
   "cell_type": "markdown",
   "metadata": {
    "id": "F1GEkAZnpa1s"
   },
   "source": [
    "We can drop the rows which may have more data than the given value as we can tolerate for some data missing. `tresh` parameter is required here\n",
    "```python\n",
    "df = pd.DataFrame(np.random.randn(7, 3))\n",
    "df.iloc[:4, 1] = NA\n",
    "df.iloc[:2, 2] = NA\n",
    "df\n",
    "```\n"
   ]
  },
  {
   "cell_type": "code",
   "metadata": {
    "id": "RVlj8PtdpuxU",
    "colab": {
     "base_uri": "https://localhost:8080/",
     "height": 269
    },
    "outputId": "9347e4f4-ead7-472b-e894-8730b48f1d0b",
    "ExecuteTime": {
     "end_time": "2023-11-01T07:12:15.861816100Z",
     "start_time": "2023-11-01T07:12:15.845811600Z"
    }
   },
   "source": [
    "df = pd.DataFrame(np.random.randn(7, 3))\n",
    "df.iloc[:4, 1] = NA\n",
    "df.iloc[:2, 2] = NA\n",
    "df"
   ],
   "execution_count": 15,
   "outputs": [
    {
     "data": {
      "text/plain": "          0         1         2\n0 -0.453542       NaN       NaN\n1  1.006891       NaN       NaN\n2  0.495600       NaN -0.617985\n3 -0.316107       NaN -0.434032\n4 -0.736880 -1.479965 -0.662663\n5 -0.305211 -1.370165 -0.648707\n6  0.230736  0.630379  2.388448",
      "text/html": "<div>\n<style scoped>\n    .dataframe tbody tr th:only-of-type {\n        vertical-align: middle;\n    }\n\n    .dataframe tbody tr th {\n        vertical-align: top;\n    }\n\n    .dataframe thead th {\n        text-align: right;\n    }\n</style>\n<table border=\"1\" class=\"dataframe\">\n  <thead>\n    <tr style=\"text-align: right;\">\n      <th></th>\n      <th>0</th>\n      <th>1</th>\n      <th>2</th>\n    </tr>\n  </thead>\n  <tbody>\n    <tr>\n      <th>0</th>\n      <td>-0.453542</td>\n      <td>NaN</td>\n      <td>NaN</td>\n    </tr>\n    <tr>\n      <th>1</th>\n      <td>1.006891</td>\n      <td>NaN</td>\n      <td>NaN</td>\n    </tr>\n    <tr>\n      <th>2</th>\n      <td>0.495600</td>\n      <td>NaN</td>\n      <td>-0.617985</td>\n    </tr>\n    <tr>\n      <th>3</th>\n      <td>-0.316107</td>\n      <td>NaN</td>\n      <td>-0.434032</td>\n    </tr>\n    <tr>\n      <th>4</th>\n      <td>-0.736880</td>\n      <td>-1.479965</td>\n      <td>-0.662663</td>\n    </tr>\n    <tr>\n      <th>5</th>\n      <td>-0.305211</td>\n      <td>-1.370165</td>\n      <td>-0.648707</td>\n    </tr>\n    <tr>\n      <th>6</th>\n      <td>0.230736</td>\n      <td>0.630379</td>\n      <td>2.388448</td>\n    </tr>\n  </tbody>\n</table>\n</div>"
     },
     "execution_count": 15,
     "metadata": {},
     "output_type": "execute_result"
    }
   ]
  },
  {
   "cell_type": "markdown",
   "metadata": {
    "id": "gfFHfLQFpymt"
   },
   "source": [
    "drop all NA\n",
    "```python\n",
    "df.dropna()\n",
    "```"
   ]
  },
  {
   "cell_type": "code",
   "metadata": {
    "id": "S19qRsavp1qN",
    "colab": {
     "base_uri": "https://localhost:8080/",
     "height": 143
    },
    "outputId": "33de3f7e-e2f1-4619-8b30-69adaad4c5fc",
    "ExecuteTime": {
     "end_time": "2023-11-01T07:12:21.915182Z",
     "start_time": "2023-11-01T07:12:21.888022300Z"
    }
   },
   "source": [
    "df.dropna()"
   ],
   "execution_count": 16,
   "outputs": [
    {
     "data": {
      "text/plain": "          0         1         2\n4 -0.736880 -1.479965 -0.662663\n5 -0.305211 -1.370165 -0.648707\n6  0.230736  0.630379  2.388448",
      "text/html": "<div>\n<style scoped>\n    .dataframe tbody tr th:only-of-type {\n        vertical-align: middle;\n    }\n\n    .dataframe tbody tr th {\n        vertical-align: top;\n    }\n\n    .dataframe thead th {\n        text-align: right;\n    }\n</style>\n<table border=\"1\" class=\"dataframe\">\n  <thead>\n    <tr style=\"text-align: right;\">\n      <th></th>\n      <th>0</th>\n      <th>1</th>\n      <th>2</th>\n    </tr>\n  </thead>\n  <tbody>\n    <tr>\n      <th>4</th>\n      <td>-0.736880</td>\n      <td>-1.479965</td>\n      <td>-0.662663</td>\n    </tr>\n    <tr>\n      <th>5</th>\n      <td>-0.305211</td>\n      <td>-1.370165</td>\n      <td>-0.648707</td>\n    </tr>\n    <tr>\n      <th>6</th>\n      <td>0.230736</td>\n      <td>0.630379</td>\n      <td>2.388448</td>\n    </tr>\n  </tbody>\n</table>\n</div>"
     },
     "execution_count": 16,
     "metadata": {},
     "output_type": "execute_result"
    }
   ]
  },
  {
   "cell_type": "markdown",
   "metadata": {
    "id": "2t9b2Yz8p0Sw"
   },
   "source": [
    "drop only a line which contains non-NA value more than or equal than the treshold\n",
    "```python\n",
    "df.dropna(thresh=2)\n",
    "```"
   ]
  },
  {
   "cell_type": "code",
   "metadata": {
    "id": "E_BYgkb-qNqR",
    "colab": {
     "base_uri": "https://localhost:8080/",
     "height": 206
    },
    "outputId": "7a563ce0-9d80-4d25-d277-bcc9dc011d3f",
    "ExecuteTime": {
     "end_time": "2023-11-01T07:12:27.964173600Z",
     "start_time": "2023-11-01T07:12:27.959142700Z"
    }
   },
   "source": [
    "df.dropna(thresh=2)"
   ],
   "execution_count": 17,
   "outputs": [
    {
     "data": {
      "text/plain": "          0         1         2\n2  0.495600       NaN -0.617985\n3 -0.316107       NaN -0.434032\n4 -0.736880 -1.479965 -0.662663\n5 -0.305211 -1.370165 -0.648707\n6  0.230736  0.630379  2.388448",
      "text/html": "<div>\n<style scoped>\n    .dataframe tbody tr th:only-of-type {\n        vertical-align: middle;\n    }\n\n    .dataframe tbody tr th {\n        vertical-align: top;\n    }\n\n    .dataframe thead th {\n        text-align: right;\n    }\n</style>\n<table border=\"1\" class=\"dataframe\">\n  <thead>\n    <tr style=\"text-align: right;\">\n      <th></th>\n      <th>0</th>\n      <th>1</th>\n      <th>2</th>\n    </tr>\n  </thead>\n  <tbody>\n    <tr>\n      <th>2</th>\n      <td>0.495600</td>\n      <td>NaN</td>\n      <td>-0.617985</td>\n    </tr>\n    <tr>\n      <th>3</th>\n      <td>-0.316107</td>\n      <td>NaN</td>\n      <td>-0.434032</td>\n    </tr>\n    <tr>\n      <th>4</th>\n      <td>-0.736880</td>\n      <td>-1.479965</td>\n      <td>-0.662663</td>\n    </tr>\n    <tr>\n      <th>5</th>\n      <td>-0.305211</td>\n      <td>-1.370165</td>\n      <td>-0.648707</td>\n    </tr>\n    <tr>\n      <th>6</th>\n      <td>0.230736</td>\n      <td>0.630379</td>\n      <td>2.388448</td>\n    </tr>\n  </tbody>\n</table>\n</div>"
     },
     "execution_count": 17,
     "metadata": {},
     "output_type": "execute_result"
    }
   ]
  },
  {
   "cell_type": "markdown",
   "metadata": {
    "id": "Qhde1U6Bus3Y"
   },
   "source": [
    "#### Work\n",
    "\n",
    "\n",
    "\n",
    "Form the file given in `file/property_data.csv`\n"
   ]
  },
  {
   "cell_type": "markdown",
   "metadata": {
    "id": "pLVmcYYiu8mt"
   },
   "source": [
    "Provide the given output"
   ]
  },
  {
   "cell_type": "code",
   "metadata": {
    "id": "nA8Or5KIGHSd",
    "ExecuteTime": {
     "end_time": "2023-11-01T07:12:49.328785800Z",
     "start_time": "2023-11-01T07:12:49.312817800Z"
    }
   },
   "source": [
    "import pandas as pd"
   ],
   "execution_count": 18,
   "outputs": []
  },
  {
   "cell_type": "code",
   "metadata": {
    "id": "62uv2eaWu_sI",
    "colab": {
     "base_uri": "https://localhost:8080/",
     "height": 331
    },
    "outputId": "f9df2590-6c4c-4044-9b2e-5129398f4af6",
    "ExecuteTime": {
     "end_time": "2023-11-01T07:12:56.438163800Z",
     "start_time": "2023-11-01T07:12:56.417541700Z"
    }
   },
   "source": [
    "dat =pd.read_csv('file/property_data.csv')\n",
    "dat"
   ],
   "execution_count": 19,
   "outputs": [
    {
     "data": {
      "text/plain": "           PID  ST_NUM     ST_NAME OWN_OCCUPIED NUM_BEDROOMS NUM_BATH SQ_FT  \\\n0  100001000.0   104.0      PUTNAM            Y            3        1  1000   \n1  100002000.0   197.0   LEXINGTON            N            3      1.5    --   \n2  100003000.0     NaN   LEXINGTON            N          NaN        1   850   \n3  100004000.0   201.0    BERKELEY           12            1      NaN   700   \n4          NaN   203.0    BERKELEY            Y            3        2  1600   \n5  100006000.0   207.0    BERKELEY            Y          NaN        1   800   \n6  100007000.0     NaN  WASHINGTON          NaN            2   HURLEY   950   \n7  100008000.0   213.0     TREMONT            Y            1        1   NaN   \n8  100009000.0   215.0     TREMONT            Y           na        2  1800   \n\n     PRICE  \n0  20000.0  \n1      NaN  \n2      NaN  \n3      NaN  \n4      NaN  \n5      NaN  \n6      NaN  \n7      NaN  \n8      NaN  ",
      "text/html": "<div>\n<style scoped>\n    .dataframe tbody tr th:only-of-type {\n        vertical-align: middle;\n    }\n\n    .dataframe tbody tr th {\n        vertical-align: top;\n    }\n\n    .dataframe thead th {\n        text-align: right;\n    }\n</style>\n<table border=\"1\" class=\"dataframe\">\n  <thead>\n    <tr style=\"text-align: right;\">\n      <th></th>\n      <th>PID</th>\n      <th>ST_NUM</th>\n      <th>ST_NAME</th>\n      <th>OWN_OCCUPIED</th>\n      <th>NUM_BEDROOMS</th>\n      <th>NUM_BATH</th>\n      <th>SQ_FT</th>\n      <th>PRICE</th>\n    </tr>\n  </thead>\n  <tbody>\n    <tr>\n      <th>0</th>\n      <td>100001000.0</td>\n      <td>104.0</td>\n      <td>PUTNAM</td>\n      <td>Y</td>\n      <td>3</td>\n      <td>1</td>\n      <td>1000</td>\n      <td>20000.0</td>\n    </tr>\n    <tr>\n      <th>1</th>\n      <td>100002000.0</td>\n      <td>197.0</td>\n      <td>LEXINGTON</td>\n      <td>N</td>\n      <td>3</td>\n      <td>1.5</td>\n      <td>--</td>\n      <td>NaN</td>\n    </tr>\n    <tr>\n      <th>2</th>\n      <td>100003000.0</td>\n      <td>NaN</td>\n      <td>LEXINGTON</td>\n      <td>N</td>\n      <td>NaN</td>\n      <td>1</td>\n      <td>850</td>\n      <td>NaN</td>\n    </tr>\n    <tr>\n      <th>3</th>\n      <td>100004000.0</td>\n      <td>201.0</td>\n      <td>BERKELEY</td>\n      <td>12</td>\n      <td>1</td>\n      <td>NaN</td>\n      <td>700</td>\n      <td>NaN</td>\n    </tr>\n    <tr>\n      <th>4</th>\n      <td>NaN</td>\n      <td>203.0</td>\n      <td>BERKELEY</td>\n      <td>Y</td>\n      <td>3</td>\n      <td>2</td>\n      <td>1600</td>\n      <td>NaN</td>\n    </tr>\n    <tr>\n      <th>5</th>\n      <td>100006000.0</td>\n      <td>207.0</td>\n      <td>BERKELEY</td>\n      <td>Y</td>\n      <td>NaN</td>\n      <td>1</td>\n      <td>800</td>\n      <td>NaN</td>\n    </tr>\n    <tr>\n      <th>6</th>\n      <td>100007000.0</td>\n      <td>NaN</td>\n      <td>WASHINGTON</td>\n      <td>NaN</td>\n      <td>2</td>\n      <td>HURLEY</td>\n      <td>950</td>\n      <td>NaN</td>\n    </tr>\n    <tr>\n      <th>7</th>\n      <td>100008000.0</td>\n      <td>213.0</td>\n      <td>TREMONT</td>\n      <td>Y</td>\n      <td>1</td>\n      <td>1</td>\n      <td>NaN</td>\n      <td>NaN</td>\n    </tr>\n    <tr>\n      <th>8</th>\n      <td>100009000.0</td>\n      <td>215.0</td>\n      <td>TREMONT</td>\n      <td>Y</td>\n      <td>na</td>\n      <td>2</td>\n      <td>1800</td>\n      <td>NaN</td>\n    </tr>\n  </tbody>\n</table>\n</div>"
     },
     "execution_count": 19,
     "metadata": {},
     "output_type": "execute_result"
    }
   ]
  },
  {
   "cell_type": "markdown",
   "metadata": {
    "id": "yKDCMPz4WZmO"
   },
   "source": [
    "output 1\n",
    "![image-20230906061553156](./assets/image-20230906061553156.png)"
   ]
  },
  {
   "cell_type": "code",
   "metadata": {
    "id": "26z-c65pxii_",
    "colab": {
     "base_uri": "https://localhost:8080/",
     "height": 81
    },
    "outputId": "1c176f2e-03af-43fe-965a-caa57b6970fa",
    "ExecuteTime": {
     "end_time": "2023-11-01T07:13:18.191257400Z",
     "start_time": "2023-11-01T07:13:18.136226Z"
    }
   },
   "source": [
    "dat.isnull().sum()"
   ],
   "execution_count": 20,
   "outputs": [
    {
     "data": {
      "text/plain": "PID             1\nST_NUM          2\nST_NAME         0\nOWN_OCCUPIED    1\nNUM_BEDROOMS    2\nNUM_BATH        1\nSQ_FT           1\nPRICE           8\ndtype: int64"
     },
     "execution_count": 20,
     "metadata": {},
     "output_type": "execute_result"
    }
   ]
  },
  {
   "cell_type": "code",
   "execution_count": 21,
   "outputs": [
    {
     "data": {
      "text/plain": "           PID  ST_NUM ST_NAME OWN_OCCUPIED NUM_BEDROOMS NUM_BATH SQ_FT  \\\n0  100001000.0   104.0  PUTNAM            Y            3        1  1000   \n\n     PRICE  \n0  20000.0  ",
      "text/html": "<div>\n<style scoped>\n    .dataframe tbody tr th:only-of-type {\n        vertical-align: middle;\n    }\n\n    .dataframe tbody tr th {\n        vertical-align: top;\n    }\n\n    .dataframe thead th {\n        text-align: right;\n    }\n</style>\n<table border=\"1\" class=\"dataframe\">\n  <thead>\n    <tr style=\"text-align: right;\">\n      <th></th>\n      <th>PID</th>\n      <th>ST_NUM</th>\n      <th>ST_NAME</th>\n      <th>OWN_OCCUPIED</th>\n      <th>NUM_BEDROOMS</th>\n      <th>NUM_BATH</th>\n      <th>SQ_FT</th>\n      <th>PRICE</th>\n    </tr>\n  </thead>\n  <tbody>\n    <tr>\n      <th>0</th>\n      <td>100001000.0</td>\n      <td>104.0</td>\n      <td>PUTNAM</td>\n      <td>Y</td>\n      <td>3</td>\n      <td>1</td>\n      <td>1000</td>\n      <td>20000.0</td>\n    </tr>\n  </tbody>\n</table>\n</div>"
     },
     "execution_count": 21,
     "metadata": {},
     "output_type": "execute_result"
    }
   ],
   "source": [
    "dat.dropna()"
   ],
   "metadata": {
    "collapsed": false,
    "ExecuteTime": {
     "end_time": "2023-11-01T07:13:36.709827100Z",
     "start_time": "2023-11-01T07:13:36.689112700Z"
    }
   }
  },
  {
   "cell_type": "markdown",
   "metadata": {
    "id": "wwdrKqlCWpbJ"
   },
   "source": [
    "Output 2\n",
    "\n",
    "![image-20230906061619935](./assets/image-20230906061619935.png)"
   ]
  },
  {
   "cell_type": "code",
   "metadata": {
    "id": "q6R39NQXyCsf",
    "colab": {
     "base_uri": "https://localhost:8080/",
     "height": 269
    },
    "outputId": "e32ced2b-e68f-416f-e9a6-a2e0b58439a1",
    "ExecuteTime": {
     "end_time": "2023-11-01T07:13:56.176253600Z",
     "start_time": "2023-11-01T07:13:56.129121100Z"
    }
   },
   "source": [
    "tresh_percent =0.75\n",
    "req_thres = (len(df.columns)*tresh_percent)\n",
    "dat.dropna(thresh=req_thres)"
   ],
   "execution_count": 22,
   "outputs": [
    {
     "data": {
      "text/plain": "           PID  ST_NUM     ST_NAME OWN_OCCUPIED NUM_BEDROOMS NUM_BATH SQ_FT  \\\n0  100001000.0   104.0      PUTNAM            Y            3        1  1000   \n1  100002000.0   197.0   LEXINGTON            N            3      1.5    --   \n2  100003000.0     NaN   LEXINGTON            N          NaN        1   850   \n3  100004000.0   201.0    BERKELEY           12            1      NaN   700   \n4          NaN   203.0    BERKELEY            Y            3        2  1600   \n5  100006000.0   207.0    BERKELEY            Y          NaN        1   800   \n6  100007000.0     NaN  WASHINGTON          NaN            2   HURLEY   950   \n7  100008000.0   213.0     TREMONT            Y            1        1   NaN   \n8  100009000.0   215.0     TREMONT            Y           na        2  1800   \n\n     PRICE  \n0  20000.0  \n1      NaN  \n2      NaN  \n3      NaN  \n4      NaN  \n5      NaN  \n6      NaN  \n7      NaN  \n8      NaN  ",
      "text/html": "<div>\n<style scoped>\n    .dataframe tbody tr th:only-of-type {\n        vertical-align: middle;\n    }\n\n    .dataframe tbody tr th {\n        vertical-align: top;\n    }\n\n    .dataframe thead th {\n        text-align: right;\n    }\n</style>\n<table border=\"1\" class=\"dataframe\">\n  <thead>\n    <tr style=\"text-align: right;\">\n      <th></th>\n      <th>PID</th>\n      <th>ST_NUM</th>\n      <th>ST_NAME</th>\n      <th>OWN_OCCUPIED</th>\n      <th>NUM_BEDROOMS</th>\n      <th>NUM_BATH</th>\n      <th>SQ_FT</th>\n      <th>PRICE</th>\n    </tr>\n  </thead>\n  <tbody>\n    <tr>\n      <th>0</th>\n      <td>100001000.0</td>\n      <td>104.0</td>\n      <td>PUTNAM</td>\n      <td>Y</td>\n      <td>3</td>\n      <td>1</td>\n      <td>1000</td>\n      <td>20000.0</td>\n    </tr>\n    <tr>\n      <th>1</th>\n      <td>100002000.0</td>\n      <td>197.0</td>\n      <td>LEXINGTON</td>\n      <td>N</td>\n      <td>3</td>\n      <td>1.5</td>\n      <td>--</td>\n      <td>NaN</td>\n    </tr>\n    <tr>\n      <th>2</th>\n      <td>100003000.0</td>\n      <td>NaN</td>\n      <td>LEXINGTON</td>\n      <td>N</td>\n      <td>NaN</td>\n      <td>1</td>\n      <td>850</td>\n      <td>NaN</td>\n    </tr>\n    <tr>\n      <th>3</th>\n      <td>100004000.0</td>\n      <td>201.0</td>\n      <td>BERKELEY</td>\n      <td>12</td>\n      <td>1</td>\n      <td>NaN</td>\n      <td>700</td>\n      <td>NaN</td>\n    </tr>\n    <tr>\n      <th>4</th>\n      <td>NaN</td>\n      <td>203.0</td>\n      <td>BERKELEY</td>\n      <td>Y</td>\n      <td>3</td>\n      <td>2</td>\n      <td>1600</td>\n      <td>NaN</td>\n    </tr>\n    <tr>\n      <th>5</th>\n      <td>100006000.0</td>\n      <td>207.0</td>\n      <td>BERKELEY</td>\n      <td>Y</td>\n      <td>NaN</td>\n      <td>1</td>\n      <td>800</td>\n      <td>NaN</td>\n    </tr>\n    <tr>\n      <th>6</th>\n      <td>100007000.0</td>\n      <td>NaN</td>\n      <td>WASHINGTON</td>\n      <td>NaN</td>\n      <td>2</td>\n      <td>HURLEY</td>\n      <td>950</td>\n      <td>NaN</td>\n    </tr>\n    <tr>\n      <th>7</th>\n      <td>100008000.0</td>\n      <td>213.0</td>\n      <td>TREMONT</td>\n      <td>Y</td>\n      <td>1</td>\n      <td>1</td>\n      <td>NaN</td>\n      <td>NaN</td>\n    </tr>\n    <tr>\n      <th>8</th>\n      <td>100009000.0</td>\n      <td>215.0</td>\n      <td>TREMONT</td>\n      <td>Y</td>\n      <td>na</td>\n      <td>2</td>\n      <td>1800</td>\n      <td>NaN</td>\n    </tr>\n  </tbody>\n</table>\n</div>"
     },
     "execution_count": 22,
     "metadata": {},
     "output_type": "execute_result"
    }
   ]
  },
  {
   "cell_type": "code",
   "execution_count": 23,
   "outputs": [
    {
     "data": {
      "text/plain": "           PID  ST_NUM    ST_NAME OWN_OCCUPIED NUM_BEDROOMS NUM_BATH SQ_FT  \\\n0  100001000.0   104.0     PUTNAM            Y            3        1  1000   \n1  100002000.0   197.0  LEXINGTON            N            3      1.5    --   \n3  100004000.0   201.0   BERKELEY           12            1      NaN   700   \n4          NaN   203.0   BERKELEY            Y            3        2  1600   \n5  100006000.0   207.0   BERKELEY            Y          NaN        1   800   \n7  100008000.0   213.0    TREMONT            Y            1        1   NaN   \n8  100009000.0   215.0    TREMONT            Y           na        2  1800   \n\n     PRICE  \n0  20000.0  \n1      NaN  \n3      NaN  \n4      NaN  \n5      NaN  \n7      NaN  \n8      NaN  ",
      "text/html": "<div>\n<style scoped>\n    .dataframe tbody tr th:only-of-type {\n        vertical-align: middle;\n    }\n\n    .dataframe tbody tr th {\n        vertical-align: top;\n    }\n\n    .dataframe thead th {\n        text-align: right;\n    }\n</style>\n<table border=\"1\" class=\"dataframe\">\n  <thead>\n    <tr style=\"text-align: right;\">\n      <th></th>\n      <th>PID</th>\n      <th>ST_NUM</th>\n      <th>ST_NAME</th>\n      <th>OWN_OCCUPIED</th>\n      <th>NUM_BEDROOMS</th>\n      <th>NUM_BATH</th>\n      <th>SQ_FT</th>\n      <th>PRICE</th>\n    </tr>\n  </thead>\n  <tbody>\n    <tr>\n      <th>0</th>\n      <td>100001000.0</td>\n      <td>104.0</td>\n      <td>PUTNAM</td>\n      <td>Y</td>\n      <td>3</td>\n      <td>1</td>\n      <td>1000</td>\n      <td>20000.0</td>\n    </tr>\n    <tr>\n      <th>1</th>\n      <td>100002000.0</td>\n      <td>197.0</td>\n      <td>LEXINGTON</td>\n      <td>N</td>\n      <td>3</td>\n      <td>1.5</td>\n      <td>--</td>\n      <td>NaN</td>\n    </tr>\n    <tr>\n      <th>3</th>\n      <td>100004000.0</td>\n      <td>201.0</td>\n      <td>BERKELEY</td>\n      <td>12</td>\n      <td>1</td>\n      <td>NaN</td>\n      <td>700</td>\n      <td>NaN</td>\n    </tr>\n    <tr>\n      <th>4</th>\n      <td>NaN</td>\n      <td>203.0</td>\n      <td>BERKELEY</td>\n      <td>Y</td>\n      <td>3</td>\n      <td>2</td>\n      <td>1600</td>\n      <td>NaN</td>\n    </tr>\n    <tr>\n      <th>5</th>\n      <td>100006000.0</td>\n      <td>207.0</td>\n      <td>BERKELEY</td>\n      <td>Y</td>\n      <td>NaN</td>\n      <td>1</td>\n      <td>800</td>\n      <td>NaN</td>\n    </tr>\n    <tr>\n      <th>7</th>\n      <td>100008000.0</td>\n      <td>213.0</td>\n      <td>TREMONT</td>\n      <td>Y</td>\n      <td>1</td>\n      <td>1</td>\n      <td>NaN</td>\n      <td>NaN</td>\n    </tr>\n    <tr>\n      <th>8</th>\n      <td>100009000.0</td>\n      <td>215.0</td>\n      <td>TREMONT</td>\n      <td>Y</td>\n      <td>na</td>\n      <td>2</td>\n      <td>1800</td>\n      <td>NaN</td>\n    </tr>\n  </tbody>\n</table>\n</div>"
     },
     "execution_count": 23,
     "metadata": {},
     "output_type": "execute_result"
    }
   ],
   "source": [
    "dat.dropna(thresh=6)"
   ],
   "metadata": {
    "collapsed": false,
    "ExecuteTime": {
     "end_time": "2023-11-01T07:14:28.933937900Z",
     "start_time": "2023-11-01T07:14:28.917316800Z"
    }
   }
  },
  {
   "cell_type": "markdown",
   "metadata": {
    "id": "3bZKvn_vYsl-"
   },
   "source": [
    "Output 3\n",
    "\n",
    "![image-20230906061652010](./assets/image-20230906061652010.png)"
   ]
  },
  {
   "cell_type": "code",
   "metadata": {
    "id": "1o6fSbTu0PSW",
    "colab": {
     "base_uri": "https://localhost:8080/",
     "height": 331
    },
    "outputId": "bab0d6e4-5a63-4e54-ace7-628fcdc71474",
    "ExecuteTime": {
     "end_time": "2023-11-01T07:14:56.608569300Z",
     "start_time": "2023-11-01T07:14:56.576840900Z"
    }
   },
   "source": [
    "dat['NUM_BATH'].isnull()"
   ],
   "execution_count": 24,
   "outputs": [
    {
     "data": {
      "text/plain": "0    False\n1    False\n2    False\n3     True\n4    False\n5    False\n6    False\n7    False\n8    False\nName: NUM_BATH, dtype: bool"
     },
     "execution_count": 24,
     "metadata": {},
     "output_type": "execute_result"
    }
   ]
  },
  {
   "cell_type": "code",
   "execution_count": 25,
   "outputs": [
    {
     "data": {
      "text/plain": "           PID     ST_NAME OWN_OCCUPIED NUM_BATH SQ_FT\n0  100001000.0      PUTNAM            Y        1  1000\n1  100002000.0   LEXINGTON            N      1.5    --\n2  100003000.0   LEXINGTON            N        1   850\n3  100004000.0    BERKELEY           12      NaN   700\n4          NaN    BERKELEY            Y        2  1600\n5  100006000.0    BERKELEY            Y        1   800\n6  100007000.0  WASHINGTON          NaN   HURLEY   950\n7  100008000.0     TREMONT            Y        1   NaN\n8  100009000.0     TREMONT            Y        2  1800",
      "text/html": "<div>\n<style scoped>\n    .dataframe tbody tr th:only-of-type {\n        vertical-align: middle;\n    }\n\n    .dataframe tbody tr th {\n        vertical-align: top;\n    }\n\n    .dataframe thead th {\n        text-align: right;\n    }\n</style>\n<table border=\"1\" class=\"dataframe\">\n  <thead>\n    <tr style=\"text-align: right;\">\n      <th></th>\n      <th>PID</th>\n      <th>ST_NAME</th>\n      <th>OWN_OCCUPIED</th>\n      <th>NUM_BATH</th>\n      <th>SQ_FT</th>\n    </tr>\n  </thead>\n  <tbody>\n    <tr>\n      <th>0</th>\n      <td>100001000.0</td>\n      <td>PUTNAM</td>\n      <td>Y</td>\n      <td>1</td>\n      <td>1000</td>\n    </tr>\n    <tr>\n      <th>1</th>\n      <td>100002000.0</td>\n      <td>LEXINGTON</td>\n      <td>N</td>\n      <td>1.5</td>\n      <td>--</td>\n    </tr>\n    <tr>\n      <th>2</th>\n      <td>100003000.0</td>\n      <td>LEXINGTON</td>\n      <td>N</td>\n      <td>1</td>\n      <td>850</td>\n    </tr>\n    <tr>\n      <th>3</th>\n      <td>100004000.0</td>\n      <td>BERKELEY</td>\n      <td>12</td>\n      <td>NaN</td>\n      <td>700</td>\n    </tr>\n    <tr>\n      <th>4</th>\n      <td>NaN</td>\n      <td>BERKELEY</td>\n      <td>Y</td>\n      <td>2</td>\n      <td>1600</td>\n    </tr>\n    <tr>\n      <th>5</th>\n      <td>100006000.0</td>\n      <td>BERKELEY</td>\n      <td>Y</td>\n      <td>1</td>\n      <td>800</td>\n    </tr>\n    <tr>\n      <th>6</th>\n      <td>100007000.0</td>\n      <td>WASHINGTON</td>\n      <td>NaN</td>\n      <td>HURLEY</td>\n      <td>950</td>\n    </tr>\n    <tr>\n      <th>7</th>\n      <td>100008000.0</td>\n      <td>TREMONT</td>\n      <td>Y</td>\n      <td>1</td>\n      <td>NaN</td>\n    </tr>\n    <tr>\n      <th>8</th>\n      <td>100009000.0</td>\n      <td>TREMONT</td>\n      <td>Y</td>\n      <td>2</td>\n      <td>1800</td>\n    </tr>\n  </tbody>\n</table>\n</div>"
     },
     "execution_count": 25,
     "metadata": {},
     "output_type": "execute_result"
    }
   ],
   "source": [
    "dat.dropna(thresh=8,axis=1)"
   ],
   "metadata": {
    "collapsed": false,
    "ExecuteTime": {
     "end_time": "2023-11-01T07:15:16.814927600Z",
     "start_time": "2023-11-01T07:15:16.799949700Z"
    }
   }
  },
  {
   "cell_type": "markdown",
   "metadata": {
    "id": "zxgLC3q_qXQ8"
   },
   "source": [
    "### Filling in missing data\n",
    "---\n",
    "Instead of filtering data. Default data may be used.\n",
    "we can fil the default data for all `NA` values.\n",
    "\n",
    "```python\n",
    "df\n",
    "```"
   ]
  },
  {
   "cell_type": "code",
   "metadata": {
    "id": "yVyhi0f4K3UB",
    "colab": {
     "base_uri": "https://localhost:8080/",
     "height": 331
    },
    "outputId": "9c5e7f3f-eafb-4e65-e086-120f33df4e6e",
    "ExecuteTime": {
     "end_time": "2023-11-01T07:15:28.760855200Z",
     "start_time": "2023-11-01T07:15:28.729362Z"
    }
   },
   "source": [
    "df"
   ],
   "execution_count": 26,
   "outputs": [
    {
     "data": {
      "text/plain": "          0         1         2\n0 -0.453542       NaN       NaN\n1  1.006891       NaN       NaN\n2  0.495600       NaN -0.617985\n3 -0.316107       NaN -0.434032\n4 -0.736880 -1.479965 -0.662663\n5 -0.305211 -1.370165 -0.648707\n6  0.230736  0.630379  2.388448",
      "text/html": "<div>\n<style scoped>\n    .dataframe tbody tr th:only-of-type {\n        vertical-align: middle;\n    }\n\n    .dataframe tbody tr th {\n        vertical-align: top;\n    }\n\n    .dataframe thead th {\n        text-align: right;\n    }\n</style>\n<table border=\"1\" class=\"dataframe\">\n  <thead>\n    <tr style=\"text-align: right;\">\n      <th></th>\n      <th>0</th>\n      <th>1</th>\n      <th>2</th>\n    </tr>\n  </thead>\n  <tbody>\n    <tr>\n      <th>0</th>\n      <td>-0.453542</td>\n      <td>NaN</td>\n      <td>NaN</td>\n    </tr>\n    <tr>\n      <th>1</th>\n      <td>1.006891</td>\n      <td>NaN</td>\n      <td>NaN</td>\n    </tr>\n    <tr>\n      <th>2</th>\n      <td>0.495600</td>\n      <td>NaN</td>\n      <td>-0.617985</td>\n    </tr>\n    <tr>\n      <th>3</th>\n      <td>-0.316107</td>\n      <td>NaN</td>\n      <td>-0.434032</td>\n    </tr>\n    <tr>\n      <th>4</th>\n      <td>-0.736880</td>\n      <td>-1.479965</td>\n      <td>-0.662663</td>\n    </tr>\n    <tr>\n      <th>5</th>\n      <td>-0.305211</td>\n      <td>-1.370165</td>\n      <td>-0.648707</td>\n    </tr>\n    <tr>\n      <th>6</th>\n      <td>0.230736</td>\n      <td>0.630379</td>\n      <td>2.388448</td>\n    </tr>\n  </tbody>\n</table>\n</div>"
     },
     "execution_count": 26,
     "metadata": {},
     "output_type": "execute_result"
    }
   ]
  },
  {
   "cell_type": "markdown",
   "source": [
    "```python\n",
    "df.fillna(0)\n",
    "```\n"
   ],
   "metadata": {
    "collapsed": false
   }
  },
  {
   "cell_type": "code",
   "metadata": {
    "id": "BR8zSMuhrAuI",
    "colab": {
     "base_uri": "https://localhost:8080/",
     "height": 331
    },
    "outputId": "be0a0fd9-fa10-4443-f791-f245429da8b8",
    "ExecuteTime": {
     "end_time": "2023-11-01T07:15:34.147554200Z",
     "start_time": "2023-11-01T07:15:34.115828800Z"
    }
   },
   "source": [
    "df.fillna(0)"
   ],
   "execution_count": 27,
   "outputs": [
    {
     "data": {
      "text/plain": "          0         1         2\n0 -0.453542  0.000000  0.000000\n1  1.006891  0.000000  0.000000\n2  0.495600  0.000000 -0.617985\n3 -0.316107  0.000000 -0.434032\n4 -0.736880 -1.479965 -0.662663\n5 -0.305211 -1.370165 -0.648707\n6  0.230736  0.630379  2.388448",
      "text/html": "<div>\n<style scoped>\n    .dataframe tbody tr th:only-of-type {\n        vertical-align: middle;\n    }\n\n    .dataframe tbody tr th {\n        vertical-align: top;\n    }\n\n    .dataframe thead th {\n        text-align: right;\n    }\n</style>\n<table border=\"1\" class=\"dataframe\">\n  <thead>\n    <tr style=\"text-align: right;\">\n      <th></th>\n      <th>0</th>\n      <th>1</th>\n      <th>2</th>\n    </tr>\n  </thead>\n  <tbody>\n    <tr>\n      <th>0</th>\n      <td>-0.453542</td>\n      <td>0.000000</td>\n      <td>0.000000</td>\n    </tr>\n    <tr>\n      <th>1</th>\n      <td>1.006891</td>\n      <td>0.000000</td>\n      <td>0.000000</td>\n    </tr>\n    <tr>\n      <th>2</th>\n      <td>0.495600</td>\n      <td>0.000000</td>\n      <td>-0.617985</td>\n    </tr>\n    <tr>\n      <th>3</th>\n      <td>-0.316107</td>\n      <td>0.000000</td>\n      <td>-0.434032</td>\n    </tr>\n    <tr>\n      <th>4</th>\n      <td>-0.736880</td>\n      <td>-1.479965</td>\n      <td>-0.662663</td>\n    </tr>\n    <tr>\n      <th>5</th>\n      <td>-0.305211</td>\n      <td>-1.370165</td>\n      <td>-0.648707</td>\n    </tr>\n    <tr>\n      <th>6</th>\n      <td>0.230736</td>\n      <td>0.630379</td>\n      <td>2.388448</td>\n    </tr>\n  </tbody>\n</table>\n</div>"
     },
     "execution_count": 27,
     "metadata": {},
     "output_type": "execute_result"
    }
   ]
  },
  {
   "cell_type": "markdown",
   "metadata": {
    "id": "_LhPQVt8rDbL"
   },
   "source": [
    "Or we can define the value for each column\n",
    "```python\n",
    "df.fillna({\"PID\":0.5,\"ST_NUM\":1.2})\n",
    "```"
   ]
  },
  {
   "cell_type": "code",
   "metadata": {
    "id": "MpIZGq28WYGQ",
    "colab": {
     "base_uri": "https://localhost:8080/",
     "height": 331
    },
    "outputId": "daec5760-f661-4b60-d529-e23aecc735bd",
    "ExecuteTime": {
     "end_time": "2023-11-01T07:15:42.718820300Z",
     "start_time": "2023-11-01T07:15:42.655790500Z"
    }
   },
   "source": [
    "df.fillna({\"PID\":0.5,\"ST_NUM\":1.2})"
   ],
   "execution_count": 28,
   "outputs": [
    {
     "data": {
      "text/plain": "          0         1         2\n0 -0.453542       NaN       NaN\n1  1.006891       NaN       NaN\n2  0.495600       NaN -0.617985\n3 -0.316107       NaN -0.434032\n4 -0.736880 -1.479965 -0.662663\n5 -0.305211 -1.370165 -0.648707\n6  0.230736  0.630379  2.388448",
      "text/html": "<div>\n<style scoped>\n    .dataframe tbody tr th:only-of-type {\n        vertical-align: middle;\n    }\n\n    .dataframe tbody tr th {\n        vertical-align: top;\n    }\n\n    .dataframe thead th {\n        text-align: right;\n    }\n</style>\n<table border=\"1\" class=\"dataframe\">\n  <thead>\n    <tr style=\"text-align: right;\">\n      <th></th>\n      <th>0</th>\n      <th>1</th>\n      <th>2</th>\n    </tr>\n  </thead>\n  <tbody>\n    <tr>\n      <th>0</th>\n      <td>-0.453542</td>\n      <td>NaN</td>\n      <td>NaN</td>\n    </tr>\n    <tr>\n      <th>1</th>\n      <td>1.006891</td>\n      <td>NaN</td>\n      <td>NaN</td>\n    </tr>\n    <tr>\n      <th>2</th>\n      <td>0.495600</td>\n      <td>NaN</td>\n      <td>-0.617985</td>\n    </tr>\n    <tr>\n      <th>3</th>\n      <td>-0.316107</td>\n      <td>NaN</td>\n      <td>-0.434032</td>\n    </tr>\n    <tr>\n      <th>4</th>\n      <td>-0.736880</td>\n      <td>-1.479965</td>\n      <td>-0.662663</td>\n    </tr>\n    <tr>\n      <th>5</th>\n      <td>-0.305211</td>\n      <td>-1.370165</td>\n      <td>-0.648707</td>\n    </tr>\n    <tr>\n      <th>6</th>\n      <td>0.230736</td>\n      <td>0.630379</td>\n      <td>2.388448</td>\n    </tr>\n  </tbody>\n</table>\n</div>"
     },
     "execution_count": 28,
     "metadata": {},
     "output_type": "execute_result"
    }
   ]
  },
  {
   "cell_type": "code",
   "metadata": {
    "id": "Wy1VB50MrHWn",
    "ExecuteTime": {
     "end_time": "2023-11-01T07:16:44.747137100Z",
     "start_time": "2023-11-01T07:16:44.743005800Z"
    }
   },
   "source": [
    "dfna = df.fillna({\"PID\":0.5,\"ST_NUM\":1.2})"
   ],
   "execution_count": 30,
   "outputs": []
  },
  {
   "cell_type": "code",
   "metadata": {
    "id": "JWaUDVkbLkf0",
    "colab": {
     "base_uri": "https://localhost:8080/",
     "height": 331
    },
    "outputId": "e0318a97-a892-4c6a-c60a-3b2584a358fd",
    "ExecuteTime": {
     "end_time": "2023-11-01T07:16:50.263817Z",
     "start_time": "2023-11-01T07:16:50.247732Z"
    }
   },
   "source": [
    "dfna"
   ],
   "execution_count": 31,
   "outputs": [
    {
     "data": {
      "text/plain": "          0         1         2\n0 -0.453542       NaN       NaN\n1  1.006891       NaN       NaN\n2  0.495600       NaN -0.617985\n3 -0.316107       NaN -0.434032\n4 -0.736880 -1.479965 -0.662663\n5 -0.305211 -1.370165 -0.648707\n6  0.230736  0.630379  2.388448",
      "text/html": "<div>\n<style scoped>\n    .dataframe tbody tr th:only-of-type {\n        vertical-align: middle;\n    }\n\n    .dataframe tbody tr th {\n        vertical-align: top;\n    }\n\n    .dataframe thead th {\n        text-align: right;\n    }\n</style>\n<table border=\"1\" class=\"dataframe\">\n  <thead>\n    <tr style=\"text-align: right;\">\n      <th></th>\n      <th>0</th>\n      <th>1</th>\n      <th>2</th>\n    </tr>\n  </thead>\n  <tbody>\n    <tr>\n      <th>0</th>\n      <td>-0.453542</td>\n      <td>NaN</td>\n      <td>NaN</td>\n    </tr>\n    <tr>\n      <th>1</th>\n      <td>1.006891</td>\n      <td>NaN</td>\n      <td>NaN</td>\n    </tr>\n    <tr>\n      <th>2</th>\n      <td>0.495600</td>\n      <td>NaN</td>\n      <td>-0.617985</td>\n    </tr>\n    <tr>\n      <th>3</th>\n      <td>-0.316107</td>\n      <td>NaN</td>\n      <td>-0.434032</td>\n    </tr>\n    <tr>\n      <th>4</th>\n      <td>-0.736880</td>\n      <td>-1.479965</td>\n      <td>-0.662663</td>\n    </tr>\n    <tr>\n      <th>5</th>\n      <td>-0.305211</td>\n      <td>-1.370165</td>\n      <td>-0.648707</td>\n    </tr>\n    <tr>\n      <th>6</th>\n      <td>0.230736</td>\n      <td>0.630379</td>\n      <td>2.388448</td>\n    </tr>\n  </tbody>\n</table>\n</div>"
     },
     "execution_count": 31,
     "metadata": {},
     "output_type": "execute_result"
    }
   ]
  },
  {
   "cell_type": "markdown",
   "metadata": {
    "id": "EkI6rRBxrMzJ"
   },
   "source": [
    "`fillna` returns a new object, but we can modify the existing object in-place\n",
    "```python\n",
    "df.fillna(0,inplace=True)\n",
    "df\n",
    "```\n"
   ]
  },
  {
   "cell_type": "code",
   "metadata": {
    "id": "Egd-6Ub1rSNg",
    "colab": {
     "base_uri": "https://localhost:8080/",
     "height": 331
    },
    "outputId": "5c4853cf-1b2c-45ff-871c-ae3524215ab0",
    "ExecuteTime": {
     "end_time": "2023-11-01T07:16:57.910638400Z",
     "start_time": "2023-11-01T07:16:57.878971600Z"
    }
   },
   "source": [
    "df.fillna(0,inplace=True)\n",
    "df"
   ],
   "execution_count": 32,
   "outputs": [
    {
     "data": {
      "text/plain": "          0         1         2\n0 -0.453542  0.000000  0.000000\n1  1.006891  0.000000  0.000000\n2  0.495600  0.000000 -0.617985\n3 -0.316107  0.000000 -0.434032\n4 -0.736880 -1.479965 -0.662663\n5 -0.305211 -1.370165 -0.648707\n6  0.230736  0.630379  2.388448",
      "text/html": "<div>\n<style scoped>\n    .dataframe tbody tr th:only-of-type {\n        vertical-align: middle;\n    }\n\n    .dataframe tbody tr th {\n        vertical-align: top;\n    }\n\n    .dataframe thead th {\n        text-align: right;\n    }\n</style>\n<table border=\"1\" class=\"dataframe\">\n  <thead>\n    <tr style=\"text-align: right;\">\n      <th></th>\n      <th>0</th>\n      <th>1</th>\n      <th>2</th>\n    </tr>\n  </thead>\n  <tbody>\n    <tr>\n      <th>0</th>\n      <td>-0.453542</td>\n      <td>0.000000</td>\n      <td>0.000000</td>\n    </tr>\n    <tr>\n      <th>1</th>\n      <td>1.006891</td>\n      <td>0.000000</td>\n      <td>0.000000</td>\n    </tr>\n    <tr>\n      <th>2</th>\n      <td>0.495600</td>\n      <td>0.000000</td>\n      <td>-0.617985</td>\n    </tr>\n    <tr>\n      <th>3</th>\n      <td>-0.316107</td>\n      <td>0.000000</td>\n      <td>-0.434032</td>\n    </tr>\n    <tr>\n      <th>4</th>\n      <td>-0.736880</td>\n      <td>-1.479965</td>\n      <td>-0.662663</td>\n    </tr>\n    <tr>\n      <th>5</th>\n      <td>-0.305211</td>\n      <td>-1.370165</td>\n      <td>-0.648707</td>\n    </tr>\n    <tr>\n      <th>6</th>\n      <td>0.230736</td>\n      <td>0.630379</td>\n      <td>2.388448</td>\n    </tr>\n  </tbody>\n</table>\n</div>"
     },
     "execution_count": 32,
     "metadata": {},
     "output_type": "execute_result"
    }
   ]
  },
  {
   "cell_type": "markdown",
   "metadata": {
    "id": "0ZtYymEOrumI"
   },
   "source": [
    "We can use the interpolation method to file the value.\n",
    "\n",
    "Now we create a new data frame with some `NA`\n",
    "```python\n",
    "df = pd.DataFrame(np.random.randn(6, 3))\n",
    "df.iloc[2:, 1] = NA\n",
    "df.iloc[4:, 2] = NA\n",
    "df\n",
    "```"
   ]
  },
  {
   "cell_type": "code",
   "metadata": {
    "id": "lQaZvanKM8xh",
    "ExecuteTime": {
     "end_time": "2023-11-01T07:17:07.404175800Z",
     "start_time": "2023-11-01T07:17:07.388661800Z"
    }
   },
   "source": [
    "df = pd.DataFrame(np.random.randn(6, 3))\n",
    "df.iloc[2:, 1] = NA\n",
    "df.iloc[4:, 2] = NA\n",
    "df"
   ],
   "execution_count": 33,
   "outputs": [
    {
     "data": {
      "text/plain": "          0         1         2\n0 -0.781937  1.138246 -0.168261\n1  2.307719  0.273456  0.535663\n2  1.513986       NaN -0.484301\n3  1.406587       NaN -0.561482\n4 -0.057031       NaN       NaN\n5 -1.216304       NaN       NaN",
      "text/html": "<div>\n<style scoped>\n    .dataframe tbody tr th:only-of-type {\n        vertical-align: middle;\n    }\n\n    .dataframe tbody tr th {\n        vertical-align: top;\n    }\n\n    .dataframe thead th {\n        text-align: right;\n    }\n</style>\n<table border=\"1\" class=\"dataframe\">\n  <thead>\n    <tr style=\"text-align: right;\">\n      <th></th>\n      <th>0</th>\n      <th>1</th>\n      <th>2</th>\n    </tr>\n  </thead>\n  <tbody>\n    <tr>\n      <th>0</th>\n      <td>-0.781937</td>\n      <td>1.138246</td>\n      <td>-0.168261</td>\n    </tr>\n    <tr>\n      <th>1</th>\n      <td>2.307719</td>\n      <td>0.273456</td>\n      <td>0.535663</td>\n    </tr>\n    <tr>\n      <th>2</th>\n      <td>1.513986</td>\n      <td>NaN</td>\n      <td>-0.484301</td>\n    </tr>\n    <tr>\n      <th>3</th>\n      <td>1.406587</td>\n      <td>NaN</td>\n      <td>-0.561482</td>\n    </tr>\n    <tr>\n      <th>4</th>\n      <td>-0.057031</td>\n      <td>NaN</td>\n      <td>NaN</td>\n    </tr>\n    <tr>\n      <th>5</th>\n      <td>-1.216304</td>\n      <td>NaN</td>\n      <td>NaN</td>\n    </tr>\n  </tbody>\n</table>\n</div>"
     },
     "execution_count": 33,
     "metadata": {},
     "output_type": "execute_result"
    }
   ]
  },
  {
   "cell_type": "markdown",
   "metadata": {
    "id": "OIY3mYO0sC3p"
   },
   "source": [
    "Add the interpolation methods for more details google `dataframe fillna`\n",
    "```python\n",
    "df.fill()\n",
    "```\n"
   ]
  },
  {
   "cell_type": "code",
   "metadata": {
    "id": "Dve0KFUysGzb",
    "colab": {
     "base_uri": "https://localhost:8080/",
     "height": 237
    },
    "outputId": "ef64bd86-1cdf-42f8-e878-de50c23110fe",
    "ExecuteTime": {
     "end_time": "2023-11-01T07:17:44.723121600Z",
     "start_time": "2023-11-01T07:17:44.695431700Z"
    }
   },
   "source": [
    "df.ffill()"
   ],
   "execution_count": 36,
   "outputs": [
    {
     "data": {
      "text/plain": "          0         1         2\n0 -0.781937  1.138246 -0.168261\n1  2.307719  0.273456  0.535663\n2  1.513986  0.273456 -0.484301\n3  1.406587  0.273456 -0.561482\n4 -0.057031  0.273456 -0.561482\n5 -1.216304  0.273456 -0.561482",
      "text/html": "<div>\n<style scoped>\n    .dataframe tbody tr th:only-of-type {\n        vertical-align: middle;\n    }\n\n    .dataframe tbody tr th {\n        vertical-align: top;\n    }\n\n    .dataframe thead th {\n        text-align: right;\n    }\n</style>\n<table border=\"1\" class=\"dataframe\">\n  <thead>\n    <tr style=\"text-align: right;\">\n      <th></th>\n      <th>0</th>\n      <th>1</th>\n      <th>2</th>\n    </tr>\n  </thead>\n  <tbody>\n    <tr>\n      <th>0</th>\n      <td>-0.781937</td>\n      <td>1.138246</td>\n      <td>-0.168261</td>\n    </tr>\n    <tr>\n      <th>1</th>\n      <td>2.307719</td>\n      <td>0.273456</td>\n      <td>0.535663</td>\n    </tr>\n    <tr>\n      <th>2</th>\n      <td>1.513986</td>\n      <td>0.273456</td>\n      <td>-0.484301</td>\n    </tr>\n    <tr>\n      <th>3</th>\n      <td>1.406587</td>\n      <td>0.273456</td>\n      <td>-0.561482</td>\n    </tr>\n    <tr>\n      <th>4</th>\n      <td>-0.057031</td>\n      <td>0.273456</td>\n      <td>-0.561482</td>\n    </tr>\n    <tr>\n      <th>5</th>\n      <td>-1.216304</td>\n      <td>0.273456</td>\n      <td>-0.561482</td>\n    </tr>\n  </tbody>\n</table>\n</div>"
     },
     "execution_count": 36,
     "metadata": {},
     "output_type": "execute_result"
    }
   ]
  },
  {
   "cell_type": "markdown",
   "metadata": {
    "id": "JSgjZmbusI_r"
   },
   "source": [
    "we can set limit of filling data that it should not be filled more than limit value.\n",
    "```python\n",
    "df.ffill(limit=2)\n",
    "```\n"
   ]
  },
  {
   "cell_type": "code",
   "metadata": {
    "id": "hYI8ikJjsTw0",
    "colab": {
     "base_uri": "https://localhost:8080/",
     "height": 237
    },
    "outputId": "c91f454a-df16-4c3b-b391-657df8dd99a2",
    "ExecuteTime": {
     "end_time": "2023-11-01T07:17:51.560866600Z",
     "start_time": "2023-11-01T07:17:51.553044800Z"
    }
   },
   "source": [
    "df.ffill(limit=2)"
   ],
   "execution_count": 37,
   "outputs": [
    {
     "data": {
      "text/plain": "          0         1         2\n0 -0.781937  1.138246 -0.168261\n1  2.307719  0.273456  0.535663\n2  1.513986  0.273456 -0.484301\n3  1.406587  0.273456 -0.561482\n4 -0.057031       NaN -0.561482\n5 -1.216304       NaN -0.561482",
      "text/html": "<div>\n<style scoped>\n    .dataframe tbody tr th:only-of-type {\n        vertical-align: middle;\n    }\n\n    .dataframe tbody tr th {\n        vertical-align: top;\n    }\n\n    .dataframe thead th {\n        text-align: right;\n    }\n</style>\n<table border=\"1\" class=\"dataframe\">\n  <thead>\n    <tr style=\"text-align: right;\">\n      <th></th>\n      <th>0</th>\n      <th>1</th>\n      <th>2</th>\n    </tr>\n  </thead>\n  <tbody>\n    <tr>\n      <th>0</th>\n      <td>-0.781937</td>\n      <td>1.138246</td>\n      <td>-0.168261</td>\n    </tr>\n    <tr>\n      <th>1</th>\n      <td>2.307719</td>\n      <td>0.273456</td>\n      <td>0.535663</td>\n    </tr>\n    <tr>\n      <th>2</th>\n      <td>1.513986</td>\n      <td>0.273456</td>\n      <td>-0.484301</td>\n    </tr>\n    <tr>\n      <th>3</th>\n      <td>1.406587</td>\n      <td>0.273456</td>\n      <td>-0.561482</td>\n    </tr>\n    <tr>\n      <th>4</th>\n      <td>-0.057031</td>\n      <td>NaN</td>\n      <td>-0.561482</td>\n    </tr>\n    <tr>\n      <th>5</th>\n      <td>-1.216304</td>\n      <td>NaN</td>\n      <td>-0.561482</td>\n    </tr>\n  </tbody>\n</table>\n</div>"
     },
     "execution_count": 37,
     "metadata": {},
     "output_type": "execute_result"
    }
   ]
  },
  {
   "cell_type": "markdown",
   "metadata": {
    "id": "KhyzCYtZrzDB"
   },
   "source": [
    "Another fill method can be found in the api\n",
    "such as `bfill` which is backward fill\n",
    "```python\n",
    "df.bfill()\n",
    "```\n",
    "\n"
   ]
  },
  {
   "cell_type": "code",
   "execution_count": 38,
   "outputs": [
    {
     "data": {
      "text/plain": "          0         1         2\n0 -0.781937  1.138246 -0.168261\n1  2.307719  0.273456  0.535663\n2  1.513986       NaN -0.484301\n3  1.406587       NaN -0.561482\n4 -0.057031       NaN       NaN\n5 -1.216304       NaN       NaN",
      "text/html": "<div>\n<style scoped>\n    .dataframe tbody tr th:only-of-type {\n        vertical-align: middle;\n    }\n\n    .dataframe tbody tr th {\n        vertical-align: top;\n    }\n\n    .dataframe thead th {\n        text-align: right;\n    }\n</style>\n<table border=\"1\" class=\"dataframe\">\n  <thead>\n    <tr style=\"text-align: right;\">\n      <th></th>\n      <th>0</th>\n      <th>1</th>\n      <th>2</th>\n    </tr>\n  </thead>\n  <tbody>\n    <tr>\n      <th>0</th>\n      <td>-0.781937</td>\n      <td>1.138246</td>\n      <td>-0.168261</td>\n    </tr>\n    <tr>\n      <th>1</th>\n      <td>2.307719</td>\n      <td>0.273456</td>\n      <td>0.535663</td>\n    </tr>\n    <tr>\n      <th>2</th>\n      <td>1.513986</td>\n      <td>NaN</td>\n      <td>-0.484301</td>\n    </tr>\n    <tr>\n      <th>3</th>\n      <td>1.406587</td>\n      <td>NaN</td>\n      <td>-0.561482</td>\n    </tr>\n    <tr>\n      <th>4</th>\n      <td>-0.057031</td>\n      <td>NaN</td>\n      <td>NaN</td>\n    </tr>\n    <tr>\n      <th>5</th>\n      <td>-1.216304</td>\n      <td>NaN</td>\n      <td>NaN</td>\n    </tr>\n  </tbody>\n</table>\n</div>"
     },
     "execution_count": 38,
     "metadata": {},
     "output_type": "execute_result"
    }
   ],
   "source": [
    "df.bfill()"
   ],
   "metadata": {
    "collapsed": false,
    "ExecuteTime": {
     "end_time": "2023-11-01T07:17:56.686344300Z",
     "start_time": "2023-11-01T07:17:56.654274400Z"
    }
   }
  },
  {
   "cell_type": "markdown",
   "source": [
    "Try\n",
    "\n",
    "```python\n",
    "df[6] = [1,2,3]\n",
    "df\n",
    "```"
   ],
   "metadata": {
    "collapsed": false
   }
  },
  {
   "cell_type": "code",
   "execution_count": 39,
   "outputs": [
    {
     "ename": "ValueError",
     "evalue": "Length of values (3) does not match length of index (6)",
     "output_type": "error",
     "traceback": [
      "\u001B[1;31m---------------------------------------------------------------------------\u001B[0m",
      "\u001B[1;31mValueError\u001B[0m                                Traceback (most recent call last)",
      "Cell \u001B[1;32mIn[39], line 1\u001B[0m\n\u001B[1;32m----> 1\u001B[0m \u001B[43mdf\u001B[49m\u001B[43m[\u001B[49m\u001B[38;5;241;43m6\u001B[39;49m\u001B[43m]\u001B[49m \u001B[38;5;241m=\u001B[39m [\u001B[38;5;241m1\u001B[39m,\u001B[38;5;241m2\u001B[39m,\u001B[38;5;241m3\u001B[39m]\n\u001B[0;32m      2\u001B[0m df\n",
      "File \u001B[1;32m~\\LectureNote\\venv\\Lib\\site-packages\\pandas\\core\\frame.py:3950\u001B[0m, in \u001B[0;36mDataFrame.__setitem__\u001B[1;34m(self, key, value)\u001B[0m\n\u001B[0;32m   3947\u001B[0m     \u001B[38;5;28mself\u001B[39m\u001B[38;5;241m.\u001B[39m_setitem_array([key], value)\n\u001B[0;32m   3948\u001B[0m \u001B[38;5;28;01melse\u001B[39;00m:\n\u001B[0;32m   3949\u001B[0m     \u001B[38;5;66;03m# set column\u001B[39;00m\n\u001B[1;32m-> 3950\u001B[0m     \u001B[38;5;28;43mself\u001B[39;49m\u001B[38;5;241;43m.\u001B[39;49m\u001B[43m_set_item\u001B[49m\u001B[43m(\u001B[49m\u001B[43mkey\u001B[49m\u001B[43m,\u001B[49m\u001B[43m \u001B[49m\u001B[43mvalue\u001B[49m\u001B[43m)\u001B[49m\n",
      "File \u001B[1;32m~\\LectureNote\\venv\\Lib\\site-packages\\pandas\\core\\frame.py:4143\u001B[0m, in \u001B[0;36mDataFrame._set_item\u001B[1;34m(self, key, value)\u001B[0m\n\u001B[0;32m   4133\u001B[0m \u001B[38;5;28;01mdef\u001B[39;00m \u001B[38;5;21m_set_item\u001B[39m(\u001B[38;5;28mself\u001B[39m, key, value) \u001B[38;5;241m-\u001B[39m\u001B[38;5;241m>\u001B[39m \u001B[38;5;28;01mNone\u001B[39;00m:\n\u001B[0;32m   4134\u001B[0m \u001B[38;5;250m    \u001B[39m\u001B[38;5;124;03m\"\"\"\u001B[39;00m\n\u001B[0;32m   4135\u001B[0m \u001B[38;5;124;03m    Add series to DataFrame in specified column.\u001B[39;00m\n\u001B[0;32m   4136\u001B[0m \n\u001B[1;32m   (...)\u001B[0m\n\u001B[0;32m   4141\u001B[0m \u001B[38;5;124;03m    ensure homogeneity.\u001B[39;00m\n\u001B[0;32m   4142\u001B[0m \u001B[38;5;124;03m    \"\"\"\u001B[39;00m\n\u001B[1;32m-> 4143\u001B[0m     value \u001B[38;5;241m=\u001B[39m \u001B[38;5;28;43mself\u001B[39;49m\u001B[38;5;241;43m.\u001B[39;49m\u001B[43m_sanitize_column\u001B[49m\u001B[43m(\u001B[49m\u001B[43mvalue\u001B[49m\u001B[43m)\u001B[49m\n\u001B[0;32m   4145\u001B[0m     \u001B[38;5;28;01mif\u001B[39;00m (\n\u001B[0;32m   4146\u001B[0m         key \u001B[38;5;129;01min\u001B[39;00m \u001B[38;5;28mself\u001B[39m\u001B[38;5;241m.\u001B[39mcolumns\n\u001B[0;32m   4147\u001B[0m         \u001B[38;5;129;01mand\u001B[39;00m value\u001B[38;5;241m.\u001B[39mndim \u001B[38;5;241m==\u001B[39m \u001B[38;5;241m1\u001B[39m\n\u001B[0;32m   4148\u001B[0m         \u001B[38;5;129;01mand\u001B[39;00m \u001B[38;5;129;01mnot\u001B[39;00m is_extension_array_dtype(value)\n\u001B[0;32m   4149\u001B[0m     ):\n\u001B[0;32m   4150\u001B[0m         \u001B[38;5;66;03m# broadcast across multiple columns if necessary\u001B[39;00m\n\u001B[0;32m   4151\u001B[0m         \u001B[38;5;28;01mif\u001B[39;00m \u001B[38;5;129;01mnot\u001B[39;00m \u001B[38;5;28mself\u001B[39m\u001B[38;5;241m.\u001B[39mcolumns\u001B[38;5;241m.\u001B[39mis_unique \u001B[38;5;129;01mor\u001B[39;00m \u001B[38;5;28misinstance\u001B[39m(\u001B[38;5;28mself\u001B[39m\u001B[38;5;241m.\u001B[39mcolumns, MultiIndex):\n",
      "File \u001B[1;32m~\\LectureNote\\venv\\Lib\\site-packages\\pandas\\core\\frame.py:4870\u001B[0m, in \u001B[0;36mDataFrame._sanitize_column\u001B[1;34m(self, value)\u001B[0m\n\u001B[0;32m   4867\u001B[0m     \u001B[38;5;28;01mreturn\u001B[39;00m _reindex_for_setitem(Series(value), \u001B[38;5;28mself\u001B[39m\u001B[38;5;241m.\u001B[39mindex)\n\u001B[0;32m   4869\u001B[0m \u001B[38;5;28;01mif\u001B[39;00m is_list_like(value):\n\u001B[1;32m-> 4870\u001B[0m     \u001B[43mcom\u001B[49m\u001B[38;5;241;43m.\u001B[39;49m\u001B[43mrequire_length_match\u001B[49m\u001B[43m(\u001B[49m\u001B[43mvalue\u001B[49m\u001B[43m,\u001B[49m\u001B[43m \u001B[49m\u001B[38;5;28;43mself\u001B[39;49m\u001B[38;5;241;43m.\u001B[39;49m\u001B[43mindex\u001B[49m\u001B[43m)\u001B[49m\n\u001B[0;32m   4871\u001B[0m \u001B[38;5;28;01mreturn\u001B[39;00m sanitize_array(value, \u001B[38;5;28mself\u001B[39m\u001B[38;5;241m.\u001B[39mindex, copy\u001B[38;5;241m=\u001B[39m\u001B[38;5;28;01mTrue\u001B[39;00m, allow_2d\u001B[38;5;241m=\u001B[39m\u001B[38;5;28;01mTrue\u001B[39;00m)\n",
      "File \u001B[1;32m~\\LectureNote\\venv\\Lib\\site-packages\\pandas\\core\\common.py:576\u001B[0m, in \u001B[0;36mrequire_length_match\u001B[1;34m(data, index)\u001B[0m\n\u001B[0;32m    572\u001B[0m \u001B[38;5;250m\u001B[39m\u001B[38;5;124;03m\"\"\"\u001B[39;00m\n\u001B[0;32m    573\u001B[0m \u001B[38;5;124;03mCheck the length of data matches the length of the index.\u001B[39;00m\n\u001B[0;32m    574\u001B[0m \u001B[38;5;124;03m\"\"\"\u001B[39;00m\n\u001B[0;32m    575\u001B[0m \u001B[38;5;28;01mif\u001B[39;00m \u001B[38;5;28mlen\u001B[39m(data) \u001B[38;5;241m!=\u001B[39m \u001B[38;5;28mlen\u001B[39m(index):\n\u001B[1;32m--> 576\u001B[0m     \u001B[38;5;28;01mraise\u001B[39;00m \u001B[38;5;167;01mValueError\u001B[39;00m(\n\u001B[0;32m    577\u001B[0m         \u001B[38;5;124m\"\u001B[39m\u001B[38;5;124mLength of values \u001B[39m\u001B[38;5;124m\"\u001B[39m\n\u001B[0;32m    578\u001B[0m         \u001B[38;5;124mf\u001B[39m\u001B[38;5;124m\"\u001B[39m\u001B[38;5;124m(\u001B[39m\u001B[38;5;132;01m{\u001B[39;00m\u001B[38;5;28mlen\u001B[39m(data)\u001B[38;5;132;01m}\u001B[39;00m\u001B[38;5;124m) \u001B[39m\u001B[38;5;124m\"\u001B[39m\n\u001B[0;32m    579\u001B[0m         \u001B[38;5;124m\"\u001B[39m\u001B[38;5;124mdoes not match length of index \u001B[39m\u001B[38;5;124m\"\u001B[39m\n\u001B[0;32m    580\u001B[0m         \u001B[38;5;124mf\u001B[39m\u001B[38;5;124m\"\u001B[39m\u001B[38;5;124m(\u001B[39m\u001B[38;5;132;01m{\u001B[39;00m\u001B[38;5;28mlen\u001B[39m(index)\u001B[38;5;132;01m}\u001B[39;00m\u001B[38;5;124m)\u001B[39m\u001B[38;5;124m\"\u001B[39m\n\u001B[0;32m    581\u001B[0m     )\n",
      "\u001B[1;31mValueError\u001B[0m: Length of values (3) does not match length of index (6)"
     ]
    }
   ],
   "source": [
    "df[6] = [1,2,3]\n",
    "df"
   ],
   "metadata": {
    "collapsed": false,
    "ExecuteTime": {
     "end_time": "2023-11-01T07:18:02.062583400Z",
     "start_time": "2023-11-01T07:18:01.678313Z"
    }
   }
  },
  {
   "cell_type": "markdown",
   "metadata": {
    "id": "n0xkAyGt0sOP"
   },
   "source": [
    "#### Work\n",
    "\n",
    "---\n",
    "From the propery_data you have done from the last work\n",
    "Provide this dataframe"
   ]
  },
  {
   "cell_type": "code",
   "metadata": {
    "id": "fZp7rWiT2TQ7",
    "colab": {
     "base_uri": "https://localhost:8080/",
     "height": 331
    },
    "outputId": "2216c392-e3ce-4d48-8e1c-1c9c981a895f",
    "ExecuteTime": {
     "end_time": "2023-11-01T07:18:27.884769400Z",
     "start_time": "2023-11-01T07:18:27.853282700Z"
    }
   },
   "source": [
    "import pandas as pd\n",
    "\n",
    "dat2 = pd.read_csv('file/property_data.csv')\n",
    "dat2"
   ],
   "execution_count": 40,
   "outputs": [
    {
     "data": {
      "text/plain": "           PID  ST_NUM     ST_NAME OWN_OCCUPIED NUM_BEDROOMS NUM_BATH SQ_FT  \\\n0  100001000.0   104.0      PUTNAM            Y            3        1  1000   \n1  100002000.0   197.0   LEXINGTON            N            3      1.5    --   \n2  100003000.0     NaN   LEXINGTON            N          NaN        1   850   \n3  100004000.0   201.0    BERKELEY           12            1      NaN   700   \n4          NaN   203.0    BERKELEY            Y            3        2  1600   \n5  100006000.0   207.0    BERKELEY            Y          NaN        1   800   \n6  100007000.0     NaN  WASHINGTON          NaN            2   HURLEY   950   \n7  100008000.0   213.0     TREMONT            Y            1        1   NaN   \n8  100009000.0   215.0     TREMONT            Y           na        2  1800   \n\n     PRICE  \n0  20000.0  \n1      NaN  \n2      NaN  \n3      NaN  \n4      NaN  \n5      NaN  \n6      NaN  \n7      NaN  \n8      NaN  ",
      "text/html": "<div>\n<style scoped>\n    .dataframe tbody tr th:only-of-type {\n        vertical-align: middle;\n    }\n\n    .dataframe tbody tr th {\n        vertical-align: top;\n    }\n\n    .dataframe thead th {\n        text-align: right;\n    }\n</style>\n<table border=\"1\" class=\"dataframe\">\n  <thead>\n    <tr style=\"text-align: right;\">\n      <th></th>\n      <th>PID</th>\n      <th>ST_NUM</th>\n      <th>ST_NAME</th>\n      <th>OWN_OCCUPIED</th>\n      <th>NUM_BEDROOMS</th>\n      <th>NUM_BATH</th>\n      <th>SQ_FT</th>\n      <th>PRICE</th>\n    </tr>\n  </thead>\n  <tbody>\n    <tr>\n      <th>0</th>\n      <td>100001000.0</td>\n      <td>104.0</td>\n      <td>PUTNAM</td>\n      <td>Y</td>\n      <td>3</td>\n      <td>1</td>\n      <td>1000</td>\n      <td>20000.0</td>\n    </tr>\n    <tr>\n      <th>1</th>\n      <td>100002000.0</td>\n      <td>197.0</td>\n      <td>LEXINGTON</td>\n      <td>N</td>\n      <td>3</td>\n      <td>1.5</td>\n      <td>--</td>\n      <td>NaN</td>\n    </tr>\n    <tr>\n      <th>2</th>\n      <td>100003000.0</td>\n      <td>NaN</td>\n      <td>LEXINGTON</td>\n      <td>N</td>\n      <td>NaN</td>\n      <td>1</td>\n      <td>850</td>\n      <td>NaN</td>\n    </tr>\n    <tr>\n      <th>3</th>\n      <td>100004000.0</td>\n      <td>201.0</td>\n      <td>BERKELEY</td>\n      <td>12</td>\n      <td>1</td>\n      <td>NaN</td>\n      <td>700</td>\n      <td>NaN</td>\n    </tr>\n    <tr>\n      <th>4</th>\n      <td>NaN</td>\n      <td>203.0</td>\n      <td>BERKELEY</td>\n      <td>Y</td>\n      <td>3</td>\n      <td>2</td>\n      <td>1600</td>\n      <td>NaN</td>\n    </tr>\n    <tr>\n      <th>5</th>\n      <td>100006000.0</td>\n      <td>207.0</td>\n      <td>BERKELEY</td>\n      <td>Y</td>\n      <td>NaN</td>\n      <td>1</td>\n      <td>800</td>\n      <td>NaN</td>\n    </tr>\n    <tr>\n      <th>6</th>\n      <td>100007000.0</td>\n      <td>NaN</td>\n      <td>WASHINGTON</td>\n      <td>NaN</td>\n      <td>2</td>\n      <td>HURLEY</td>\n      <td>950</td>\n      <td>NaN</td>\n    </tr>\n    <tr>\n      <th>7</th>\n      <td>100008000.0</td>\n      <td>213.0</td>\n      <td>TREMONT</td>\n      <td>Y</td>\n      <td>1</td>\n      <td>1</td>\n      <td>NaN</td>\n      <td>NaN</td>\n    </tr>\n    <tr>\n      <th>8</th>\n      <td>100009000.0</td>\n      <td>215.0</td>\n      <td>TREMONT</td>\n      <td>Y</td>\n      <td>na</td>\n      <td>2</td>\n      <td>1800</td>\n      <td>NaN</td>\n    </tr>\n  </tbody>\n</table>\n</div>"
     },
     "execution_count": 40,
     "metadata": {},
     "output_type": "execute_result"
    }
   ]
  },
  {
   "cell_type": "markdown",
   "metadata": {
    "id": "Cv8DzRg0Zhdp"
   },
   "source": [
    "Output 1\n",
    "![image-20230906063035319](./assets/image-20230906063035319.png)\n"
   ]
  },
  {
   "cell_type": "code",
   "metadata": {
    "id": "atTt2I582fOi",
    "colab": {
     "base_uri": "https://localhost:8080/",
     "height": 331
    },
    "outputId": "96edb1d4-3897-4517-8a3b-808ac9dfd979",
    "ExecuteTime": {
     "end_time": "2023-11-01T07:18:42.069294400Z",
     "start_time": "2023-11-01T07:18:41.942756500Z"
    }
   },
   "source": [
    "dat2.fillna(-1)"
   ],
   "execution_count": 41,
   "outputs": [
    {
     "data": {
      "text/plain": "           PID  ST_NUM     ST_NAME OWN_OCCUPIED NUM_BEDROOMS NUM_BATH SQ_FT  \\\n0  100001000.0   104.0      PUTNAM            Y            3        1  1000   \n1  100002000.0   197.0   LEXINGTON            N            3      1.5    --   \n2  100003000.0    -1.0   LEXINGTON            N           -1        1   850   \n3  100004000.0   201.0    BERKELEY           12            1       -1   700   \n4         -1.0   203.0    BERKELEY            Y            3        2  1600   \n5  100006000.0   207.0    BERKELEY            Y           -1        1   800   \n6  100007000.0    -1.0  WASHINGTON           -1            2   HURLEY   950   \n7  100008000.0   213.0     TREMONT            Y            1        1    -1   \n8  100009000.0   215.0     TREMONT            Y           na        2  1800   \n\n     PRICE  \n0  20000.0  \n1     -1.0  \n2     -1.0  \n3     -1.0  \n4     -1.0  \n5     -1.0  \n6     -1.0  \n7     -1.0  \n8     -1.0  ",
      "text/html": "<div>\n<style scoped>\n    .dataframe tbody tr th:only-of-type {\n        vertical-align: middle;\n    }\n\n    .dataframe tbody tr th {\n        vertical-align: top;\n    }\n\n    .dataframe thead th {\n        text-align: right;\n    }\n</style>\n<table border=\"1\" class=\"dataframe\">\n  <thead>\n    <tr style=\"text-align: right;\">\n      <th></th>\n      <th>PID</th>\n      <th>ST_NUM</th>\n      <th>ST_NAME</th>\n      <th>OWN_OCCUPIED</th>\n      <th>NUM_BEDROOMS</th>\n      <th>NUM_BATH</th>\n      <th>SQ_FT</th>\n      <th>PRICE</th>\n    </tr>\n  </thead>\n  <tbody>\n    <tr>\n      <th>0</th>\n      <td>100001000.0</td>\n      <td>104.0</td>\n      <td>PUTNAM</td>\n      <td>Y</td>\n      <td>3</td>\n      <td>1</td>\n      <td>1000</td>\n      <td>20000.0</td>\n    </tr>\n    <tr>\n      <th>1</th>\n      <td>100002000.0</td>\n      <td>197.0</td>\n      <td>LEXINGTON</td>\n      <td>N</td>\n      <td>3</td>\n      <td>1.5</td>\n      <td>--</td>\n      <td>-1.0</td>\n    </tr>\n    <tr>\n      <th>2</th>\n      <td>100003000.0</td>\n      <td>-1.0</td>\n      <td>LEXINGTON</td>\n      <td>N</td>\n      <td>-1</td>\n      <td>1</td>\n      <td>850</td>\n      <td>-1.0</td>\n    </tr>\n    <tr>\n      <th>3</th>\n      <td>100004000.0</td>\n      <td>201.0</td>\n      <td>BERKELEY</td>\n      <td>12</td>\n      <td>1</td>\n      <td>-1</td>\n      <td>700</td>\n      <td>-1.0</td>\n    </tr>\n    <tr>\n      <th>4</th>\n      <td>-1.0</td>\n      <td>203.0</td>\n      <td>BERKELEY</td>\n      <td>Y</td>\n      <td>3</td>\n      <td>2</td>\n      <td>1600</td>\n      <td>-1.0</td>\n    </tr>\n    <tr>\n      <th>5</th>\n      <td>100006000.0</td>\n      <td>207.0</td>\n      <td>BERKELEY</td>\n      <td>Y</td>\n      <td>-1</td>\n      <td>1</td>\n      <td>800</td>\n      <td>-1.0</td>\n    </tr>\n    <tr>\n      <th>6</th>\n      <td>100007000.0</td>\n      <td>-1.0</td>\n      <td>WASHINGTON</td>\n      <td>-1</td>\n      <td>2</td>\n      <td>HURLEY</td>\n      <td>950</td>\n      <td>-1.0</td>\n    </tr>\n    <tr>\n      <th>7</th>\n      <td>100008000.0</td>\n      <td>213.0</td>\n      <td>TREMONT</td>\n      <td>Y</td>\n      <td>1</td>\n      <td>1</td>\n      <td>-1</td>\n      <td>-1.0</td>\n    </tr>\n    <tr>\n      <th>8</th>\n      <td>100009000.0</td>\n      <td>215.0</td>\n      <td>TREMONT</td>\n      <td>Y</td>\n      <td>na</td>\n      <td>2</td>\n      <td>1800</td>\n      <td>-1.0</td>\n    </tr>\n  </tbody>\n</table>\n</div>"
     },
     "execution_count": 41,
     "metadata": {},
     "output_type": "execute_result"
    }
   ]
  },
  {
   "cell_type": "code",
   "execution_count": 42,
   "outputs": [
    {
     "data": {
      "text/plain": "           PID  ST_NUM     ST_NAME OWN_OCCUPIED NUM_BEDROOMS NUM_BATH SQ_FT  \\\n0  100001000.0   104.0      PUTNAM            Y            3        1  1000   \n1  100002000.0   197.0   LEXINGTON            N            3      1.5    --   \n2  100003000.0   197.0   LEXINGTON            N            3        1   850   \n3  100004000.0   201.0    BERKELEY           12            1        1   700   \n4  100004000.0   203.0    BERKELEY            Y            3        2  1600   \n5  100006000.0   207.0    BERKELEY            Y            3        1   800   \n6  100007000.0   207.0  WASHINGTON            Y            2   HURLEY   950   \n7  100008000.0   213.0     TREMONT            Y            1        1   950   \n8  100009000.0   215.0     TREMONT            Y           na        2  1800   \n\n     PRICE  \n0  20000.0  \n1  20000.0  \n2  20000.0  \n3  20000.0  \n4  20000.0  \n5  20000.0  \n6  20000.0  \n7  20000.0  \n8  20000.0  ",
      "text/html": "<div>\n<style scoped>\n    .dataframe tbody tr th:only-of-type {\n        vertical-align: middle;\n    }\n\n    .dataframe tbody tr th {\n        vertical-align: top;\n    }\n\n    .dataframe thead th {\n        text-align: right;\n    }\n</style>\n<table border=\"1\" class=\"dataframe\">\n  <thead>\n    <tr style=\"text-align: right;\">\n      <th></th>\n      <th>PID</th>\n      <th>ST_NUM</th>\n      <th>ST_NAME</th>\n      <th>OWN_OCCUPIED</th>\n      <th>NUM_BEDROOMS</th>\n      <th>NUM_BATH</th>\n      <th>SQ_FT</th>\n      <th>PRICE</th>\n    </tr>\n  </thead>\n  <tbody>\n    <tr>\n      <th>0</th>\n      <td>100001000.0</td>\n      <td>104.0</td>\n      <td>PUTNAM</td>\n      <td>Y</td>\n      <td>3</td>\n      <td>1</td>\n      <td>1000</td>\n      <td>20000.0</td>\n    </tr>\n    <tr>\n      <th>1</th>\n      <td>100002000.0</td>\n      <td>197.0</td>\n      <td>LEXINGTON</td>\n      <td>N</td>\n      <td>3</td>\n      <td>1.5</td>\n      <td>--</td>\n      <td>20000.0</td>\n    </tr>\n    <tr>\n      <th>2</th>\n      <td>100003000.0</td>\n      <td>197.0</td>\n      <td>LEXINGTON</td>\n      <td>N</td>\n      <td>3</td>\n      <td>1</td>\n      <td>850</td>\n      <td>20000.0</td>\n    </tr>\n    <tr>\n      <th>3</th>\n      <td>100004000.0</td>\n      <td>201.0</td>\n      <td>BERKELEY</td>\n      <td>12</td>\n      <td>1</td>\n      <td>1</td>\n      <td>700</td>\n      <td>20000.0</td>\n    </tr>\n    <tr>\n      <th>4</th>\n      <td>100004000.0</td>\n      <td>203.0</td>\n      <td>BERKELEY</td>\n      <td>Y</td>\n      <td>3</td>\n      <td>2</td>\n      <td>1600</td>\n      <td>20000.0</td>\n    </tr>\n    <tr>\n      <th>5</th>\n      <td>100006000.0</td>\n      <td>207.0</td>\n      <td>BERKELEY</td>\n      <td>Y</td>\n      <td>3</td>\n      <td>1</td>\n      <td>800</td>\n      <td>20000.0</td>\n    </tr>\n    <tr>\n      <th>6</th>\n      <td>100007000.0</td>\n      <td>207.0</td>\n      <td>WASHINGTON</td>\n      <td>Y</td>\n      <td>2</td>\n      <td>HURLEY</td>\n      <td>950</td>\n      <td>20000.0</td>\n    </tr>\n    <tr>\n      <th>7</th>\n      <td>100008000.0</td>\n      <td>213.0</td>\n      <td>TREMONT</td>\n      <td>Y</td>\n      <td>1</td>\n      <td>1</td>\n      <td>950</td>\n      <td>20000.0</td>\n    </tr>\n    <tr>\n      <th>8</th>\n      <td>100009000.0</td>\n      <td>215.0</td>\n      <td>TREMONT</td>\n      <td>Y</td>\n      <td>na</td>\n      <td>2</td>\n      <td>1800</td>\n      <td>20000.0</td>\n    </tr>\n  </tbody>\n</table>\n</div>"
     },
     "execution_count": 42,
     "metadata": {},
     "output_type": "execute_result"
    }
   ],
   "source": [
    "dat2.ffill()"
   ],
   "metadata": {
    "collapsed": false,
    "ExecuteTime": {
     "end_time": "2023-11-01T07:19:02.308654Z",
     "start_time": "2023-11-01T07:19:02.293503400Z"
    }
   }
  },
  {
   "cell_type": "markdown",
   "metadata": {
    "id": "v91y3obtZoSm"
   },
   "source": [
    "Output 2\n",
    "![image-20230906063122466](./assets/image-20230906063122466.png)"
   ]
  },
  {
   "cell_type": "markdown",
   "metadata": {
    "id": "5MUSdIB2Zs_H"
   },
   "source": [
    "Output 3\n",
    "![image-20230906063412850](./assets/image-20230906063412850.png)\n"
   ]
  },
  {
   "cell_type": "code",
   "execution_count": 43,
   "outputs": [],
   "source": [
    "dat2['PID'].ffill (inplace=True)\n",
    "dat2['ST_NUM'].ffill (inplace=True)\n",
    "dat2['OWN_OCCUPIED']. fillna ('N' , inplace=True)\n",
    "dat2['NUM_BEDROOMS' ].fillna(0, inplace=True)\n",
    "dat2['NUM_BATH']. fillna(0, inplace=True)\n",
    "dat2['SQ_FT'].fillna (-1, inplace=True)\n",
    "dat2['PRICE'].fillna (0, inplace=True)"
   ],
   "metadata": {
    "collapsed": false,
    "ExecuteTime": {
     "end_time": "2023-11-01T07:19:27.565381Z",
     "start_time": "2023-11-01T07:19:27.556615500Z"
    }
   }
  },
  {
   "cell_type": "code",
   "execution_count": 44,
   "outputs": [
    {
     "data": {
      "text/plain": "           PID  ST_NUM     ST_NAME OWN_OCCUPIED NUM_BEDROOMS NUM_BATH SQ_FT  \\\n0  100001000.0   104.0      PUTNAM            Y            3        1  1000   \n1  100002000.0   197.0   LEXINGTON            N            3      1.5    --   \n2  100003000.0   197.0   LEXINGTON            N            0        1   850   \n3  100004000.0   201.0    BERKELEY           12            1        0   700   \n4  100004000.0   203.0    BERKELEY            Y            3        2  1600   \n5  100006000.0   207.0    BERKELEY            Y            0        1   800   \n6  100007000.0   207.0  WASHINGTON            N            2   HURLEY   950   \n7  100008000.0   213.0     TREMONT            Y            1        1    -1   \n8  100009000.0   215.0     TREMONT            Y           na        2  1800   \n\n     PRICE  \n0  20000.0  \n1      0.0  \n2      0.0  \n3      0.0  \n4      0.0  \n5      0.0  \n6      0.0  \n7      0.0  \n8      0.0  ",
      "text/html": "<div>\n<style scoped>\n    .dataframe tbody tr th:only-of-type {\n        vertical-align: middle;\n    }\n\n    .dataframe tbody tr th {\n        vertical-align: top;\n    }\n\n    .dataframe thead th {\n        text-align: right;\n    }\n</style>\n<table border=\"1\" class=\"dataframe\">\n  <thead>\n    <tr style=\"text-align: right;\">\n      <th></th>\n      <th>PID</th>\n      <th>ST_NUM</th>\n      <th>ST_NAME</th>\n      <th>OWN_OCCUPIED</th>\n      <th>NUM_BEDROOMS</th>\n      <th>NUM_BATH</th>\n      <th>SQ_FT</th>\n      <th>PRICE</th>\n    </tr>\n  </thead>\n  <tbody>\n    <tr>\n      <th>0</th>\n      <td>100001000.0</td>\n      <td>104.0</td>\n      <td>PUTNAM</td>\n      <td>Y</td>\n      <td>3</td>\n      <td>1</td>\n      <td>1000</td>\n      <td>20000.0</td>\n    </tr>\n    <tr>\n      <th>1</th>\n      <td>100002000.0</td>\n      <td>197.0</td>\n      <td>LEXINGTON</td>\n      <td>N</td>\n      <td>3</td>\n      <td>1.5</td>\n      <td>--</td>\n      <td>0.0</td>\n    </tr>\n    <tr>\n      <th>2</th>\n      <td>100003000.0</td>\n      <td>197.0</td>\n      <td>LEXINGTON</td>\n      <td>N</td>\n      <td>0</td>\n      <td>1</td>\n      <td>850</td>\n      <td>0.0</td>\n    </tr>\n    <tr>\n      <th>3</th>\n      <td>100004000.0</td>\n      <td>201.0</td>\n      <td>BERKELEY</td>\n      <td>12</td>\n      <td>1</td>\n      <td>0</td>\n      <td>700</td>\n      <td>0.0</td>\n    </tr>\n    <tr>\n      <th>4</th>\n      <td>100004000.0</td>\n      <td>203.0</td>\n      <td>BERKELEY</td>\n      <td>Y</td>\n      <td>3</td>\n      <td>2</td>\n      <td>1600</td>\n      <td>0.0</td>\n    </tr>\n    <tr>\n      <th>5</th>\n      <td>100006000.0</td>\n      <td>207.0</td>\n      <td>BERKELEY</td>\n      <td>Y</td>\n      <td>0</td>\n      <td>1</td>\n      <td>800</td>\n      <td>0.0</td>\n    </tr>\n    <tr>\n      <th>6</th>\n      <td>100007000.0</td>\n      <td>207.0</td>\n      <td>WASHINGTON</td>\n      <td>N</td>\n      <td>2</td>\n      <td>HURLEY</td>\n      <td>950</td>\n      <td>0.0</td>\n    </tr>\n    <tr>\n      <th>7</th>\n      <td>100008000.0</td>\n      <td>213.0</td>\n      <td>TREMONT</td>\n      <td>Y</td>\n      <td>1</td>\n      <td>1</td>\n      <td>-1</td>\n      <td>0.0</td>\n    </tr>\n    <tr>\n      <th>8</th>\n      <td>100009000.0</td>\n      <td>215.0</td>\n      <td>TREMONT</td>\n      <td>Y</td>\n      <td>na</td>\n      <td>2</td>\n      <td>1800</td>\n      <td>0.0</td>\n    </tr>\n  </tbody>\n</table>\n</div>"
     },
     "execution_count": 44,
     "metadata": {},
     "output_type": "execute_result"
    }
   ],
   "source": [
    "dat2"
   ],
   "metadata": {
    "collapsed": false,
    "ExecuteTime": {
     "end_time": "2023-11-01T07:19:35.145045700Z",
     "start_time": "2023-11-01T07:19:35.113369800Z"
    }
   }
  },
  {
   "cell_type": "markdown",
   "metadata": {
    "id": "nuY4JK10bdLt"
   },
   "source": []
  },
  {
   "cell_type": "markdown",
   "metadata": {
    "id": "u9hDfUFrtvEr"
   },
   "source": [
    "## Data Transformation\n",
    "\n"
   ]
  },
  {
   "cell_type": "markdown",
   "metadata": {
    "id": "kaaqn6qDt9NF"
   },
   "source": [
    "We need to transform the data in the format which can manipulate it later."
   ]
  },
  {
   "cell_type": "markdown",
   "metadata": {
    "id": "_eqmcsHauGtU"
   },
   "source": [
    "### Removing Duplicates\n",
    "\n",
    "\n",
    "Some data duplication must be removed to reduce the unusual behaviour of data\n",
    "from the provided data"
   ]
  },
  {
   "cell_type": "markdown",
   "source": [
    "setting up a new dataframe\n",
    "```python\n",
    "data = pd.DataFrame({'k1': ['one', 'two'] * 3 + ['two'],\n",
    "                     'k2': [1, 1, 2, 3, 3, 4, 4]})\n",
    "data\n",
    "```"
   ],
   "metadata": {
    "collapsed": false
   }
  },
  {
   "cell_type": "code",
   "metadata": {
    "id": "Cz6EcFqIuRSg",
    "colab": {
     "base_uri": "https://localhost:8080/",
     "height": 269
    },
    "outputId": "2c3a7d9d-1918-4b1d-bc4e-41632f41b376",
    "ExecuteTime": {
     "end_time": "2023-11-01T07:19:55.346609200Z",
     "start_time": "2023-11-01T07:19:55.252119500Z"
    }
   },
   "source": [
    "\n",
    "data = pd.DataFrame({'k1': ['one', 'two'] * 3 + ['two'],\n",
    "                     'k2': [1, 1, 2, 3, 3, 4, 4]})\n",
    "data"
   ],
   "execution_count": 45,
   "outputs": [
    {
     "data": {
      "text/plain": "    k1  k2\n0  one   1\n1  two   1\n2  one   2\n3  two   3\n4  one   3\n5  two   4\n6  two   4",
      "text/html": "<div>\n<style scoped>\n    .dataframe tbody tr th:only-of-type {\n        vertical-align: middle;\n    }\n\n    .dataframe tbody tr th {\n        vertical-align: top;\n    }\n\n    .dataframe thead th {\n        text-align: right;\n    }\n</style>\n<table border=\"1\" class=\"dataframe\">\n  <thead>\n    <tr style=\"text-align: right;\">\n      <th></th>\n      <th>k1</th>\n      <th>k2</th>\n    </tr>\n  </thead>\n  <tbody>\n    <tr>\n      <th>0</th>\n      <td>one</td>\n      <td>1</td>\n    </tr>\n    <tr>\n      <th>1</th>\n      <td>two</td>\n      <td>1</td>\n    </tr>\n    <tr>\n      <th>2</th>\n      <td>one</td>\n      <td>2</td>\n    </tr>\n    <tr>\n      <th>3</th>\n      <td>two</td>\n      <td>3</td>\n    </tr>\n    <tr>\n      <th>4</th>\n      <td>one</td>\n      <td>3</td>\n    </tr>\n    <tr>\n      <th>5</th>\n      <td>two</td>\n      <td>4</td>\n    </tr>\n    <tr>\n      <th>6</th>\n      <td>two</td>\n      <td>4</td>\n    </tr>\n  </tbody>\n</table>\n</div>"
     },
     "execution_count": 45,
     "metadata": {},
     "output_type": "execute_result"
    }
   ]
  },
  {
   "cell_type": "markdown",
   "metadata": {
    "id": "uzXfoO5zukOf"
   },
   "source": [
    "The duplicated data is found by\n",
    "\n",
    "```python\n",
    "data.duplicated()\n",
    "```"
   ]
  },
  {
   "cell_type": "code",
   "metadata": {
    "id": "GTGRSRD_unqt",
    "colab": {
     "base_uri": "https://localhost:8080/"
    },
    "outputId": "acb7d07d-fc6d-4bbf-f7c0-f99c43779f04",
    "ExecuteTime": {
     "end_time": "2023-11-01T07:20:02.886292900Z",
     "start_time": "2023-11-01T07:20:02.863636500Z"
    }
   },
   "source": [
    "data.duplicated()"
   ],
   "execution_count": 46,
   "outputs": [
    {
     "data": {
      "text/plain": "0    False\n1    False\n2    False\n3    False\n4    False\n5    False\n6     True\ndtype: bool"
     },
     "execution_count": 46,
     "metadata": {},
     "output_type": "execute_result"
    }
   ]
  },
  {
   "cell_type": "markdown",
   "metadata": {
    "id": "uKpyz3OMunEG"
   },
   "source": [
    "So we can drop the duplicate code\n",
    "```python\n",
    "data.drop_duplicates()\n",
    "```"
   ]
  },
  {
   "cell_type": "code",
   "metadata": {
    "id": "SpcQNVnpus-5",
    "colab": {
     "base_uri": "https://localhost:8080/",
     "height": 237
    },
    "outputId": "cd04d021-037a-4c28-b780-2153d94b1f32",
    "ExecuteTime": {
     "end_time": "2023-11-01T07:20:10.428646300Z",
     "start_time": "2023-11-01T07:20:10.420294200Z"
    }
   },
   "source": [
    "data.drop_duplicates()"
   ],
   "execution_count": 47,
   "outputs": [
    {
     "data": {
      "text/plain": "    k1  k2\n0  one   1\n1  two   1\n2  one   2\n3  two   3\n4  one   3\n5  two   4",
      "text/html": "<div>\n<style scoped>\n    .dataframe tbody tr th:only-of-type {\n        vertical-align: middle;\n    }\n\n    .dataframe tbody tr th {\n        vertical-align: top;\n    }\n\n    .dataframe thead th {\n        text-align: right;\n    }\n</style>\n<table border=\"1\" class=\"dataframe\">\n  <thead>\n    <tr style=\"text-align: right;\">\n      <th></th>\n      <th>k1</th>\n      <th>k2</th>\n    </tr>\n  </thead>\n  <tbody>\n    <tr>\n      <th>0</th>\n      <td>one</td>\n      <td>1</td>\n    </tr>\n    <tr>\n      <th>1</th>\n      <td>two</td>\n      <td>1</td>\n    </tr>\n    <tr>\n      <th>2</th>\n      <td>one</td>\n      <td>2</td>\n    </tr>\n    <tr>\n      <th>3</th>\n      <td>two</td>\n      <td>3</td>\n    </tr>\n    <tr>\n      <th>4</th>\n      <td>one</td>\n      <td>3</td>\n    </tr>\n    <tr>\n      <th>5</th>\n      <td>two</td>\n      <td>4</td>\n    </tr>\n  </tbody>\n</table>\n</div>"
     },
     "execution_count": 47,
     "metadata": {},
     "output_type": "execute_result"
    }
   ]
  },
  {
   "cell_type": "markdown",
   "metadata": {
    "id": "P1IbfYGBuxau"
   },
   "source": [
    "we can select key to check the duplicate data, adding a new column to the data frame to see which data is stored\n",
    "```python\n",
    "data['v1'] = range(7)\n",
    "data\n",
    "```\n"
   ]
  },
  {
   "cell_type": "code",
   "metadata": {
    "id": "b5NqNAmBxf_u",
    "colab": {
     "base_uri": "https://localhost:8080/",
     "height": 269
    },
    "outputId": "d32193c5-3782-42e8-b4cc-4a11ce140da1",
    "ExecuteTime": {
     "end_time": "2023-11-01T07:20:17.459591800Z",
     "start_time": "2023-11-01T07:20:17.353322700Z"
    }
   },
   "source": [
    "data['v1'] = range(7)\n",
    "data"
   ],
   "execution_count": 48,
   "outputs": [
    {
     "data": {
      "text/plain": "    k1  k2  v1\n0  one   1   0\n1  two   1   1\n2  one   2   2\n3  two   3   3\n4  one   3   4\n5  two   4   5\n6  two   4   6",
      "text/html": "<div>\n<style scoped>\n    .dataframe tbody tr th:only-of-type {\n        vertical-align: middle;\n    }\n\n    .dataframe tbody tr th {\n        vertical-align: top;\n    }\n\n    .dataframe thead th {\n        text-align: right;\n    }\n</style>\n<table border=\"1\" class=\"dataframe\">\n  <thead>\n    <tr style=\"text-align: right;\">\n      <th></th>\n      <th>k1</th>\n      <th>k2</th>\n      <th>v1</th>\n    </tr>\n  </thead>\n  <tbody>\n    <tr>\n      <th>0</th>\n      <td>one</td>\n      <td>1</td>\n      <td>0</td>\n    </tr>\n    <tr>\n      <th>1</th>\n      <td>two</td>\n      <td>1</td>\n      <td>1</td>\n    </tr>\n    <tr>\n      <th>2</th>\n      <td>one</td>\n      <td>2</td>\n      <td>2</td>\n    </tr>\n    <tr>\n      <th>3</th>\n      <td>two</td>\n      <td>3</td>\n      <td>3</td>\n    </tr>\n    <tr>\n      <th>4</th>\n      <td>one</td>\n      <td>3</td>\n      <td>4</td>\n    </tr>\n    <tr>\n      <th>5</th>\n      <td>two</td>\n      <td>4</td>\n      <td>5</td>\n    </tr>\n    <tr>\n      <th>6</th>\n      <td>two</td>\n      <td>4</td>\n      <td>6</td>\n    </tr>\n  </tbody>\n</table>\n</div>"
     },
     "execution_count": 48,
     "metadata": {},
     "output_type": "execute_result"
    }
   ]
  },
  {
   "cell_type": "markdown",
   "source": [
    "now check for duplicatoin\n",
    "```python\n",
    "data.duplicated()\n",
    "```"
   ],
   "metadata": {
    "collapsed": false
   }
  },
  {
   "cell_type": "code",
   "metadata": {
    "id": "5NhXvsAUUS7N",
    "colab": {
     "base_uri": "https://localhost:8080/"
    },
    "outputId": "18206bf8-f845-48c1-99f4-da8adf86327a",
    "ExecuteTime": {
     "end_time": "2023-11-01T07:20:22.904950200Z",
     "start_time": "2023-11-01T07:20:22.888941200Z"
    }
   },
   "source": [
    "data.duplicated()"
   ],
   "execution_count": 49,
   "outputs": [
    {
     "data": {
      "text/plain": "0    False\n1    False\n2    False\n3    False\n4    False\n5    False\n6    False\ndtype: bool"
     },
     "execution_count": 49,
     "metadata": {},
     "output_type": "execute_result"
    }
   ]
  },
  {
   "cell_type": "markdown",
   "metadata": {
    "id": "nD2v-n7Txkae"
   },
   "source": [
    "check the dupplicate key only the key in column k1\n",
    "```python\n",
    "data.duplicated(['k1'])\n",
    "```"
   ]
  },
  {
   "cell_type": "code",
   "metadata": {
    "id": "n_Wzn6XxxqUT",
    "colab": {
     "base_uri": "https://localhost:8080/",
     "height": 112
    },
    "outputId": "37204db0-f432-4b2d-8c3f-1eb40394612f",
    "ExecuteTime": {
     "end_time": "2023-11-01T07:20:27.840832700Z",
     "start_time": "2023-11-01T07:20:27.826932800Z"
    }
   },
   "source": [
    "data.duplicated(['k1'])"
   ],
   "execution_count": 50,
   "outputs": [
    {
     "data": {
      "text/plain": "0    False\n1    False\n2     True\n3     True\n4     True\n5     True\n6     True\ndtype: bool"
     },
     "execution_count": 50,
     "metadata": {},
     "output_type": "execute_result"
    }
   ]
  },
  {
   "cell_type": "markdown",
   "metadata": {
    "id": "n7iv6i20xt8a"
   },
   "source": [
    "The previous work keep the first data in the result data frame. We can keep the last entry of the duplicate data using the `keep` parameter\n",
    "comparing these code?\n",
    "```python\n",
    "data.drop_duplicates(['k1','k2'])\n",
    "```"
   ]
  },
  {
   "cell_type": "code",
   "metadata": {
    "id": "tD9pkIWqgKnJ",
    "colab": {
     "base_uri": "https://localhost:8080/",
     "height": 237
    },
    "outputId": "cba0cd70-1b6a-4782-b440-e551d6ed88bf",
    "ExecuteTime": {
     "end_time": "2023-11-01T07:20:38.849205700Z",
     "start_time": "2023-11-01T07:20:38.802220200Z"
    }
   },
   "source": [
    "data.drop_duplicates(['k1','k2'])"
   ],
   "execution_count": 51,
   "outputs": [
    {
     "data": {
      "text/plain": "    k1  k2  v1\n0  one   1   0\n1  two   1   1\n2  one   2   2\n3  two   3   3\n4  one   3   4\n5  two   4   5",
      "text/html": "<div>\n<style scoped>\n    .dataframe tbody tr th:only-of-type {\n        vertical-align: middle;\n    }\n\n    .dataframe tbody tr th {\n        vertical-align: top;\n    }\n\n    .dataframe thead th {\n        text-align: right;\n    }\n</style>\n<table border=\"1\" class=\"dataframe\">\n  <thead>\n    <tr style=\"text-align: right;\">\n      <th></th>\n      <th>k1</th>\n      <th>k2</th>\n      <th>v1</th>\n    </tr>\n  </thead>\n  <tbody>\n    <tr>\n      <th>0</th>\n      <td>one</td>\n      <td>1</td>\n      <td>0</td>\n    </tr>\n    <tr>\n      <th>1</th>\n      <td>two</td>\n      <td>1</td>\n      <td>1</td>\n    </tr>\n    <tr>\n      <th>2</th>\n      <td>one</td>\n      <td>2</td>\n      <td>2</td>\n    </tr>\n    <tr>\n      <th>3</th>\n      <td>two</td>\n      <td>3</td>\n      <td>3</td>\n    </tr>\n    <tr>\n      <th>4</th>\n      <td>one</td>\n      <td>3</td>\n      <td>4</td>\n    </tr>\n    <tr>\n      <th>5</th>\n      <td>two</td>\n      <td>4</td>\n      <td>5</td>\n    </tr>\n  </tbody>\n</table>\n</div>"
     },
     "execution_count": 51,
     "metadata": {},
     "output_type": "execute_result"
    }
   ]
  },
  {
   "cell_type": "markdown",
   "source": [
    "with\n",
    "```python\n",
    "data.drop_duplicates(['k1','k2'],keep='last')\n",
    "```"
   ],
   "metadata": {
    "collapsed": false
   }
  },
  {
   "cell_type": "code",
   "metadata": {
    "id": "Gq907ME6x9_B",
    "colab": {
     "base_uri": "https://localhost:8080/",
     "height": 237
    },
    "outputId": "144cd917-5fb6-41bc-8d1d-5cb42b06fd4f",
    "ExecuteTime": {
     "end_time": "2023-11-01T07:20:45.151348100Z",
     "start_time": "2023-11-01T07:20:45.145806500Z"
    }
   },
   "source": [
    "data.drop_duplicates(['k1','k2'],keep='last')"
   ],
   "execution_count": 52,
   "outputs": [
    {
     "data": {
      "text/plain": "    k1  k2  v1\n0  one   1   0\n1  two   1   1\n2  one   2   2\n3  two   3   3\n4  one   3   4\n6  two   4   6",
      "text/html": "<div>\n<style scoped>\n    .dataframe tbody tr th:only-of-type {\n        vertical-align: middle;\n    }\n\n    .dataframe tbody tr th {\n        vertical-align: top;\n    }\n\n    .dataframe thead th {\n        text-align: right;\n    }\n</style>\n<table border=\"1\" class=\"dataframe\">\n  <thead>\n    <tr style=\"text-align: right;\">\n      <th></th>\n      <th>k1</th>\n      <th>k2</th>\n      <th>v1</th>\n    </tr>\n  </thead>\n  <tbody>\n    <tr>\n      <th>0</th>\n      <td>one</td>\n      <td>1</td>\n      <td>0</td>\n    </tr>\n    <tr>\n      <th>1</th>\n      <td>two</td>\n      <td>1</td>\n      <td>1</td>\n    </tr>\n    <tr>\n      <th>2</th>\n      <td>one</td>\n      <td>2</td>\n      <td>2</td>\n    </tr>\n    <tr>\n      <th>3</th>\n      <td>two</td>\n      <td>3</td>\n      <td>3</td>\n    </tr>\n    <tr>\n      <th>4</th>\n      <td>one</td>\n      <td>3</td>\n      <td>4</td>\n    </tr>\n    <tr>\n      <th>6</th>\n      <td>two</td>\n      <td>4</td>\n      <td>6</td>\n    </tr>\n  </tbody>\n</table>\n</div>"
     },
     "execution_count": 52,
     "metadata": {},
     "output_type": "execute_result"
    }
   ]
  },
  {
   "cell_type": "markdown",
   "metadata": {
    "id": "yKdIMw8iyIDu"
   },
   "source": [
    "### Transforming Data Using a Function or mapping\n",
    "\n",
    "Data can be mapped to a better representation\n",
    "\n",
    "with the provided data frame\n",
    "```python\n",
    "data = pd.DataFrame({'food': ['bacon', 'pulled pork', 'bacon',\n",
    "                              'Pastrami', 'corned beef', 'Bacon',\n",
    "                              'pastrami', 'honey ham', 'nova lox'],\n",
    "                     'ounces': [4, 3, 12, 6, 7.5, 8, 3, 5, 6]})\n",
    "data\n",
    "```"
   ]
  },
  {
   "cell_type": "code",
   "metadata": {
    "id": "D7kdpUSYyT9E",
    "colab": {
     "base_uri": "https://localhost:8080/",
     "height": 331
    },
    "outputId": "1f0fa8c4-feec-4cf1-a3bc-37ec13537b44",
    "ExecuteTime": {
     "end_time": "2023-11-01T07:20:52.200013400Z",
     "start_time": "2023-11-01T07:20:52.136506400Z"
    }
   },
   "source": [
    "data = pd.DataFrame({'food': ['bacon', 'pulled pork', 'bacon',\n",
    "                              'Pastrami', 'corned beef', 'Bacon',\n",
    "                              'pastrami', 'honey ham', 'nova lox'],\n",
    "                     'ounces': [4, 3, 12, 6, 7.5, 8, 3, 5, 6]})\n",
    "data"
   ],
   "execution_count": 53,
   "outputs": [
    {
     "data": {
      "text/plain": "          food  ounces\n0        bacon     4.0\n1  pulled pork     3.0\n2        bacon    12.0\n3     Pastrami     6.0\n4  corned beef     7.5\n5        Bacon     8.0\n6     pastrami     3.0\n7    honey ham     5.0\n8     nova lox     6.0",
      "text/html": "<div>\n<style scoped>\n    .dataframe tbody tr th:only-of-type {\n        vertical-align: middle;\n    }\n\n    .dataframe tbody tr th {\n        vertical-align: top;\n    }\n\n    .dataframe thead th {\n        text-align: right;\n    }\n</style>\n<table border=\"1\" class=\"dataframe\">\n  <thead>\n    <tr style=\"text-align: right;\">\n      <th></th>\n      <th>food</th>\n      <th>ounces</th>\n    </tr>\n  </thead>\n  <tbody>\n    <tr>\n      <th>0</th>\n      <td>bacon</td>\n      <td>4.0</td>\n    </tr>\n    <tr>\n      <th>1</th>\n      <td>pulled pork</td>\n      <td>3.0</td>\n    </tr>\n    <tr>\n      <th>2</th>\n      <td>bacon</td>\n      <td>12.0</td>\n    </tr>\n    <tr>\n      <th>3</th>\n      <td>Pastrami</td>\n      <td>6.0</td>\n    </tr>\n    <tr>\n      <th>4</th>\n      <td>corned beef</td>\n      <td>7.5</td>\n    </tr>\n    <tr>\n      <th>5</th>\n      <td>Bacon</td>\n      <td>8.0</td>\n    </tr>\n    <tr>\n      <th>6</th>\n      <td>pastrami</td>\n      <td>3.0</td>\n    </tr>\n    <tr>\n      <th>7</th>\n      <td>honey ham</td>\n      <td>5.0</td>\n    </tr>\n    <tr>\n      <th>8</th>\n      <td>nova lox</td>\n      <td>6.0</td>\n    </tr>\n  </tbody>\n</table>\n</div>"
     },
     "execution_count": 53,
     "metadata": {},
     "output_type": "execute_result"
    }
   ]
  },
  {
   "cell_type": "markdown",
   "metadata": {
    "id": "PeruaoJIyXbT"
   },
   "source": [
    "The mapping dictionary is provided\n",
    "```python\n",
    "meat_to_animal = {\n",
    "  'bacon': 'pig',\n",
    "  'pulled pork': 'pig',\n",
    "  'pastrami': 'cow',\n",
    "  'corned beef': 'cow',\n",
    "  'honey ham': 'pig',\n",
    "  'nova lox': 'salmon'\n",
    "}\n",
    "```"
   ]
  },
  {
   "cell_type": "code",
   "metadata": {
    "id": "4jMwQefQyZxA",
    "ExecuteTime": {
     "end_time": "2023-11-01T07:20:57.837140Z",
     "start_time": "2023-11-01T07:20:57.805386800Z"
    }
   },
   "source": [
    "meat_to_animal = {\n",
    "  'bacon': 'pig',\n",
    "  'pulled pork': 'pig',\n",
    "  'pastrami': 'cow',\n",
    "  'corned beef': 'cow',\n",
    "  'honey ham': 'pig',\n",
    "  'nova lox': 'salmon'\n",
    "}"
   ],
   "execution_count": 54,
   "outputs": []
  },
  {
   "cell_type": "markdown",
   "metadata": {
    "id": "V_xngC8sydE9"
   },
   "source": [
    "Then we can provide the map as given\n",
    "```python\n",
    "lowercased = data['food'].str.lower()\n",
    "lowercased\n",
    "```"
   ]
  },
  {
   "cell_type": "code",
   "metadata": {
    "id": "4FD1gvWzyhoU",
    "colab": {
     "base_uri": "https://localhost:8080/"
    },
    "outputId": "32b7f60d-f582-4961-e1c1-96c9e7b8916c",
    "ExecuteTime": {
     "end_time": "2023-11-01T07:21:03.903747700Z",
     "start_time": "2023-11-01T07:21:03.887650600Z"
    }
   },
   "source": [
    "lowercased = data['food'].str.lower()\n",
    "lowercased"
   ],
   "execution_count": 55,
   "outputs": [
    {
     "data": {
      "text/plain": "0          bacon\n1    pulled pork\n2          bacon\n3       pastrami\n4    corned beef\n5          bacon\n6       pastrami\n7      honey ham\n8       nova lox\nName: food, dtype: object"
     },
     "execution_count": 55,
     "metadata": {},
     "output_type": "execute_result"
    }
   ]
  },
  {
   "cell_type": "markdown",
   "source": [
    "then mapping the data\n",
    "```python\n",
    "data['animal'] = lowercased.map(meat_to_animal)\n",
    "data\n",
    "```"
   ],
   "metadata": {
    "collapsed": false
   }
  },
  {
   "cell_type": "code",
   "metadata": {
    "id": "A1ciCCcCykRE",
    "colab": {
     "base_uri": "https://localhost:8080/",
     "height": 331
    },
    "outputId": "dea022ea-77a8-418b-99a9-df7a863614a4",
    "ExecuteTime": {
     "end_time": "2023-11-01T07:21:09.725871300Z",
     "start_time": "2023-11-01T07:21:09.677848600Z"
    }
   },
   "source": [
    "data['animal'] = lowercased.map(meat_to_animal)\n",
    "data"
   ],
   "execution_count": 56,
   "outputs": [
    {
     "data": {
      "text/plain": "          food  ounces  animal\n0        bacon     4.0     pig\n1  pulled pork     3.0     pig\n2        bacon    12.0     pig\n3     Pastrami     6.0     cow\n4  corned beef     7.5     cow\n5        Bacon     8.0     pig\n6     pastrami     3.0     cow\n7    honey ham     5.0     pig\n8     nova lox     6.0  salmon",
      "text/html": "<div>\n<style scoped>\n    .dataframe tbody tr th:only-of-type {\n        vertical-align: middle;\n    }\n\n    .dataframe tbody tr th {\n        vertical-align: top;\n    }\n\n    .dataframe thead th {\n        text-align: right;\n    }\n</style>\n<table border=\"1\" class=\"dataframe\">\n  <thead>\n    <tr style=\"text-align: right;\">\n      <th></th>\n      <th>food</th>\n      <th>ounces</th>\n      <th>animal</th>\n    </tr>\n  </thead>\n  <tbody>\n    <tr>\n      <th>0</th>\n      <td>bacon</td>\n      <td>4.0</td>\n      <td>pig</td>\n    </tr>\n    <tr>\n      <th>1</th>\n      <td>pulled pork</td>\n      <td>3.0</td>\n      <td>pig</td>\n    </tr>\n    <tr>\n      <th>2</th>\n      <td>bacon</td>\n      <td>12.0</td>\n      <td>pig</td>\n    </tr>\n    <tr>\n      <th>3</th>\n      <td>Pastrami</td>\n      <td>6.0</td>\n      <td>cow</td>\n    </tr>\n    <tr>\n      <th>4</th>\n      <td>corned beef</td>\n      <td>7.5</td>\n      <td>cow</td>\n    </tr>\n    <tr>\n      <th>5</th>\n      <td>Bacon</td>\n      <td>8.0</td>\n      <td>pig</td>\n    </tr>\n    <tr>\n      <th>6</th>\n      <td>pastrami</td>\n      <td>3.0</td>\n      <td>cow</td>\n    </tr>\n    <tr>\n      <th>7</th>\n      <td>honey ham</td>\n      <td>5.0</td>\n      <td>pig</td>\n    </tr>\n    <tr>\n      <th>8</th>\n      <td>nova lox</td>\n      <td>6.0</td>\n      <td>salmon</td>\n    </tr>\n  </tbody>\n</table>\n</div>"
     },
     "execution_count": 56,
     "metadata": {},
     "output_type": "execute_result"
    }
   ]
  },
  {
   "cell_type": "markdown",
   "metadata": {
    "id": "flbAR5LoysHb"
   },
   "source": [
    "### Replacing value\n",
    "---\n",
    "\n",
    "Some value can be replaced, in order to manage the code easier.\n",
    "For example with the given data frame\n",
    "```python\n",
    "data = pd.Series([1., -999., 2., -999., -1000., 3.])\n",
    "data\n",
    "```\n"
   ]
  },
  {
   "cell_type": "code",
   "metadata": {
    "id": "ykZrH7yby7BC",
    "colab": {
     "base_uri": "https://localhost:8080/"
    },
    "outputId": "10e85123-e436-4665-f0cd-048cd8f439ea",
    "ExecuteTime": {
     "end_time": "2023-11-01T07:21:14.778697Z",
     "start_time": "2023-11-01T07:21:14.762691200Z"
    }
   },
   "source": [
    "data = pd.Series([1., -999., 2., -999., -1000., 3.])\n",
    "data"
   ],
   "execution_count": 57,
   "outputs": [
    {
     "data": {
      "text/plain": "0       1.0\n1    -999.0\n2       2.0\n3    -999.0\n4   -1000.0\n5       3.0\ndtype: float64"
     },
     "execution_count": 57,
     "metadata": {},
     "output_type": "execute_result"
    }
   ]
  },
  {
   "cell_type": "markdown",
   "metadata": {
    "id": "D82X9jnUy_LX"
   },
   "source": [
    "The value -999 may be the **sentinel** values\n",
    "\n",
    "The sentinel value is the value which define the state of data but not the real data. For example, the exit point or the `NA` of the value.\n",
    "```python\n",
    "data.replace(-999, np.nan)\n",
    "```\n"
   ]
  },
  {
   "cell_type": "code",
   "source": [
    "import numpy as np"
   ],
   "metadata": {
    "id": "CKwy3bvW6fdu",
    "ExecuteTime": {
     "end_time": "2023-11-01T07:21:18.388244200Z",
     "start_time": "2023-11-01T07:21:18.384806500Z"
    }
   },
   "execution_count": 58,
   "outputs": []
  },
  {
   "cell_type": "code",
   "metadata": {
    "id": "XcU2RAcS-lm6",
    "colab": {
     "base_uri": "https://localhost:8080/"
    },
    "outputId": "720038a5-7783-4e11-f319-a02239c4d8a5",
    "ExecuteTime": {
     "end_time": "2023-11-01T07:21:22.779886400Z",
     "start_time": "2023-11-01T07:21:22.774500900Z"
    }
   },
   "source": [
    "data.replace(-999, np.nan)"
   ],
   "execution_count": 59,
   "outputs": [
    {
     "data": {
      "text/plain": "0       1.0\n1       NaN\n2       2.0\n3       NaN\n4   -1000.0\n5       3.0\ndtype: float64"
     },
     "execution_count": 59,
     "metadata": {},
     "output_type": "execute_result"
    }
   ]
  },
  {
   "cell_type": "markdown",
   "metadata": {
    "id": "ScYPcr2H-08f"
   },
   "source": [
    "we can replace multiple data with only one value\n",
    "\n",
    "```python\n",
    "data.replace([-999,-1000],np.nan)\n",
    "```"
   ]
  },
  {
   "cell_type": "code",
   "metadata": {
    "id": "C46N9w9z-6OU",
    "colab": {
     "base_uri": "https://localhost:8080/"
    },
    "outputId": "b5786216-b8b9-483c-8c21-edcaea1967ec",
    "ExecuteTime": {
     "end_time": "2023-11-01T07:21:28.280881300Z",
     "start_time": "2023-11-01T07:21:28.235473600Z"
    }
   },
   "source": [
    "data.replace([-999,-1000],np.nan)"
   ],
   "execution_count": 60,
   "outputs": [
    {
     "data": {
      "text/plain": "0    1.0\n1    NaN\n2    2.0\n3    NaN\n4    NaN\n5    3.0\ndtype: float64"
     },
     "execution_count": 60,
     "metadata": {},
     "output_type": "execute_result"
    }
   ]
  },
  {
   "cell_type": "markdown",
   "metadata": {
    "id": "P9vapFDY_A_d"
   },
   "source": [
    "Or replace different value with different data\n",
    "```python\n",
    "data.replace([-999,-1000],[np.nan,0])\n",
    "```"
   ]
  },
  {
   "cell_type": "code",
   "metadata": {
    "id": "HiY6ZwIA_E7L",
    "colab": {
     "base_uri": "https://localhost:8080/"
    },
    "outputId": "661c4495-30b5-4ef6-9ee2-4e96abee32fc",
    "ExecuteTime": {
     "end_time": "2023-11-01T07:21:32.718009500Z",
     "start_time": "2023-11-01T07:21:32.691487500Z"
    }
   },
   "source": [
    "data.replace([-999,-1000],[np.nan,0])"
   ],
   "execution_count": 61,
   "outputs": [
    {
     "data": {
      "text/plain": "0    1.0\n1    NaN\n2    2.0\n3    NaN\n4    0.0\n5    3.0\ndtype: float64"
     },
     "execution_count": 61,
     "metadata": {},
     "output_type": "execute_result"
    }
   ]
  },
  {
   "cell_type": "markdown",
   "source": [
    "or using the dictionary to map the request data\n",
    "```python\n",
    "data.replace({-999: np.nan, -1000: 0})\n",
    "```"
   ],
   "metadata": {
    "collapsed": false
   }
  },
  {
   "cell_type": "code",
   "metadata": {
    "id": "oGN9Hv0p_JtF",
    "colab": {
     "base_uri": "https://localhost:8080/"
    },
    "outputId": "3aca2513-6989-4cca-e9f3-928336a4f988",
    "ExecuteTime": {
     "end_time": "2023-11-01T07:21:38.160792800Z",
     "start_time": "2023-11-01T07:21:38.113088200Z"
    }
   },
   "source": [
    "data.replace({-999: np.nan, -1000: 0})"
   ],
   "execution_count": 62,
   "outputs": [
    {
     "data": {
      "text/plain": "0    1.0\n1    NaN\n2    2.0\n3    NaN\n4    0.0\n5    3.0\ndtype: float64"
     },
     "execution_count": 62,
     "metadata": {},
     "output_type": "execute_result"
    }
   ]
  },
  {
   "cell_type": "markdown",
   "metadata": {
    "id": "JDe_CGCG_POI"
   },
   "source": [
    "### Renaming Axis Index\n",
    "\n",
    "The axis index which we loaded from the different sources may be hard to understand.\n",
    "So we rename the index name for the better understanding\n",
    "```python\n",
    "data = pd.DataFrame(np.arange(12).reshape((3, 4)),\n",
    "                    index=['Ohio', 'Colorado', 'New York'],\n",
    "                    columns=['one', 'two', 'three', 'four'])\n",
    "data\n",
    "```\n"
   ]
  },
  {
   "cell_type": "code",
   "metadata": {
    "id": "H_5sfkzA_9E6",
    "colab": {
     "base_uri": "https://localhost:8080/",
     "height": 143
    },
    "outputId": "d80a016f-51b9-47a3-ca42-3e8be396780a",
    "ExecuteTime": {
     "end_time": "2023-11-01T07:21:44.104837900Z",
     "start_time": "2023-11-01T07:21:44.040568Z"
    }
   },
   "source": [
    "data = pd.DataFrame(np.arange(12).reshape((3, 4)),\n",
    "                    index=['Ohio', 'Colorado', 'New York'],\n",
    "                    columns=['one', 'two', 'three', 'four'])\n",
    "data"
   ],
   "execution_count": 63,
   "outputs": [
    {
     "data": {
      "text/plain": "          one  two  three  four\nOhio        0    1      2     3\nColorado    4    5      6     7\nNew York    8    9     10    11",
      "text/html": "<div>\n<style scoped>\n    .dataframe tbody tr th:only-of-type {\n        vertical-align: middle;\n    }\n\n    .dataframe tbody tr th {\n        vertical-align: top;\n    }\n\n    .dataframe thead th {\n        text-align: right;\n    }\n</style>\n<table border=\"1\" class=\"dataframe\">\n  <thead>\n    <tr style=\"text-align: right;\">\n      <th></th>\n      <th>one</th>\n      <th>two</th>\n      <th>three</th>\n      <th>four</th>\n    </tr>\n  </thead>\n  <tbody>\n    <tr>\n      <th>Ohio</th>\n      <td>0</td>\n      <td>1</td>\n      <td>2</td>\n      <td>3</td>\n    </tr>\n    <tr>\n      <th>Colorado</th>\n      <td>4</td>\n      <td>5</td>\n      <td>6</td>\n      <td>7</td>\n    </tr>\n    <tr>\n      <th>New York</th>\n      <td>8</td>\n      <td>9</td>\n      <td>10</td>\n      <td>11</td>\n    </tr>\n  </tbody>\n</table>\n</div>"
     },
     "execution_count": 63,
     "metadata": {},
     "output_type": "execute_result"
    }
   ]
  },
  {
   "cell_type": "markdown",
   "metadata": {
    "id": "EyYObG_qObai"
   },
   "source": [
    "We can use the function to change the name of each index\n",
    "```python\n",
    "transform = lambda x: x[:4].upper()\n",
    "new_data_index = data.index.map(transform)\n",
    "```"
   ]
  },
  {
   "cell_type": "code",
   "metadata": {
    "id": "MlvcWkQQ_VmQ",
    "ExecuteTime": {
     "end_time": "2023-11-01T07:21:52.118679700Z",
     "start_time": "2023-11-01T07:21:52.102947200Z"
    }
   },
   "source": [
    "transform = lambda x: x[:4].upper()\n",
    "new_data_index = data.index.map(transform)"
   ],
   "execution_count": 64,
   "outputs": []
  },
  {
   "cell_type": "markdown",
   "metadata": {
    "id": "DAUqPV8XOtfl"
   },
   "source": [
    "To change the index name we have to set the index values\n",
    "```python\n",
    "data.index = new_data_index\n",
    "data\n",
    "```"
   ]
  },
  {
   "cell_type": "code",
   "metadata": {
    "id": "cDNHqjOSOxSl",
    "colab": {
     "base_uri": "https://localhost:8080/",
     "height": 143
    },
    "outputId": "9e4ddce0-109c-4974-f1bf-123c1fea303a",
    "ExecuteTime": {
     "end_time": "2023-11-01T07:22:01.919688100Z",
     "start_time": "2023-11-01T07:22:01.889055500Z"
    }
   },
   "source": [
    "data.index = new_data_index\n",
    "data"
   ],
   "execution_count": 65,
   "outputs": [
    {
     "data": {
      "text/plain": "      one  two  three  four\nOHIO    0    1      2     3\nCOLO    4    5      6     7\nNEW     8    9     10    11",
      "text/html": "<div>\n<style scoped>\n    .dataframe tbody tr th:only-of-type {\n        vertical-align: middle;\n    }\n\n    .dataframe tbody tr th {\n        vertical-align: top;\n    }\n\n    .dataframe thead th {\n        text-align: right;\n    }\n</style>\n<table border=\"1\" class=\"dataframe\">\n  <thead>\n    <tr style=\"text-align: right;\">\n      <th></th>\n      <th>one</th>\n      <th>two</th>\n      <th>three</th>\n      <th>four</th>\n    </tr>\n  </thead>\n  <tbody>\n    <tr>\n      <th>OHIO</th>\n      <td>0</td>\n      <td>1</td>\n      <td>2</td>\n      <td>3</td>\n    </tr>\n    <tr>\n      <th>COLO</th>\n      <td>4</td>\n      <td>5</td>\n      <td>6</td>\n      <td>7</td>\n    </tr>\n    <tr>\n      <th>NEW</th>\n      <td>8</td>\n      <td>9</td>\n      <td>10</td>\n      <td>11</td>\n    </tr>\n  </tbody>\n</table>\n</div>"
     },
     "execution_count": 65,
     "metadata": {},
     "output_type": "execute_result"
    }
   ]
  },
  {
   "cell_type": "markdown",
   "metadata": {
    "id": "b0L9MvIfO4Bk"
   },
   "source": [
    "Or if we want to rename it instancely (without seeing the new solution first)  we can use the `rename` method\n",
    "```python\n",
    "data.rename(index=str.title, columns=str.upper)\n",
    "```\n",
    "\n"
   ]
  },
  {
   "cell_type": "code",
   "metadata": {
    "id": "xKJ8KQ1EO_yY",
    "colab": {
     "base_uri": "https://localhost:8080/",
     "height": 143
    },
    "outputId": "210aea2e-0665-4960-a3e5-25b1a313e88d",
    "ExecuteTime": {
     "end_time": "2023-11-01T07:22:08.028142Z",
     "start_time": "2023-11-01T07:22:07.964503400Z"
    }
   },
   "source": [
    "data.rename(index=str.title, columns=str.upper)"
   ],
   "execution_count": 66,
   "outputs": [
    {
     "data": {
      "text/plain": "      ONE  TWO  THREE  FOUR\nOhio    0    1      2     3\nColo    4    5      6     7\nNew     8    9     10    11",
      "text/html": "<div>\n<style scoped>\n    .dataframe tbody tr th:only-of-type {\n        vertical-align: middle;\n    }\n\n    .dataframe tbody tr th {\n        vertical-align: top;\n    }\n\n    .dataframe thead th {\n        text-align: right;\n    }\n</style>\n<table border=\"1\" class=\"dataframe\">\n  <thead>\n    <tr style=\"text-align: right;\">\n      <th></th>\n      <th>ONE</th>\n      <th>TWO</th>\n      <th>THREE</th>\n      <th>FOUR</th>\n    </tr>\n  </thead>\n  <tbody>\n    <tr>\n      <th>Ohio</th>\n      <td>0</td>\n      <td>1</td>\n      <td>2</td>\n      <td>3</td>\n    </tr>\n    <tr>\n      <th>Colo</th>\n      <td>4</td>\n      <td>5</td>\n      <td>6</td>\n      <td>7</td>\n    </tr>\n    <tr>\n      <th>New</th>\n      <td>8</td>\n      <td>9</td>\n      <td>10</td>\n      <td>11</td>\n    </tr>\n  </tbody>\n</table>\n</div>"
     },
     "execution_count": 66,
     "metadata": {},
     "output_type": "execute_result"
    }
   ]
  },
  {
   "cell_type": "markdown",
   "metadata": {
    "id": "lyGKiFs8PPzi"
   },
   "source": [
    "if we want to change the specific name, using the map for change the index name\n",
    "```python\n",
    "data.rename(index={'OHIO': 'INDIANA'},\n",
    "            columns={'three': 'peekaboo'})\n",
    "```"
   ]
  },
  {
   "cell_type": "code",
   "metadata": {
    "id": "PNg3waYIPWOl",
    "colab": {
     "base_uri": "https://localhost:8080/",
     "height": 143
    },
    "outputId": "9265ab15-114a-46e6-fa6a-7b1cce8929ee",
    "ExecuteTime": {
     "end_time": "2023-11-01T07:22:13.309222400Z",
     "start_time": "2023-11-01T07:22:13.277840500Z"
    }
   },
   "source": [
    "data.rename(index={'OHIO': 'INDIANA'},\n",
    "            columns={'three': 'peekaboo'})"
   ],
   "execution_count": 67,
   "outputs": [
    {
     "data": {
      "text/plain": "         one  two  peekaboo  four\nINDIANA    0    1         2     3\nCOLO       4    5         6     7\nNEW        8    9        10    11",
      "text/html": "<div>\n<style scoped>\n    .dataframe tbody tr th:only-of-type {\n        vertical-align: middle;\n    }\n\n    .dataframe tbody tr th {\n        vertical-align: top;\n    }\n\n    .dataframe thead th {\n        text-align: right;\n    }\n</style>\n<table border=\"1\" class=\"dataframe\">\n  <thead>\n    <tr style=\"text-align: right;\">\n      <th></th>\n      <th>one</th>\n      <th>two</th>\n      <th>peekaboo</th>\n      <th>four</th>\n    </tr>\n  </thead>\n  <tbody>\n    <tr>\n      <th>INDIANA</th>\n      <td>0</td>\n      <td>1</td>\n      <td>2</td>\n      <td>3</td>\n    </tr>\n    <tr>\n      <th>COLO</th>\n      <td>4</td>\n      <td>5</td>\n      <td>6</td>\n      <td>7</td>\n    </tr>\n    <tr>\n      <th>NEW</th>\n      <td>8</td>\n      <td>9</td>\n      <td>10</td>\n      <td>11</td>\n    </tr>\n  </tbody>\n</table>\n</div>"
     },
     "execution_count": 67,
     "metadata": {},
     "output_type": "execute_result"
    }
   ]
  },
  {
   "cell_type": "markdown",
   "metadata": {
    "id": "7wBsYuHKPo1T"
   },
   "source": [
    "To save the new name directly using `inplace` method\n",
    "```python\n",
    "data.rename(index={'OHIO': 'INDIANA'}, inplace=True)\n",
    "data\n",
    "```\n"
   ]
  },
  {
   "cell_type": "code",
   "metadata": {
    "id": "WCuWLgvWPwM-",
    "colab": {
     "base_uri": "https://localhost:8080/",
     "height": 143
    },
    "outputId": "6df05cd7-4dc0-4445-cf70-ce5730eb92a3",
    "ExecuteTime": {
     "end_time": "2023-11-01T07:22:17.900113700Z",
     "start_time": "2023-11-01T07:22:17.868313800Z"
    }
   },
   "source": [
    "data.rename(index={'OHIO': 'INDIANA'}, inplace=True)\n",
    "data"
   ],
   "execution_count": 68,
   "outputs": [
    {
     "data": {
      "text/plain": "         one  two  three  four\nINDIANA    0    1      2     3\nCOLO       4    5      6     7\nNEW        8    9     10    11",
      "text/html": "<div>\n<style scoped>\n    .dataframe tbody tr th:only-of-type {\n        vertical-align: middle;\n    }\n\n    .dataframe tbody tr th {\n        vertical-align: top;\n    }\n\n    .dataframe thead th {\n        text-align: right;\n    }\n</style>\n<table border=\"1\" class=\"dataframe\">\n  <thead>\n    <tr style=\"text-align: right;\">\n      <th></th>\n      <th>one</th>\n      <th>two</th>\n      <th>three</th>\n      <th>four</th>\n    </tr>\n  </thead>\n  <tbody>\n    <tr>\n      <th>INDIANA</th>\n      <td>0</td>\n      <td>1</td>\n      <td>2</td>\n      <td>3</td>\n    </tr>\n    <tr>\n      <th>COLO</th>\n      <td>4</td>\n      <td>5</td>\n      <td>6</td>\n      <td>7</td>\n    </tr>\n    <tr>\n      <th>NEW</th>\n      <td>8</td>\n      <td>9</td>\n      <td>10</td>\n      <td>11</td>\n    </tr>\n  </tbody>\n</table>\n</div>"
     },
     "execution_count": 68,
     "metadata": {},
     "output_type": "execute_result"
    }
   ]
  },
  {
   "cell_type": "markdown",
   "metadata": {
    "id": "nHIqWByk5wc-"
   },
   "source": [
    "#### Work\n",
    "---\n",
    "\n",
    "From the previous work provide this output"
   ]
  },
  {
   "cell_type": "markdown",
   "metadata": {
    "id": "bEoGyEMOaXO-"
   },
   "source": [
    "Output1\n",
    "\n",
    "fill PID, and PID as an index\n",
    "![image-20230906065515528](./assets/image-20230906065515528.png)"
   ]
  },
  {
   "cell_type": "code",
   "metadata": {
    "id": "qumwSQYp6KtW",
    "colab": {
     "base_uri": "https://localhost:8080/",
     "height": 331
    },
    "outputId": "f1c76e2e-5663-4316-a3d1-e565b745ee40",
    "ExecuteTime": {
     "end_time": "2023-11-01T07:34:42.432147800Z",
     "start_time": "2023-11-01T07:34:42.417449500Z"
    }
   },
   "source": [
    "import pandas as pd\n",
    "import numpy as np\n",
    "\n",
    "dat3 = pd.read_csv('file/property_data.csv')\n",
    "dat3"
   ],
   "execution_count": 123,
   "outputs": [
    {
     "data": {
      "text/plain": "           PID  ST_NUM     ST_NAME OWN_OCCUPIED NUM_BEDROOMS NUM_BATH SQ_FT  \\\n0  100001000.0   104.0      PUTNAM            Y            3        1  1000   \n1  100002000.0   197.0   LEXINGTON            N            3      1.5    --   \n2  100003000.0     NaN   LEXINGTON            N          NaN        1   850   \n3  100004000.0   201.0    BERKELEY           12            1      NaN   700   \n4          NaN   203.0    BERKELEY            Y            3        2  1600   \n5  100006000.0   207.0    BERKELEY            Y          NaN        1   800   \n6  100007000.0     NaN  WASHINGTON          NaN            2   HURLEY   950   \n7  100008000.0   213.0     TREMONT            Y            1        1   NaN   \n8  100009000.0   215.0     TREMONT            Y           na        2  1800   \n\n     PRICE  \n0  20000.0  \n1      NaN  \n2      NaN  \n3      NaN  \n4      NaN  \n5      NaN  \n6      NaN  \n7      NaN  \n8      NaN  ",
      "text/html": "<div>\n<style scoped>\n    .dataframe tbody tr th:only-of-type {\n        vertical-align: middle;\n    }\n\n    .dataframe tbody tr th {\n        vertical-align: top;\n    }\n\n    .dataframe thead th {\n        text-align: right;\n    }\n</style>\n<table border=\"1\" class=\"dataframe\">\n  <thead>\n    <tr style=\"text-align: right;\">\n      <th></th>\n      <th>PID</th>\n      <th>ST_NUM</th>\n      <th>ST_NAME</th>\n      <th>OWN_OCCUPIED</th>\n      <th>NUM_BEDROOMS</th>\n      <th>NUM_BATH</th>\n      <th>SQ_FT</th>\n      <th>PRICE</th>\n    </tr>\n  </thead>\n  <tbody>\n    <tr>\n      <th>0</th>\n      <td>100001000.0</td>\n      <td>104.0</td>\n      <td>PUTNAM</td>\n      <td>Y</td>\n      <td>3</td>\n      <td>1</td>\n      <td>1000</td>\n      <td>20000.0</td>\n    </tr>\n    <tr>\n      <th>1</th>\n      <td>100002000.0</td>\n      <td>197.0</td>\n      <td>LEXINGTON</td>\n      <td>N</td>\n      <td>3</td>\n      <td>1.5</td>\n      <td>--</td>\n      <td>NaN</td>\n    </tr>\n    <tr>\n      <th>2</th>\n      <td>100003000.0</td>\n      <td>NaN</td>\n      <td>LEXINGTON</td>\n      <td>N</td>\n      <td>NaN</td>\n      <td>1</td>\n      <td>850</td>\n      <td>NaN</td>\n    </tr>\n    <tr>\n      <th>3</th>\n      <td>100004000.0</td>\n      <td>201.0</td>\n      <td>BERKELEY</td>\n      <td>12</td>\n      <td>1</td>\n      <td>NaN</td>\n      <td>700</td>\n      <td>NaN</td>\n    </tr>\n    <tr>\n      <th>4</th>\n      <td>NaN</td>\n      <td>203.0</td>\n      <td>BERKELEY</td>\n      <td>Y</td>\n      <td>3</td>\n      <td>2</td>\n      <td>1600</td>\n      <td>NaN</td>\n    </tr>\n    <tr>\n      <th>5</th>\n      <td>100006000.0</td>\n      <td>207.0</td>\n      <td>BERKELEY</td>\n      <td>Y</td>\n      <td>NaN</td>\n      <td>1</td>\n      <td>800</td>\n      <td>NaN</td>\n    </tr>\n    <tr>\n      <th>6</th>\n      <td>100007000.0</td>\n      <td>NaN</td>\n      <td>WASHINGTON</td>\n      <td>NaN</td>\n      <td>2</td>\n      <td>HURLEY</td>\n      <td>950</td>\n      <td>NaN</td>\n    </tr>\n    <tr>\n      <th>7</th>\n      <td>100008000.0</td>\n      <td>213.0</td>\n      <td>TREMONT</td>\n      <td>Y</td>\n      <td>1</td>\n      <td>1</td>\n      <td>NaN</td>\n      <td>NaN</td>\n    </tr>\n    <tr>\n      <th>8</th>\n      <td>100009000.0</td>\n      <td>215.0</td>\n      <td>TREMONT</td>\n      <td>Y</td>\n      <td>na</td>\n      <td>2</td>\n      <td>1800</td>\n      <td>NaN</td>\n    </tr>\n  </tbody>\n</table>\n</div>"
     },
     "execution_count": 123,
     "metadata": {},
     "output_type": "execute_result"
    }
   ]
  },
  {
   "cell_type": "code",
   "metadata": {
    "id": "GhTL1wfO6PMs",
    "colab": {
     "base_uri": "https://localhost:8080/",
     "height": 363
    },
    "outputId": "8b031b49-79c9-42f4-81aa-e86e28a4199f",
    "ExecuteTime": {
     "end_time": "2023-11-01T07:35:17.784009500Z",
     "start_time": "2023-11-01T07:35:17.736066900Z"
    }
   },
   "source": [
    "dat3['PID'] = dat3['PID'].replace(np.nan,100005000)"
   ],
   "execution_count": 124,
   "outputs": []
  },
  {
   "cell_type": "code",
   "metadata": {
    "id": "CYDKs5VQ6nDQ",
    "colab": {
     "base_uri": "https://localhost:8080/",
     "height": 36
    },
    "outputId": "e4f45755-a049-4d78-85be-59e8bfc39161",
    "ExecuteTime": {
     "end_time": "2023-11-01T07:35:22.293835600Z",
     "start_time": "2023-11-01T07:35:22.262168800Z"
    }
   },
   "source": [
    "dat3"
   ],
   "execution_count": 125,
   "outputs": [
    {
     "data": {
      "text/plain": "           PID  ST_NUM     ST_NAME OWN_OCCUPIED NUM_BEDROOMS NUM_BATH SQ_FT  \\\n0  100001000.0   104.0      PUTNAM            Y            3        1  1000   \n1  100002000.0   197.0   LEXINGTON            N            3      1.5    --   \n2  100003000.0     NaN   LEXINGTON            N          NaN        1   850   \n3  100004000.0   201.0    BERKELEY           12            1      NaN   700   \n4  100005000.0   203.0    BERKELEY            Y            3        2  1600   \n5  100006000.0   207.0    BERKELEY            Y          NaN        1   800   \n6  100007000.0     NaN  WASHINGTON          NaN            2   HURLEY   950   \n7  100008000.0   213.0     TREMONT            Y            1        1   NaN   \n8  100009000.0   215.0     TREMONT            Y           na        2  1800   \n\n     PRICE  \n0  20000.0  \n1      NaN  \n2      NaN  \n3      NaN  \n4      NaN  \n5      NaN  \n6      NaN  \n7      NaN  \n8      NaN  ",
      "text/html": "<div>\n<style scoped>\n    .dataframe tbody tr th:only-of-type {\n        vertical-align: middle;\n    }\n\n    .dataframe tbody tr th {\n        vertical-align: top;\n    }\n\n    .dataframe thead th {\n        text-align: right;\n    }\n</style>\n<table border=\"1\" class=\"dataframe\">\n  <thead>\n    <tr style=\"text-align: right;\">\n      <th></th>\n      <th>PID</th>\n      <th>ST_NUM</th>\n      <th>ST_NAME</th>\n      <th>OWN_OCCUPIED</th>\n      <th>NUM_BEDROOMS</th>\n      <th>NUM_BATH</th>\n      <th>SQ_FT</th>\n      <th>PRICE</th>\n    </tr>\n  </thead>\n  <tbody>\n    <tr>\n      <th>0</th>\n      <td>100001000.0</td>\n      <td>104.0</td>\n      <td>PUTNAM</td>\n      <td>Y</td>\n      <td>3</td>\n      <td>1</td>\n      <td>1000</td>\n      <td>20000.0</td>\n    </tr>\n    <tr>\n      <th>1</th>\n      <td>100002000.0</td>\n      <td>197.0</td>\n      <td>LEXINGTON</td>\n      <td>N</td>\n      <td>3</td>\n      <td>1.5</td>\n      <td>--</td>\n      <td>NaN</td>\n    </tr>\n    <tr>\n      <th>2</th>\n      <td>100003000.0</td>\n      <td>NaN</td>\n      <td>LEXINGTON</td>\n      <td>N</td>\n      <td>NaN</td>\n      <td>1</td>\n      <td>850</td>\n      <td>NaN</td>\n    </tr>\n    <tr>\n      <th>3</th>\n      <td>100004000.0</td>\n      <td>201.0</td>\n      <td>BERKELEY</td>\n      <td>12</td>\n      <td>1</td>\n      <td>NaN</td>\n      <td>700</td>\n      <td>NaN</td>\n    </tr>\n    <tr>\n      <th>4</th>\n      <td>100005000.0</td>\n      <td>203.0</td>\n      <td>BERKELEY</td>\n      <td>Y</td>\n      <td>3</td>\n      <td>2</td>\n      <td>1600</td>\n      <td>NaN</td>\n    </tr>\n    <tr>\n      <th>5</th>\n      <td>100006000.0</td>\n      <td>207.0</td>\n      <td>BERKELEY</td>\n      <td>Y</td>\n      <td>NaN</td>\n      <td>1</td>\n      <td>800</td>\n      <td>NaN</td>\n    </tr>\n    <tr>\n      <th>6</th>\n      <td>100007000.0</td>\n      <td>NaN</td>\n      <td>WASHINGTON</td>\n      <td>NaN</td>\n      <td>2</td>\n      <td>HURLEY</td>\n      <td>950</td>\n      <td>NaN</td>\n    </tr>\n    <tr>\n      <th>7</th>\n      <td>100008000.0</td>\n      <td>213.0</td>\n      <td>TREMONT</td>\n      <td>Y</td>\n      <td>1</td>\n      <td>1</td>\n      <td>NaN</td>\n      <td>NaN</td>\n    </tr>\n    <tr>\n      <th>8</th>\n      <td>100009000.0</td>\n      <td>215.0</td>\n      <td>TREMONT</td>\n      <td>Y</td>\n      <td>na</td>\n      <td>2</td>\n      <td>1800</td>\n      <td>NaN</td>\n    </tr>\n  </tbody>\n</table>\n</div>"
     },
     "execution_count": 125,
     "metadata": {},
     "output_type": "execute_result"
    }
   ]
  },
  {
   "cell_type": "code",
   "execution_count": 127,
   "outputs": [],
   "source": [
    "dat3.index = dat3['PID']"
   ],
   "metadata": {
    "collapsed": false,
    "ExecuteTime": {
     "end_time": "2023-11-01T07:36:18.707852300Z",
     "start_time": "2023-11-01T07:36:18.691827700Z"
    }
   }
  },
  {
   "cell_type": "code",
   "execution_count": 128,
   "outputs": [
    {
     "data": {
      "text/plain": "                     PID  ST_NUM     ST_NAME OWN_OCCUPIED NUM_BEDROOMS  \\\nPID                                                                      \n100001000.0  100001000.0   104.0      PUTNAM            Y            3   \n100002000.0  100002000.0   197.0   LEXINGTON            N            3   \n100003000.0  100003000.0     NaN   LEXINGTON            N          NaN   \n100004000.0  100004000.0   201.0    BERKELEY           12            1   \n100005000.0  100005000.0   203.0    BERKELEY            Y            3   \n100006000.0  100006000.0   207.0    BERKELEY            Y          NaN   \n100007000.0  100007000.0     NaN  WASHINGTON          NaN            2   \n100008000.0  100008000.0   213.0     TREMONT            Y            1   \n100009000.0  100009000.0   215.0     TREMONT            Y           na   \n\n            NUM_BATH SQ_FT    PRICE  \nPID                                  \n100001000.0        1  1000  20000.0  \n100002000.0      1.5    --      NaN  \n100003000.0        1   850      NaN  \n100004000.0      NaN   700      NaN  \n100005000.0        2  1600      NaN  \n100006000.0        1   800      NaN  \n100007000.0   HURLEY   950      NaN  \n100008000.0        1   NaN      NaN  \n100009000.0        2  1800      NaN  ",
      "text/html": "<div>\n<style scoped>\n    .dataframe tbody tr th:only-of-type {\n        vertical-align: middle;\n    }\n\n    .dataframe tbody tr th {\n        vertical-align: top;\n    }\n\n    .dataframe thead th {\n        text-align: right;\n    }\n</style>\n<table border=\"1\" class=\"dataframe\">\n  <thead>\n    <tr style=\"text-align: right;\">\n      <th></th>\n      <th>PID</th>\n      <th>ST_NUM</th>\n      <th>ST_NAME</th>\n      <th>OWN_OCCUPIED</th>\n      <th>NUM_BEDROOMS</th>\n      <th>NUM_BATH</th>\n      <th>SQ_FT</th>\n      <th>PRICE</th>\n    </tr>\n    <tr>\n      <th>PID</th>\n      <th></th>\n      <th></th>\n      <th></th>\n      <th></th>\n      <th></th>\n      <th></th>\n      <th></th>\n      <th></th>\n    </tr>\n  </thead>\n  <tbody>\n    <tr>\n      <th>100001000.0</th>\n      <td>100001000.0</td>\n      <td>104.0</td>\n      <td>PUTNAM</td>\n      <td>Y</td>\n      <td>3</td>\n      <td>1</td>\n      <td>1000</td>\n      <td>20000.0</td>\n    </tr>\n    <tr>\n      <th>100002000.0</th>\n      <td>100002000.0</td>\n      <td>197.0</td>\n      <td>LEXINGTON</td>\n      <td>N</td>\n      <td>3</td>\n      <td>1.5</td>\n      <td>--</td>\n      <td>NaN</td>\n    </tr>\n    <tr>\n      <th>100003000.0</th>\n      <td>100003000.0</td>\n      <td>NaN</td>\n      <td>LEXINGTON</td>\n      <td>N</td>\n      <td>NaN</td>\n      <td>1</td>\n      <td>850</td>\n      <td>NaN</td>\n    </tr>\n    <tr>\n      <th>100004000.0</th>\n      <td>100004000.0</td>\n      <td>201.0</td>\n      <td>BERKELEY</td>\n      <td>12</td>\n      <td>1</td>\n      <td>NaN</td>\n      <td>700</td>\n      <td>NaN</td>\n    </tr>\n    <tr>\n      <th>100005000.0</th>\n      <td>100005000.0</td>\n      <td>203.0</td>\n      <td>BERKELEY</td>\n      <td>Y</td>\n      <td>3</td>\n      <td>2</td>\n      <td>1600</td>\n      <td>NaN</td>\n    </tr>\n    <tr>\n      <th>100006000.0</th>\n      <td>100006000.0</td>\n      <td>207.0</td>\n      <td>BERKELEY</td>\n      <td>Y</td>\n      <td>NaN</td>\n      <td>1</td>\n      <td>800</td>\n      <td>NaN</td>\n    </tr>\n    <tr>\n      <th>100007000.0</th>\n      <td>100007000.0</td>\n      <td>NaN</td>\n      <td>WASHINGTON</td>\n      <td>NaN</td>\n      <td>2</td>\n      <td>HURLEY</td>\n      <td>950</td>\n      <td>NaN</td>\n    </tr>\n    <tr>\n      <th>100008000.0</th>\n      <td>100008000.0</td>\n      <td>213.0</td>\n      <td>TREMONT</td>\n      <td>Y</td>\n      <td>1</td>\n      <td>1</td>\n      <td>NaN</td>\n      <td>NaN</td>\n    </tr>\n    <tr>\n      <th>100009000.0</th>\n      <td>100009000.0</td>\n      <td>215.0</td>\n      <td>TREMONT</td>\n      <td>Y</td>\n      <td>na</td>\n      <td>2</td>\n      <td>1800</td>\n      <td>NaN</td>\n    </tr>\n  </tbody>\n</table>\n</div>"
     },
     "execution_count": 128,
     "metadata": {},
     "output_type": "execute_result"
    }
   ],
   "source": [
    "dat3"
   ],
   "metadata": {
    "collapsed": false,
    "ExecuteTime": {
     "end_time": "2023-11-01T07:36:25.936797Z",
     "start_time": "2023-11-01T07:36:25.905744900Z"
    }
   }
  },
  {
   "cell_type": "markdown",
   "source": [
    "Output2\n",
    "Change the column name to your language\n",
    "![image-20230906065658172](./assets/image-20230906065658172.png)"
   ],
   "metadata": {
    "collapsed": false
   }
  },
  {
   "cell_type": "code",
   "execution_count": 129,
   "outputs": [
    {
     "data": {
      "text/plain": "                รหัสบ้าน  เลขที่บ้าน     ชื่อถนน เจ้าของบ้าน จำนวนห้องนอน  \\\nPID                                                                         \n100001000.0  100001000.0       104.0      PUTNAM           Y            3   \n100002000.0  100002000.0       197.0   LEXINGTON           N            3   \n100003000.0  100003000.0         NaN   LEXINGTON           N          NaN   \n100004000.0  100004000.0       201.0    BERKELEY          12            1   \n100005000.0  100005000.0       203.0    BERKELEY           Y            3   \n100006000.0  100006000.0       207.0    BERKELEY           Y          NaN   \n100007000.0  100007000.0         NaN  WASHINGTON         NaN            2   \n100008000.0  100008000.0       213.0     TREMONT           Y            1   \n100009000.0  100009000.0       215.0     TREMONT           Y           na   \n\n            จำนวนห้องน้ำ พื้นที่ใช้สอย  ราคาบ้าน  \nPID                                               \n100001000.0            1          1000   20000.0  \n100002000.0          1.5            --       NaN  \n100003000.0            1           850       NaN  \n100004000.0          NaN           700       NaN  \n100005000.0            2          1600       NaN  \n100006000.0            1           800       NaN  \n100007000.0       HURLEY           950       NaN  \n100008000.0            1           NaN       NaN  \n100009000.0            2          1800       NaN  ",
      "text/html": "<div>\n<style scoped>\n    .dataframe tbody tr th:only-of-type {\n        vertical-align: middle;\n    }\n\n    .dataframe tbody tr th {\n        vertical-align: top;\n    }\n\n    .dataframe thead th {\n        text-align: right;\n    }\n</style>\n<table border=\"1\" class=\"dataframe\">\n  <thead>\n    <tr style=\"text-align: right;\">\n      <th></th>\n      <th>รหัสบ้าน</th>\n      <th>เลขที่บ้าน</th>\n      <th>ชื่อถนน</th>\n      <th>เจ้าของบ้าน</th>\n      <th>จำนวนห้องนอน</th>\n      <th>จำนวนห้องน้ำ</th>\n      <th>พื้นที่ใช้สอย</th>\n      <th>ราคาบ้าน</th>\n    </tr>\n    <tr>\n      <th>PID</th>\n      <th></th>\n      <th></th>\n      <th></th>\n      <th></th>\n      <th></th>\n      <th></th>\n      <th></th>\n      <th></th>\n    </tr>\n  </thead>\n  <tbody>\n    <tr>\n      <th>100001000.0</th>\n      <td>100001000.0</td>\n      <td>104.0</td>\n      <td>PUTNAM</td>\n      <td>Y</td>\n      <td>3</td>\n      <td>1</td>\n      <td>1000</td>\n      <td>20000.0</td>\n    </tr>\n    <tr>\n      <th>100002000.0</th>\n      <td>100002000.0</td>\n      <td>197.0</td>\n      <td>LEXINGTON</td>\n      <td>N</td>\n      <td>3</td>\n      <td>1.5</td>\n      <td>--</td>\n      <td>NaN</td>\n    </tr>\n    <tr>\n      <th>100003000.0</th>\n      <td>100003000.0</td>\n      <td>NaN</td>\n      <td>LEXINGTON</td>\n      <td>N</td>\n      <td>NaN</td>\n      <td>1</td>\n      <td>850</td>\n      <td>NaN</td>\n    </tr>\n    <tr>\n      <th>100004000.0</th>\n      <td>100004000.0</td>\n      <td>201.0</td>\n      <td>BERKELEY</td>\n      <td>12</td>\n      <td>1</td>\n      <td>NaN</td>\n      <td>700</td>\n      <td>NaN</td>\n    </tr>\n    <tr>\n      <th>100005000.0</th>\n      <td>100005000.0</td>\n      <td>203.0</td>\n      <td>BERKELEY</td>\n      <td>Y</td>\n      <td>3</td>\n      <td>2</td>\n      <td>1600</td>\n      <td>NaN</td>\n    </tr>\n    <tr>\n      <th>100006000.0</th>\n      <td>100006000.0</td>\n      <td>207.0</td>\n      <td>BERKELEY</td>\n      <td>Y</td>\n      <td>NaN</td>\n      <td>1</td>\n      <td>800</td>\n      <td>NaN</td>\n    </tr>\n    <tr>\n      <th>100007000.0</th>\n      <td>100007000.0</td>\n      <td>NaN</td>\n      <td>WASHINGTON</td>\n      <td>NaN</td>\n      <td>2</td>\n      <td>HURLEY</td>\n      <td>950</td>\n      <td>NaN</td>\n    </tr>\n    <tr>\n      <th>100008000.0</th>\n      <td>100008000.0</td>\n      <td>213.0</td>\n      <td>TREMONT</td>\n      <td>Y</td>\n      <td>1</td>\n      <td>1</td>\n      <td>NaN</td>\n      <td>NaN</td>\n    </tr>\n    <tr>\n      <th>100009000.0</th>\n      <td>100009000.0</td>\n      <td>215.0</td>\n      <td>TREMONT</td>\n      <td>Y</td>\n      <td>na</td>\n      <td>2</td>\n      <td>1800</td>\n      <td>NaN</td>\n    </tr>\n  </tbody>\n</table>\n</div>"
     },
     "execution_count": 129,
     "metadata": {},
     "output_type": "execute_result"
    }
   ],
   "source": [
    "\n",
    "dat3.rename(columns={'PID':'รหัสบ้าน','ST_NUM':'เลขที่บ้าน','ST_NAME':'ชื่อถนน','OWN_OCCUPIED':'เจ้าของบ้าน',\n",
    "                     'NUM_BEDROOMS':'จำนวนห้องนอน','NUM_BATH':'จำนวนห้องน้ำ','SQ_FT':'พื้นที่ใช้สอย','PRICE':'ราคาบ้าน'},inplace=True)\n",
    "dat3"
   ],
   "metadata": {
    "collapsed": false,
    "ExecuteTime": {
     "end_time": "2023-11-01T07:36:37.750539800Z",
     "start_time": "2023-11-01T07:36:37.718894600Z"
    }
   }
  },
  {
   "cell_type": "markdown",
   "metadata": {
    "id": "YLu3HU22QgwP"
   },
   "source": [
    "### Discretization and Bining\n",
    "---\n",
    "\n",
    "Extract data and put it in the bins for analysis\n",
    "\n",
    "The bin is the range of the data that we want to analyze\n",
    "create a list as\n",
    "```python\n",
    "ages = [20, 22, 25, 27, 21, 23, 37, 31, 61, 45, 41, 32]\n",
    "```\n"
   ]
  },
  {
   "cell_type": "code",
   "metadata": {
    "id": "0zPSBKGCQtmD",
    "ExecuteTime": {
     "end_time": "2023-11-01T07:26:57.588957800Z",
     "start_time": "2023-11-01T07:26:57.557299900Z"
    }
   },
   "source": [
    "ages = [20, 22, 25, 27, 21, 23, 37, 31, 61, 45, 41, 32]"
   ],
   "execution_count": 88,
   "outputs": []
  },
  {
   "cell_type": "markdown",
   "metadata": {
    "id": "JWACEIpnQxRn"
   },
   "source": [
    "Then we create a bin\n",
    "```python\n",
    "bins = [18, 25, 35, 60, 100]\n",
    "```"
   ]
  },
  {
   "cell_type": "code",
   "metadata": {
    "id": "9E4hHyuNQ_TB",
    "ExecuteTime": {
     "end_time": "2023-11-01T07:27:01.759030300Z",
     "start_time": "2023-11-01T07:27:01.711695300Z"
    }
   },
   "source": [
    "bins = [18, 25, 35, 60, 100]"
   ],
   "execution_count": 89,
   "outputs": []
  },
  {
   "cell_type": "markdown",
   "metadata": {
    "id": "L25loyixRBA2"
   },
   "source": [
    "Then we cut the data in to a bin, the cuts represent the bins for each data\n",
    "```python\n",
    "cuts = pd.cut(ages, bins)\n",
    "cuts\n",
    "```"
   ]
  },
  {
   "cell_type": "code",
   "metadata": {
    "id": "he6drI0bREWC",
    "colab": {
     "base_uri": "https://localhost:8080/"
    },
    "outputId": "9063fd36-1f8a-4475-ee33-20568852aedf",
    "ExecuteTime": {
     "end_time": "2023-11-01T07:27:06.989819900Z",
     "start_time": "2023-11-01T07:27:06.958362Z"
    }
   },
   "source": [
    "cuts = pd.cut(ages, bins)\n",
    "cuts"
   ],
   "execution_count": 90,
   "outputs": [
    {
     "data": {
      "text/plain": "[(18, 25], (18, 25], (18, 25], (25, 35], (18, 25], ..., (25, 35], (60, 100], (35, 60], (35, 60], (25, 35]]\nLength: 12\nCategories (4, interval[int64, right]): [(18, 25] < (25, 35] < (35, 60] < (60, 100]]"
     },
     "execution_count": 90,
     "metadata": {},
     "output_type": "execute_result"
    }
   ]
  },
  {
   "cell_type": "markdown",
   "metadata": {
    "id": "PkSZPLHARXA9"
   },
   "source": [
    "Instead of using the texts we can see the code (index) of each bins\n",
    "```python\n",
    "cuts.codes\n",
    "```"
   ]
  },
  {
   "cell_type": "code",
   "metadata": {
    "id": "zu1ZNRQERbHg",
    "colab": {
     "base_uri": "https://localhost:8080/"
    },
    "outputId": "4e31117c-a0aa-45b9-a5ba-78afb8ab9860",
    "ExecuteTime": {
     "end_time": "2023-11-01T07:27:11.487604800Z",
     "start_time": "2023-11-01T07:27:11.456086900Z"
    }
   },
   "source": [
    "cuts.codes"
   ],
   "execution_count": 91,
   "outputs": [
    {
     "data": {
      "text/plain": "array([0, 0, 0, 1, 0, 0, 2, 1, 3, 2, 2, 1], dtype=int8)"
     },
     "execution_count": 91,
     "metadata": {},
     "output_type": "execute_result"
    }
   ]
  },
  {
   "cell_type": "markdown",
   "metadata": {
    "id": "-SyIx8RrRhyI"
   },
   "source": [
    "and the catagories, and the amount of value in each cuts can be shown\n",
    "```python\n",
    "cuts.categories\n",
    "```"
   ]
  },
  {
   "cell_type": "code",
   "metadata": {
    "id": "q92uCdiyRtMa",
    "colab": {
     "base_uri": "https://localhost:8080/"
    },
    "outputId": "dee17cd7-d125-47fb-dd91-a683450db765",
    "ExecuteTime": {
     "end_time": "2023-11-01T07:27:16.374658400Z",
     "start_time": "2023-11-01T07:27:16.343485300Z"
    }
   },
   "source": [
    "cuts.categories"
   ],
   "execution_count": 92,
   "outputs": [
    {
     "data": {
      "text/plain": "IntervalIndex([(18, 25], (25, 35], (35, 60], (60, 100]], dtype='interval[int64, right]')"
     },
     "execution_count": 92,
     "metadata": {},
     "output_type": "execute_result"
    }
   ]
  },
  {
   "cell_type": "markdown",
   "source": [
    "We can count the amount of value in each cuts by using `value_counts` method\n",
    "```python\n",
    "pd.value_counts(cuts)\n",
    "```"
   ],
   "metadata": {
    "collapsed": false
   }
  },
  {
   "cell_type": "code",
   "metadata": {
    "id": "A-FIuO6mRwyQ",
    "colab": {
     "base_uri": "https://localhost:8080/"
    },
    "outputId": "f43595d9-decd-4bdc-e761-509233d46e32",
    "ExecuteTime": {
     "end_time": "2023-11-01T07:27:21.385678Z",
     "start_time": "2023-11-01T07:27:21.348876800Z"
    }
   },
   "source": [
    "pd.value_counts(cuts)"
   ],
   "execution_count": 93,
   "outputs": [
    {
     "data": {
      "text/plain": "(18, 25]     5\n(25, 35]     3\n(35, 60]     3\n(60, 100]    1\nName: count, dtype: int64"
     },
     "execution_count": 93,
     "metadata": {},
     "output_type": "execute_result"
    }
   ]
  },
  {
   "cell_type": "markdown",
   "metadata": {
    "id": "nlotwTUOR9Nj"
   },
   "source": [
    "We can set the name of each cuts by passing the arrays of labels\n",
    "```python\n",
    "group_names = ['Youth', 'YoungAdult','MiddleAged','Senior']\n",
    "pd.cut(ages,bins,labels=group_names)\n",
    "```"
   ]
  },
  {
   "cell_type": "code",
   "metadata": {
    "id": "MyG8Kk0CSC-K",
    "colab": {
     "base_uri": "https://localhost:8080/"
    },
    "outputId": "7909b4d2-6506-45e3-a242-23869b90d5b1",
    "ExecuteTime": {
     "end_time": "2023-11-01T07:27:30.884958700Z",
     "start_time": "2023-11-01T07:27:30.853664700Z"
    }
   },
   "source": [
    "group_names = ['Youth', 'YoungAdult','MiddleAged','Senior']\n",
    "pd.cut(ages,bins,labels=group_names)"
   ],
   "execution_count": 94,
   "outputs": [
    {
     "data": {
      "text/plain": "['Youth', 'Youth', 'Youth', 'YoungAdult', 'Youth', ..., 'YoungAdult', 'Senior', 'MiddleAged', 'MiddleAged', 'YoungAdult']\nLength: 12\nCategories (4, object): ['Youth' < 'YoungAdult' < 'MiddleAged' < 'Senior']"
     },
     "execution_count": 94,
     "metadata": {},
     "output_type": "execute_result"
    }
   ]
  },
  {
   "cell_type": "markdown",
   "metadata": {
    "id": "0nY8GiaVSUc-"
   },
   "source": [
    "If we pass the integer number instead of the bin edge, it will compute the equal-length bins based on the minimum and maximum values.\n",
    "```python\n",
    "data = np.random.rand(20)\n",
    "pd.cut(data,4,precision=2)\n",
    "```"
   ]
  },
  {
   "cell_type": "code",
   "metadata": {
    "id": "IjqntK6ISj1B",
    "colab": {
     "base_uri": "https://localhost:8080/"
    },
    "outputId": "93bbdf60-e05c-4fb9-b671-87000ef47713",
    "ExecuteTime": {
     "end_time": "2023-11-01T07:27:36.911966300Z",
     "start_time": "2023-11-01T07:27:36.895886500Z"
    }
   },
   "source": [
    "data = np.random.rand(20)\n",
    "pd.cut(data,4,precision=2)"
   ],
   "execution_count": 95,
   "outputs": [
    {
     "data": {
      "text/plain": "[(0.73, 0.96], (0.25, 0.49], (0.0074, 0.25], (0.0074, 0.25], (0.49, 0.73], ..., (0.49, 0.73], (0.73, 0.96], (0.73, 0.96], (0.73, 0.96], (0.49, 0.73]]\nLength: 20\nCategories (4, interval[float64, right]): [(0.0074, 0.25] < (0.25, 0.49] < (0.49, 0.73] < (0.73, 0.96]]"
     },
     "execution_count": 95,
     "metadata": {},
     "output_type": "execute_result"
    }
   ]
  },
  {
   "cell_type": "markdown",
   "source": [
    "Try counting the value of data\n",
    "```python\n",
    "pd.value_counts(pd.cut(data,4,precision=2))\n",
    "```"
   ],
   "metadata": {
    "collapsed": false
   }
  },
  {
   "cell_type": "code",
   "execution_count": 96,
   "outputs": [
    {
     "data": {
      "text/plain": "(0.73, 0.96]      8\n(0.49, 0.73]      6\n(0.0074, 0.25]    4\n(0.25, 0.49]      2\nName: count, dtype: int64"
     },
     "execution_count": 96,
     "metadata": {},
     "output_type": "execute_result"
    }
   ],
   "source": [
    "pd.value_counts(pd.cut(data,4,precision=2))"
   ],
   "metadata": {
    "collapsed": false,
    "ExecuteTime": {
     "end_time": "2023-11-01T07:27:47.947982500Z",
     "start_time": "2023-11-01T07:27:47.916100600Z"
    }
   }
  },
  {
   "cell_type": "markdown",
   "metadata": {
    "id": "qfX3cZB7QEK8"
   },
   "source": [
    "### Detecting and Filtering Outliers\n",
    "---\n",
    "\n",
    "\n",
    "finding the outlining data and filter it out as it may be the error while gathering the data.\n",
    "Let's start by having the given data\n",
    "```python\n",
    "data = pd.DataFrame(np.random.randn(1000,4))\n",
    "data.describe()\n",
    "```"
   ]
  },
  {
   "cell_type": "code",
   "metadata": {
    "id": "c2s445CMQV-8",
    "colab": {
     "base_uri": "https://localhost:8080/",
     "height": 300
    },
    "outputId": "73db96e9-ea7b-40ec-ed6c-12af8323ff81",
    "ExecuteTime": {
     "end_time": "2023-11-01T07:27:54.424729200Z",
     "start_time": "2023-11-01T07:27:54.394879200Z"
    }
   },
   "source": [
    "data = pd.DataFrame(np.random.randn(1000,4))\n",
    "data.describe()"
   ],
   "execution_count": 97,
   "outputs": [
    {
     "data": {
      "text/plain": "                 0            1            2            3\ncount  1000.000000  1000.000000  1000.000000  1000.000000\nmean      0.024561    -0.001073    -0.068696     0.066352\nstd       1.006321     0.996045     0.997138     0.992765\nmin      -3.184377    -3.745356    -3.428254    -3.548824\n25%      -0.641675    -0.642609    -0.774890    -0.596286\n50%       0.001100    -0.013611    -0.117489     0.094503\n75%       0.678010     0.654328     0.616366     0.780282\nmax       3.260383     3.927528     3.366626     2.653656",
      "text/html": "<div>\n<style scoped>\n    .dataframe tbody tr th:only-of-type {\n        vertical-align: middle;\n    }\n\n    .dataframe tbody tr th {\n        vertical-align: top;\n    }\n\n    .dataframe thead th {\n        text-align: right;\n    }\n</style>\n<table border=\"1\" class=\"dataframe\">\n  <thead>\n    <tr style=\"text-align: right;\">\n      <th></th>\n      <th>0</th>\n      <th>1</th>\n      <th>2</th>\n      <th>3</th>\n    </tr>\n  </thead>\n  <tbody>\n    <tr>\n      <th>count</th>\n      <td>1000.000000</td>\n      <td>1000.000000</td>\n      <td>1000.000000</td>\n      <td>1000.000000</td>\n    </tr>\n    <tr>\n      <th>mean</th>\n      <td>0.024561</td>\n      <td>-0.001073</td>\n      <td>-0.068696</td>\n      <td>0.066352</td>\n    </tr>\n    <tr>\n      <th>std</th>\n      <td>1.006321</td>\n      <td>0.996045</td>\n      <td>0.997138</td>\n      <td>0.992765</td>\n    </tr>\n    <tr>\n      <th>min</th>\n      <td>-3.184377</td>\n      <td>-3.745356</td>\n      <td>-3.428254</td>\n      <td>-3.548824</td>\n    </tr>\n    <tr>\n      <th>25%</th>\n      <td>-0.641675</td>\n      <td>-0.642609</td>\n      <td>-0.774890</td>\n      <td>-0.596286</td>\n    </tr>\n    <tr>\n      <th>50%</th>\n      <td>0.001100</td>\n      <td>-0.013611</td>\n      <td>-0.117489</td>\n      <td>0.094503</td>\n    </tr>\n    <tr>\n      <th>75%</th>\n      <td>0.678010</td>\n      <td>0.654328</td>\n      <td>0.616366</td>\n      <td>0.780282</td>\n    </tr>\n    <tr>\n      <th>max</th>\n      <td>3.260383</td>\n      <td>3.927528</td>\n      <td>3.366626</td>\n      <td>2.653656</td>\n    </tr>\n  </tbody>\n</table>\n</div>"
     },
     "execution_count": 97,
     "metadata": {},
     "output_type": "execute_result"
    }
   ]
  },
  {
   "cell_type": "markdown",
   "metadata": {
    "id": "ZT_qGII3S7gF"
   },
   "source": [
    "if we want to find the values in column 2 which the absolute value is exceeded 3\n",
    "```python\n",
    "col = data[2]\n",
    "col[np.abs(col) >3]\n",
    "```"
   ]
  },
  {
   "cell_type": "code",
   "metadata": {
    "id": "Kz6MMG4McN6B",
    "colab": {
     "base_uri": "https://localhost:8080/",
     "height": 423
    },
    "outputId": "b3a1d0dc-dbde-4449-a986-99381208dcc4",
    "ExecuteTime": {
     "end_time": "2023-11-01T07:28:00.805441600Z",
     "start_time": "2023-11-01T07:28:00.773715400Z"
    }
   },
   "source": [
    "col = data[2]\n",
    "col[np.abs(col) >3]"
   ],
   "execution_count": 98,
   "outputs": [
    {
     "data": {
      "text/plain": "519   -3.428254\n896    3.366626\nName: 2, dtype: float64"
     },
     "execution_count": 98,
     "metadata": {},
     "output_type": "execute_result"
    }
   ]
  },
  {
   "cell_type": "markdown",
   "metadata": {
    "id": "jlJRo28sTQ7v"
   },
   "source": [
    "If we want to get rows which value is exceeding  3, we can use `any` methods\n",
    "```python\n",
    "data[(np.abs(data)>3).any(1)]\n",
    "```"
   ]
  },
  {
   "cell_type": "code",
   "execution_count": 99,
   "outputs": [
    {
     "ename": "TypeError",
     "evalue": "NDFrame._add_numeric_operations.<locals>.any() takes 1 positional argument but 2 were given",
     "output_type": "error",
     "traceback": [
      "\u001B[1;31m---------------------------------------------------------------------------\u001B[0m",
      "\u001B[1;31mTypeError\u001B[0m                                 Traceback (most recent call last)",
      "Cell \u001B[1;32mIn[99], line 1\u001B[0m\n\u001B[1;32m----> 1\u001B[0m data[\u001B[43m(\u001B[49m\u001B[43mnp\u001B[49m\u001B[38;5;241;43m.\u001B[39;49m\u001B[43mabs\u001B[49m\u001B[43m(\u001B[49m\u001B[43mdata\u001B[49m\u001B[43m)\u001B[49m\u001B[38;5;241;43m>\u001B[39;49m\u001B[38;5;241;43m3\u001B[39;49m\u001B[43m)\u001B[49m\u001B[38;5;241;43m.\u001B[39;49m\u001B[43many\u001B[49m\u001B[43m(\u001B[49m\u001B[38;5;241;43m1\u001B[39;49m\u001B[43m)\u001B[49m]\n",
      "\u001B[1;31mTypeError\u001B[0m: NDFrame._add_numeric_operations.<locals>.any() takes 1 positional argument but 2 were given"
     ]
    }
   ],
   "source": [
    "data[(np.abs(data)>3).any(1)]"
   ],
   "metadata": {
    "collapsed": false,
    "ExecuteTime": {
     "end_time": "2023-11-01T07:28:12.338546900Z",
     "start_time": "2023-11-01T07:28:12.291656700Z"
    }
   }
  },
  {
   "cell_type": "markdown",
   "metadata": {
    "id": "TVRAShje7As8"
   },
   "source": [
    "#### Work\n",
    "---\n",
    "\n",
    "From the given property file.\n",
    "Categorize the size of the hourse as the small house (size is less than 800 sq,ft.),  the medium house (size is between 801-1200 sq.ft) and the large house ( size is more than 1200 sq.ft)\n",
    "\n",
    "Show the number of each house size\n",
    "\n",
    "You should ignore the value which is not the number value"
   ]
  },
  {
   "cell_type": "code",
   "execution_count": 116,
   "outputs": [
    {
     "data": {
      "text/plain": "           PID  ST_NUM     ST_NAME OWN_OCCUPIED NUM_BEDROOMS NUM_BATH SQ_FT  \\\n0  100001000.0   104.0      PUTNAM            Y            3        1  1000   \n1  100002000.0   197.0   LEXINGTON            N            3      1.5    --   \n2  100003000.0     NaN   LEXINGTON            N          NaN        1   850   \n3  100004000.0   201.0    BERKELEY           12            1      NaN   700   \n4          NaN   203.0    BERKELEY            Y            3        2  1600   \n5  100006000.0   207.0    BERKELEY            Y          NaN        1   800   \n6  100007000.0     NaN  WASHINGTON          NaN            2   HURLEY   950   \n7  100008000.0   213.0     TREMONT            Y            1        1   NaN   \n8  100009000.0   215.0     TREMONT            Y           na        2  1800   \n\n     PRICE  \n0  20000.0  \n1      NaN  \n2      NaN  \n3      NaN  \n4      NaN  \n5      NaN  \n6      NaN  \n7      NaN  \n8      NaN  ",
      "text/html": "<div>\n<style scoped>\n    .dataframe tbody tr th:only-of-type {\n        vertical-align: middle;\n    }\n\n    .dataframe tbody tr th {\n        vertical-align: top;\n    }\n\n    .dataframe thead th {\n        text-align: right;\n    }\n</style>\n<table border=\"1\" class=\"dataframe\">\n  <thead>\n    <tr style=\"text-align: right;\">\n      <th></th>\n      <th>PID</th>\n      <th>ST_NUM</th>\n      <th>ST_NAME</th>\n      <th>OWN_OCCUPIED</th>\n      <th>NUM_BEDROOMS</th>\n      <th>NUM_BATH</th>\n      <th>SQ_FT</th>\n      <th>PRICE</th>\n    </tr>\n  </thead>\n  <tbody>\n    <tr>\n      <th>0</th>\n      <td>100001000.0</td>\n      <td>104.0</td>\n      <td>PUTNAM</td>\n      <td>Y</td>\n      <td>3</td>\n      <td>1</td>\n      <td>1000</td>\n      <td>20000.0</td>\n    </tr>\n    <tr>\n      <th>1</th>\n      <td>100002000.0</td>\n      <td>197.0</td>\n      <td>LEXINGTON</td>\n      <td>N</td>\n      <td>3</td>\n      <td>1.5</td>\n      <td>--</td>\n      <td>NaN</td>\n    </tr>\n    <tr>\n      <th>2</th>\n      <td>100003000.0</td>\n      <td>NaN</td>\n      <td>LEXINGTON</td>\n      <td>N</td>\n      <td>NaN</td>\n      <td>1</td>\n      <td>850</td>\n      <td>NaN</td>\n    </tr>\n    <tr>\n      <th>3</th>\n      <td>100004000.0</td>\n      <td>201.0</td>\n      <td>BERKELEY</td>\n      <td>12</td>\n      <td>1</td>\n      <td>NaN</td>\n      <td>700</td>\n      <td>NaN</td>\n    </tr>\n    <tr>\n      <th>4</th>\n      <td>NaN</td>\n      <td>203.0</td>\n      <td>BERKELEY</td>\n      <td>Y</td>\n      <td>3</td>\n      <td>2</td>\n      <td>1600</td>\n      <td>NaN</td>\n    </tr>\n    <tr>\n      <th>5</th>\n      <td>100006000.0</td>\n      <td>207.0</td>\n      <td>BERKELEY</td>\n      <td>Y</td>\n      <td>NaN</td>\n      <td>1</td>\n      <td>800</td>\n      <td>NaN</td>\n    </tr>\n    <tr>\n      <th>6</th>\n      <td>100007000.0</td>\n      <td>NaN</td>\n      <td>WASHINGTON</td>\n      <td>NaN</td>\n      <td>2</td>\n      <td>HURLEY</td>\n      <td>950</td>\n      <td>NaN</td>\n    </tr>\n    <tr>\n      <th>7</th>\n      <td>100008000.0</td>\n      <td>213.0</td>\n      <td>TREMONT</td>\n      <td>Y</td>\n      <td>1</td>\n      <td>1</td>\n      <td>NaN</td>\n      <td>NaN</td>\n    </tr>\n    <tr>\n      <th>8</th>\n      <td>100009000.0</td>\n      <td>215.0</td>\n      <td>TREMONT</td>\n      <td>Y</td>\n      <td>na</td>\n      <td>2</td>\n      <td>1800</td>\n      <td>NaN</td>\n    </tr>\n  </tbody>\n</table>\n</div>"
     },
     "execution_count": 116,
     "metadata": {},
     "output_type": "execute_result"
    }
   ],
   "source": [
    "import pandas as pd\n",
    "\n",
    "dat4 = pd.read_csv('file/property_data.csv')\n",
    "dat4"
   ],
   "metadata": {
    "collapsed": false,
    "ExecuteTime": {
     "end_time": "2023-11-01T07:33:19.352230Z",
     "start_time": "2023-11-01T07:33:19.336301300Z"
    }
   }
  },
  {
   "cell_type": "code",
   "source": [
    "dat4_new = dat4.replace({'--':np.nan})"
   ],
   "metadata": {
    "colab": {
     "base_uri": "https://localhost:8080/",
     "height": 373
    },
    "id": "9Y15k0KtFKgJ",
    "outputId": "63ec7824-19c6-4b10-cbad-ce8df09241b4",
    "ExecuteTime": {
     "end_time": "2023-11-01T07:33:24.623972100Z",
     "start_time": "2023-11-01T07:33:24.596534600Z"
    }
   },
   "execution_count": 118,
   "outputs": []
  },
  {
   "cell_type": "code",
   "execution_count": 120,
   "outputs": [
    {
     "data": {
      "text/plain": "           PID  ST_NUM     ST_NAME OWN_OCCUPIED NUM_BEDROOMS NUM_BATH SQ_FT  \\\n0  100001000.0   104.0      PUTNAM            Y            3        1  1000   \n2  100003000.0     NaN   LEXINGTON            N          NaN        1   850   \n3  100004000.0   201.0    BERKELEY           12            1      NaN   700   \n4          NaN   203.0    BERKELEY            Y            3        2  1600   \n5  100006000.0   207.0    BERKELEY            Y          NaN        1   800   \n6  100007000.0     NaN  WASHINGTON          NaN            2   HURLEY   950   \n8  100009000.0   215.0     TREMONT            Y           na        2  1800   \n\n     PRICE  \n0  20000.0  \n2      NaN  \n3      NaN  \n4      NaN  \n5      NaN  \n6      NaN  \n8      NaN  ",
      "text/html": "<div>\n<style scoped>\n    .dataframe tbody tr th:only-of-type {\n        vertical-align: middle;\n    }\n\n    .dataframe tbody tr th {\n        vertical-align: top;\n    }\n\n    .dataframe thead th {\n        text-align: right;\n    }\n</style>\n<table border=\"1\" class=\"dataframe\">\n  <thead>\n    <tr style=\"text-align: right;\">\n      <th></th>\n      <th>PID</th>\n      <th>ST_NUM</th>\n      <th>ST_NAME</th>\n      <th>OWN_OCCUPIED</th>\n      <th>NUM_BEDROOMS</th>\n      <th>NUM_BATH</th>\n      <th>SQ_FT</th>\n      <th>PRICE</th>\n    </tr>\n  </thead>\n  <tbody>\n    <tr>\n      <th>0</th>\n      <td>100001000.0</td>\n      <td>104.0</td>\n      <td>PUTNAM</td>\n      <td>Y</td>\n      <td>3</td>\n      <td>1</td>\n      <td>1000</td>\n      <td>20000.0</td>\n    </tr>\n    <tr>\n      <th>2</th>\n      <td>100003000.0</td>\n      <td>NaN</td>\n      <td>LEXINGTON</td>\n      <td>N</td>\n      <td>NaN</td>\n      <td>1</td>\n      <td>850</td>\n      <td>NaN</td>\n    </tr>\n    <tr>\n      <th>3</th>\n      <td>100004000.0</td>\n      <td>201.0</td>\n      <td>BERKELEY</td>\n      <td>12</td>\n      <td>1</td>\n      <td>NaN</td>\n      <td>700</td>\n      <td>NaN</td>\n    </tr>\n    <tr>\n      <th>4</th>\n      <td>NaN</td>\n      <td>203.0</td>\n      <td>BERKELEY</td>\n      <td>Y</td>\n      <td>3</td>\n      <td>2</td>\n      <td>1600</td>\n      <td>NaN</td>\n    </tr>\n    <tr>\n      <th>5</th>\n      <td>100006000.0</td>\n      <td>207.0</td>\n      <td>BERKELEY</td>\n      <td>Y</td>\n      <td>NaN</td>\n      <td>1</td>\n      <td>800</td>\n      <td>NaN</td>\n    </tr>\n    <tr>\n      <th>6</th>\n      <td>100007000.0</td>\n      <td>NaN</td>\n      <td>WASHINGTON</td>\n      <td>NaN</td>\n      <td>2</td>\n      <td>HURLEY</td>\n      <td>950</td>\n      <td>NaN</td>\n    </tr>\n    <tr>\n      <th>8</th>\n      <td>100009000.0</td>\n      <td>215.0</td>\n      <td>TREMONT</td>\n      <td>Y</td>\n      <td>na</td>\n      <td>2</td>\n      <td>1800</td>\n      <td>NaN</td>\n    </tr>\n  </tbody>\n</table>\n</div>"
     },
     "execution_count": 120,
     "metadata": {},
     "output_type": "execute_result"
    }
   ],
   "source": [
    "dat4_newmet = dat4_new.dropna(subset=['SQ_FT'])\n",
    "dat4_newmet"
   ],
   "metadata": {
    "collapsed": false,
    "ExecuteTime": {
     "end_time": "2023-11-01T07:33:36.979827400Z",
     "start_time": "2023-11-01T07:33:36.932701100Z"
    }
   }
  },
  {
   "cell_type": "code",
   "execution_count": 121,
   "outputs": [
    {
     "data": {
      "text/plain": "array([1000,  850,  700, 1600,  800,  950, 1800])"
     },
     "execution_count": 121,
     "metadata": {},
     "output_type": "execute_result"
    }
   ],
   "source": [
    "bins = [0, 800, 1200, 2000]\n",
    "group_name = ['small_house','medium house', 'large house']\n",
    "sqft_array = np.array(dat4_newmet['SQ_FT'].astype(int))\n",
    "sqft_array"
   ],
   "metadata": {
    "collapsed": false,
    "ExecuteTime": {
     "end_time": "2023-11-01T07:33:41.973242800Z",
     "start_time": "2023-11-01T07:33:41.963594100Z"
    }
   }
  },
  {
   "cell_type": "code",
   "execution_count": 122,
   "outputs": [
    {
     "data": {
      "text/plain": "medium house    3\nsmall_house     2\nlarge house     2\nName: count, dtype: int64"
     },
     "execution_count": 122,
     "metadata": {},
     "output_type": "execute_result"
    }
   ],
   "source": [
    "cat = pd.cut(sqft_array,bins,labels=group_name)\n",
    "pd.value_counts(cat)"
   ],
   "metadata": {
    "collapsed": false,
    "ExecuteTime": {
     "end_time": "2023-11-01T07:33:49.832609Z",
     "start_time": "2023-11-01T07:33:49.800949700Z"
    }
   }
  },
  {
   "cell_type": "markdown",
   "metadata": {
    "id": "lKJEca4oUfnN"
   },
   "source": [
    "# Data Wrangling: Join, Combine, Reshape"
   ]
  },
  {
   "cell_type": "markdown",
   "metadata": {
    "id": "YM-BXN6PUyia"
   },
   "source": [
    "## Hierachical Indexing\n",
    "---\n",
    "\n",
    "\n",
    "Allow index to have multiple index levels on an axis\n",
    "\n",
    "Use when working with higher dimensional data ina lower dimensional form\n",
    "\n",
    "\n",
    "๊Use this setup configuration"
   ]
  },
  {
   "cell_type": "code",
   "metadata": {
    "id": "nEPiZoGRXzje",
    "ExecuteTime": {
     "end_time": "2023-11-01T07:37:14.814378400Z",
     "start_time": "2023-11-01T07:37:07.211726500Z"
    }
   },
   "source": [
    "import numpy as np\n",
    "import pandas as pd\n",
    "pd.options.display.max_rows = 20\n",
    "np.random.seed(12345)\n",
    "import matplotlib.pyplot as plt\n",
    "plt.rc('figure', figsize=(10, 6))\n",
    "np.set_printoptions(precision=4, suppress=True)"
   ],
   "execution_count": 130,
   "outputs": []
  },
  {
   "cell_type": "markdown",
   "source": [
    "create multiple index as given\n",
    "```python\n",
    "data = pd.Series(np.random.randn(9),\n",
    "                 index=[['a', 'a', 'a', 'b', 'b', 'c', 'c', 'd', 'd'],\n",
    "                        [1, 2, 3, 1, 3, 1, 2, 2, 3]])\n",
    "data\n",
    "```"
   ],
   "metadata": {
    "collapsed": false
   }
  },
  {
   "cell_type": "code",
   "metadata": {
    "id": "AeB3OPzuYDKA",
    "colab": {
     "base_uri": "https://localhost:8080/"
    },
    "outputId": "dbac9d9e-bc00-4d91-8165-5e7bf8c0e345",
    "ExecuteTime": {
     "end_time": "2023-11-01T07:37:26.674404600Z",
     "start_time": "2023-11-01T07:37:26.643006900Z"
    }
   },
   "source": [
    "data = pd.Series(np.random.randn(9),\n",
    "                 index=[['a', 'a', 'a', 'b', 'b', 'c', 'c', 'd', 'd'],\n",
    "                        [1, 2, 3, 1, 3, 1, 2, 2, 3]])\n",
    "data"
   ],
   "execution_count": 131,
   "outputs": [
    {
     "data": {
      "text/plain": "a  1   -0.204708\n   2    0.478943\n   3   -0.519439\nb  1   -0.555730\n   3    1.965781\nc  1    1.393406\n   2    0.092908\nd  2    0.281746\n   3    0.769023\ndtype: float64"
     },
     "execution_count": 131,
     "metadata": {},
     "output_type": "execute_result"
    }
   ]
  },
  {
   "cell_type": "markdown",
   "source": [
    "We can see the index of the data\n",
    "```python\n",
    "data.index\n",
    "```"
   ],
   "metadata": {
    "collapsed": false
   }
  },
  {
   "cell_type": "code",
   "metadata": {
    "id": "N4MiFIUqYDAl",
    "colab": {
     "base_uri": "https://localhost:8080/"
    },
    "outputId": "a3177748-08c6-4cdd-f46a-2c8fb0187b2e",
    "ExecuteTime": {
     "end_time": "2023-11-01T07:37:34.446950500Z",
     "start_time": "2023-11-01T07:37:34.414718600Z"
    }
   },
   "source": [
    "data.index"
   ],
   "execution_count": 132,
   "outputs": [
    {
     "data": {
      "text/plain": "MultiIndex([('a', 1),\n            ('a', 2),\n            ('a', 3),\n            ('b', 1),\n            ('b', 3),\n            ('c', 1),\n            ('c', 2),\n            ('d', 2),\n            ('d', 3)],\n           )"
     },
     "execution_count": 132,
     "metadata": {},
     "output_type": "execute_result"
    }
   ]
  },
  {
   "cell_type": "markdown",
   "metadata": {
    "id": "zW600u2sYVk9"
   },
   "source": [
    "we can see data in the multi level index to see only some index\n",
    "```python\n",
    "data['b']\n",
    "```"
   ]
  },
  {
   "cell_type": "code",
   "metadata": {
    "id": "eV1mQGxOYeqz",
    "colab": {
     "base_uri": "https://localhost:8080/"
    },
    "outputId": "9514d6a3-6857-4d7b-cc6b-c9583b61fdc6",
    "ExecuteTime": {
     "end_time": "2023-11-01T07:37:40.483304300Z",
     "start_time": "2023-11-01T07:37:40.452222500Z"
    }
   },
   "source": [
    "data['b']"
   ],
   "execution_count": 133,
   "outputs": [
    {
     "data": {
      "text/plain": "1   -0.555730\n3    1.965781\ndtype: float64"
     },
     "execution_count": 133,
     "metadata": {},
     "output_type": "execute_result"
    }
   ]
  },
  {
   "cell_type": "markdown",
   "source": [
    "We can see data from the inner level\n",
    "```python\n",
    "data['b':'c']\n",
    "```"
   ],
   "metadata": {
    "collapsed": false
   }
  },
  {
   "cell_type": "code",
   "metadata": {
    "id": "m5dUDOFPYhS1",
    "colab": {
     "base_uri": "https://localhost:8080/"
    },
    "outputId": "14158f7a-ecb8-481a-809f-3a11fd1f0564",
    "ExecuteTime": {
     "end_time": "2023-11-01T07:37:45.341911200Z",
     "start_time": "2023-11-01T07:37:45.331889600Z"
    }
   },
   "source": [
    "data['b':'c']"
   ],
   "execution_count": 134,
   "outputs": [
    {
     "data": {
      "text/plain": "b  1   -0.555730\n   3    1.965781\nc  1    1.393406\n   2    0.092908\ndtype: float64"
     },
     "execution_count": 134,
     "metadata": {},
     "output_type": "execute_result"
    }
   ]
  },
  {
   "cell_type": "markdown",
   "source": [
    "The `loc` method can be used to select data from a particular group of rows and columns in the hierachical index\n",
    "```python\n",
    "data.loc[['b','d']]\n",
    "```"
   ],
   "metadata": {
    "collapsed": false
   }
  },
  {
   "cell_type": "code",
   "metadata": {
    "id": "ugSzYiRjYru4",
    "colab": {
     "base_uri": "https://localhost:8080/"
    },
    "outputId": "71356ccc-72f0-4928-87ac-272617d16d18",
    "ExecuteTime": {
     "end_time": "2023-11-01T07:37:49.992208700Z",
     "start_time": "2023-11-01T07:37:49.971557700Z"
    }
   },
   "source": [
    "data.loc[['b','d']]"
   ],
   "execution_count": 135,
   "outputs": [
    {
     "data": {
      "text/plain": "b  1   -0.555730\n   3    1.965781\nd  2    0.281746\n   3    0.769023\ndtype: float64"
     },
     "execution_count": 135,
     "metadata": {},
     "output_type": "execute_result"
    }
   ]
  },
  {
   "cell_type": "markdown",
   "metadata": {
    "id": "K9SgB8l1YzJa"
   },
   "source": [
    "We can see data from the inner level\n",
    "```python\n",
    "data.loc[:,2]\n",
    "```"
   ]
  },
  {
   "cell_type": "code",
   "source": [
    "data.loc[:,2]"
   ],
   "metadata": {
    "colab": {
     "base_uri": "https://localhost:8080/"
    },
    "id": "PZlCcu-OOKxe",
    "outputId": "40965e1e-4b1e-4af8-ce0c-0622b9013ddf",
    "ExecuteTime": {
     "end_time": "2023-11-01T07:37:54.557421400Z",
     "start_time": "2023-11-01T07:37:54.541440Z"
    }
   },
   "execution_count": 136,
   "outputs": [
    {
     "data": {
      "text/plain": "a    0.478943\nc    0.092908\nd    0.281746\ndtype: float64"
     },
     "execution_count": 136,
     "metadata": {},
     "output_type": "execute_result"
    }
   ]
  },
  {
   "cell_type": "markdown",
   "source": [
    "The slide can be also used\n",
    "```python\n",
    "data.loc[:,2]\n",
    "```"
   ],
   "metadata": {
    "collapsed": false
   }
  },
  {
   "cell_type": "code",
   "metadata": {
    "id": "zbrKcyVfYC-o",
    "colab": {
     "base_uri": "https://localhost:8080/"
    },
    "outputId": "31ce694a-cd16-4a4f-95f8-8b2a04c5f18b",
    "ExecuteTime": {
     "end_time": "2023-11-01T07:38:00.881999300Z",
     "start_time": "2023-11-01T07:38:00.850628900Z"
    }
   },
   "source": [
    "data.loc[:,2]"
   ],
   "execution_count": 137,
   "outputs": [
    {
     "data": {
      "text/plain": "a    0.478943\nc    0.092908\nd    0.281746\ndtype: float64"
     },
     "execution_count": 137,
     "metadata": {},
     "output_type": "execute_result"
    }
   ]
  },
  {
   "cell_type": "markdown",
   "metadata": {
    "id": "ayDSEMaTZB-Y"
   },
   "source": [
    "Hierachical indexing play important role in reshaping data and group-based oepration.\n",
    "\n",
    "The Hierachical index can be rearragen as the DataFrame using `unstack` methods\n",
    "```python\n",
    "data.unstack()\n",
    "```"
   ]
  },
  {
   "cell_type": "code",
   "metadata": {
    "id": "dp7vyBXdEtZm",
    "ExecuteTime": {
     "end_time": "2023-11-01T07:38:06.604965200Z",
     "start_time": "2023-11-01T07:38:06.587642200Z"
    }
   },
   "source": [
    "data.unstack()"
   ],
   "execution_count": 138,
   "outputs": [
    {
     "data": {
      "text/plain": "          1         2         3\na -0.204708  0.478943 -0.519439\nb -0.555730       NaN  1.965781\nc  1.393406  0.092908       NaN\nd       NaN  0.281746  0.769023",
      "text/html": "<div>\n<style scoped>\n    .dataframe tbody tr th:only-of-type {\n        vertical-align: middle;\n    }\n\n    .dataframe tbody tr th {\n        vertical-align: top;\n    }\n\n    .dataframe thead th {\n        text-align: right;\n    }\n</style>\n<table border=\"1\" class=\"dataframe\">\n  <thead>\n    <tr style=\"text-align: right;\">\n      <th></th>\n      <th>1</th>\n      <th>2</th>\n      <th>3</th>\n    </tr>\n  </thead>\n  <tbody>\n    <tr>\n      <th>a</th>\n      <td>-0.204708</td>\n      <td>0.478943</td>\n      <td>-0.519439</td>\n    </tr>\n    <tr>\n      <th>b</th>\n      <td>-0.555730</td>\n      <td>NaN</td>\n      <td>1.965781</td>\n    </tr>\n    <tr>\n      <th>c</th>\n      <td>1.393406</td>\n      <td>0.092908</td>\n      <td>NaN</td>\n    </tr>\n    <tr>\n      <th>d</th>\n      <td>NaN</td>\n      <td>0.281746</td>\n      <td>0.769023</td>\n    </tr>\n  </tbody>\n</table>\n</div>"
     },
     "execution_count": 138,
     "metadata": {},
     "output_type": "execute_result"
    }
   ]
  },
  {
   "cell_type": "markdown",
   "metadata": {
    "id": "bQCYXcSIZjmR"
   },
   "source": [
    "and the inverse version is `stack`\n",
    "```python\n",
    "data.unstack().stack()\n",
    "```"
   ]
  },
  {
   "cell_type": "code",
   "metadata": {
    "id": "wGuO8MfbZnhy",
    "colab": {
     "base_uri": "https://localhost:8080/"
    },
    "outputId": "5a865ee4-fea1-4442-fb16-2c610750f4b3",
    "ExecuteTime": {
     "end_time": "2023-11-01T07:38:14.853957900Z",
     "start_time": "2023-11-01T07:38:14.822427600Z"
    }
   },
   "source": [
    "data.unstack().stack()"
   ],
   "execution_count": 139,
   "outputs": [
    {
     "data": {
      "text/plain": "a  1   -0.204708\n   2    0.478943\n   3   -0.519439\nb  1   -0.555730\n   3    1.965781\nc  1    1.393406\n   2    0.092908\nd  2    0.281746\n   3    0.769023\ndtype: float64"
     },
     "execution_count": 139,
     "metadata": {},
     "output_type": "execute_result"
    }
   ]
  },
  {
   "cell_type": "markdown",
   "metadata": {
    "id": "GXsOL913Zm2k"
   },
   "source": [
    "As the data frame,  axis can have hierachical index\n",
    "```python\n",
    "frame = pd.DataFrame(np.arange(12).reshape((4, 3)),\n",
    "                     index=[['a', 'a', 'b', 'b'], [1, 2, 1, 2]],\n",
    "                     columns=[['Ohio', 'Ohio', 'Colorado'],\n",
    "                              ['Green', 'Red', 'Green']])\n",
    "frame\n",
    "```"
   ]
  },
  {
   "cell_type": "code",
   "metadata": {
    "id": "Ve8ZRh7sZ6Xo",
    "colab": {
     "base_uri": "https://localhost:8080/",
     "height": 206
    },
    "outputId": "f46bea7e-77c6-4cf3-cd91-dd2a7b31be20",
    "ExecuteTime": {
     "end_time": "2023-11-01T07:38:20.535343200Z",
     "start_time": "2023-11-01T07:38:20.504171100Z"
    }
   },
   "source": [
    "frame = pd.DataFrame(np.arange(12).reshape((4, 3)),\n",
    "                     index=[['a', 'a', 'b', 'b'], [1, 2, 1, 2]],\n",
    "                     columns=[['Ohio', 'Ohio', 'Colorado'],\n",
    "                              ['Green', 'Red', 'Green']])\n",
    "frame"
   ],
   "execution_count": 140,
   "outputs": [
    {
     "data": {
      "text/plain": "     Ohio     Colorado\n    Green Red    Green\na 1     0   1        2\n  2     3   4        5\nb 1     6   7        8\n  2     9  10       11",
      "text/html": "<div>\n<style scoped>\n    .dataframe tbody tr th:only-of-type {\n        vertical-align: middle;\n    }\n\n    .dataframe tbody tr th {\n        vertical-align: top;\n    }\n\n    .dataframe thead tr th {\n        text-align: left;\n    }\n</style>\n<table border=\"1\" class=\"dataframe\">\n  <thead>\n    <tr>\n      <th></th>\n      <th></th>\n      <th colspan=\"2\" halign=\"left\">Ohio</th>\n      <th>Colorado</th>\n    </tr>\n    <tr>\n      <th></th>\n      <th></th>\n      <th>Green</th>\n      <th>Red</th>\n      <th>Green</th>\n    </tr>\n  </thead>\n  <tbody>\n    <tr>\n      <th rowspan=\"2\" valign=\"top\">a</th>\n      <th>1</th>\n      <td>0</td>\n      <td>1</td>\n      <td>2</td>\n    </tr>\n    <tr>\n      <th>2</th>\n      <td>3</td>\n      <td>4</td>\n      <td>5</td>\n    </tr>\n    <tr>\n      <th rowspan=\"2\" valign=\"top\">b</th>\n      <th>1</th>\n      <td>6</td>\n      <td>7</td>\n      <td>8</td>\n    </tr>\n    <tr>\n      <th>2</th>\n      <td>9</td>\n      <td>10</td>\n      <td>11</td>\n    </tr>\n  </tbody>\n</table>\n</div>"
     },
     "execution_count": 140,
     "metadata": {},
     "output_type": "execute_result"
    }
   ]
  },
  {
   "cell_type": "markdown",
   "metadata": {
    "id": "CZ9jXyGVZ-fm"
   },
   "source": [
    "The Hierachy level can have names.\n",
    "```python\n",
    "frame.index.names = ['key1', 'key2']\n",
    "frame.columns.names = ['state', 'color']\n",
    "frame\n",
    "```"
   ]
  },
  {
   "cell_type": "code",
   "metadata": {
    "id": "gqIodxW9aLkH",
    "colab": {
     "base_uri": "https://localhost:8080/",
     "height": 237
    },
    "outputId": "37e62487-1340-4377-eaec-ec15e479c7d9",
    "ExecuteTime": {
     "end_time": "2023-11-01T07:38:25.893237600Z",
     "start_time": "2023-11-01T07:38:25.845756900Z"
    }
   },
   "source": [
    "frame.index.names = ['key1', 'key2']\n",
    "frame.columns.names = ['state', 'color']\n",
    "frame"
   ],
   "execution_count": 141,
   "outputs": [
    {
     "data": {
      "text/plain": "state      Ohio     Colorado\ncolor     Green Red    Green\nkey1 key2                   \na    1        0   1        2\n     2        3   4        5\nb    1        6   7        8\n     2        9  10       11",
      "text/html": "<div>\n<style scoped>\n    .dataframe tbody tr th:only-of-type {\n        vertical-align: middle;\n    }\n\n    .dataframe tbody tr th {\n        vertical-align: top;\n    }\n\n    .dataframe thead tr th {\n        text-align: left;\n    }\n\n    .dataframe thead tr:last-of-type th {\n        text-align: right;\n    }\n</style>\n<table border=\"1\" class=\"dataframe\">\n  <thead>\n    <tr>\n      <th></th>\n      <th>state</th>\n      <th colspan=\"2\" halign=\"left\">Ohio</th>\n      <th>Colorado</th>\n    </tr>\n    <tr>\n      <th></th>\n      <th>color</th>\n      <th>Green</th>\n      <th>Red</th>\n      <th>Green</th>\n    </tr>\n    <tr>\n      <th>key1</th>\n      <th>key2</th>\n      <th></th>\n      <th></th>\n      <th></th>\n    </tr>\n  </thead>\n  <tbody>\n    <tr>\n      <th rowspan=\"2\" valign=\"top\">a</th>\n      <th>1</th>\n      <td>0</td>\n      <td>1</td>\n      <td>2</td>\n    </tr>\n    <tr>\n      <th>2</th>\n      <td>3</td>\n      <td>4</td>\n      <td>5</td>\n    </tr>\n    <tr>\n      <th rowspan=\"2\" valign=\"top\">b</th>\n      <th>1</th>\n      <td>6</td>\n      <td>7</td>\n      <td>8</td>\n    </tr>\n    <tr>\n      <th>2</th>\n      <td>9</td>\n      <td>10</td>\n      <td>11</td>\n    </tr>\n  </tbody>\n</table>\n</div>"
     },
     "execution_count": 141,
     "metadata": {},
     "output_type": "execute_result"
    }
   ]
  },
  {
   "cell_type": "markdown",
   "metadata": {
    "id": "emySw1xbbGsB"
   },
   "source": [
    "### Work create this data frame\n",
    "\n",
    "![image-20230907050812483](./assets/image-20230907050812483.png)\n",
    "\n"
   ]
  },
  {
   "cell_type": "code",
   "metadata": {
    "id": "A-obRPglGHH3",
    "colab": {
     "base_uri": "https://localhost:8080/",
     "height": 112
    },
    "outputId": "5ea28a3d-5568-495c-ea18-f1293735259c",
    "ExecuteTime": {
     "end_time": "2023-11-01T07:39:15.767740Z",
     "start_time": "2023-11-01T07:39:15.734202Z"
    }
   },
   "source": [
    "\n",
    "import pandas as pd\n",
    "\n",
    "data = {\n",
    "    'Province': ['Chiang Mai', 'Chiang Mai', 'Chiang Mai', 'Chiang Mai', 'Lampang', 'Lampang', 'Lampang', 'Bangkok', 'Bangkok', 'Bangkok'],\n",
    "    'Subdistrict': ['Muang', 'Sansai', 'MaeRim', 'Hangdong', 'Jaehom', 'Muang', 'Maetha', 'Pathumwan', 'Samsen', 'Don muang'],\n",
    "    'Income': [4473.00, 1597.00, 5013.00, 10236.00, 15818.00, 15063.00, 13777.00, 3730.00, 8395.00, 16054.00],\n",
    "    'population': [32113.00, 28044.00, 46208.00, 30104.00, 40397.00, 44044.00, 84133.00, 13448.00, 74449.00, 58280.00]\n",
    "}\n",
    "\n",
    "df = pd.DataFrame(data)\n",
    "\n",
    "print(df)"
   ],
   "execution_count": 142,
   "outputs": [
    {
     "name": "stdout",
     "output_type": "stream",
     "text": [
      "     Province Subdistrict   Income  population\n",
      "0  Chiang Mai       Muang   4473.0     32113.0\n",
      "1  Chiang Mai      Sansai   1597.0     28044.0\n",
      "2  Chiang Mai      MaeRim   5013.0     46208.0\n",
      "3  Chiang Mai    Hangdong  10236.0     30104.0\n",
      "4     Lampang      Jaehom  15818.0     40397.0\n",
      "5     Lampang       Muang  15063.0     44044.0\n",
      "6     Lampang      Maetha  13777.0     84133.0\n",
      "7     Bangkok   Pathumwan   3730.0     13448.0\n",
      "8     Bangkok      Samsen   8395.0     74449.0\n",
      "9     Bangkok   Don muang  16054.0     58280.0\n"
     ]
    }
   ]
  },
  {
   "cell_type": "code",
   "execution_count": 143,
   "outputs": [
    {
     "data": {
      "text/plain": "                         Income  Population\nProvince   Subdistrict                     \nChiang Mai Muang         4473.0     32113.0\n           Sansai        1597.0     28044.0\n           Maerim        5013.0     46028.0\n           Hangdong     10236.0     30104.0\nLampang    Jaehom       15818.0     43097.0\n           Muang        15063.0     44404.0\n           Maetha       13777.0     84133.0\nBangkok    Pathumwan     3730.0     13448.0\n           Samsen        8395.0     74449.0\n           Don Muang    16054.0     58280.0",
      "text/html": "<div>\n<style scoped>\n    .dataframe tbody tr th:only-of-type {\n        vertical-align: middle;\n    }\n\n    .dataframe tbody tr th {\n        vertical-align: top;\n    }\n\n    .dataframe thead th {\n        text-align: right;\n    }\n</style>\n<table border=\"1\" class=\"dataframe\">\n  <thead>\n    <tr style=\"text-align: right;\">\n      <th></th>\n      <th></th>\n      <th>Income</th>\n      <th>Population</th>\n    </tr>\n    <tr>\n      <th>Province</th>\n      <th>Subdistrict</th>\n      <th></th>\n      <th></th>\n    </tr>\n  </thead>\n  <tbody>\n    <tr>\n      <th rowspan=\"4\" valign=\"top\">Chiang Mai</th>\n      <th>Muang</th>\n      <td>4473.0</td>\n      <td>32113.0</td>\n    </tr>\n    <tr>\n      <th>Sansai</th>\n      <td>1597.0</td>\n      <td>28044.0</td>\n    </tr>\n    <tr>\n      <th>Maerim</th>\n      <td>5013.0</td>\n      <td>46028.0</td>\n    </tr>\n    <tr>\n      <th>Hangdong</th>\n      <td>10236.0</td>\n      <td>30104.0</td>\n    </tr>\n    <tr>\n      <th rowspan=\"3\" valign=\"top\">Lampang</th>\n      <th>Jaehom</th>\n      <td>15818.0</td>\n      <td>43097.0</td>\n    </tr>\n    <tr>\n      <th>Muang</th>\n      <td>15063.0</td>\n      <td>44404.0</td>\n    </tr>\n    <tr>\n      <th>Maetha</th>\n      <td>13777.0</td>\n      <td>84133.0</td>\n    </tr>\n    <tr>\n      <th rowspan=\"3\" valign=\"top\">Bangkok</th>\n      <th>Pathumwan</th>\n      <td>3730.0</td>\n      <td>13448.0</td>\n    </tr>\n    <tr>\n      <th>Samsen</th>\n      <td>8395.0</td>\n      <td>74449.0</td>\n    </tr>\n    <tr>\n      <th>Don Muang</th>\n      <td>16054.0</td>\n      <td>58280.0</td>\n    </tr>\n  </tbody>\n</table>\n</div>"
     },
     "execution_count": 143,
     "metadata": {},
     "output_type": "execute_result"
    }
   ],
   "source": [
    "data = {\n",
    "    'Income': [4473.00, 1597.00, 5013.00, 10236.00, 15818.00, 15063.00, 13777.00, 3730.00, 8395.00, 16054.00],\n",
    "    'Population': [32113.00, 28044.00, 46028.00, 30104.00, 43097.00, 44404.00, 84133.00, 13448.00, 74449.00, 58280.00]\n",
    "}\n",
    "\n",
    "frame2 = pd.DataFrame(data,\n",
    "                      index=[['Chiang Mai','Chiang Mai','Chiang Mai','Chiang Mai', 'Lampang','Lampang','Lampang', 'Bangkok','Bangkok','Bangkok'], ['Muang','Sansai','Maerim','Hangdong','Jaehom','Muang','Maetha','Pathumwan','Samsen','Don Muang']])\n",
    "frame2.index.names = ['Province', 'Subdistrict']\n",
    "frame2"
   ],
   "metadata": {
    "collapsed": false,
    "ExecuteTime": {
     "end_time": "2023-11-01T07:39:29.004573Z",
     "start_time": "2023-11-01T07:39:28.957267Z"
    }
   }
  },
  {
   "cell_type": "markdown",
   "metadata": {
    "id": "nQzWwA2dcSH7"
   },
   "source": [
    "## Reordering and Sorting Levels\n",
    "---\n",
    "\n",
    "To transform data, we may have to swap the level of the data frame"
   ]
  },
  {
   "cell_type": "markdown",
   "source": [
    "The `swaplevel` method can be used to swap the level\n",
    "```python\n",
    "frame.swaplevel('key1','key2')\n",
    "```"
   ],
   "metadata": {
    "collapsed": false
   }
  },
  {
   "cell_type": "code",
   "metadata": {
    "id": "V_Y2NEYNPVTO",
    "ExecuteTime": {
     "end_time": "2023-11-01T07:39:43.146312700Z",
     "start_time": "2023-11-01T07:39:43.140075700Z"
    }
   },
   "source": [
    "frame.swaplevel('key1','key2')"
   ],
   "execution_count": 144,
   "outputs": [
    {
     "data": {
      "text/plain": "state      Ohio     Colorado\ncolor     Green Red    Green\nkey2 key1                   \n1    a        0   1        2\n2    a        3   4        5\n1    b        6   7        8\n2    b        9  10       11",
      "text/html": "<div>\n<style scoped>\n    .dataframe tbody tr th:only-of-type {\n        vertical-align: middle;\n    }\n\n    .dataframe tbody tr th {\n        vertical-align: top;\n    }\n\n    .dataframe thead tr th {\n        text-align: left;\n    }\n\n    .dataframe thead tr:last-of-type th {\n        text-align: right;\n    }\n</style>\n<table border=\"1\" class=\"dataframe\">\n  <thead>\n    <tr>\n      <th></th>\n      <th>state</th>\n      <th colspan=\"2\" halign=\"left\">Ohio</th>\n      <th>Colorado</th>\n    </tr>\n    <tr>\n      <th></th>\n      <th>color</th>\n      <th>Green</th>\n      <th>Red</th>\n      <th>Green</th>\n    </tr>\n    <tr>\n      <th>key2</th>\n      <th>key1</th>\n      <th></th>\n      <th></th>\n      <th></th>\n    </tr>\n  </thead>\n  <tbody>\n    <tr>\n      <th>1</th>\n      <th>a</th>\n      <td>0</td>\n      <td>1</td>\n      <td>2</td>\n    </tr>\n    <tr>\n      <th>2</th>\n      <th>a</th>\n      <td>3</td>\n      <td>4</td>\n      <td>5</td>\n    </tr>\n    <tr>\n      <th>1</th>\n      <th>b</th>\n      <td>6</td>\n      <td>7</td>\n      <td>8</td>\n    </tr>\n    <tr>\n      <th>2</th>\n      <th>b</th>\n      <td>9</td>\n      <td>10</td>\n      <td>11</td>\n    </tr>\n  </tbody>\n</table>\n</div>"
     },
     "execution_count": 144,
     "metadata": {},
     "output_type": "execute_result"
    }
   ]
  },
  {
   "cell_type": "markdown",
   "metadata": {
    "id": "5arWxbUBcqyt"
   },
   "source": [
    "The index is not sort, so the multi hierachy is not set. we can sort the index at any level to set the better visualization\n",
    "```python\n",
    "frame.sort_index(level=1)\n",
    "```"
   ]
  },
  {
   "cell_type": "code",
   "metadata": {
    "id": "X2Ny0uohc4Nl",
    "colab": {
     "base_uri": "https://localhost:8080/",
     "height": 237
    },
    "outputId": "52cbab8c-2daa-45a7-e8ed-3b053894f8ff",
    "ExecuteTime": {
     "end_time": "2023-11-01T07:39:53.049021100Z",
     "start_time": "2023-11-01T07:39:53.017719700Z"
    }
   },
   "source": [
    "frame.sort_index(level=1)"
   ],
   "execution_count": 145,
   "outputs": [
    {
     "data": {
      "text/plain": "state      Ohio     Colorado\ncolor     Green Red    Green\nkey1 key2                   \na    1        0   1        2\nb    1        6   7        8\na    2        3   4        5\nb    2        9  10       11",
      "text/html": "<div>\n<style scoped>\n    .dataframe tbody tr th:only-of-type {\n        vertical-align: middle;\n    }\n\n    .dataframe tbody tr th {\n        vertical-align: top;\n    }\n\n    .dataframe thead tr th {\n        text-align: left;\n    }\n\n    .dataframe thead tr:last-of-type th {\n        text-align: right;\n    }\n</style>\n<table border=\"1\" class=\"dataframe\">\n  <thead>\n    <tr>\n      <th></th>\n      <th>state</th>\n      <th colspan=\"2\" halign=\"left\">Ohio</th>\n      <th>Colorado</th>\n    </tr>\n    <tr>\n      <th></th>\n      <th>color</th>\n      <th>Green</th>\n      <th>Red</th>\n      <th>Green</th>\n    </tr>\n    <tr>\n      <th>key1</th>\n      <th>key2</th>\n      <th></th>\n      <th></th>\n      <th></th>\n    </tr>\n  </thead>\n  <tbody>\n    <tr>\n      <th>a</th>\n      <th>1</th>\n      <td>0</td>\n      <td>1</td>\n      <td>2</td>\n    </tr>\n    <tr>\n      <th>b</th>\n      <th>1</th>\n      <td>6</td>\n      <td>7</td>\n      <td>8</td>\n    </tr>\n    <tr>\n      <th>a</th>\n      <th>2</th>\n      <td>3</td>\n      <td>4</td>\n      <td>5</td>\n    </tr>\n    <tr>\n      <th>b</th>\n      <th>2</th>\n      <td>9</td>\n      <td>10</td>\n      <td>11</td>\n    </tr>\n  </tbody>\n</table>\n</div>"
     },
     "execution_count": 145,
     "metadata": {},
     "output_type": "execute_result"
    }
   ]
  },
  {
   "cell_type": "markdown",
   "metadata": {
    "id": "19Wv8aXtc3YS"
   },
   "source": [
    "So swap the key and sort will make the hierarchy better\n",
    "```python\n",
    "frame.swaplevel(0,1).sort_index(level=0)\n",
    "```"
   ]
  },
  {
   "cell_type": "code",
   "source": [
    "frame.swaplevel(0,1).sort_index(level=0)"
   ],
   "metadata": {
    "colab": {
     "base_uri": "https://localhost:8080/",
     "height": 237
    },
    "id": "VlSJH0ReV-tl",
    "outputId": "8be04c1f-20d2-40a1-cdda-4b58790a0f85",
    "ExecuteTime": {
     "end_time": "2023-11-01T07:39:58.788706800Z",
     "start_time": "2023-11-01T07:39:58.756656600Z"
    }
   },
   "execution_count": 146,
   "outputs": [
    {
     "data": {
      "text/plain": "state      Ohio     Colorado\ncolor     Green Red    Green\nkey2 key1                   \n1    a        0   1        2\n     b        6   7        8\n2    a        3   4        5\n     b        9  10       11",
      "text/html": "<div>\n<style scoped>\n    .dataframe tbody tr th:only-of-type {\n        vertical-align: middle;\n    }\n\n    .dataframe tbody tr th {\n        vertical-align: top;\n    }\n\n    .dataframe thead tr th {\n        text-align: left;\n    }\n\n    .dataframe thead tr:last-of-type th {\n        text-align: right;\n    }\n</style>\n<table border=\"1\" class=\"dataframe\">\n  <thead>\n    <tr>\n      <th></th>\n      <th>state</th>\n      <th colspan=\"2\" halign=\"left\">Ohio</th>\n      <th>Colorado</th>\n    </tr>\n    <tr>\n      <th></th>\n      <th>color</th>\n      <th>Green</th>\n      <th>Red</th>\n      <th>Green</th>\n    </tr>\n    <tr>\n      <th>key2</th>\n      <th>key1</th>\n      <th></th>\n      <th></th>\n      <th></th>\n    </tr>\n  </thead>\n  <tbody>\n    <tr>\n      <th rowspan=\"2\" valign=\"top\">1</th>\n      <th>a</th>\n      <td>0</td>\n      <td>1</td>\n      <td>2</td>\n    </tr>\n    <tr>\n      <th>b</th>\n      <td>6</td>\n      <td>7</td>\n      <td>8</td>\n    </tr>\n    <tr>\n      <th rowspan=\"2\" valign=\"top\">2</th>\n      <th>a</th>\n      <td>3</td>\n      <td>4</td>\n      <td>5</td>\n    </tr>\n    <tr>\n      <th>b</th>\n      <td>9</td>\n      <td>10</td>\n      <td>11</td>\n    </tr>\n  </tbody>\n</table>\n</div>"
     },
     "execution_count": 146,
     "metadata": {},
     "output_type": "execute_result"
    }
   ]
  },
  {
   "cell_type": "markdown",
   "source": [
    "The `sort_index` method can be used to sort the index\n",
    "```python\n",
    "frame.swaplevel(0,1).sort_index(level=0)\n",
    "```"
   ],
   "metadata": {
    "collapsed": false
   }
  },
  {
   "cell_type": "code",
   "metadata": {
    "id": "Og3_js0NdJgB",
    "colab": {
     "base_uri": "https://localhost:8080/",
     "height": 237
    },
    "outputId": "f090d52b-0418-42f9-9a60-0ab7851748ea",
    "ExecuteTime": {
     "end_time": "2023-11-01T07:40:05.046266200Z",
     "start_time": "2023-11-01T07:40:05.014830Z"
    }
   },
   "source": [
    "frame.swaplevel(0,1).sort_index(level=0)"
   ],
   "execution_count": 147,
   "outputs": [
    {
     "data": {
      "text/plain": "state      Ohio     Colorado\ncolor     Green Red    Green\nkey2 key1                   \n1    a        0   1        2\n     b        6   7        8\n2    a        3   4        5\n     b        9  10       11",
      "text/html": "<div>\n<style scoped>\n    .dataframe tbody tr th:only-of-type {\n        vertical-align: middle;\n    }\n\n    .dataframe tbody tr th {\n        vertical-align: top;\n    }\n\n    .dataframe thead tr th {\n        text-align: left;\n    }\n\n    .dataframe thead tr:last-of-type th {\n        text-align: right;\n    }\n</style>\n<table border=\"1\" class=\"dataframe\">\n  <thead>\n    <tr>\n      <th></th>\n      <th>state</th>\n      <th colspan=\"2\" halign=\"left\">Ohio</th>\n      <th>Colorado</th>\n    </tr>\n    <tr>\n      <th></th>\n      <th>color</th>\n      <th>Green</th>\n      <th>Red</th>\n      <th>Green</th>\n    </tr>\n    <tr>\n      <th>key2</th>\n      <th>key1</th>\n      <th></th>\n      <th></th>\n      <th></th>\n    </tr>\n  </thead>\n  <tbody>\n    <tr>\n      <th rowspan=\"2\" valign=\"top\">1</th>\n      <th>a</th>\n      <td>0</td>\n      <td>1</td>\n      <td>2</td>\n    </tr>\n    <tr>\n      <th>b</th>\n      <td>6</td>\n      <td>7</td>\n      <td>8</td>\n    </tr>\n    <tr>\n      <th rowspan=\"2\" valign=\"top\">2</th>\n      <th>a</th>\n      <td>3</td>\n      <td>4</td>\n      <td>5</td>\n    </tr>\n    <tr>\n      <th>b</th>\n      <td>9</td>\n      <td>10</td>\n      <td>11</td>\n    </tr>\n  </tbody>\n</table>\n</div>"
     },
     "execution_count": 147,
     "metadata": {},
     "output_type": "execute_result"
    }
   ]
  },
  {
   "cell_type": "markdown",
   "metadata": {
    "id": "pMDjpHuydQZQ"
   },
   "source": [
    "## Summary Statistics by Level\n",
    "---\n",
    "\n",
    "The statistic data can be calculated with the specific level\n",
    "For example, if we want to calculate on the rows data"
   ]
  },
  {
   "cell_type": "code",
   "metadata": {
    "id": "wL-htNIfQhZj",
    "colab": {
     "base_uri": "https://localhost:8080/",
     "height": 237
    },
    "outputId": "964a9396-e128-4a61-b1d4-306fc7eaa135",
    "ExecuteTime": {
     "end_time": "2023-11-01T07:40:19.008998600Z",
     "start_time": "2023-11-01T07:40:18.930440500Z"
    }
   },
   "source": [
    "frame"
   ],
   "execution_count": 148,
   "outputs": [
    {
     "data": {
      "text/plain": "state      Ohio     Colorado\ncolor     Green Red    Green\nkey1 key2                   \na    1        0   1        2\n     2        3   4        5\nb    1        6   7        8\n     2        9  10       11",
      "text/html": "<div>\n<style scoped>\n    .dataframe tbody tr th:only-of-type {\n        vertical-align: middle;\n    }\n\n    .dataframe tbody tr th {\n        vertical-align: top;\n    }\n\n    .dataframe thead tr th {\n        text-align: left;\n    }\n\n    .dataframe thead tr:last-of-type th {\n        text-align: right;\n    }\n</style>\n<table border=\"1\" class=\"dataframe\">\n  <thead>\n    <tr>\n      <th></th>\n      <th>state</th>\n      <th colspan=\"2\" halign=\"left\">Ohio</th>\n      <th>Colorado</th>\n    </tr>\n    <tr>\n      <th></th>\n      <th>color</th>\n      <th>Green</th>\n      <th>Red</th>\n      <th>Green</th>\n    </tr>\n    <tr>\n      <th>key1</th>\n      <th>key2</th>\n      <th></th>\n      <th></th>\n      <th></th>\n    </tr>\n  </thead>\n  <tbody>\n    <tr>\n      <th rowspan=\"2\" valign=\"top\">a</th>\n      <th>1</th>\n      <td>0</td>\n      <td>1</td>\n      <td>2</td>\n    </tr>\n    <tr>\n      <th>2</th>\n      <td>3</td>\n      <td>4</td>\n      <td>5</td>\n    </tr>\n    <tr>\n      <th rowspan=\"2\" valign=\"top\">b</th>\n      <th>1</th>\n      <td>6</td>\n      <td>7</td>\n      <td>8</td>\n    </tr>\n    <tr>\n      <th>2</th>\n      <td>9</td>\n      <td>10</td>\n      <td>11</td>\n    </tr>\n  </tbody>\n</table>\n</div>"
     },
     "execution_count": 148,
     "metadata": {},
     "output_type": "execute_result"
    }
   ]
  },
  {
   "cell_type": "markdown",
   "source": [
    "We can calculate the sum of the data by the level\n",
    "```python\n",
    "frame.sum()\n",
    "```"
   ],
   "metadata": {
    "collapsed": false
   }
  },
  {
   "cell_type": "code",
   "metadata": {
    "id": "5B3Ck9a10j4J",
    "colab": {
     "base_uri": "https://localhost:8080/"
    },
    "outputId": "f64de1c1-e307-4083-ee5b-6be3c8082f7f",
    "ExecuteTime": {
     "end_time": "2023-11-01T07:40:23.656259200Z",
     "start_time": "2023-11-01T07:40:23.624547300Z"
    }
   },
   "source": [
    "frame.sum()"
   ],
   "execution_count": 149,
   "outputs": [
    {
     "data": {
      "text/plain": "state     color\nOhio      Green    18\n          Red      22\nColorado  Green    26\ndtype: int64"
     },
     "execution_count": 149,
     "metadata": {},
     "output_type": "execute_result"
    }
   ]
  },
  {
   "cell_type": "markdown",
   "source": [
    "then try\n",
    "```python\n",
    "frame.groupby(['key2']).sum()\n",
    "```"
   ],
   "metadata": {
    "collapsed": false
   }
  },
  {
   "cell_type": "code",
   "metadata": {
    "id": "w5aakRcoddFi",
    "colab": {
     "base_uri": "https://localhost:8080/",
     "height": 229
    },
    "outputId": "dc2de841-3a96-4623-9df0-d4f1d8453fc1",
    "ExecuteTime": {
     "end_time": "2023-11-01T07:40:29.821474600Z",
     "start_time": "2023-11-01T07:40:29.790083500Z"
    }
   },
   "source": [
    "frame.groupby(['key2']).sum()"
   ],
   "execution_count": 150,
   "outputs": [
    {
     "data": {
      "text/plain": "state  Ohio     Colorado\ncolor Green Red    Green\nkey2                    \n1         6   8       10\n2        12  14       16",
      "text/html": "<div>\n<style scoped>\n    .dataframe tbody tr th:only-of-type {\n        vertical-align: middle;\n    }\n\n    .dataframe tbody tr th {\n        vertical-align: top;\n    }\n\n    .dataframe thead tr th {\n        text-align: left;\n    }\n\n    .dataframe thead tr:last-of-type th {\n        text-align: right;\n    }\n</style>\n<table border=\"1\" class=\"dataframe\">\n  <thead>\n    <tr>\n      <th>state</th>\n      <th colspan=\"2\" halign=\"left\">Ohio</th>\n      <th>Colorado</th>\n    </tr>\n    <tr>\n      <th>color</th>\n      <th>Green</th>\n      <th>Red</th>\n      <th>Green</th>\n    </tr>\n    <tr>\n      <th>key2</th>\n      <th></th>\n      <th></th>\n      <th></th>\n    </tr>\n  </thead>\n  <tbody>\n    <tr>\n      <th>1</th>\n      <td>6</td>\n      <td>8</td>\n      <td>10</td>\n    </tr>\n    <tr>\n      <th>2</th>\n      <td>12</td>\n      <td>14</td>\n      <td>16</td>\n    </tr>\n  </tbody>\n</table>\n</div>"
     },
     "execution_count": 150,
     "metadata": {},
     "output_type": "execute_result"
    }
   ]
  },
  {
   "cell_type": "markdown",
   "metadata": {
    "id": "9_lxit_HdmgE"
   },
   "source": [
    "Or calculate on the column-wise\n",
    "```python\n",
    "frame.sum(axis=1)\n",
    "```"
   ]
  },
  {
   "cell_type": "code",
   "execution_count": 151,
   "outputs": [
    {
     "data": {
      "text/plain": "key1  key2\na     1        3\n      2       12\nb     1       21\n      2       30\ndtype: int64"
     },
     "execution_count": 151,
     "metadata": {},
     "output_type": "execute_result"
    }
   ],
   "source": [
    "frame.sum(axis=1)"
   ],
   "metadata": {
    "collapsed": false,
    "ExecuteTime": {
     "end_time": "2023-11-01T07:40:34.309455Z",
     "start_time": "2023-11-01T07:40:34.278034300Z"
    }
   }
  },
  {
   "cell_type": "markdown",
   "source": [
    "then try\n",
    "```python\n",
    "frame.groupby(['color'],axis=1).sum()\n",
    "```"
   ],
   "metadata": {
    "collapsed": false
   }
  },
  {
   "cell_type": "code",
   "metadata": {
    "id": "qrTdICO1do4Q",
    "colab": {
     "base_uri": "https://localhost:8080/",
     "height": 261
    },
    "outputId": "201c3a6f-633b-4f56-9523-bc6b76cd6259",
    "ExecuteTime": {
     "end_time": "2023-11-01T07:40:39.867972900Z",
     "start_time": "2023-11-01T07:40:39.835970200Z"
    }
   },
   "source": [
    "frame.groupby(['color'],axis=1).sum()"
   ],
   "execution_count": 152,
   "outputs": [
    {
     "data": {
      "text/plain": "color      Green  Red\nkey1 key2            \na    1         2    1\n     2         8    4\nb    1        14    7\n     2        20   10",
      "text/html": "<div>\n<style scoped>\n    .dataframe tbody tr th:only-of-type {\n        vertical-align: middle;\n    }\n\n    .dataframe tbody tr th {\n        vertical-align: top;\n    }\n\n    .dataframe thead th {\n        text-align: right;\n    }\n</style>\n<table border=\"1\" class=\"dataframe\">\n  <thead>\n    <tr style=\"text-align: right;\">\n      <th></th>\n      <th>color</th>\n      <th>Green</th>\n      <th>Red</th>\n    </tr>\n    <tr>\n      <th>key1</th>\n      <th>key2</th>\n      <th></th>\n      <th></th>\n    </tr>\n  </thead>\n  <tbody>\n    <tr>\n      <th rowspan=\"2\" valign=\"top\">a</th>\n      <th>1</th>\n      <td>2</td>\n      <td>1</td>\n    </tr>\n    <tr>\n      <th>2</th>\n      <td>8</td>\n      <td>4</td>\n    </tr>\n    <tr>\n      <th rowspan=\"2\" valign=\"top\">b</th>\n      <th>1</th>\n      <td>14</td>\n      <td>7</td>\n    </tr>\n    <tr>\n      <th>2</th>\n      <td>20</td>\n      <td>10</td>\n    </tr>\n  </tbody>\n</table>\n</div>"
     },
     "execution_count": 152,
     "metadata": {},
     "output_type": "execute_result"
    }
   ]
  },
  {
   "cell_type": "markdown",
   "metadata": {
    "id": "MBeUAN24d1fO"
   },
   "source": [
    "## Indexing with DataFrame's Column\n",
    "\n",
    "\n",
    "some time we want to use the row index as the columns\n",
    "```python\n",
    "frame = pd.DataFrame({'a': range(7), 'b': range(7, 0, -1),\n",
    "                      'c': ['one', 'one', 'one', 'two', 'two',\n",
    "                            'two', 'two'],\n",
    "                      'd': [0, 1, 2, 0, 1, 2, 3]})\n",
    "frame\n",
    "```"
   ]
  },
  {
   "cell_type": "code",
   "metadata": {
    "id": "9FCdXwSxeDZf",
    "colab": {
     "base_uri": "https://localhost:8080/",
     "height": 269
    },
    "outputId": "12046538-030f-4849-c13e-448a37dc61db",
    "ExecuteTime": {
     "end_time": "2023-11-01T07:40:43.630201400Z",
     "start_time": "2023-11-01T07:40:43.616943Z"
    }
   },
   "source": [
    "frame = pd.DataFrame({'a': range(7), 'b': range(7, 0, -1),\n",
    "                      'c': ['one', 'one', 'one', 'two', 'two',\n",
    "                            'two', 'two'],\n",
    "                      'd': [0, 1, 2, 0, 1, 2, 3]})\n",
    "frame"
   ],
   "execution_count": 153,
   "outputs": [
    {
     "data": {
      "text/plain": "   a  b    c  d\n0  0  7  one  0\n1  1  6  one  1\n2  2  5  one  2\n3  3  4  two  0\n4  4  3  two  1\n5  5  2  two  2\n6  6  1  two  3",
      "text/html": "<div>\n<style scoped>\n    .dataframe tbody tr th:only-of-type {\n        vertical-align: middle;\n    }\n\n    .dataframe tbody tr th {\n        vertical-align: top;\n    }\n\n    .dataframe thead th {\n        text-align: right;\n    }\n</style>\n<table border=\"1\" class=\"dataframe\">\n  <thead>\n    <tr style=\"text-align: right;\">\n      <th></th>\n      <th>a</th>\n      <th>b</th>\n      <th>c</th>\n      <th>d</th>\n    </tr>\n  </thead>\n  <tbody>\n    <tr>\n      <th>0</th>\n      <td>0</td>\n      <td>7</td>\n      <td>one</td>\n      <td>0</td>\n    </tr>\n    <tr>\n      <th>1</th>\n      <td>1</td>\n      <td>6</td>\n      <td>one</td>\n      <td>1</td>\n    </tr>\n    <tr>\n      <th>2</th>\n      <td>2</td>\n      <td>5</td>\n      <td>one</td>\n      <td>2</td>\n    </tr>\n    <tr>\n      <th>3</th>\n      <td>3</td>\n      <td>4</td>\n      <td>two</td>\n      <td>0</td>\n    </tr>\n    <tr>\n      <th>4</th>\n      <td>4</td>\n      <td>3</td>\n      <td>two</td>\n      <td>1</td>\n    </tr>\n    <tr>\n      <th>5</th>\n      <td>5</td>\n      <td>2</td>\n      <td>two</td>\n      <td>2</td>\n    </tr>\n    <tr>\n      <th>6</th>\n      <td>6</td>\n      <td>1</td>\n      <td>two</td>\n      <td>3</td>\n    </tr>\n  </tbody>\n</table>\n</div>"
     },
     "execution_count": 153,
     "metadata": {},
     "output_type": "execute_result"
    }
   ]
  },
  {
   "cell_type": "markdown",
   "metadata": {
    "id": "e5pn53joeN9I"
   },
   "source": [
    "We can create a new data frame using some columns as index\n",
    "\n",
    "```python\n",
    "frame2 = frame.set_index(['c','d'])\n",
    "frame2\n",
    "```\n"
   ]
  },
  {
   "cell_type": "code",
   "metadata": {
    "id": "j4VZfURdeUUR",
    "colab": {
     "base_uri": "https://localhost:8080/",
     "height": 300
    },
    "outputId": "128d0357-42e8-4b51-fd44-d04bcd5954c6",
    "ExecuteTime": {
     "end_time": "2023-11-01T07:40:48.712495300Z",
     "start_time": "2023-11-01T07:40:48.680884700Z"
    }
   },
   "source": [
    "frame2 = frame.set_index(['c','d'])\n",
    "frame2"
   ],
   "execution_count": 154,
   "outputs": [
    {
     "data": {
      "text/plain": "       a  b\nc   d      \none 0  0  7\n    1  1  6\n    2  2  5\ntwo 0  3  4\n    1  4  3\n    2  5  2\n    3  6  1",
      "text/html": "<div>\n<style scoped>\n    .dataframe tbody tr th:only-of-type {\n        vertical-align: middle;\n    }\n\n    .dataframe tbody tr th {\n        vertical-align: top;\n    }\n\n    .dataframe thead th {\n        text-align: right;\n    }\n</style>\n<table border=\"1\" class=\"dataframe\">\n  <thead>\n    <tr style=\"text-align: right;\">\n      <th></th>\n      <th></th>\n      <th>a</th>\n      <th>b</th>\n    </tr>\n    <tr>\n      <th>c</th>\n      <th>d</th>\n      <th></th>\n      <th></th>\n    </tr>\n  </thead>\n  <tbody>\n    <tr>\n      <th rowspan=\"3\" valign=\"top\">one</th>\n      <th>0</th>\n      <td>0</td>\n      <td>7</td>\n    </tr>\n    <tr>\n      <th>1</th>\n      <td>1</td>\n      <td>6</td>\n    </tr>\n    <tr>\n      <th>2</th>\n      <td>2</td>\n      <td>5</td>\n    </tr>\n    <tr>\n      <th rowspan=\"4\" valign=\"top\">two</th>\n      <th>0</th>\n      <td>3</td>\n      <td>4</td>\n    </tr>\n    <tr>\n      <th>1</th>\n      <td>4</td>\n      <td>3</td>\n    </tr>\n    <tr>\n      <th>2</th>\n      <td>5</td>\n      <td>2</td>\n    </tr>\n    <tr>\n      <th>3</th>\n      <td>6</td>\n      <td>1</td>\n    </tr>\n  </tbody>\n</table>\n</div>"
     },
     "execution_count": 154,
     "metadata": {},
     "output_type": "execute_result"
    }
   ]
  },
  {
   "cell_type": "markdown",
   "metadata": {
    "id": "tcuHhjzdelgo"
   },
   "source": [
    "By default, the column is removed from the source data frame. However, if we do not want to remove the column, the `drop` parameter is passed\n",
    "```python\n",
    "frame.set_index(['c','d'],drop = False)\n",
    "```"
   ]
  },
  {
   "cell_type": "code",
   "metadata": {
    "id": "T0u7NOAzewY3",
    "colab": {
     "base_uri": "https://localhost:8080/",
     "height": 300
    },
    "outputId": "4df8e136-cf47-4423-bc5e-9932d4676340",
    "ExecuteTime": {
     "end_time": "2023-11-01T07:40:54.088379400Z",
     "start_time": "2023-11-01T07:40:54.056498900Z"
    }
   },
   "source": [
    "frame.set_index(['c','d'],drop = False)"
   ],
   "execution_count": 155,
   "outputs": [
    {
     "data": {
      "text/plain": "       a  b    c  d\nc   d              \none 0  0  7  one  0\n    1  1  6  one  1\n    2  2  5  one  2\ntwo 0  3  4  two  0\n    1  4  3  two  1\n    2  5  2  two  2\n    3  6  1  two  3",
      "text/html": "<div>\n<style scoped>\n    .dataframe tbody tr th:only-of-type {\n        vertical-align: middle;\n    }\n\n    .dataframe tbody tr th {\n        vertical-align: top;\n    }\n\n    .dataframe thead th {\n        text-align: right;\n    }\n</style>\n<table border=\"1\" class=\"dataframe\">\n  <thead>\n    <tr style=\"text-align: right;\">\n      <th></th>\n      <th></th>\n      <th>a</th>\n      <th>b</th>\n      <th>c</th>\n      <th>d</th>\n    </tr>\n    <tr>\n      <th>c</th>\n      <th>d</th>\n      <th></th>\n      <th></th>\n      <th></th>\n      <th></th>\n    </tr>\n  </thead>\n  <tbody>\n    <tr>\n      <th rowspan=\"3\" valign=\"top\">one</th>\n      <th>0</th>\n      <td>0</td>\n      <td>7</td>\n      <td>one</td>\n      <td>0</td>\n    </tr>\n    <tr>\n      <th>1</th>\n      <td>1</td>\n      <td>6</td>\n      <td>one</td>\n      <td>1</td>\n    </tr>\n    <tr>\n      <th>2</th>\n      <td>2</td>\n      <td>5</td>\n      <td>one</td>\n      <td>2</td>\n    </tr>\n    <tr>\n      <th rowspan=\"4\" valign=\"top\">two</th>\n      <th>0</th>\n      <td>3</td>\n      <td>4</td>\n      <td>two</td>\n      <td>0</td>\n    </tr>\n    <tr>\n      <th>1</th>\n      <td>4</td>\n      <td>3</td>\n      <td>two</td>\n      <td>1</td>\n    </tr>\n    <tr>\n      <th>2</th>\n      <td>5</td>\n      <td>2</td>\n      <td>two</td>\n      <td>2</td>\n    </tr>\n    <tr>\n      <th>3</th>\n      <td>6</td>\n      <td>1</td>\n      <td>two</td>\n      <td>3</td>\n    </tr>\n  </tbody>\n</table>\n</div>"
     },
     "execution_count": 155,
     "metadata": {},
     "output_type": "execute_result"
    }
   ]
  },
  {
   "cell_type": "markdown",
   "metadata": {
    "id": "tmjSFr8NHAgG"
   },
   "source": [
    "### Work\n",
    "\n",
    "\n",
    "\n",
    "From the given [./file/car_details.xlsx](./file/car_details.xlsx)\n",
    "\n",
    "provided the hierarchy data frame which carbrand, carmodel, and the model_name TH is a key indexes\n"
   ]
  },
  {
   "cell_type": "code",
   "execution_count": 156,
   "outputs": [
    {
     "data": {
      "text/plain": "        serialNo car_brand      car_model   model_name_th  \\\n0     IC-0000001      AUDI             Q5            คิว5   \n1     IC-0000002       BMW       SERIES 5        ซีรี่ย์5   \n2     IC-0000003       BMW       SERIES 5        ซีรี่ย์5   \n3     JA-0000001       BMW       SERIES 5        ซีรี่ย์5   \n4     IC-0000006       BMW             X1         เอ็กซ์1   \n...          ...       ...            ...             ...   \n4724         NaN    TOYOTA     HILUX VIGO   ไฮลักซ์ วีโก้   \n4725         NaN    TOYOTA     HILUX VIGO   ไฮลักซ์ วีโก้   \n4726         NaN    TOYOTA  COROLLA ALTIS  โคโรล่า อัลติส   \n4727         NaN    TOYOTA     HILUX REVO   ไฮลักซ์ รีโว่   \n4728         NaN    TOYOTA       FORTUNER    ฟอร์จูนเนอร์   \n\n                                             nickname             item_name  \\\n0                                     โฉมปี 2008-2016  ไส้กรองน้ำมันเครื่อง   \n1                               โฉมปี 2003-2010 (E60)  ไส้กรองน้ำมันเครื่อง   \n2                               โฉมปี 2010-2017 (F10)  ไส้กรองน้ำมันเครื่อง   \n3                               โฉมปี 2010-2017 (F10)            ใบปัดน้ำฝน   \n4                               โฉมปี 2009-2015 (E84)  ไส้กรองน้ำมันเครื่อง   \n...                                               ...                   ...   \n4724                       โฉมปี 2003-2016 (Vigo 2WD)               โช้คอัพ   \n4725                       โฉมปี 2003-2016 (Vigo 2WD)               โช้คอัพ   \n4726                         โฉมปี 2008-2012 (ZZE141)               โช้คอัพ   \n4727  โฉมปี 2016-2018 (Revo 4WD และ Pre-Runner ยกสูง)               โช้คอัพ   \n4728                         โฉมปี 2015-2019 (KUN160)               โช้คอัพ   \n\n     fitment_detail standard_price  \n0                 -            NaN  \n1                 -            NaN  \n2                 -            NaN  \n3                 -            NaN  \n4                 -            NaN  \n...             ...            ...  \n4724           หน้า           1250  \n4725           หน้า           1250  \n4726           หลัง           1440  \n4727           หน้า           1580  \n4728           หน้า           1580  \n\n[4729 rows x 8 columns]",
      "text/html": "<div>\n<style scoped>\n    .dataframe tbody tr th:only-of-type {\n        vertical-align: middle;\n    }\n\n    .dataframe tbody tr th {\n        vertical-align: top;\n    }\n\n    .dataframe thead th {\n        text-align: right;\n    }\n</style>\n<table border=\"1\" class=\"dataframe\">\n  <thead>\n    <tr style=\"text-align: right;\">\n      <th></th>\n      <th>serialNo</th>\n      <th>car_brand</th>\n      <th>car_model</th>\n      <th>model_name_th</th>\n      <th>nickname</th>\n      <th>item_name</th>\n      <th>fitment_detail</th>\n      <th>standard_price</th>\n    </tr>\n  </thead>\n  <tbody>\n    <tr>\n      <th>0</th>\n      <td>IC-0000001</td>\n      <td>AUDI</td>\n      <td>Q5</td>\n      <td>คิว5</td>\n      <td>โฉมปี 2008-2016</td>\n      <td>ไส้กรองน้ำมันเครื่อง</td>\n      <td>-</td>\n      <td>NaN</td>\n    </tr>\n    <tr>\n      <th>1</th>\n      <td>IC-0000002</td>\n      <td>BMW</td>\n      <td>SERIES 5</td>\n      <td>ซีรี่ย์5</td>\n      <td>โฉมปี 2003-2010 (E60)</td>\n      <td>ไส้กรองน้ำมันเครื่อง</td>\n      <td>-</td>\n      <td>NaN</td>\n    </tr>\n    <tr>\n      <th>2</th>\n      <td>IC-0000003</td>\n      <td>BMW</td>\n      <td>SERIES 5</td>\n      <td>ซีรี่ย์5</td>\n      <td>โฉมปี 2010-2017 (F10)</td>\n      <td>ไส้กรองน้ำมันเครื่อง</td>\n      <td>-</td>\n      <td>NaN</td>\n    </tr>\n    <tr>\n      <th>3</th>\n      <td>JA-0000001</td>\n      <td>BMW</td>\n      <td>SERIES 5</td>\n      <td>ซีรี่ย์5</td>\n      <td>โฉมปี 2010-2017 (F10)</td>\n      <td>ใบปัดน้ำฝน</td>\n      <td>-</td>\n      <td>NaN</td>\n    </tr>\n    <tr>\n      <th>4</th>\n      <td>IC-0000006</td>\n      <td>BMW</td>\n      <td>X1</td>\n      <td>เอ็กซ์1</td>\n      <td>โฉมปี 2009-2015 (E84)</td>\n      <td>ไส้กรองน้ำมันเครื่อง</td>\n      <td>-</td>\n      <td>NaN</td>\n    </tr>\n    <tr>\n      <th>...</th>\n      <td>...</td>\n      <td>...</td>\n      <td>...</td>\n      <td>...</td>\n      <td>...</td>\n      <td>...</td>\n      <td>...</td>\n      <td>...</td>\n    </tr>\n    <tr>\n      <th>4724</th>\n      <td>NaN</td>\n      <td>TOYOTA</td>\n      <td>HILUX VIGO</td>\n      <td>ไฮลักซ์ วีโก้</td>\n      <td>โฉมปี 2003-2016 (Vigo 2WD)</td>\n      <td>โช้คอัพ</td>\n      <td>หน้า</td>\n      <td>1250</td>\n    </tr>\n    <tr>\n      <th>4725</th>\n      <td>NaN</td>\n      <td>TOYOTA</td>\n      <td>HILUX VIGO</td>\n      <td>ไฮลักซ์ วีโก้</td>\n      <td>โฉมปี 2003-2016 (Vigo 2WD)</td>\n      <td>โช้คอัพ</td>\n      <td>หน้า</td>\n      <td>1250</td>\n    </tr>\n    <tr>\n      <th>4726</th>\n      <td>NaN</td>\n      <td>TOYOTA</td>\n      <td>COROLLA ALTIS</td>\n      <td>โคโรล่า อัลติส</td>\n      <td>โฉมปี 2008-2012 (ZZE141)</td>\n      <td>โช้คอัพ</td>\n      <td>หลัง</td>\n      <td>1440</td>\n    </tr>\n    <tr>\n      <th>4727</th>\n      <td>NaN</td>\n      <td>TOYOTA</td>\n      <td>HILUX REVO</td>\n      <td>ไฮลักซ์ รีโว่</td>\n      <td>โฉมปี 2016-2018 (Revo 4WD และ Pre-Runner ยกสูง)</td>\n      <td>โช้คอัพ</td>\n      <td>หน้า</td>\n      <td>1580</td>\n    </tr>\n    <tr>\n      <th>4728</th>\n      <td>NaN</td>\n      <td>TOYOTA</td>\n      <td>FORTUNER</td>\n      <td>ฟอร์จูนเนอร์</td>\n      <td>โฉมปี 2015-2019 (KUN160)</td>\n      <td>โช้คอัพ</td>\n      <td>หน้า</td>\n      <td>1580</td>\n    </tr>\n  </tbody>\n</table>\n<p>4729 rows × 8 columns</p>\n</div>"
     },
     "execution_count": 156,
     "metadata": {},
     "output_type": "execute_result"
    }
   ],
   "source": [
    "car = pd.read_excel('file/cardetails.xlsx',skiprows=1)\n",
    "car"
   ],
   "metadata": {
    "collapsed": false,
    "ExecuteTime": {
     "end_time": "2023-11-01T07:41:17.298081900Z",
     "start_time": "2023-11-01T07:41:16.173719400Z"
    }
   }
  },
  {
   "cell_type": "markdown",
   "metadata": {
    "id": "UYP5XkAjKuDe"
   },
   "source": [
    "Then try to find the average standard price for  each car brand, ignore the `NA` value"
   ]
  },
  {
   "cell_type": "code",
   "metadata": {
    "id": "Vdg-7jkhK1vG",
    "colab": {
     "base_uri": "https://localhost:8080/",
     "height": 535
    },
    "outputId": "f86812ac-6856-48ed-d5cc-fada58fcc262",
    "ExecuteTime": {
     "end_time": "2023-11-01T07:41:37.375958700Z",
     "start_time": "2023-11-01T07:41:36.512027300Z"
    }
   },
   "source": [
    "car2 = pd.read_excel('file/cardetails.xlsx',skiprows=1,thousands=',')\n",
    "car3 = car.set_index(['car_brand', 'car_model', 'model_name_th'])\n",
    "car3 = car2[car2['standard_price'].notnull()]\n",
    "car3.head(20)"
   ],
   "execution_count": 157,
   "outputs": [
    {
     "data": {
      "text/plain": "      serialNo      car_brand       car_model  model_name_th  \\\n6   AA-0000071            BMW        SERIES 3       ซีรี่ย์3   \n7   AA-0000139            BMW        SERIES 3       ซีรี่ย์3   \n8   AC-0000091            BMW        SERIES 3       ซีรี่ย์3   \n9   AA-0000072            BMW        SERIES 3       ซีรี่ย์3   \n10  AA-0000129            BMW        SERIES 3       ซีรี่ย์3   \n12  AA-0000075  MERCEDES-BENZ  E-CLASS , E200  อีคลาส, อี200   \n13  AL-0000003  MERCEDES-BENZ  E-CLASS , E200  อีคลาส, อี200   \n14  DF-0700316  MERCEDES-BENZ  E-CLASS , E200  อีคลาส, อี200   \n16  AL-0000004  MERCEDES-BENZ   E-CLASS, E200  อีคลาส, อี200   \n17  AA-0000068  MERCEDES-BENZ   E-CLASS, E200  อีคลาส, อี200   \n18  AA-0000070  MERCEDES-BENZ   E-CLASS, E200  อีคลาส, อี200   \n19  AA-0000069  MERCEDES-BENZ   E-CLASS, E200  อีคลาส, อี200   \n22  AL-0000001  MERCEDES-BENZ          CLA250     ซีแอลเอ250   \n23  AA-0000007  MERCEDES-BENZ          CLA250     ซีแอลเอ250   \n24  AA-0000003  MERCEDES-BENZ          CLA250     ซีแอลเอ250   \n25  AC-0000002  MERCEDES-BENZ          CLA250     ซีแอลเอ250   \n26  AC-0000001  MERCEDES-BENZ          CLA250     ซีแอลเอ250   \n28  AA-0000006  MERCEDES-BENZ   C-CLASS, C180  ซีคลาส, ซี180   \n30  EB-0300001  MERCEDES-BENZ   C-CLASS, C180  ซีคลาส, ซี180   \n31  Z-03500001  MERCEDES-BENZ   C-CLASS, C180  ซีคลาส, ซี180   \n\n                  nickname          item_name fitment_detail  standard_price  \n6    โฉมปี 1995-1998 (E36)         ผ้าดิสเบรค           หลัง          1300.0  \n7    โฉมปี 1995-1998 (E36)         ผ้าดิสเบรค           หน้า          1300.0  \n8    โฉมปี 1995-1998 (E36)         จานดิสเบรค           หน้า          1300.0  \n9    โฉมปี 1999-2006 (E46)         ผ้าดิสเบรค           หลัง          1500.0  \n10   โฉมปี 1999-2006 (E46)         ผ้าดิสเบรค           หน้า          1600.0  \n12  โฉมปี 2003-2009 (W211)         ผ้าดิสเบรค           หน้า          1900.0  \n13  โฉมปี 2003-2009 (W211)  สายไฟเตือนผ้าเบรค              -           250.0  \n14  โฉมปี 2003-2009 (W211)     ลูกหมากกันโคลง           หน้า           850.0  \n16  โฉมปี 2010-2016 (W212)  สายไฟเตือนผ้าเบรค              -           250.0  \n17  โฉมปี 2010-2016 (W212)         ผ้าดิสเบรค              -          1800.0  \n18  โฉมปี 2010-2016 (W212)         ผ้าดิสเบรค           หน้า          1650.0  \n19  โฉมปี 2010-2016 (W212)         ผ้าดิสเบรค           หลัง          1100.0  \n22     โฉมปี 2013-ปัจจุบัน  สายไฟเตือนผ้าเบรค              -           400.0  \n23     โฉมปี 2013-ปัจจุบัน         ผ้าดิสเบรค           หน้า          3400.0  \n24     โฉมปี 2013-ปัจจุบัน         ผ้าดิสเบรค           หลัง          3400.0  \n25     โฉมปี 2013-ปัจจุบัน         จานดิสเบรค           หน้า          5800.0  \n26     โฉมปี 2013-ปัจจุบัน         จานดิสเบรค           หลัง          3300.0  \n28  โฉมปี 2000-2007 (W203)         ผ้าดิสเบรค           หน้า          3400.0  \n30  โฉมปี 2000-2007 (W203)              คอน้ำ              -           700.0  \n31  โฉมปี 2000-2007 (W203)     สายไฟเตือนเบรค              -           250.0  ",
      "text/html": "<div>\n<style scoped>\n    .dataframe tbody tr th:only-of-type {\n        vertical-align: middle;\n    }\n\n    .dataframe tbody tr th {\n        vertical-align: top;\n    }\n\n    .dataframe thead th {\n        text-align: right;\n    }\n</style>\n<table border=\"1\" class=\"dataframe\">\n  <thead>\n    <tr style=\"text-align: right;\">\n      <th></th>\n      <th>serialNo</th>\n      <th>car_brand</th>\n      <th>car_model</th>\n      <th>model_name_th</th>\n      <th>nickname</th>\n      <th>item_name</th>\n      <th>fitment_detail</th>\n      <th>standard_price</th>\n    </tr>\n  </thead>\n  <tbody>\n    <tr>\n      <th>6</th>\n      <td>AA-0000071</td>\n      <td>BMW</td>\n      <td>SERIES 3</td>\n      <td>ซีรี่ย์3</td>\n      <td>โฉมปี 1995-1998 (E36)</td>\n      <td>ผ้าดิสเบรค</td>\n      <td>หลัง</td>\n      <td>1300.0</td>\n    </tr>\n    <tr>\n      <th>7</th>\n      <td>AA-0000139</td>\n      <td>BMW</td>\n      <td>SERIES 3</td>\n      <td>ซีรี่ย์3</td>\n      <td>โฉมปี 1995-1998 (E36)</td>\n      <td>ผ้าดิสเบรค</td>\n      <td>หน้า</td>\n      <td>1300.0</td>\n    </tr>\n    <tr>\n      <th>8</th>\n      <td>AC-0000091</td>\n      <td>BMW</td>\n      <td>SERIES 3</td>\n      <td>ซีรี่ย์3</td>\n      <td>โฉมปี 1995-1998 (E36)</td>\n      <td>จานดิสเบรค</td>\n      <td>หน้า</td>\n      <td>1300.0</td>\n    </tr>\n    <tr>\n      <th>9</th>\n      <td>AA-0000072</td>\n      <td>BMW</td>\n      <td>SERIES 3</td>\n      <td>ซีรี่ย์3</td>\n      <td>โฉมปี 1999-2006 (E46)</td>\n      <td>ผ้าดิสเบรค</td>\n      <td>หลัง</td>\n      <td>1500.0</td>\n    </tr>\n    <tr>\n      <th>10</th>\n      <td>AA-0000129</td>\n      <td>BMW</td>\n      <td>SERIES 3</td>\n      <td>ซีรี่ย์3</td>\n      <td>โฉมปี 1999-2006 (E46)</td>\n      <td>ผ้าดิสเบรค</td>\n      <td>หน้า</td>\n      <td>1600.0</td>\n    </tr>\n    <tr>\n      <th>12</th>\n      <td>AA-0000075</td>\n      <td>MERCEDES-BENZ</td>\n      <td>E-CLASS , E200</td>\n      <td>อีคลาส, อี200</td>\n      <td>โฉมปี 2003-2009 (W211)</td>\n      <td>ผ้าดิสเบรค</td>\n      <td>หน้า</td>\n      <td>1900.0</td>\n    </tr>\n    <tr>\n      <th>13</th>\n      <td>AL-0000003</td>\n      <td>MERCEDES-BENZ</td>\n      <td>E-CLASS , E200</td>\n      <td>อีคลาส, อี200</td>\n      <td>โฉมปี 2003-2009 (W211)</td>\n      <td>สายไฟเตือนผ้าเบรค</td>\n      <td>-</td>\n      <td>250.0</td>\n    </tr>\n    <tr>\n      <th>14</th>\n      <td>DF-0700316</td>\n      <td>MERCEDES-BENZ</td>\n      <td>E-CLASS , E200</td>\n      <td>อีคลาส, อี200</td>\n      <td>โฉมปี 2003-2009 (W211)</td>\n      <td>ลูกหมากกันโคลง</td>\n      <td>หน้า</td>\n      <td>850.0</td>\n    </tr>\n    <tr>\n      <th>16</th>\n      <td>AL-0000004</td>\n      <td>MERCEDES-BENZ</td>\n      <td>E-CLASS, E200</td>\n      <td>อีคลาส, อี200</td>\n      <td>โฉมปี 2010-2016 (W212)</td>\n      <td>สายไฟเตือนผ้าเบรค</td>\n      <td>-</td>\n      <td>250.0</td>\n    </tr>\n    <tr>\n      <th>17</th>\n      <td>AA-0000068</td>\n      <td>MERCEDES-BENZ</td>\n      <td>E-CLASS, E200</td>\n      <td>อีคลาส, อี200</td>\n      <td>โฉมปี 2010-2016 (W212)</td>\n      <td>ผ้าดิสเบรค</td>\n      <td>-</td>\n      <td>1800.0</td>\n    </tr>\n    <tr>\n      <th>18</th>\n      <td>AA-0000070</td>\n      <td>MERCEDES-BENZ</td>\n      <td>E-CLASS, E200</td>\n      <td>อีคลาส, อี200</td>\n      <td>โฉมปี 2010-2016 (W212)</td>\n      <td>ผ้าดิสเบรค</td>\n      <td>หน้า</td>\n      <td>1650.0</td>\n    </tr>\n    <tr>\n      <th>19</th>\n      <td>AA-0000069</td>\n      <td>MERCEDES-BENZ</td>\n      <td>E-CLASS, E200</td>\n      <td>อีคลาส, อี200</td>\n      <td>โฉมปี 2010-2016 (W212)</td>\n      <td>ผ้าดิสเบรค</td>\n      <td>หลัง</td>\n      <td>1100.0</td>\n    </tr>\n    <tr>\n      <th>22</th>\n      <td>AL-0000001</td>\n      <td>MERCEDES-BENZ</td>\n      <td>CLA250</td>\n      <td>ซีแอลเอ250</td>\n      <td>โฉมปี 2013-ปัจจุบัน</td>\n      <td>สายไฟเตือนผ้าเบรค</td>\n      <td>-</td>\n      <td>400.0</td>\n    </tr>\n    <tr>\n      <th>23</th>\n      <td>AA-0000007</td>\n      <td>MERCEDES-BENZ</td>\n      <td>CLA250</td>\n      <td>ซีแอลเอ250</td>\n      <td>โฉมปี 2013-ปัจจุบัน</td>\n      <td>ผ้าดิสเบรค</td>\n      <td>หน้า</td>\n      <td>3400.0</td>\n    </tr>\n    <tr>\n      <th>24</th>\n      <td>AA-0000003</td>\n      <td>MERCEDES-BENZ</td>\n      <td>CLA250</td>\n      <td>ซีแอลเอ250</td>\n      <td>โฉมปี 2013-ปัจจุบัน</td>\n      <td>ผ้าดิสเบรค</td>\n      <td>หลัง</td>\n      <td>3400.0</td>\n    </tr>\n    <tr>\n      <th>25</th>\n      <td>AC-0000002</td>\n      <td>MERCEDES-BENZ</td>\n      <td>CLA250</td>\n      <td>ซีแอลเอ250</td>\n      <td>โฉมปี 2013-ปัจจุบัน</td>\n      <td>จานดิสเบรค</td>\n      <td>หน้า</td>\n      <td>5800.0</td>\n    </tr>\n    <tr>\n      <th>26</th>\n      <td>AC-0000001</td>\n      <td>MERCEDES-BENZ</td>\n      <td>CLA250</td>\n      <td>ซีแอลเอ250</td>\n      <td>โฉมปี 2013-ปัจจุบัน</td>\n      <td>จานดิสเบรค</td>\n      <td>หลัง</td>\n      <td>3300.0</td>\n    </tr>\n    <tr>\n      <th>28</th>\n      <td>AA-0000006</td>\n      <td>MERCEDES-BENZ</td>\n      <td>C-CLASS, C180</td>\n      <td>ซีคลาส, ซี180</td>\n      <td>โฉมปี 2000-2007 (W203)</td>\n      <td>ผ้าดิสเบรค</td>\n      <td>หน้า</td>\n      <td>3400.0</td>\n    </tr>\n    <tr>\n      <th>30</th>\n      <td>EB-0300001</td>\n      <td>MERCEDES-BENZ</td>\n      <td>C-CLASS, C180</td>\n      <td>ซีคลาส, ซี180</td>\n      <td>โฉมปี 2000-2007 (W203)</td>\n      <td>คอน้ำ</td>\n      <td>-</td>\n      <td>700.0</td>\n    </tr>\n    <tr>\n      <th>31</th>\n      <td>Z-03500001</td>\n      <td>MERCEDES-BENZ</td>\n      <td>C-CLASS, C180</td>\n      <td>ซีคลาส, ซี180</td>\n      <td>โฉมปี 2000-2007 (W203)</td>\n      <td>สายไฟเตือนเบรค</td>\n      <td>-</td>\n      <td>250.0</td>\n    </tr>\n  </tbody>\n</table>\n</div>"
     },
     "execution_count": 157,
     "metadata": {},
     "output_type": "execute_result"
    }
   ]
  },
  {
   "cell_type": "code",
   "execution_count": 158,
   "outputs": [
    {
     "ename": "KeyError",
     "evalue": "'car_brand'",
     "output_type": "error",
     "traceback": [
      "\u001B[1;31m---------------------------------------------------------------------------\u001B[0m",
      "\u001B[1;31mKeyError\u001B[0m                                  Traceback (most recent call last)",
      "Cell \u001B[1;32mIn[158], line 1\u001B[0m\n\u001B[1;32m----> 1\u001B[0m car4 \u001B[38;5;241m=\u001B[39m \u001B[43mcar3\u001B[49m\u001B[43m[\u001B[49m\u001B[38;5;124;43m'\u001B[39;49m\u001B[38;5;124;43mstandard_price\u001B[39;49m\u001B[38;5;124;43m'\u001B[39;49m\u001B[43m]\u001B[49m\u001B[38;5;241;43m.\u001B[39;49m\u001B[43mgroupby\u001B[49m\u001B[43m(\u001B[49m\u001B[43m[\u001B[49m\u001B[38;5;124;43m'\u001B[39;49m\u001B[38;5;124;43mcar_brand\u001B[39;49m\u001B[38;5;124;43m'\u001B[39;49m\u001B[43m]\u001B[49m\u001B[43m)\u001B[49m\u001B[38;5;241m.\u001B[39mmean()\n\u001B[0;32m      2\u001B[0m car4\n",
      "File \u001B[1;32m~\\LectureNote\\venv\\Lib\\site-packages\\pandas\\core\\series.py:2064\u001B[0m, in \u001B[0;36mSeries.groupby\u001B[1;34m(self, by, axis, level, as_index, sort, group_keys, observed, dropna)\u001B[0m\n\u001B[0;32m   2061\u001B[0m     \u001B[38;5;28;01mraise\u001B[39;00m \u001B[38;5;167;01mTypeError\u001B[39;00m(\u001B[38;5;124m\"\u001B[39m\u001B[38;5;124mas_index=False only valid with DataFrame\u001B[39m\u001B[38;5;124m\"\u001B[39m)\n\u001B[0;32m   2062\u001B[0m axis \u001B[38;5;241m=\u001B[39m \u001B[38;5;28mself\u001B[39m\u001B[38;5;241m.\u001B[39m_get_axis_number(axis)\n\u001B[1;32m-> 2064\u001B[0m \u001B[38;5;28;01mreturn\u001B[39;00m \u001B[43mSeriesGroupBy\u001B[49m\u001B[43m(\u001B[49m\n\u001B[0;32m   2065\u001B[0m \u001B[43m    \u001B[49m\u001B[43mobj\u001B[49m\u001B[38;5;241;43m=\u001B[39;49m\u001B[38;5;28;43mself\u001B[39;49m\u001B[43m,\u001B[49m\n\u001B[0;32m   2066\u001B[0m \u001B[43m    \u001B[49m\u001B[43mkeys\u001B[49m\u001B[38;5;241;43m=\u001B[39;49m\u001B[43mby\u001B[49m\u001B[43m,\u001B[49m\n\u001B[0;32m   2067\u001B[0m \u001B[43m    \u001B[49m\u001B[43maxis\u001B[49m\u001B[38;5;241;43m=\u001B[39;49m\u001B[43maxis\u001B[49m\u001B[43m,\u001B[49m\n\u001B[0;32m   2068\u001B[0m \u001B[43m    \u001B[49m\u001B[43mlevel\u001B[49m\u001B[38;5;241;43m=\u001B[39;49m\u001B[43mlevel\u001B[49m\u001B[43m,\u001B[49m\n\u001B[0;32m   2069\u001B[0m \u001B[43m    \u001B[49m\u001B[43mas_index\u001B[49m\u001B[38;5;241;43m=\u001B[39;49m\u001B[43mas_index\u001B[49m\u001B[43m,\u001B[49m\n\u001B[0;32m   2070\u001B[0m \u001B[43m    \u001B[49m\u001B[43msort\u001B[49m\u001B[38;5;241;43m=\u001B[39;49m\u001B[43msort\u001B[49m\u001B[43m,\u001B[49m\n\u001B[0;32m   2071\u001B[0m \u001B[43m    \u001B[49m\u001B[43mgroup_keys\u001B[49m\u001B[38;5;241;43m=\u001B[39;49m\u001B[43mgroup_keys\u001B[49m\u001B[43m,\u001B[49m\n\u001B[0;32m   2072\u001B[0m \u001B[43m    \u001B[49m\u001B[43mobserved\u001B[49m\u001B[38;5;241;43m=\u001B[39;49m\u001B[43mobserved\u001B[49m\u001B[43m,\u001B[49m\n\u001B[0;32m   2073\u001B[0m \u001B[43m    \u001B[49m\u001B[43mdropna\u001B[49m\u001B[38;5;241;43m=\u001B[39;49m\u001B[43mdropna\u001B[49m\u001B[43m,\u001B[49m\n\u001B[0;32m   2074\u001B[0m \u001B[43m\u001B[49m\u001B[43m)\u001B[49m\n",
      "File \u001B[1;32m~\\LectureNote\\venv\\Lib\\site-packages\\pandas\\core\\groupby\\groupby.py:931\u001B[0m, in \u001B[0;36mGroupBy.__init__\u001B[1;34m(self, obj, keys, axis, level, grouper, exclusions, selection, as_index, sort, group_keys, observed, dropna)\u001B[0m\n\u001B[0;32m    928\u001B[0m \u001B[38;5;28mself\u001B[39m\u001B[38;5;241m.\u001B[39mdropna \u001B[38;5;241m=\u001B[39m dropna\n\u001B[0;32m    930\u001B[0m \u001B[38;5;28;01mif\u001B[39;00m grouper \u001B[38;5;129;01mis\u001B[39;00m \u001B[38;5;28;01mNone\u001B[39;00m:\n\u001B[1;32m--> 931\u001B[0m     grouper, exclusions, obj \u001B[38;5;241m=\u001B[39m \u001B[43mget_grouper\u001B[49m\u001B[43m(\u001B[49m\n\u001B[0;32m    932\u001B[0m \u001B[43m        \u001B[49m\u001B[43mobj\u001B[49m\u001B[43m,\u001B[49m\n\u001B[0;32m    933\u001B[0m \u001B[43m        \u001B[49m\u001B[43mkeys\u001B[49m\u001B[43m,\u001B[49m\n\u001B[0;32m    934\u001B[0m \u001B[43m        \u001B[49m\u001B[43maxis\u001B[49m\u001B[38;5;241;43m=\u001B[39;49m\u001B[43maxis\u001B[49m\u001B[43m,\u001B[49m\n\u001B[0;32m    935\u001B[0m \u001B[43m        \u001B[49m\u001B[43mlevel\u001B[49m\u001B[38;5;241;43m=\u001B[39;49m\u001B[43mlevel\u001B[49m\u001B[43m,\u001B[49m\n\u001B[0;32m    936\u001B[0m \u001B[43m        \u001B[49m\u001B[43msort\u001B[49m\u001B[38;5;241;43m=\u001B[39;49m\u001B[43msort\u001B[49m\u001B[43m,\u001B[49m\n\u001B[0;32m    937\u001B[0m \u001B[43m        \u001B[49m\u001B[43mobserved\u001B[49m\u001B[38;5;241;43m=\u001B[39;49m\u001B[43mobserved\u001B[49m\u001B[43m,\u001B[49m\n\u001B[0;32m    938\u001B[0m \u001B[43m        \u001B[49m\u001B[43mdropna\u001B[49m\u001B[38;5;241;43m=\u001B[39;49m\u001B[38;5;28;43mself\u001B[39;49m\u001B[38;5;241;43m.\u001B[39;49m\u001B[43mdropna\u001B[49m\u001B[43m,\u001B[49m\n\u001B[0;32m    939\u001B[0m \u001B[43m    \u001B[49m\u001B[43m)\u001B[49m\n\u001B[0;32m    941\u001B[0m \u001B[38;5;28mself\u001B[39m\u001B[38;5;241m.\u001B[39mobj \u001B[38;5;241m=\u001B[39m obj\n\u001B[0;32m    942\u001B[0m \u001B[38;5;28mself\u001B[39m\u001B[38;5;241m.\u001B[39maxis \u001B[38;5;241m=\u001B[39m obj\u001B[38;5;241m.\u001B[39m_get_axis_number(axis)\n",
      "File \u001B[1;32m~\\LectureNote\\venv\\Lib\\site-packages\\pandas\\core\\groupby\\grouper.py:985\u001B[0m, in \u001B[0;36mget_grouper\u001B[1;34m(obj, key, axis, level, sort, observed, validate, dropna)\u001B[0m\n\u001B[0;32m    983\u001B[0m         in_axis, level, gpr \u001B[38;5;241m=\u001B[39m \u001B[38;5;28;01mFalse\u001B[39;00m, gpr, \u001B[38;5;28;01mNone\u001B[39;00m\n\u001B[0;32m    984\u001B[0m     \u001B[38;5;28;01melse\u001B[39;00m:\n\u001B[1;32m--> 985\u001B[0m         \u001B[38;5;28;01mraise\u001B[39;00m \u001B[38;5;167;01mKeyError\u001B[39;00m(gpr)\n\u001B[0;32m    986\u001B[0m \u001B[38;5;28;01melif\u001B[39;00m \u001B[38;5;28misinstance\u001B[39m(gpr, Grouper) \u001B[38;5;129;01mand\u001B[39;00m gpr\u001B[38;5;241m.\u001B[39mkey \u001B[38;5;129;01mis\u001B[39;00m \u001B[38;5;129;01mnot\u001B[39;00m \u001B[38;5;28;01mNone\u001B[39;00m:\n\u001B[0;32m    987\u001B[0m     \u001B[38;5;66;03m# Add key to exclusions\u001B[39;00m\n\u001B[0;32m    988\u001B[0m     exclusions\u001B[38;5;241m.\u001B[39madd(gpr\u001B[38;5;241m.\u001B[39mkey)\n",
      "\u001B[1;31mKeyError\u001B[0m: 'car_brand'"
     ]
    }
   ],
   "source": [
    "car4 = car3['standard_price'].groupby(['car_brand']).mean()\n",
    "car4"
   ],
   "metadata": {
    "collapsed": false,
    "ExecuteTime": {
     "end_time": "2023-11-01T07:41:50.763097200Z",
     "start_time": "2023-11-01T07:41:50.452487800Z"
    }
   }
  }
 ]
}
